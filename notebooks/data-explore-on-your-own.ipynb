{
 "cells": [
  {
   "cell_type": "markdown",
   "metadata": {
    "colab_type": "text",
    "id": "view-in-github"
   },
   "source": [
    "<a href=\"https://colab.research.google.com/github/jfogarty/machine-learning-intro-workshop/blob/master/notebooks/data-explore-iris-data.ipynb\" target=\"_parent\"><img src=\"https://colab.research.google.com/assets/colab-badge.svg\" alt=\"Open In Colab\"/></a>"
   ]
  },
  {
   "cell_type": "markdown",
   "metadata": {
    "colab_type": "text",
    "id": "DnUCpC5PBGtJ"
   },
   "source": [
    "# Data exploration - Explore your own data set.\n",
    "\n",
    "Select a data set from the [UC Irvine Machine Learning Repository](https://archive.ics.uci.edu/ml/index.php).\n",
    "\n",
    "You'll explore this using [Pandas Dataframes](https://pandas.pydata.org/pandas-docs/stable/reference/api/pandas.DataFrame.html) and [seaborn statistical data visualization](https://seaborn.pydata.org/) tools.\n",
    "\n",
    "This kind of [EDA (Exploratory Data Analysis)](https://en.wikipedia.org/wiki/Exploratory_data_analysis) is one of the key data science components of machine learning applications.\n",
    "\n",
    "Some of the example code here is pulled from the book [Neural Network Projects with Python](https://www.oreilly.com/library/view/neural-network-projects/9781789138900/) by James Loy. The majority is from the Github project [Machine Learning with Iris Dataset](https://github.com/venky14/Machine-Learning-with-Iris-Dataset) by [Veky Rathod](https://github.com/venky14)"
   ]
  },
  {
   "cell_type": "markdown",
   "metadata": {
    "colab_type": "text",
    "id": "EaxlxDVaDz9O"
   },
   "source": [
    "## Data Set Selections:\n",
    "\n",
    "\n",
    "- This is an exceedingly simple domain. \n",
    "- [Here's Jesin Fahad's Analysis of the dataset](https://www.kaggle.com/jesyfax/iris-analysis) on [Kaggle](https://www.kaggle.com/).\n",
    "- [Fisher's 1936 paper](https://digital.library.adelaide.edu.au/dspace/bitstream/2440/15227/1/138.pdf)\n",
    "\n"
   ]
  },
  {
   "cell_type": "markdown",
   "metadata": {
    "colab_type": "text",
    "id": "oey6L9e0IShg"
   },
   "source": [
    "\n",
    "# Python code\n",
    "\n",
    "**Usage NOTE!** Use `Shift+Enter` to step through this notebook, executing the code as you go."
   ]
  },
  {
   "cell_type": "code",
   "execution_count": 2,
   "metadata": {
    "cellView": "form",
    "colab": {
     "base_uri": "https://localhost:8080/",
     "height": 35
    },
    "colab_type": "code",
    "id": "NDzdSWEGIShh",
    "outputId": "9dde29a2-7008-4b2e-df31-96c6437f9cbc"
   },
   "outputs": [
    {
     "name": "stdout",
     "output_type": "stream",
     "text": [
      "Welcome to exploring this notebook at 2019-08-09 16:35:52.572898! \n"
     ]
    }
   ],
   "source": [
    "#@title Welcome\n",
    "import datetime\n",
    "print(f\"Welcome to exploring this notebook at {datetime.datetime.now()}! \")"
   ]
  },
  {
   "cell_type": "code",
   "execution_count": 3,
   "metadata": {
    "colab": {},
    "colab_type": "code",
    "id": "OK89acB3IhyE"
   },
   "outputs": [],
   "source": [
    "class Context:\n",
    "  DATA = 'https://archive.ics.uci.edu/ml/machine-learning-databases/'"
   ]
  },
  {
   "cell_type": "code",
   "execution_count": 4,
   "metadata": {
    "colab": {},
    "colab_type": "code",
    "id": "aYA_HQsEDz9h"
   },
   "outputs": [],
   "source": [
    "import numpy as np #linear algebra\n",
    "import pandas as pd # a data processing and CSV I/O library\n",
    "\n",
    "import warnings # current version of seaborn generates a bunch of warnings that will be ignore\n",
    "warnings.filterwarnings('ignore')\n",
    "\n",
    "# Data Visualization\n",
    "import seaborn as sns\n",
    "import matplotlib.pyplot as plt\n",
    "%matplotlib inline\n",
    "sns.set(style='white', color_codes=True)\n",
    "\n",
    "import matplotlib.cm as cm\n",
    "\n",
    "colors = cm.rainbow(np.linspace(0, 1, 4))"
   ]
  },
  {
   "cell_type": "code",
   "execution_count": 13,
   "metadata": {
    "colab": {},
    "colab_type": "code",
    "id": "TbgfBVx4w99Z"
   },
   "outputs": [],
   "source": [
    "\n",
    "URL= Context.DATA + '/iris/iris.data'\n",
    "URL= Context.DATA + '/car/car.data'"
   ]
  },
  {
   "cell_type": "markdown",
   "metadata": {
    "colab_type": "text",
    "id": "BkkQQ90wZZ-b"
   },
   "source": [
    "\n",
    "# Visualization Tools\n",
    "\n",
    "## <center>[matplotlib - Python 2D plotting library](https://matplotlib.org/) </center>\n",
    "\n",
    "## <center>[seaborn - Visualizing the distribution of a dataset](https://seaborn.pydata.org/tutorial/distributions.html) </center>\n",
    "\n",
    "## <center>[pandas - DataFrame visualization](https://pandas.pydata.org/pandas-docs/stable/user_guide/visualization.html) </center>\n"
   ]
  },
  {
   "cell_type": "markdown",
   "metadata": {
    "colab_type": "text",
    "id": "F7sHS9CIDz9y"
   },
   "source": [
    "### Read a Data set "
   ]
  },
  {
   "cell_type": "code",
   "execution_count": 150,
   "metadata": {
    "colab": {},
    "colab_type": "code",
    "id": "X0bMC7texpD1"
   },
   "outputs": [],
   "source": [
    "def load_data(dataset, nameset=[]):\n",
    "    url = Context.DATA + dataset\n",
    "    if not nameset:\n",
    "        return pd.read_csv(url)\n",
    "    else:\n",
    "        return pd.read_csv(url, names=nameset)\n",
    "        #raise ValueError('WTF!')\n",
    "\n",
    "df = load_data('car/car.data', ['buying', 'maint', 'doors', 'persons', 'lug_boot', 'safety', 'vclass'])\n",
    "\n",
    "# Columns we want to work on\n",
    "F1 = 'buying'\n",
    "F2 = 'vclass'\n",
    "F3 = 'safety'\n",
    "F=[F1, F2, F3]"
   ]
  },
  {
   "cell_type": "code",
   "execution_count": 151,
   "metadata": {
    "colab": {
     "base_uri": "https://localhost:8080/",
     "height": 197
    },
    "colab_type": "code",
    "id": "MJ-PPhuKxx5s",
    "outputId": "92af7439-08fe-4363-ce0b-3d4b1b0cbda1",
    "scrolled": true
   },
   "outputs": [
    {
     "name": "stdout",
     "output_type": "stream",
     "text": [
      "<class 'pandas.core.frame.DataFrame'>\n",
      "RangeIndex: 1728 entries, 0 to 1727\n",
      "Data columns (total 7 columns):\n",
      "buying      1728 non-null object\n",
      "maint       1728 non-null object\n",
      "doors       1728 non-null object\n",
      "persons     1728 non-null object\n",
      "lug_boot    1728 non-null object\n",
      "safety      1728 non-null object\n",
      "vclass      1728 non-null object\n",
      "dtypes: object(7)\n",
      "memory usage: 94.6+ KB\n"
     ]
    }
   ],
   "source": [
    "df.info()"
   ]
  },
  {
   "cell_type": "code",
   "execution_count": 152,
   "metadata": {
    "colab": {
     "base_uri": "https://localhost:8080/",
     "height": 359
    },
    "colab_type": "code",
    "id": "H3Rpmz1UDz-G",
    "outputId": "d3192a8a-b914-45d8-c3fc-bfbb6a317170"
   },
   "outputs": [
    {
     "data": {
      "text/html": [
       "<div>\n",
       "<style scoped>\n",
       "    .dataframe tbody tr th:only-of-type {\n",
       "        vertical-align: middle;\n",
       "    }\n",
       "\n",
       "    .dataframe tbody tr th {\n",
       "        vertical-align: top;\n",
       "    }\n",
       "\n",
       "    .dataframe thead th {\n",
       "        text-align: right;\n",
       "    }\n",
       "</style>\n",
       "<table border=\"1\" class=\"dataframe\">\n",
       "  <thead>\n",
       "    <tr style=\"text-align: right;\">\n",
       "      <th></th>\n",
       "      <th>buying</th>\n",
       "      <th>maint</th>\n",
       "      <th>doors</th>\n",
       "      <th>persons</th>\n",
       "      <th>lug_boot</th>\n",
       "      <th>safety</th>\n",
       "      <th>vclass</th>\n",
       "    </tr>\n",
       "  </thead>\n",
       "  <tbody>\n",
       "    <tr>\n",
       "      <th>0</th>\n",
       "      <td>vhigh</td>\n",
       "      <td>vhigh</td>\n",
       "      <td>2</td>\n",
       "      <td>2</td>\n",
       "      <td>small</td>\n",
       "      <td>low</td>\n",
       "      <td>unacc</td>\n",
       "    </tr>\n",
       "    <tr>\n",
       "      <th>1</th>\n",
       "      <td>vhigh</td>\n",
       "      <td>vhigh</td>\n",
       "      <td>2</td>\n",
       "      <td>2</td>\n",
       "      <td>small</td>\n",
       "      <td>med</td>\n",
       "      <td>unacc</td>\n",
       "    </tr>\n",
       "    <tr>\n",
       "      <th>2</th>\n",
       "      <td>vhigh</td>\n",
       "      <td>vhigh</td>\n",
       "      <td>2</td>\n",
       "      <td>2</td>\n",
       "      <td>small</td>\n",
       "      <td>high</td>\n",
       "      <td>unacc</td>\n",
       "    </tr>\n",
       "    <tr>\n",
       "      <th>3</th>\n",
       "      <td>vhigh</td>\n",
       "      <td>vhigh</td>\n",
       "      <td>2</td>\n",
       "      <td>2</td>\n",
       "      <td>med</td>\n",
       "      <td>low</td>\n",
       "      <td>unacc</td>\n",
       "    </tr>\n",
       "    <tr>\n",
       "      <th>4</th>\n",
       "      <td>vhigh</td>\n",
       "      <td>vhigh</td>\n",
       "      <td>2</td>\n",
       "      <td>2</td>\n",
       "      <td>med</td>\n",
       "      <td>med</td>\n",
       "      <td>unacc</td>\n",
       "    </tr>\n",
       "    <tr>\n",
       "      <th>5</th>\n",
       "      <td>vhigh</td>\n",
       "      <td>vhigh</td>\n",
       "      <td>2</td>\n",
       "      <td>2</td>\n",
       "      <td>med</td>\n",
       "      <td>high</td>\n",
       "      <td>unacc</td>\n",
       "    </tr>\n",
       "    <tr>\n",
       "      <th>6</th>\n",
       "      <td>vhigh</td>\n",
       "      <td>vhigh</td>\n",
       "      <td>2</td>\n",
       "      <td>2</td>\n",
       "      <td>big</td>\n",
       "      <td>low</td>\n",
       "      <td>unacc</td>\n",
       "    </tr>\n",
       "    <tr>\n",
       "      <th>7</th>\n",
       "      <td>vhigh</td>\n",
       "      <td>vhigh</td>\n",
       "      <td>2</td>\n",
       "      <td>2</td>\n",
       "      <td>big</td>\n",
       "      <td>med</td>\n",
       "      <td>unacc</td>\n",
       "    </tr>\n",
       "    <tr>\n",
       "      <th>8</th>\n",
       "      <td>vhigh</td>\n",
       "      <td>vhigh</td>\n",
       "      <td>2</td>\n",
       "      <td>2</td>\n",
       "      <td>big</td>\n",
       "      <td>high</td>\n",
       "      <td>unacc</td>\n",
       "    </tr>\n",
       "    <tr>\n",
       "      <th>9</th>\n",
       "      <td>vhigh</td>\n",
       "      <td>vhigh</td>\n",
       "      <td>2</td>\n",
       "      <td>4</td>\n",
       "      <td>small</td>\n",
       "      <td>low</td>\n",
       "      <td>unacc</td>\n",
       "    </tr>\n",
       "  </tbody>\n",
       "</table>\n",
       "</div>"
      ],
      "text/plain": [
       "  buying  maint doors persons lug_boot safety vclass\n",
       "0  vhigh  vhigh     2       2    small    low  unacc\n",
       "1  vhigh  vhigh     2       2    small    med  unacc\n",
       "2  vhigh  vhigh     2       2    small   high  unacc\n",
       "3  vhigh  vhigh     2       2      med    low  unacc\n",
       "4  vhigh  vhigh     2       2      med    med  unacc\n",
       "5  vhigh  vhigh     2       2      med   high  unacc\n",
       "6  vhigh  vhigh     2       2      big    low  unacc\n",
       "7  vhigh  vhigh     2       2      big    med  unacc\n",
       "8  vhigh  vhigh     2       2      big   high  unacc\n",
       "9  vhigh  vhigh     2       4    small    low  unacc"
      ]
     },
     "execution_count": 152,
     "metadata": {},
     "output_type": "execute_result"
    }
   ],
   "source": [
    "df.head(10)"
   ]
  },
  {
   "cell_type": "code",
   "execution_count": 153,
   "metadata": {},
   "outputs": [],
   "source": [
    "df_original = df.copy()"
   ]
  },
  {
   "cell_type": "code",
   "execution_count": 160,
   "metadata": {},
   "outputs": [
    {
     "name": "stdout",
     "output_type": "stream",
     "text": [
      "category\n"
     ]
    },
    {
     "data": {
      "text/plain": [
       "CategoricalDtype(categories=['high', 'low', 'med', 'vhigh'], ordered=False)"
      ]
     },
     "execution_count": 160,
     "metadata": {},
     "output_type": "execute_result"
    }
   ],
   "source": [
    "print(df.dtypes[F1])\n",
    "df.dtypes[F1]"
   ]
  },
  {
   "cell_type": "code",
   "execution_count": 155,
   "metadata": {},
   "outputs": [
    {
     "name": "stdout",
     "output_type": "stream",
     "text": [
      "<class 'pandas.core.frame.DataFrame'>\n",
      "RangeIndex: 1728 entries, 0 to 1727\n",
      "Data columns (total 7 columns):\n",
      "buying      1728 non-null category\n",
      "maint       1728 non-null object\n",
      "doors       1728 non-null object\n",
      "persons     1728 non-null object\n",
      "lug_boot    1728 non-null object\n",
      "safety      1728 non-null category\n",
      "vclass      1728 non-null category\n",
      "dtypes: category(3), object(4)\n",
      "memory usage: 59.6+ KB\n"
     ]
    }
   ],
   "source": [
    "for f in F:\n",
    "    if \n",
    "    df[f] = pd.Categorical(df[f])\n",
    "df.head()\n",
    "df.info()"
   ]
  },
  {
   "cell_type": "code",
   "execution_count": 102,
   "metadata": {},
   "outputs": [
    {
     "name": "stdout",
     "output_type": "stream",
     "text": [
      "<class 'pandas.core.frame.DataFrame'>\n",
      "RangeIndex: 1728 entries, 0 to 1727\n",
      "Data columns (total 10 columns):\n",
      "buying      1728 non-null category\n",
      "maint       1728 non-null object\n",
      "doors       1728 non-null object\n",
      "persons     1728 non-null object\n",
      "lug_boot    1728 non-null object\n",
      "safety      1728 non-null category\n",
      "vclass      1728 non-null category\n",
      "ibuying     1728 non-null int8\n",
      "ivclass     1728 non-null int8\n",
      "isafety     1728 non-null int8\n",
      "dtypes: category(3), int8(3), object(4)\n",
      "memory usage: 64.7+ KB\n"
     ]
    }
   ],
   "source": [
    "df['i' + F1] = df[F1].cat.codes\n",
    "df['i' + F2] = df[F2].cat.codes\n",
    "df['i' + F3] = df[F3].cat.codes\n",
    "F1='i' + F1\n",
    "F2='i' + F2\n",
    "F3='i' + F3\n",
    "df.info()"
   ]
  },
  {
   "cell_type": "code",
   "execution_count": 103,
   "metadata": {
    "colab": {
     "base_uri": "https://localhost:8080/",
     "height": 309
    },
    "colab_type": "code",
    "id": "O1lyq3txDz-O",
    "outputId": "89521eee-d5e7-47b2-8ecf-964772bae4e4"
   },
   "outputs": [
    {
     "data": {
      "text/plain": [
       "<matplotlib.axes._subplots.AxesSubplot at 0x14b212fd860>"
      ]
     },
     "execution_count": 103,
     "metadata": {},
     "output_type": "execute_result"
    },
    {
     "data": {
      "image/png": "[encoded data removed]",
      "text/plain": [
       "<Figure size 432x288 with 1 Axes>"
      ]
     },
     "metadata": {
      "needs_background": "light"
     },
     "output_type": "display_data"
    }
   ],
   "source": [
    "df.plot(kind='scatter',x=F1, y=F2, color=[colors[0]])"
   ]
  },
  {
   "cell_type": "code",
   "execution_count": 104,
   "metadata": {
    "colab": {
     "base_uri": "https://localhost:8080/",
     "height": 89
    },
    "colab_type": "code",
    "id": "2fE22VWvEoRP",
    "outputId": "eba91ad0-d8b9-415e-f4cb-6bc18cb47b64"
   },
   "outputs": [
    {
     "data": {
      "text/plain": [
       "array([[5.00000000e-01, 0.00000000e+00, 1.00000000e+00, 1.00000000e+00],\n",
       "       [1.66666667e-01, 8.66025404e-01, 8.66025404e-01, 1.00000000e+00],\n",
       "       [8.33333333e-01, 8.66025404e-01, 5.00000000e-01, 1.00000000e+00],\n",
       "       [1.00000000e+00, 1.22464680e-16, 6.12323400e-17, 1.00000000e+00]])"
      ]
     },
     "execution_count": 104,
     "metadata": {},
     "output_type": "execute_result"
    }
   ],
   "source": [
    "colors"
   ]
  },
  {
   "cell_type": "code",
   "execution_count": 105,
   "metadata": {
    "colab": {
     "base_uri": "https://localhost:8080/",
     "height": 359
    },
    "colab_type": "code",
    "id": "qO6b4bUyDz-j",
    "outputId": "619f5eba-6fea-4a83-c428-a7a5acd41cda"
   },
   "outputs": [
    {
     "data": {
      "text/html": [
       "<div>\n",
       "<style scoped>\n",
       "    .dataframe tbody tr th:only-of-type {\n",
       "        vertical-align: middle;\n",
       "    }\n",
       "\n",
       "    .dataframe tbody tr th {\n",
       "        vertical-align: top;\n",
       "    }\n",
       "\n",
       "    .dataframe thead th {\n",
       "        text-align: right;\n",
       "    }\n",
       "</style>\n",
       "<table border=\"1\" class=\"dataframe\">\n",
       "  <thead>\n",
       "    <tr style=\"text-align: right;\">\n",
       "      <th></th>\n",
       "      <th>buying</th>\n",
       "      <th>maint</th>\n",
       "      <th>doors</th>\n",
       "      <th>persons</th>\n",
       "      <th>lug_boot</th>\n",
       "      <th>safety</th>\n",
       "      <th>vclass</th>\n",
       "      <th>ibuying</th>\n",
       "      <th>ivclass</th>\n",
       "      <th>isafety</th>\n",
       "    </tr>\n",
       "  </thead>\n",
       "  <tbody>\n",
       "    <tr>\n",
       "      <th>0</th>\n",
       "      <td>vhigh</td>\n",
       "      <td>vhigh</td>\n",
       "      <td>2</td>\n",
       "      <td>2</td>\n",
       "      <td>small</td>\n",
       "      <td>low</td>\n",
       "      <td>unacc</td>\n",
       "      <td>3</td>\n",
       "      <td>2</td>\n",
       "      <td>1</td>\n",
       "    </tr>\n",
       "    <tr>\n",
       "      <th>1</th>\n",
       "      <td>vhigh</td>\n",
       "      <td>vhigh</td>\n",
       "      <td>2</td>\n",
       "      <td>2</td>\n",
       "      <td>small</td>\n",
       "      <td>med</td>\n",
       "      <td>unacc</td>\n",
       "      <td>3</td>\n",
       "      <td>2</td>\n",
       "      <td>2</td>\n",
       "    </tr>\n",
       "    <tr>\n",
       "      <th>2</th>\n",
       "      <td>vhigh</td>\n",
       "      <td>vhigh</td>\n",
       "      <td>2</td>\n",
       "      <td>2</td>\n",
       "      <td>small</td>\n",
       "      <td>high</td>\n",
       "      <td>unacc</td>\n",
       "      <td>3</td>\n",
       "      <td>2</td>\n",
       "      <td>0</td>\n",
       "    </tr>\n",
       "    <tr>\n",
       "      <th>3</th>\n",
       "      <td>vhigh</td>\n",
       "      <td>vhigh</td>\n",
       "      <td>2</td>\n",
       "      <td>2</td>\n",
       "      <td>med</td>\n",
       "      <td>low</td>\n",
       "      <td>unacc</td>\n",
       "      <td>3</td>\n",
       "      <td>2</td>\n",
       "      <td>1</td>\n",
       "    </tr>\n",
       "    <tr>\n",
       "      <th>4</th>\n",
       "      <td>vhigh</td>\n",
       "      <td>vhigh</td>\n",
       "      <td>2</td>\n",
       "      <td>2</td>\n",
       "      <td>med</td>\n",
       "      <td>med</td>\n",
       "      <td>unacc</td>\n",
       "      <td>3</td>\n",
       "      <td>2</td>\n",
       "      <td>2</td>\n",
       "    </tr>\n",
       "    <tr>\n",
       "      <th>5</th>\n",
       "      <td>vhigh</td>\n",
       "      <td>vhigh</td>\n",
       "      <td>2</td>\n",
       "      <td>2</td>\n",
       "      <td>med</td>\n",
       "      <td>high</td>\n",
       "      <td>unacc</td>\n",
       "      <td>3</td>\n",
       "      <td>2</td>\n",
       "      <td>0</td>\n",
       "    </tr>\n",
       "    <tr>\n",
       "      <th>6</th>\n",
       "      <td>vhigh</td>\n",
       "      <td>vhigh</td>\n",
       "      <td>2</td>\n",
       "      <td>2</td>\n",
       "      <td>big</td>\n",
       "      <td>low</td>\n",
       "      <td>unacc</td>\n",
       "      <td>3</td>\n",
       "      <td>2</td>\n",
       "      <td>1</td>\n",
       "    </tr>\n",
       "    <tr>\n",
       "      <th>7</th>\n",
       "      <td>vhigh</td>\n",
       "      <td>vhigh</td>\n",
       "      <td>2</td>\n",
       "      <td>2</td>\n",
       "      <td>big</td>\n",
       "      <td>med</td>\n",
       "      <td>unacc</td>\n",
       "      <td>3</td>\n",
       "      <td>2</td>\n",
       "      <td>2</td>\n",
       "    </tr>\n",
       "    <tr>\n",
       "      <th>8</th>\n",
       "      <td>vhigh</td>\n",
       "      <td>vhigh</td>\n",
       "      <td>2</td>\n",
       "      <td>2</td>\n",
       "      <td>big</td>\n",
       "      <td>high</td>\n",
       "      <td>unacc</td>\n",
       "      <td>3</td>\n",
       "      <td>2</td>\n",
       "      <td>0</td>\n",
       "    </tr>\n",
       "    <tr>\n",
       "      <th>9</th>\n",
       "      <td>vhigh</td>\n",
       "      <td>vhigh</td>\n",
       "      <td>2</td>\n",
       "      <td>4</td>\n",
       "      <td>small</td>\n",
       "      <td>low</td>\n",
       "      <td>unacc</td>\n",
       "      <td>3</td>\n",
       "      <td>2</td>\n",
       "      <td>1</td>\n",
       "    </tr>\n",
       "  </tbody>\n",
       "</table>\n",
       "</div>"
      ],
      "text/plain": [
       "  buying  maint doors persons lug_boot safety vclass  ibuying  ivclass  \\\n",
       "0  vhigh  vhigh     2       2    small    low  unacc        3        2   \n",
       "1  vhigh  vhigh     2       2    small    med  unacc        3        2   \n",
       "2  vhigh  vhigh     2       2    small   high  unacc        3        2   \n",
       "3  vhigh  vhigh     2       2      med    low  unacc        3        2   \n",
       "4  vhigh  vhigh     2       2      med    med  unacc        3        2   \n",
       "5  vhigh  vhigh     2       2      med   high  unacc        3        2   \n",
       "6  vhigh  vhigh     2       2      big    low  unacc        3        2   \n",
       "7  vhigh  vhigh     2       2      big    med  unacc        3        2   \n",
       "8  vhigh  vhigh     2       2      big   high  unacc        3        2   \n",
       "9  vhigh  vhigh     2       4    small    low  unacc        3        2   \n",
       "\n",
       "   isafety  \n",
       "0        1  \n",
       "1        2  \n",
       "2        0  \n",
       "3        1  \n",
       "4        2  \n",
       "5        0  \n",
       "6        1  \n",
       "7        2  \n",
       "8        0  \n",
       "9        1  "
      ]
     },
     "execution_count": 105,
     "metadata": {},
     "output_type": "execute_result"
    }
   ],
   "source": [
    "df.head(10)"
   ]
  },
  {
   "cell_type": "code",
   "execution_count": 106,
   "metadata": {
    "colab": {
     "base_uri": "https://localhost:8080/",
     "height": 89
    },
    "colab_type": "code",
    "id": "BLbAUQxwDz-w",
    "outputId": "f34c0a5a-f4bb-4801-b1cd-0b63affdeede"
   },
   "outputs": [
    {
     "data": {
      "text/plain": [
       "3    432\n",
       "2    432\n",
       "1    432\n",
       "0    432\n",
       "Name: ibuying, dtype: int64"
      ]
     },
     "execution_count": 106,
     "metadata": {},
     "output_type": "execute_result"
    }
   ],
   "source": [
    "df[F1].value_counts()"
   ]
  },
  {
   "cell_type": "code",
   "execution_count": 107,
   "metadata": {
    "colab": {
     "base_uri": "https://localhost:8080/",
     "height": 309
    },
    "colab_type": "code",
    "id": "LLMl8YKfDz-2",
    "outputId": "2bff3255-65b2-4243-b839-68b4360574e7"
   },
   "outputs": [
    {
     "data": {
      "text/plain": [
       "<matplotlib.axes._subplots.AxesSubplot at 0x14b2238acf8>"
      ]
     },
     "execution_count": 107,
     "metadata": {},
     "output_type": "execute_result"
    },
    {
     "data": {
      "image/png": "[encoded data removed]",
      "text/plain": [
       "<Figure size 432x288 with 1 Axes>"
      ]
     },
     "metadata": {
      "needs_background": "light"
     },
     "output_type": "display_data"
    }
   ],
   "source": [
    "blue = [0, 0, 1]\n",
    "df.plot(kind='scatter',x=F1, y=F2, color=[blue]) # use this to make a scatterplot of the Iris features."
   ]
  },
  {
   "cell_type": "markdown",
   "metadata": {
    "colab_type": "text",
    "id": "_LUSlzHjLClz"
   },
   "source": [
    "### seaborn jointplot\n",
    "\n",
    "A [seaborn jointplot](https://seaborn.pydata.org/generated/seaborn.jointplot.html) shows bivariate scatterplots and univariate histograms in the same figure."
   ]
  },
  {
   "cell_type": "code",
   "execution_count": 108,
   "metadata": {
    "colab": {
     "base_uri": "https://localhost:8080/",
     "height": 383
    },
    "colab_type": "code",
    "id": "VWgvududDz-8",
    "outputId": "08921236-6db3-402c-9d7f-bc8d5c852f09"
   },
   "outputs": [
    {
     "data": {
      "text/plain": [
       "<seaborn.axisgrid.JointGrid at 0x14b223f2cf8>"
      ]
     },
     "execution_count": 108,
     "metadata": {},
     "output_type": "execute_result"
    },
    {
     "data": {
      "image/png": "[encoded data removed]",
      "text/plain": [
       "<Figure size 360x360 with 3 Axes>"
      ]
     },
     "metadata": {
      "needs_background": "light"
     },
     "output_type": "display_data"
    }
   ],
   "source": [
    "\n",
    "sns.jointplot(x=F1,y=F2, data=df, height=5)"
   ]
  },
  {
   "cell_type": "code",
   "execution_count": 109,
   "metadata": {
    "colab": {
     "base_uri": "https://localhost:8080/",
     "height": 35
    },
    "colab_type": "code",
    "id": "INUvzAG7Dz_C",
    "outputId": "32379594-c268-43bb-9764-ee270bd6cbaf"
   },
   "outputs": [
    {
     "data": {
      "text/plain": [
       "(1728, 10)"
      ]
     },
     "execution_count": 109,
     "metadata": {},
     "output_type": "execute_result"
    }
   ],
   "source": [
    "df.shape\n"
   ]
  },
  {
   "cell_type": "code",
   "execution_count": 110,
   "metadata": {
    "colab": {
     "base_uri": "https://localhost:8080/",
     "height": 215
    },
    "colab_type": "code",
    "id": "IPGb4_0YDz_R",
    "outputId": "83f6a0e6-ede8-4f65-9cfd-850e9610ccb7"
   },
   "outputs": [
    {
     "name": "stdout",
     "output_type": "stream",
     "text": [
      "<class 'pandas.core.frame.DataFrame'>\n",
      "RangeIndex: 1728 entries, 0 to 1727\n",
      "Data columns (total 10 columns):\n",
      "buying      1728 non-null category\n",
      "maint       1728 non-null object\n",
      "doors       1728 non-null object\n",
      "persons     1728 non-null object\n",
      "lug_boot    1728 non-null object\n",
      "safety      1728 non-null category\n",
      "vclass      1728 non-null category\n",
      "ibuying     1728 non-null int8\n",
      "ivclass     1728 non-null int8\n",
      "isafety     1728 non-null int8\n",
      "dtypes: category(3), int8(3), object(4)\n",
      "memory usage: 64.7+ KB\n"
     ]
    }
   ],
   "source": [
    "df.info()"
   ]
  },
  {
   "cell_type": "markdown",
   "metadata": {
    "colab_type": "text",
    "id": "rf_bsv9wMVGD"
   },
   "source": [
    "### seaborn FacetGrid\n",
    "\n",
    "A [seaborn FacetGrid](https://seaborn.pydata.org/generated/seaborn.FacetGrid.html) to color the scatterplot by species."
   ]
  },
  {
   "cell_type": "code",
   "execution_count": 114,
   "metadata": {
    "colab": {
     "base_uri": "https://localhost:8080/",
     "height": 383
    },
    "colab_type": "code",
    "id": "CzwgRT-TDz_Z",
    "outputId": "098149e4-f4b6-4458-e86b-32db3348367d",
    "scrolled": true
   },
   "outputs": [
    {
     "data": {
      "text/plain": [
       "<seaborn.axisgrid.FacetGrid at 0x14b227d88d0>"
      ]
     },
     "execution_count": 114,
     "metadata": {},
     "output_type": "execute_result"
    },
    {
     "data": {
      "image/png": "[encoded data removed]",
      "text/plain": [
       "<Figure size 333.725x288 with 1 Axes>"
      ]
     },
     "metadata": {
      "needs_background": "light"
     },
     "output_type": "display_data"
    }
   ],
   "source": [
    "# use seaborn's FacetGrid to color the scatterplot by species\n",
    "sns.FacetGrid(df, hue = F1, height=4) \\\n",
    "    .map(plt.scatter, F2, F3) \\\n",
    "    .add_legend()"
   ]
  },
  {
   "cell_type": "markdown",
   "metadata": {
    "colab_type": "text",
    "id": "F6GjGOoNNNkK"
   },
   "source": [
    "### seaborn boxplot\n",
    "\n",
    "A [seaborn boxplot](https://seaborn.pydata.org/generated/seaborn.boxplot.html) to look at an individual feature in Seaborn through a boxplot.\n",
    "\n",
    "The box shows the quartiles of the dataset while the whiskers extend to show the rest of the distribution, except for points that are determined to be “outliers” using a method that is a function of the inter-quartile range."
   ]
  },
  {
   "cell_type": "code",
   "execution_count": 119,
   "metadata": {
    "colab": {
     "base_uri": "https://localhost:8080/",
     "height": 309
    },
    "colab_type": "code",
    "id": "ibNqqZdrDz_h",
    "outputId": "1a3a1f01-6435-4366-902e-7d61dbada097"
   },
   "outputs": [
    {
     "data": {
      "text/plain": [
       "<matplotlib.axes._subplots.AxesSubplot at 0x14b228c33c8>"
      ]
     },
     "execution_count": 119,
     "metadata": {},
     "output_type": "execute_result"
    },
    {
     "data": {
      "image/png": "[encoded data removed]",
      "text/plain": [
       "<Figure size 432x288 with 1 Axes>"
      ]
     },
     "metadata": {
      "needs_background": "light"
     },
     "output_type": "display_data"
    }
   ],
   "source": [
    "# We can look at an individual feature in Seaborn through a boxplot\n",
    "sns.boxplot(x=F1, y=F2, data=df)"
   ]
  },
  {
   "cell_type": "markdown",
   "metadata": {
    "colab_type": "text",
    "id": "5K-3yyDgOP59"
   },
   "source": [
    "### seaborn stripplot\n",
    "\n",
    "One way we can extend this plot is adding a layer of individual points on top of it through Seaborn's [stripplot](https://seaborn.pydata.org/generated/seaborn.stripplot.html).\n",
    "\n",
    "- use `jitter=True` so that all the points don't fall in single vertical lines above the species\n",
    "\n",
    "- Saving the resulting axes as `ax` each time causes the resulting plot to be shown on top of the previous axes"
   ]
  },
  {
   "cell_type": "code",
   "execution_count": 120,
   "metadata": {
    "colab": {
     "base_uri": "https://localhost:8080/",
     "height": 291
    },
    "colab_type": "code",
    "id": "ibq4tiofDz_p",
    "outputId": "881cb865-a732-4fbb-b0e5-ba1b4222de3e"
   },
   "outputs": [
    {
     "data": {
      "image/png": "[encoded data removed]",
      "text/plain": [
       "<Figure size 432x288 with 1 Axes>"
      ]
     },
     "metadata": {
      "needs_background": "light"
     },
     "output_type": "display_data"
    }
   ],
   "source": [
    "ax = sns.boxplot(data=df,   x=F1 ,y=F2)\n",
    "ax = sns.stripplot(data=df, x=F1, y=F2, jitter=True, edgecolor='green')"
   ]
  },
  {
   "cell_type": "markdown",
   "metadata": {
    "colab_type": "text",
    "id": "FoIXC8gEPd1j"
   },
   "source": [
    "### seaborn violinplot\n",
    "\n",
    " A violin plot combines the benefits of the previous two plots and simplifies them.\n",
    "\n",
    "Denser regions of the data are **fatter**, and sparser **thinner** in a [violinplot](https://seaborn.pydata.org/generated/seaborn.violinplot.html)."
   ]
  },
  {
   "cell_type": "code",
   "execution_count": 121,
   "metadata": {
    "colab": {
     "base_uri": "https://localhost:8080/",
     "height": 309
    },
    "colab_type": "code",
    "id": "rnVUYjvbDz_y",
    "outputId": "1b678fc9-02a5-4f9a-958c-aac4ccb44f0c"
   },
   "outputs": [
    {
     "data": {
      "text/plain": [
       "<matplotlib.axes._subplots.AxesSubplot at 0x14b22c1b358>"
      ]
     },
     "execution_count": 121,
     "metadata": {},
     "output_type": "execute_result"
    },
    {
     "data": {
      "image/png": "[encoded data removed]",
      "text/plain": [
       "<Figure size 432x288 with 1 Axes>"
      ]
     },
     "metadata": {
      "needs_background": "light"
     },
     "output_type": "display_data"
    }
   ],
   "source": [
    "sns.violinplot(x=F1 ,y=F2, data=df, size=6)   "
   ]
  },
  {
   "cell_type": "markdown",
   "metadata": {
    "colab_type": "text",
    "id": "CPFP5Yy2QTGK"
   },
   "source": [
    "### seaborn kdeplot\n",
    "\n",
    "A useful seaborn plot for looking at univariate relations is the [kdeplot](https://seaborn.pydata.org/generated/seaborn.kdeplot.html),\n",
    "which creates and visualizes a kernel density estimate of the underlying feature\n"
   ]
  },
  {
   "cell_type": "code",
   "execution_count": 126,
   "metadata": {
    "colab": {
     "base_uri": "https://localhost:8080/",
     "height": 455
    },
    "colab_type": "code",
    "id": "TGefPLybD0AQ",
    "outputId": "4ab8855a-9436-4438-b02e-c08c6c0eb2a0"
   },
   "outputs": [
    {
     "data": {
      "text/plain": [
       "<seaborn.axisgrid.FacetGrid at 0x14b22df2d30>"
      ]
     },
     "execution_count": 126,
     "metadata": {},
     "output_type": "execute_result"
    },
    {
     "data": {
      "image/png": "[encoded data removed]",
      "text/plain": [
       "<Figure size 621.725x288 with 1 Axes>"
      ]
     },
     "metadata": {
      "needs_background": "light"
     },
     "output_type": "display_data"
    }
   ],
   "source": [
    "sns.FacetGrid(df, hue=F1, height=4, aspect=2) \\\n",
    "   .map(sns.kdeplot, F2) \\\n",
    "   .add_legend()"
   ]
  },
  {
   "cell_type": "markdown",
   "metadata": {
    "colab_type": "text",
    "id": "DIVsD1DOQtel"
   },
   "source": [
    "\n",
    "\n"
   ]
  },
  {
   "cell_type": "code",
   "execution_count": 127,
   "metadata": {
    "colab": {
     "base_uri": "https://localhost:8080/",
     "height": 204
    },
    "colab_type": "code",
    "id": "rO50CNvJD0Ab",
    "outputId": "6faff248-32da-404a-a31c-b4261847801b"
   },
   "outputs": [
    {
     "data": {
      "text/html": [
       "<div>\n",
       "<style scoped>\n",
       "    .dataframe tbody tr th:only-of-type {\n",
       "        vertical-align: middle;\n",
       "    }\n",
       "\n",
       "    .dataframe tbody tr th {\n",
       "        vertical-align: top;\n",
       "    }\n",
       "\n",
       "    .dataframe thead th {\n",
       "        text-align: right;\n",
       "    }\n",
       "</style>\n",
       "<table border=\"1\" class=\"dataframe\">\n",
       "  <thead>\n",
       "    <tr style=\"text-align: right;\">\n",
       "      <th></th>\n",
       "      <th>buying</th>\n",
       "      <th>maint</th>\n",
       "      <th>doors</th>\n",
       "      <th>persons</th>\n",
       "      <th>lug_boot</th>\n",
       "      <th>safety</th>\n",
       "      <th>vclass</th>\n",
       "      <th>ibuying</th>\n",
       "      <th>ivclass</th>\n",
       "      <th>isafety</th>\n",
       "    </tr>\n",
       "  </thead>\n",
       "  <tbody>\n",
       "    <tr>\n",
       "      <th>0</th>\n",
       "      <td>vhigh</td>\n",
       "      <td>vhigh</td>\n",
       "      <td>2</td>\n",
       "      <td>2</td>\n",
       "      <td>small</td>\n",
       "      <td>low</td>\n",
       "      <td>unacc</td>\n",
       "      <td>3</td>\n",
       "      <td>2</td>\n",
       "      <td>1</td>\n",
       "    </tr>\n",
       "    <tr>\n",
       "      <th>1</th>\n",
       "      <td>vhigh</td>\n",
       "      <td>vhigh</td>\n",
       "      <td>2</td>\n",
       "      <td>2</td>\n",
       "      <td>small</td>\n",
       "      <td>med</td>\n",
       "      <td>unacc</td>\n",
       "      <td>3</td>\n",
       "      <td>2</td>\n",
       "      <td>2</td>\n",
       "    </tr>\n",
       "    <tr>\n",
       "      <th>2</th>\n",
       "      <td>vhigh</td>\n",
       "      <td>vhigh</td>\n",
       "      <td>2</td>\n",
       "      <td>2</td>\n",
       "      <td>small</td>\n",
       "      <td>high</td>\n",
       "      <td>unacc</td>\n",
       "      <td>3</td>\n",
       "      <td>2</td>\n",
       "      <td>0</td>\n",
       "    </tr>\n",
       "    <tr>\n",
       "      <th>3</th>\n",
       "      <td>vhigh</td>\n",
       "      <td>vhigh</td>\n",
       "      <td>2</td>\n",
       "      <td>2</td>\n",
       "      <td>med</td>\n",
       "      <td>low</td>\n",
       "      <td>unacc</td>\n",
       "      <td>3</td>\n",
       "      <td>2</td>\n",
       "      <td>1</td>\n",
       "    </tr>\n",
       "    <tr>\n",
       "      <th>4</th>\n",
       "      <td>vhigh</td>\n",
       "      <td>vhigh</td>\n",
       "      <td>2</td>\n",
       "      <td>2</td>\n",
       "      <td>med</td>\n",
       "      <td>med</td>\n",
       "      <td>unacc</td>\n",
       "      <td>3</td>\n",
       "      <td>2</td>\n",
       "      <td>2</td>\n",
       "    </tr>\n",
       "  </tbody>\n",
       "</table>\n",
       "</div>"
      ],
      "text/plain": [
       "  buying  maint doors persons lug_boot safety vclass  ibuying  ivclass  \\\n",
       "0  vhigh  vhigh     2       2    small    low  unacc        3        2   \n",
       "1  vhigh  vhigh     2       2    small    med  unacc        3        2   \n",
       "2  vhigh  vhigh     2       2    small   high  unacc        3        2   \n",
       "3  vhigh  vhigh     2       2      med    low  unacc        3        2   \n",
       "4  vhigh  vhigh     2       2      med    med  unacc        3        2   \n",
       "\n",
       "   isafety  \n",
       "0        1  \n",
       "1        2  \n",
       "2        0  \n",
       "3        1  \n",
       "4        2  "
      ]
     },
     "execution_count": 127,
     "metadata": {},
     "output_type": "execute_result"
    }
   ],
   "source": [
    "df.head()"
   ]
  },
  {
   "cell_type": "markdown",
   "metadata": {
    "colab_type": "text",
    "id": "3AasQeLgD0Aq"
   },
   "source": [
    "### seaborn pairplot\n",
    "\n",
    "A useful seaborn plot for looking at univariate relations is the [pairplot](https://seaborn.pydata.org/generated/seaborn.pairplot.html),\n",
    "which creates and visualizes a kernel density estimate of the underlying feature.\n",
    "\n",
    "The pairplot shows the bivariate relation between each pair of features.\n",
    "\n",
    "From the pairplot, we'll see that the Iris-setosa species is separated from the other two across all feature combinations."
   ]
  },
  {
   "cell_type": "code",
   "execution_count": 131,
   "metadata": {
    "colab": {
     "base_uri": "https://localhost:8080/",
     "height": 887
    },
    "colab_type": "code",
    "id": "JIQ1Mi_DD0Ag",
    "outputId": "3022bb9b-b2c8-4865-82d6-1d3595e57b77"
   },
   "outputs": [
    {
     "data": {
      "text/plain": [
       "<seaborn.axisgrid.PairGrid at 0x14b24e6e518>"
      ]
     },
     "execution_count": 131,
     "metadata": {},
     "output_type": "execute_result"
    },
    {
     "data": {
      "image/png": "[encoded data removed]",
      "text/plain": [
       "<Figure size 693.725x648 with 12 Axes>"
      ]
     },
     "metadata": {
      "needs_background": "light"
     },
     "output_type": "display_data"
    }
   ],
   "source": [
    "sns.pairplot(df, hue=F1, height=3, diag_kind='hist')"
   ]
  },
  {
   "cell_type": "markdown",
   "metadata": {
    "colab_type": "text",
    "id": "yNIzsbT6VUnk"
   },
   "source": [
    "#### KDE - Kernel density estimation\n",
    "\n",
    "We can update these elements to show other things, such as a [kde](https://en.wikipedia.org/wiki/Kernel_density_estimation) [(kernel density estimation)](https://mglerner.github.io/posts/histograms-and-kernel-density-estimation-kde-2.html)\n",
    "\n",
    "- The diagonal elements can be shown in a pairplot are often shown as histograms.\n"
   ]
  },
  {
   "cell_type": "code",
   "execution_count": 132,
   "metadata": {
    "colab": {
     "base_uri": "https://localhost:8080/",
     "height": 887
    },
    "colab_type": "code",
    "id": "8lQhmcWxD0As",
    "outputId": "0a2b039e-77b7-4adc-da9a-c2ad6b9e6a97"
   },
   "outputs": [
    {
     "data": {
      "text/plain": [
       "<seaborn.axisgrid.PairGrid at 0x14b25863908>"
      ]
     },
     "execution_count": 132,
     "metadata": {},
     "output_type": "execute_result"
    },
    {
     "data": {
      "image/png": "[encoded data removed]",
      "text/plain": [
       "<Figure size 693.725x648 with 12 Axes>"
      ]
     },
     "metadata": {
      "needs_background": "light"
     },
     "output_type": "display_data"
    }
   ],
   "source": [
    "sns.pairplot(df, hue=F1, height=3, diag_kind='kde')"
   ]
  },
  {
   "cell_type": "markdown",
   "metadata": {
    "colab_type": "text",
    "id": "3u3X44aERu65"
   },
   "source": [
    "### boxplot on each feature split out by species\n",
    "\n",
    "Make a boxplot with Pandas on each feature split out by species."
   ]
  },
  {
   "cell_type": "code",
   "execution_count": 133,
   "metadata": {
    "colab": {
     "base_uri": "https://localhost:8080/",
     "height": 516
    },
    "colab_type": "code",
    "id": "Lvmk-XIFD0A1",
    "outputId": "118865d0-eef6-4120-cbe1-9aa0fcfd7b2c"
   },
   "outputs": [
    {
     "data": {
      "text/plain": [
       "array([<matplotlib.axes._subplots.AxesSubplot object at 0x0000014B25FFD630>,\n",
       "       <matplotlib.axes._subplots.AxesSubplot object at 0x0000014B263BE240>],\n",
       "      dtype=object)"
      ]
     },
     "execution_count": 133,
     "metadata": {},
     "output_type": "execute_result"
    },
    {
     "data": {
      "image/png": "[encoded data removed]",
      "text/plain": [
       "<Figure size 864x432 with 2 Axes>"
      ]
     },
     "metadata": {
      "needs_background": "light"
     },
     "output_type": "display_data"
    }
   ],
   "source": [
    "df.boxplot(by=F1, figsize=(12,6))"
   ]
  },
  {
   "cell_type": "markdown",
   "metadata": {
    "colab_type": "text",
    "id": "8b5j8VubTClO"
   },
   "source": [
    "### Pandas andrews_curves\n",
    "\n",
    "One cool more sophisticated technique pandas has available is called [Andrews Curves](https://pandas.pydata.org/pandas-docs/stable/reference/api/pandas.plotting.andrews_curves.html).\n",
    "\n",
    "- Andrews Curves involve using attributes of samples as coefficients for Fourier series and then plotting these.\n"
   ]
  },
  {
   "cell_type": "code",
   "execution_count": 135,
   "metadata": {
    "colab": {
     "base_uri": "https://localhost:8080/",
     "height": 292
    },
    "colab_type": "code",
    "id": "uAty9_UPD0A8",
    "outputId": "8da34daa-1a7d-42ca-e9ba-6d0c72009520"
   },
   "outputs": [],
   "source": [
    "from pandas.plotting import andrews_curves\n",
    "#andrews_curves(df, F1)"
   ]
  },
  {
   "cell_type": "markdown",
   "metadata": {
    "colab_type": "text",
    "id": "0TMzfYHISxyx"
   },
   "source": [
    "### Pandas parallel_coordinates\n",
    "\n",
    "Another multivariate visualization technique pandas has is [parallel_coordinates](https://pandas.pydata.org/pandas-docs/stable/reference/api/pandas.plotting.parallel_coordinates.html).\n",
    "\n",
    "- Parallel coordinates plots each feature on a separate column & then draws lines connecting the features for each data sample."
   ]
  },
  {
   "cell_type": "code",
   "execution_count": 137,
   "metadata": {
    "colab": {
     "base_uri": "https://localhost:8080/",
     "height": 292
    },
    "colab_type": "code",
    "id": "Pwa7cVwVD0BF",
    "outputId": "1628de0f-0888-45b8-fd40-070dfb05cfd5"
   },
   "outputs": [],
   "source": [
    "from pandas.plotting import parallel_coordinates\n",
    "#parallel_coordinates(df, F1)"
   ]
  },
  {
   "cell_type": "markdown",
   "metadata": {
    "colab_type": "text",
    "id": "zdNDUNQwUBDF"
   },
   "source": [
    "### Pandas radviz\n",
    "\n",
    "A final multivariate visualization technique pandas has is [radviz](https://pandas.pydata.org/pandas-docs/stable/reference/api/pandas.plotting.radviz.html).\n",
    "\n",
    "- Radviz puts each feature as a point on a 2D plane, and then simulates\n",
    "having each sample attached to those points through a spring weighted\n",
    "by the relative value for that feature"
   ]
  },
  {
   "cell_type": "code",
   "execution_count": 139,
   "metadata": {
    "colab": {},
    "colab_type": "code",
    "id": "iEz6XQXED0BL"
   },
   "outputs": [],
   "source": [
    "from pandas.plotting import radviz\n",
    "#radviz(df, F1)"
   ]
  },
  {
   "cell_type": "markdown",
   "metadata": {
    "colab_type": "text",
    "id": "Po0ntEB-W6MJ"
   },
   "source": [
    "### seaborn cat\n",
    "\n",
    "Draw a categorical plot onto a FacetGrid. [catplot](https://kite.com/python/docs/seaborn.catplot)."
   ]
  },
  {
   "cell_type": "code",
   "execution_count": 142,
   "metadata": {
    "colab": {
     "base_uri": "https://localhost:8080/",
     "height": 383
    },
    "colab_type": "code",
    "id": "Yc_F8PfFD0BQ",
    "outputId": "cd46c35e-0572-4266-f9c4-4d76fc14ea2f"
   },
   "outputs": [
    {
     "data": {
      "text/plain": [
       "<seaborn.axisgrid.FacetGrid at 0x14b269d0940>"
      ]
     },
     "execution_count": 142,
     "metadata": {},
     "output_type": "execute_result"
    },
    {
     "data": {
      "image/png": "[encoded data removed]",
      "text/plain": [
       "<Figure size 765.725x360 with 1 Axes>"
      ]
     },
     "metadata": {
      "needs_background": "light"
     },
     "output_type": "display_data"
    }
   ],
   "source": [
    "sns.catplot(F2, data=df, hue=F1, kind='count', aspect=2 )"
   ]
  },
  {
   "cell_type": "markdown",
   "metadata": {
    "colab_type": "text",
    "id": "gGTjGC_CWySH"
   },
   "source": [
    "### End of notebook."
   ]
  }
 ],
 "metadata": {
  "celltoolbar": "Raw Cell Format",
  "colab": {
   "collapsed_sections": [],
   "include_colab_link": true,
   "name": "data-explore-iris-data.ipynb",
   "provenance": [],
   "toc_visible": true,
   "version": "0.3.2"
  },
  "kernelspec": {
   "display_name": "Python 3",
   "language": "python",
   "name": "python3"
  },
  "language_info": {
   "codemirror_mode": {
    "name": "ipython",
    "version": 3
   },
   "file_extension": ".py",
   "mimetype": "text/x-python",
   "name": "python",
   "nbconvert_exporter": "python",
   "pygments_lexer": "ipython3",
   "version": "3.6.8"
  }
 },
 "nbformat": 4,
 "nbformat_minor": 1
}
