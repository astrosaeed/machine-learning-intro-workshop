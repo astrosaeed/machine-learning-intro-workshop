{
  "nbformat": 4,
  "nbformat_minor": 0,
  "metadata": {
    "colab": {
      "name": "binary_functions.ipynb",
      "version": "0.3.2",
      "provenance": [],
      "collapsed_sections": [],
      "include_colab_link": true
    },
    "kernelspec": {
      "name": "python3",
      "display_name": "Python 3"
    }
  },
  "cells": [
    {
      "cell_type": "markdown",
      "metadata": {
        "id": "view-in-github",
        "colab_type": "text"
      },
      "source": [
        "<a href=\"https://colab.research.google.com/github/jfogarty/machine-learning-intro-workshop/blob/master/notebooks/binary_functions.ipynb\" target=\"_parent\"><img src=\"https://colab.research.google.com/assets/colab-badge.svg\" alt=\"Open In Colab\"/></a>"
      ]
    },
    {
      "cell_type": "markdown",
      "metadata": {
        "id": "DnUCpC5PBGtJ",
        "colab_type": "text"
      },
      "source": [
        "# Using Neural Networks for Fundamental Binary Functions\n",
        "\n",
        "This is nice illustration that a neural network can compute anything.\n"
      ]
    },
    {
      "cell_type": "code",
      "metadata": {
        "id": "reyL8y-z8hsU",
        "colab_type": "code",
        "colab": {}
      },
      "source": [
        "class Context:\n",
        "    VERBOSE=False\n",
        "    QUIET=False"
      ],
      "execution_count": 0,
      "outputs": []
    },
    {
      "cell_type": "code",
      "metadata": {
        "id": "fpyQWK018c5t",
        "colab_type": "code",
        "cellView": "form",
        "colab": {}
      },
      "source": [
        "#@title Import Directives\n",
        "from contextlib import redirect_stderr\n",
        "import os\n",
        "\n",
        "import tensorflow as tf\n",
        "\n",
        "# Suppress Tensorflow log spew.\n",
        "tf.logging.set_verbosity(tf.logging.ERROR)\n",
        "os.environ['TF_CPP_MIN_LOG_LEVEL'] = '2'\n",
        "\n",
        "# Suppress Keras log spew.\n",
        "with redirect_stderr(open(os.devnull, \"w\")):\n",
        "    import keras\n",
        "\n",
        "from keras.models import Sequential\n",
        "from keras.layers.core import Dense\n",
        "from keras.optimizers import SGD\n",
        "\n",
        "import numpy as np\n",
        "import argparse"
      ],
      "execution_count": 0,
      "outputs": []
    },
    {
      "cell_type": "code",
      "metadata": {
        "id": "IouBgIh48myZ",
        "colab_type": "code",
        "cellView": "form",
        "colab": {}
      },
      "source": [
        "#@title Text Formatting and Output Functions\n",
        "def fmt(f, *args):\n",
        "    if len(args) == 0:\n",
        "        return str(f)\n",
        "    else:\n",
        "        if type(f) is str:\n",
        "            return f.format(*args)\n",
        "        else:\n",
        "            return [str(f)] + [str(s) for s in args]\n",
        "\n",
        "def log(f, *args):\n",
        "    print(fmt(f, *args))\n",
        "\n",
        "def out(f, *args):\n",
        "    if not Context.QUIET:\n",
        "        log(fmt(f, *args))"
      ],
      "execution_count": 0,
      "outputs": []
    },
    {
      "cell_type": "code",
      "metadata": {
        "id": "Lk3okGQY8-ch",
        "colab_type": "code",
        "colab": {}
      },
      "source": [
        "Binary_functions = {\n",
        "    'not' : { 'function' : 'Binary NOT', 'X' : np.array([[0],[1]]),                 'Y' : np.array([[1],[0]]) },\n",
        "    'xor' : { 'function' : 'Binary XOR', 'X' : np.array([[0,0],[0,1],[1,0],[1,1]]), 'Y' : np.array([[0],[1],[1],[0]]) },\n",
        "    'and' : { 'function' : 'Binary AND', 'X' : np.array([[0,0],[0,1],[1,0],[1,1]]), 'Y' : np.array([[0],[0],[0],[1]]) },\n",
        "    'or'  : { 'function' : 'Binary OR',  'X' : np.array([[0,0],[0,1],[1,0],[1,1]]), 'Y' : np.array([[0],[1],[1],[1]]) }\n",
        "}"
      ],
      "execution_count": 0,
      "outputs": []
    },
    {
      "cell_type": "code",
      "metadata": {
        "id": "LnJKyozADhEu",
        "colab_type": "code",
        "outputId": "fb75e6c1-b18e-4fc1-b33f-d6666e573fb4",
        "colab": {
          "base_uri": "https://localhost:8080/",
          "height": 34
        }
      },
      "source": [
        "Binary_functions.keys()"
      ],
      "execution_count": 5,
      "outputs": [
        {
          "output_type": "execute_result",
          "data": {
            "text/plain": [
              "dict_keys(['not', 'xor', 'and', 'or'])"
            ]
          },
          "metadata": {
            "tags": []
          },
          "execution_count": 5
        }
      ]
    },
    {
      "cell_type": "code",
      "metadata": {
        "id": "daoV3kG28pmY",
        "colab_type": "code",
        "colab": {}
      },
      "source": [
        "def compute(function, X, Y):\n",
        "    if Context.VERBOSE:\n",
        "        out(\"X.shape={}\", X.shape)\n",
        "        out(\"Input Array of {} Inputs:\\n{}\", function, X)\n",
        "        out(\"Ouput Array of Truth Results:\\n{}\".format(Y))\n",
        "\n",
        "    model = Sequential()\n",
        "    model.add(Dense(8, input_dim=X.shape[1], activation='tanh'))\n",
        "    model.add(Dense(1, activation='sigmoid'))\n",
        "\n",
        "    model.compile(loss='binary_crossentropy', optimizer=SGD(lr=0.1))\n",
        "\n",
        "    out(\"--------------------------------------------------------------------------\")\n",
        "    out(\"----- Finding {} Mapping Function using a Brute Force Neural Network:\", function)\n",
        "\n",
        "    model.fit(X, Y, batch_size=1, epochs=1000, verbose=1 if Context.VERBOSE else 0)\n",
        "\n",
        "    out(\"----- Keras information on the function:\")\n",
        "    if not Context.QUIET: model.summary()\n",
        "\n",
        "    log(\"--------------------------------------------------------------------------\")\n",
        "    log(\"Predicted {} Truth Values from input table:\\n{}\\nActual results:\\n{}\", function, model.predict(X), Y)"
      ],
      "execution_count": 0,
      "outputs": []
    },
    {
      "cell_type": "code",
      "metadata": {
        "id": "xU1rGb1l82xI",
        "colab_type": "code",
        "colab": {}
      },
      "source": [
        "def main():\n",
        "    for f in Binary_functions.values():\n",
        "        compute(**f)"
      ],
      "execution_count": 0,
      "outputs": []
    },
    {
      "cell_type": "code",
      "metadata": {
        "id": "IN9_NbTn9Zqw",
        "colab_type": "code",
        "cellView": "form",
        "colab": {}
      },
      "source": [
        "#@title Python Command Line Main Program \n",
        "try:\n",
        "    get_ipython\n",
        "except NameError:\n",
        "    if __name__=='__main__':\n",
        "        desc = \"This is a brute force method that demonstrates a concept rather than a practical example.\"\n",
        "        parser = argparse.ArgumentParser(\n",
        "            description = \"Keras based Neural Network to train for and evaluate Boolean Functions.\",\n",
        "            epilog = desc,\n",
        "        )    \n",
        "        parser.add_argument('-v', \"--verbose\", help=\"increase output verbosity.\", action='store_true')\n",
        "        parser.add_argument('-q', \"--quiet\",   help=\"decrease output verbosity.\", action='store_true')\n",
        "        parser.add_argument('-?',              help=argparse.SUPPRESS,            action='store_true')\n",
        "\n",
        "        ap = parser.parse_args()\n",
        "        if ap.verbose: Context.VERBOSE=True\n",
        "        if ap.quiet:   Context.QUIET=True\n",
        "        if getattr(ap, '?', False):\n",
        "            parser.print_help()\n",
        "            exit()\n",
        "        main()"
      ],
      "execution_count": 0,
      "outputs": []
    },
    {
      "cell_type": "code",
      "metadata": {
        "id": "8KAeL_ns9pJI",
        "colab_type": "code",
        "cellView": "both",
        "outputId": "75db7bc3-7b0f-4561-9e2b-931750696134",
        "colab": {
          "base_uri": "https://localhost:8080/",
          "height": 442
        }
      },
      "source": [
        "Context.VERBOSE = False\n",
        "Context.QUIET = False\n",
        "compute(**Binary_functions['xor'])"
      ],
      "execution_count": 13,
      "outputs": [
        {
          "output_type": "stream",
          "text": [
            "--------------------------------------------------------------------------\n",
            "----- Finding Binary XOR Mapping Function using a Brute Force Neural Network:\n",
            "----- Keras information on the function:\n",
            "_________________________________________________________________\n",
            "Layer (type)                 Output Shape              Param #   \n",
            "=================================================================\n",
            "dense_9 (Dense)              (None, 8)                 24        \n",
            "_________________________________________________________________\n",
            "dense_10 (Dense)             (None, 1)                 9         \n",
            "=================================================================\n",
            "Total params: 33\n",
            "Trainable params: 33\n",
            "Non-trainable params: 0\n",
            "_________________________________________________________________\n",
            "--------------------------------------------------------------------------\n",
            "Predicted Binary XOR Truth Values from input table:\n",
            "[[0.00232605]\n",
            " [0.99550736]\n",
            " [0.99591994]\n",
            " [0.00522789]]\n",
            "Actual results:\n",
            "[[0]\n",
            " [1]\n",
            " [1]\n",
            " [0]]\n"
          ],
          "name": "stdout"
        }
      ]
    },
    {
      "cell_type": "code",
      "metadata": {
        "id": "rb8LwThKCX0t",
        "colab_type": "code",
        "colab": {}
      },
      "source": [
        ""
      ],
      "execution_count": 0,
      "outputs": []
    }
  ]
}