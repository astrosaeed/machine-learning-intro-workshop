{
  "nbformat": 4,
  "nbformat_minor": 0,
  "metadata": {
    "colab": {
      "name": "numpy_data_structures.ipynb",
      "version": "0.3.2",
      "provenance": [],
      "toc_visible": true,
      "include_colab_link": true
    },
    "kernelspec": {
      "name": "python3",
      "display_name": "Python 3"
    }
  },
  "cells": [
    {
      "cell_type": "markdown",
      "metadata": {
        "id": "view-in-github",
        "colab_type": "text"
      },
      "source": [
        "<a href=\"https://colab.research.google.com/github/jfogarty/machine-learning-intro-workshop/blob/master/notebooks/numpy_data_structures.ipynb\" target=\"_parent\"><img src=\"https://colab.research.google.com/assets/colab-badge.svg\" alt=\"Open In Colab\"/></a>"
      ]
    },
    {
      "cell_type": "code",
      "metadata": {
        "id": "n-gVo6OfplhJ",
        "colab_type": "code",
        "colab": {}
      },
      "source": [
        ""
      ],
      "execution_count": 0,
      "outputs": []
    },
    {
      "cell_type": "markdown",
      "metadata": {
        "id": "MNRniHbHppOb",
        "colab_type": "text"
      },
      "source": [
        "# NumPy Vectors, Matrices, and Arrays\n",
        "\n",
        "- From [Machine Learning with Python Cookbook](https://www.oreilly.com/library/view/machine-learning-with/9781491989371/ch01.html) by [Chris Albon](https://chrisalbon.com/) [[Github/notes](https://github.com/chrisalbon/notes)], published by [O'Reilly Safari](https://www.oreilly.com).\n",
        "\n",
        "Updated by [John Fogarty](https://github.com/jfogarty) for Python 3.6 and [Base2 MLI](https://github.com/base2solutions/mli).\n"
      ]
    },
    {
      "cell_type": "markdown",
      "metadata": {
        "id": "rcjEgEshp2Z0",
        "colab_type": "text"
      },
      "source": [
        "## 1.0 Introduction\n",
        "\n",
        "NumPy is the foundation of the Python machine learning stack. NumPy allows for efficient operations on the data structures often used in machine learning: vectors, matrices, and tensors. While NumPy is not the focus of this book, it will show up frequently throughout the following chapters. This chapter covers the most common NumPy operations we are likely to run into while working on machine learning workflows."
      ]
    },
    {
      "cell_type": "markdown",
      "metadata": {
        "id": "VRIx-DOkH5Us",
        "colab_type": "text"
      },
      "source": [
        "## 1.1 Creating a Vector\n",
        "### Problem\n",
        "You need to create a vector.\n",
        "\n",
        "### Solution\n",
        "Use NumPy to create a one-dimensional array:"
      ]
    },
    {
      "cell_type": "code",
      "metadata": {
        "id": "QGCpxcaIH-5H",
        "colab_type": "code",
        "colab": {}
      },
      "source": [
        "# Load library\n",
        "import numpy as np\n",
        "\n",
        "# Create a vector as a row\n",
        "vector_row = np.array([1, 2, 3])\n",
        "\n",
        "# Create a vector as a column\n",
        "vector_column = np.array([[1],\n",
        "                          [2],\n",
        "                          [3]])"
      ],
      "execution_count": 0,
      "outputs": []
    },
    {
      "cell_type": "markdown",
      "metadata": {
        "id": "DKsbYPhfIGYr",
        "colab_type": "text"
      },
      "source": [
        "### Discussion\n",
        "\n",
        "NumPy’s main data structure is the multidimensional array. To create a vector, we simply create a one-dimensional array. Just like vectors, these arrays can be represented horizontally (i.e., rows) or vertically (i.e., columns).\n",
        "\n",
        "### See Also\n",
        "- [Vectors, Math Is Fun](http://bit.ly/2FB5q1v)\n",
        "\n",
        "- [Euclidean vector, Wikipedia](http://bit.ly/2FtnRoL)\n"
      ]
    },
    {
      "cell_type": "markdown",
      "metadata": {
        "id": "YRVQuCBpIXX4",
        "colab_type": "text"
      },
      "source": [
        "## 1.2 Creating a Matrix\n",
        "### Problem\n",
        "You need to create a matrix.\n",
        "\n",
        "### Solution\n",
        "Use NumPy to create a two-dimensional array:"
      ]
    },
    {
      "cell_type": "code",
      "metadata": {
        "id": "1D9ryZrLIXxQ",
        "colab_type": "code",
        "colab": {}
      },
      "source": [
        "# Create a matrix\n",
        "matrix = np.array([[1, 2],\n",
        "                   [1, 2],\n",
        "                   [1, 2]])"
      ],
      "execution_count": 0,
      "outputs": []
    },
    {
      "cell_type": "markdown",
      "metadata": {
        "id": "RZavXMedIYBX",
        "colab_type": "text"
      },
      "source": [
        "### Discussion\n",
        "To create a matrix we can use a NumPy two-dimensional array. In our solution, the matrix contains three rows and two columns (a column of 1s and a column of 2s).\n",
        "\n",
        "NumPy actually has a dedicated matrix data structure:"
      ]
    },
    {
      "cell_type": "code",
      "metadata": {
        "id": "0uWt5kNVH9N3",
        "colab_type": "code",
        "colab": {
          "base_uri": "https://localhost:8080/",
          "height": 71
        },
        "outputId": "6233c210-27d9-44d2-9a82-f5f4fc1d6ae1"
      },
      "source": [
        "matrix_object = np.mat([[1, 2],\n",
        "                        [1, 2],\n",
        "                        [1, 2]])\n",
        "matrix_object"
      ],
      "execution_count": 4,
      "outputs": [
        {
          "output_type": "execute_result",
          "data": {
            "text/plain": [
              "matrix([[1, 2],\n",
              "        [1, 2],\n",
              "        [1, 2]])"
            ]
          },
          "metadata": {
            "tags": []
          },
          "execution_count": 4
        }
      ]
    },
    {
      "cell_type": "markdown",
      "metadata": {
        "id": "DCXsjYdXJAHW",
        "colab_type": "text"
      },
      "source": [
        "However, the matrix data structure is **not recommended** for two reasons. First, arrays are the de facto standard data structure of NumPy. Second, the vast majority of NumPy operations return arrays, not matrix objects.\n",
        "\n",
        "### See Also\n",
        "- [Matrix, Wikipedia](http://bit.ly/2Ftnevp)\n",
        "\n",
        "- [Matrix, Wolfram MathWorld](http://bit.ly/2Fut7IJ)"
      ]
    },
    {
      "cell_type": "markdown",
      "metadata": {
        "id": "IvO4q41MJS9i",
        "colab_type": "text"
      },
      "source": [
        "## 1.3 Creating a Sparse Matrix\n",
        "### Problem\n",
        "Given data with very few nonzero values, you want to efficiently represent it.\n",
        "\n",
        "### Solution\n",
        "Create a sparse matrix:"
      ]
    },
    {
      "cell_type": "code",
      "metadata": {
        "id": "TzoTR1VPJTJI",
        "colab_type": "code",
        "colab": {}
      },
      "source": [
        "# Load libraries\n",
        "from scipy import sparse\n",
        "\n",
        "# Create a matrix\n",
        "matrix = np.array([[0, 0],\n",
        "                   [0, 1],\n",
        "                   [3, 0]])\n",
        "\n",
        "# Create compressed sparse row (CSR) matrix\n",
        "matrix_sparse = sparse.csr_matrix(matrix)"
      ],
      "execution_count": 0,
      "outputs": []
    },
    {
      "cell_type": "markdown",
      "metadata": {
        "id": "andNKe18JTTi",
        "colab_type": "text"
      },
      "source": [
        "### Discussion\n",
        "A frequent situation in machine learning is having a huge amount of data; however, most of the elements in the data are zeros. For example, imagine a matrix where the columns are every movie on Netflix, the rows are every Netflix user, and the values are how many times a user has watched that particular movie. This matrix would have tens of thousands of columns and millions of rows! However, since most users do not watch most movies, the vast majority of elements would be zero.\n",
        "\n",
        "Sparse matrices only store nonzero elements and assume all other values will be zero, leading to significant computational savings. In our solution, we created a NumPy array with two nonzero values, then converted it into a sparse matrix. If we view the sparse matrix we can see that only the nonzero values are stored:"
      ]
    },
    {
      "cell_type": "code",
      "metadata": {
        "id": "cgKvFjnqI1IG",
        "colab_type": "code",
        "colab": {
          "base_uri": "https://localhost:8080/",
          "height": 53
        },
        "outputId": "b2b5a9e7-a46d-4954-f24b-45d5f2692edd"
      },
      "source": [
        "# View sparse matrix\n",
        "print(matrix_sparse)"
      ],
      "execution_count": 6,
      "outputs": [
        {
          "output_type": "stream",
          "text": [
            "  (1, 1)\t1\n",
            "  (2, 0)\t3\n"
          ],
          "name": "stdout"
        }
      ]
    },
    {
      "cell_type": "markdown",
      "metadata": {
        "id": "qjkSSvtqJn6g",
        "colab_type": "text"
      },
      "source": [
        "There are a number of types of sparse matrices. However, in *compressed sparse row* (CSR) matrices, (1, 1) and (2, 0) represent the (zero-indexed) indices of the non-zero values 1 and 3, respectively. For example, the element 1 is in the second row and second column. We can see the advantage of sparse matrices if we create a much larger matrix with many more zero elements and then compare this larger matrix with our original sparse matrix:"
      ]
    },
    {
      "cell_type": "code",
      "metadata": {
        "id": "PkSTTH2fJj_M",
        "colab_type": "code",
        "colab": {
          "base_uri": "https://localhost:8080/",
          "height": 53
        },
        "outputId": "9dc13cd9-fcf6-454c-d30d-987861124920"
      },
      "source": [
        "# Create larger matrix\n",
        "matrix_large = np.array([[0, 0, 0, 0, 0, 0, 0, 0, 0, 0],\n",
        "                         [0, 1, 0, 0, 0, 0, 0, 0, 0, 0],\n",
        "                         [3, 0, 0, 0, 0, 0, 0, 0, 0, 0]])\n",
        "\n",
        "# Create compressed sparse row (CSR) matrix\n",
        "matrix_large_sparse = sparse.csr_matrix(matrix_large)\n",
        "\n",
        "# View original sparse matrix\n",
        "print(matrix_sparse)"
      ],
      "execution_count": 7,
      "outputs": [
        {
          "output_type": "stream",
          "text": [
            "  (1, 1)\t1\n",
            "  (2, 0)\t3\n"
          ],
          "name": "stdout"
        }
      ]
    },
    {
      "cell_type": "code",
      "metadata": {
        "id": "nqqGXfiIJxjF",
        "colab_type": "code",
        "colab": {
          "base_uri": "https://localhost:8080/",
          "height": 53
        },
        "outputId": "02b3144f-47bb-4379-92b7-d297e8bc4ac0"
      },
      "source": [
        "# View larger sparse matrix\n",
        "print(matrix_large_sparse)"
      ],
      "execution_count": 8,
      "outputs": [
        {
          "output_type": "stream",
          "text": [
            "  (1, 1)\t1\n",
            "  (2, 0)\t3\n"
          ],
          "name": "stdout"
        }
      ]
    },
    {
      "cell_type": "markdown",
      "metadata": {
        "id": "4USdNvXYJ3ss",
        "colab_type": "text"
      },
      "source": [
        "As we can see, despite the fact that we added many more zero elements in the larger matrix, its sparse representation is exactly the same as our original sparse matrix. That is, the addition of zero elements did not change the size of the sparse matrix.\n",
        "\n",
        "As mentioned, there are many different types of sparse matrices, such as compressed sparse column, list of lists, and dictionary of keys. While an explanation of the different types and their implications is outside the scope of this book, it is worth noting that while there is no “best” sparse matrix type, there are meaningful differences between them and we should be conscious about why we are choosing one type over another.\n",
        "\n",
        "### See Also\n",
        "- [Sparse matrices, SciPy documentation](http://bit.ly/2HReBZR)\n",
        "\n",
        "- [101 Ways to Store a Sparse Matrix](http://bit.ly/2HS43cI)"
      ]
    },
    {
      "cell_type": "markdown",
      "metadata": {
        "id": "a3L8Mp4KMYQp",
        "colab_type": "text"
      },
      "source": [
        "## 1.4 Selecting Elements\n",
        "### Problem\n",
        "You need to select one or more elements in a vector or matrix.\n",
        "\n",
        "### Solution\n",
        "NumPy’s arrays make that easy:"
      ]
    },
    {
      "cell_type": "code",
      "metadata": {
        "id": "E4tGWS6dJz19",
        "colab_type": "code",
        "colab": {
          "base_uri": "https://localhost:8080/",
          "height": 35
        },
        "outputId": "747ea91f-251f-456e-d72d-f3c83cf80ad9"
      },
      "source": [
        "# Create row vector\n",
        "vector = np.array([1, 2, 3, 4, 5, 6])\n",
        "\n",
        "# Create matrix\n",
        "matrix = np.array([[1, 2, 3],\n",
        "                   [4, 5, 6],\n",
        "                   [7, 8, 9]])\n",
        "\n",
        "# Select third element of vector\n",
        "vector[2]"
      ],
      "execution_count": 9,
      "outputs": [
        {
          "output_type": "execute_result",
          "data": {
            "text/plain": [
              "3"
            ]
          },
          "metadata": {
            "tags": []
          },
          "execution_count": 9
        }
      ]
    },
    {
      "cell_type": "code",
      "metadata": {
        "id": "__eEH_cUMcMG",
        "colab_type": "code",
        "colab": {
          "base_uri": "https://localhost:8080/",
          "height": 35
        },
        "outputId": "07399c6a-6a01-482d-cf92-e3c71a89e5fd"
      },
      "source": [
        "# Select second row, second column\n",
        "matrix[1,1]"
      ],
      "execution_count": 10,
      "outputs": [
        {
          "output_type": "execute_result",
          "data": {
            "text/plain": [
              "5"
            ]
          },
          "metadata": {
            "tags": []
          },
          "execution_count": 10
        }
      ]
    },
    {
      "cell_type": "markdown",
      "metadata": {
        "id": "8tr73fIQMifK",
        "colab_type": "text"
      },
      "source": [
        "### Discussion\n",
        "Like most things in Python, NumPy arrays are zero-indexed, meaning that the index of the first element is 0, not 1. With that caveat, NumPy offers a wide variety of methods for selecting (i.e., indexing and slicing) elements or groups of elements in arrays:"
      ]
    },
    {
      "cell_type": "code",
      "metadata": {
        "id": "_6DfmZtBMgpD",
        "colab_type": "code",
        "colab": {
          "base_uri": "https://localhost:8080/",
          "height": 35
        },
        "outputId": "b4d0a8a2-4fa5-4185-856c-a5d00cbce568"
      },
      "source": [
        "# Select all elements of a vector\n",
        "vector[:]"
      ],
      "execution_count": 11,
      "outputs": [
        {
          "output_type": "execute_result",
          "data": {
            "text/plain": [
              "array([1, 2, 3, 4, 5, 6])"
            ]
          },
          "metadata": {
            "tags": []
          },
          "execution_count": 11
        }
      ]
    },
    {
      "cell_type": "code",
      "metadata": {
        "id": "9gM2tzDbMm5H",
        "colab_type": "code",
        "colab": {
          "base_uri": "https://localhost:8080/",
          "height": 35
        },
        "outputId": "715a15a2-27c5-4f37-e8ac-79864c59122c"
      },
      "source": [
        "# Select everything up to and including the third element\n",
        "vector[:3]"
      ],
      "execution_count": 12,
      "outputs": [
        {
          "output_type": "execute_result",
          "data": {
            "text/plain": [
              "array([1, 2, 3])"
            ]
          },
          "metadata": {
            "tags": []
          },
          "execution_count": 12
        }
      ]
    },
    {
      "cell_type": "code",
      "metadata": {
        "id": "v3dZ895CMpcW",
        "colab_type": "code",
        "colab": {
          "base_uri": "https://localhost:8080/",
          "height": 35
        },
        "outputId": "ff73700e-6632-48f5-c580-fb45ee735a7f"
      },
      "source": [
        "# Select everything after the third element\n",
        "vector[3:]"
      ],
      "execution_count": 13,
      "outputs": [
        {
          "output_type": "execute_result",
          "data": {
            "text/plain": [
              "array([4, 5, 6])"
            ]
          },
          "metadata": {
            "tags": []
          },
          "execution_count": 13
        }
      ]
    },
    {
      "cell_type": "code",
      "metadata": {
        "id": "pwvUGNvPMrWO",
        "colab_type": "code",
        "colab": {
          "base_uri": "https://localhost:8080/",
          "height": 35
        },
        "outputId": "aaca306a-a4bd-4d29-b814-9862d4b9c43b"
      },
      "source": [
        "# Select the last element\n",
        "vector[-1]"
      ],
      "execution_count": 14,
      "outputs": [
        {
          "output_type": "execute_result",
          "data": {
            "text/plain": [
              "6"
            ]
          },
          "metadata": {
            "tags": []
          },
          "execution_count": 14
        }
      ]
    },
    {
      "cell_type": "code",
      "metadata": {
        "id": "PzoDmkAPMtdk",
        "colab_type": "code",
        "colab": {
          "base_uri": "https://localhost:8080/",
          "height": 53
        },
        "outputId": "24a34914-774b-4263-b389-db8acfd97ab4"
      },
      "source": [
        "# Select the first two rows and all columns of a matrix\n",
        "matrix[:2,:]"
      ],
      "execution_count": 15,
      "outputs": [
        {
          "output_type": "execute_result",
          "data": {
            "text/plain": [
              "array([[1, 2, 3],\n",
              "       [4, 5, 6]])"
            ]
          },
          "metadata": {
            "tags": []
          },
          "execution_count": 15
        }
      ]
    },
    {
      "cell_type": "code",
      "metadata": {
        "id": "7bQzVmWLMxrv",
        "colab_type": "code",
        "colab": {
          "base_uri": "https://localhost:8080/",
          "height": 71
        },
        "outputId": "7fa2108d-1b5e-4767-c581-c1f5330d3294"
      },
      "source": [
        "# Select all rows and the second column\n",
        "matrix[:,1:2]"
      ],
      "execution_count": 16,
      "outputs": [
        {
          "output_type": "execute_result",
          "data": {
            "text/plain": [
              "array([[2],\n",
              "       [5],\n",
              "       [8]])"
            ]
          },
          "metadata": {
            "tags": []
          },
          "execution_count": 16
        }
      ]
    },
    {
      "cell_type": "markdown",
      "metadata": {
        "id": "ZyYWDikIM2PC",
        "colab_type": "text"
      },
      "source": [
        "## 1.5 Describing a Matrix\n",
        "### Problem\n",
        "You want to describe the shape, size, and dimensions of the matrix.\n",
        "\n",
        "### Solution\n",
        "Use shape, size, and ndim:"
      ]
    },
    {
      "cell_type": "code",
      "metadata": {
        "id": "is6Zyo5gMzNG",
        "colab_type": "code",
        "colab": {
          "base_uri": "https://localhost:8080/",
          "height": 35
        },
        "outputId": "e0b228cd-e7d0-494f-8c23-ebae80ccc68c"
      },
      "source": [
        "# Create matrix\n",
        "matrix = np.array([[1, 2, 3, 4],\n",
        "                   [5, 6, 7, 8],\n",
        "                   [9, 10, 11, 12]])\n",
        "\n",
        "# View number of rows and columns\n",
        "matrix.shape"
      ],
      "execution_count": 17,
      "outputs": [
        {
          "output_type": "execute_result",
          "data": {
            "text/plain": [
              "(3, 4)"
            ]
          },
          "metadata": {
            "tags": []
          },
          "execution_count": 17
        }
      ]
    },
    {
      "cell_type": "code",
      "metadata": {
        "id": "TPUMJpRZM7O2",
        "colab_type": "code",
        "colab": {
          "base_uri": "https://localhost:8080/",
          "height": 35
        },
        "outputId": "e611d07e-e238-4d2b-9c32-45298df132cd"
      },
      "source": [
        "# View number of elements (rows * columns)\n",
        "matrix.size"
      ],
      "execution_count": 18,
      "outputs": [
        {
          "output_type": "execute_result",
          "data": {
            "text/plain": [
              "12"
            ]
          },
          "metadata": {
            "tags": []
          },
          "execution_count": 18
        }
      ]
    },
    {
      "cell_type": "code",
      "metadata": {
        "id": "P8WLBMVsM9CS",
        "colab_type": "code",
        "colab": {
          "base_uri": "https://localhost:8080/",
          "height": 35
        },
        "outputId": "b8703b72-501c-484b-c9e2-c8429c45a644"
      },
      "source": [
        "# View number of dimensions\n",
        "matrix.ndim"
      ],
      "execution_count": 19,
      "outputs": [
        {
          "output_type": "execute_result",
          "data": {
            "text/plain": [
              "2"
            ]
          },
          "metadata": {
            "tags": []
          },
          "execution_count": 19
        }
      ]
    },
    {
      "cell_type": "markdown",
      "metadata": {
        "id": "lhfMzRRINCye",
        "colab_type": "text"
      },
      "source": [
        "Discussion\n",
        "This might seem basic (and it is); however, time and again it will be valuable to check the shape and size of an array both for further calculations and simply as a gut check after some operation."
      ]
    },
    {
      "cell_type": "markdown",
      "metadata": {
        "id": "rUsmiyS0NDx2",
        "colab_type": "text"
      },
      "source": [
        "## 1.6 Applying Operations to Elements\n",
        "### Problem\n",
        "You want to apply some function to multiple elements in an array.\n",
        "\n",
        "### Solution\n",
        "Use NumPy’s vectorize:"
      ]
    },
    {
      "cell_type": "code",
      "metadata": {
        "id": "37Y3b2EvM_nd",
        "colab_type": "code",
        "colab": {
          "base_uri": "https://localhost:8080/",
          "height": 71
        },
        "outputId": "f38b2c08-8407-4d27-e239-3d242aaab11f"
      },
      "source": [
        "# Create matrix\n",
        "matrix = np.array([[1, 2, 3],\n",
        "                   [4, 5, 6],\n",
        "                   [7, 8, 9]])\n",
        "\n",
        "# Create function that adds 100 to something\n",
        "add_100 = lambda i: i + 100\n",
        "\n",
        "# Create vectorized function\n",
        "vectorized_add_100 = np.vectorize(add_100)\n",
        "\n",
        "# Apply function to all elements in matrix\n",
        "vectorized_add_100(matrix)"
      ],
      "execution_count": 20,
      "outputs": [
        {
          "output_type": "execute_result",
          "data": {
            "text/plain": [
              "array([[101, 102, 103],\n",
              "       [104, 105, 106],\n",
              "       [107, 108, 109]])"
            ]
          },
          "metadata": {
            "tags": []
          },
          "execution_count": 20
        }
      ]
    },
    {
      "cell_type": "markdown",
      "metadata": {
        "id": "VLp4IPyVOk5I",
        "colab_type": "text"
      },
      "source": [
        "### Discussion\n",
        "NumPy’s vectorize class converts a function into a function that can apply to all elements in an array or slice of an array. It’s worth noting that vectorize is essentially a for loop over the elements and does not increase performance. Furthermore, NumPy arrays allow us to perform operations between arrays even if their dimensions are not the same (a process called broadcasting). For example, we can create a much simpler version of our solution using broadcasting:"
      ]
    },
    {
      "cell_type": "code",
      "metadata": {
        "id": "zfHXuc33Ott6",
        "colab_type": "code",
        "colab": {
          "base_uri": "https://localhost:8080/",
          "height": 71
        },
        "outputId": "9b2d0e79-a700-4720-e103-998f2e349745"
      },
      "source": [
        "# Add 100 to all elements\n",
        "matrix + 100"
      ],
      "execution_count": 21,
      "outputs": [
        {
          "output_type": "execute_result",
          "data": {
            "text/plain": [
              "array([[101, 102, 103],\n",
              "       [104, 105, 106],\n",
              "       [107, 108, 109]])"
            ]
          },
          "metadata": {
            "tags": []
          },
          "execution_count": 21
        }
      ]
    },
    {
      "cell_type": "markdown",
      "metadata": {
        "id": "e7uIZMYYOpnG",
        "colab_type": "text"
      },
      "source": [
        "## 1.7 Finding the Maximum and Minimum Values\n",
        "### Problem\n",
        "You need to find the maximum or minimum value in an array.\n",
        "\n",
        "### Solution\n",
        "Use NumPy’s max and min:"
      ]
    },
    {
      "cell_type": "code",
      "metadata": {
        "id": "2QlloRs1OiIZ",
        "colab_type": "code",
        "colab": {
          "base_uri": "https://localhost:8080/",
          "height": 35
        },
        "outputId": "192e339c-5dfa-4cde-a1cb-07c97370514e"
      },
      "source": [
        "# Create matrix\n",
        "matrix = np.array([[1, 2, 3],\n",
        "                   [4, 5, 6],\n",
        "                   [7, 8, 9]])\n",
        "\n",
        "# Return maximum element\n",
        "np.max(matrix)"
      ],
      "execution_count": 22,
      "outputs": [
        {
          "output_type": "execute_result",
          "data": {
            "text/plain": [
              "9"
            ]
          },
          "metadata": {
            "tags": []
          },
          "execution_count": 22
        }
      ]
    },
    {
      "cell_type": "code",
      "metadata": {
        "id": "NXr_a5eyO2Ve",
        "colab_type": "code",
        "colab": {
          "base_uri": "https://localhost:8080/",
          "height": 35
        },
        "outputId": "c887f059-e7ee-4a64-938c-577c2618753f"
      },
      "source": [
        "# Return minimum element\n",
        "np.min(matrix)"
      ],
      "execution_count": 23,
      "outputs": [
        {
          "output_type": "execute_result",
          "data": {
            "text/plain": [
              "1"
            ]
          },
          "metadata": {
            "tags": []
          },
          "execution_count": 23
        }
      ]
    },
    {
      "cell_type": "markdown",
      "metadata": {
        "id": "ntXUGFmSO73S",
        "colab_type": "text"
      },
      "source": [
        "### Discussion\n",
        "Often we want to know the maximum and minimum value in an array or subset of an array. This can be accomplished with the max and min methods. Using the axis parameter we can also apply the operation along a certain axis:"
      ]
    },
    {
      "cell_type": "code",
      "metadata": {
        "id": "a05vknMpO5Df",
        "colab_type": "code",
        "colab": {
          "base_uri": "https://localhost:8080/",
          "height": 35
        },
        "outputId": "b7bcf724-5cf3-4880-82b6-a6e12dc9546b"
      },
      "source": [
        "# Find maximum element in each column\n",
        "np.max(matrix, axis=0)"
      ],
      "execution_count": 24,
      "outputs": [
        {
          "output_type": "execute_result",
          "data": {
            "text/plain": [
              "array([7, 8, 9])"
            ]
          },
          "metadata": {
            "tags": []
          },
          "execution_count": 24
        }
      ]
    },
    {
      "cell_type": "code",
      "metadata": {
        "id": "3NwIGLkmO-1H",
        "colab_type": "code",
        "colab": {
          "base_uri": "https://localhost:8080/",
          "height": 35
        },
        "outputId": "4a7cbc7a-31b5-42d4-968a-ac4afddf2aad"
      },
      "source": [
        "# Find maximum element in each row\n",
        "np.max(matrix, axis=1)"
      ],
      "execution_count": 25,
      "outputs": [
        {
          "output_type": "execute_result",
          "data": {
            "text/plain": [
              "array([3, 6, 9])"
            ]
          },
          "metadata": {
            "tags": []
          },
          "execution_count": 25
        }
      ]
    },
    {
      "cell_type": "markdown",
      "metadata": {
        "id": "3BNB1j43PDGq",
        "colab_type": "text"
      },
      "source": [
        "## 1.8 Calculating the Average, Variance, and Standard Deviation\n",
        "### Problem\n",
        "You want to calculate some descriptive statistics about an array.\n",
        "\n",
        "### Solution\n",
        "Use NumPy’s mean, var, and std:"
      ]
    },
    {
      "cell_type": "code",
      "metadata": {
        "id": "fsEcjiXYPAG1",
        "colab_type": "code",
        "colab": {
          "base_uri": "https://localhost:8080/",
          "height": 35
        },
        "outputId": "6334b586-a405-4a0f-e7e7-13b1e439c7c9"
      },
      "source": [
        "# Create matrix\n",
        "matrix = np.array([[1, 2, 3],\n",
        "                   [4, 5, 6],\n",
        "                   [7, 8, 9]])\n",
        "\n",
        "# Return mean\n",
        "np.mean(matrix)"
      ],
      "execution_count": 26,
      "outputs": [
        {
          "output_type": "execute_result",
          "data": {
            "text/plain": [
              "5.0"
            ]
          },
          "metadata": {
            "tags": []
          },
          "execution_count": 26
        }
      ]
    },
    {
      "cell_type": "code",
      "metadata": {
        "id": "ZetmakcnPG23",
        "colab_type": "code",
        "colab": {
          "base_uri": "https://localhost:8080/",
          "height": 35
        },
        "outputId": "5b1f628c-a252-4d76-a4b9-fdb78af3db78"
      },
      "source": [
        "# Return variance\n",
        "np.var(matrix)"
      ],
      "execution_count": 27,
      "outputs": [
        {
          "output_type": "execute_result",
          "data": {
            "text/plain": [
              "6.666666666666667"
            ]
          },
          "metadata": {
            "tags": []
          },
          "execution_count": 27
        }
      ]
    },
    {
      "cell_type": "code",
      "metadata": {
        "id": "qcrYErxfPJY1",
        "colab_type": "code",
        "colab": {
          "base_uri": "https://localhost:8080/",
          "height": 35
        },
        "outputId": "48203167-235b-4cd5-c18e-0cb3dfad785a"
      },
      "source": [
        "# Return standard deviation\n",
        "np.std(matrix)"
      ],
      "execution_count": 28,
      "outputs": [
        {
          "output_type": "execute_result",
          "data": {
            "text/plain": [
              "2.581988897471611"
            ]
          },
          "metadata": {
            "tags": []
          },
          "execution_count": 28
        }
      ]
    },
    {
      "cell_type": "markdown",
      "metadata": {
        "id": "tUjli6yBPMrP",
        "colab_type": "text"
      },
      "source": [
        "### Discussion\n",
        "Just like with max and min, we can easily get descriptive statistics about the whole matrix or do calculations along a single axis:"
      ]
    },
    {
      "cell_type": "code",
      "metadata": {
        "id": "V5l0HDjVPKub",
        "colab_type": "code",
        "colab": {
          "base_uri": "https://localhost:8080/",
          "height": 35
        },
        "outputId": "52f44015-1bd6-4066-e2d2-5d73de474d92"
      },
      "source": [
        "# Find the mean value in each column\n",
        "np.mean(matrix, axis=0)"
      ],
      "execution_count": 29,
      "outputs": [
        {
          "output_type": "execute_result",
          "data": {
            "text/plain": [
              "array([4., 5., 6.])"
            ]
          },
          "metadata": {
            "tags": []
          },
          "execution_count": 29
        }
      ]
    },
    {
      "cell_type": "markdown",
      "metadata": {
        "id": "Chgzm_EbPUYn",
        "colab_type": "text"
      },
      "source": [
        "## 1.9 Reshaping Arrays\n",
        "### Problem\n",
        "You want to change the shape (number of rows and columns) of an array without changing the element values.\n",
        "\n",
        "### Solution\n",
        "Use NumPy’s reshape:"
      ]
    },
    {
      "cell_type": "code",
      "metadata": {
        "id": "8LFXQ_E4PRqq",
        "colab_type": "code",
        "colab": {
          "base_uri": "https://localhost:8080/",
          "height": 53
        },
        "outputId": "ca8c39f2-adb9-4946-adb0-c1122971642a"
      },
      "source": [
        "# Create 4x3 matrix\n",
        "matrix = np.array([[1, 2, 3],\n",
        "                   [4, 5, 6],\n",
        "                   [7, 8, 9],\n",
        "                   [10, 11, 12]])\n",
        "\n",
        "# Reshape matrix into 2x6 matrix\n",
        "matrix.reshape(2, 6)"
      ],
      "execution_count": 30,
      "outputs": [
        {
          "output_type": "execute_result",
          "data": {
            "text/plain": [
              "array([[ 1,  2,  3,  4,  5,  6],\n",
              "       [ 7,  8,  9, 10, 11, 12]])"
            ]
          },
          "metadata": {
            "tags": []
          },
          "execution_count": 30
        }
      ]
    },
    {
      "cell_type": "markdown",
      "metadata": {
        "id": "ZfMYx63JPbb3",
        "colab_type": "text"
      },
      "source": [
        "### Discussion\n",
        "reshape allows us to restructure an array so that we maintain the same data but it is organized as a different number of rows and columns. The only requirement is that the shape of the original and new matrix contain the same number of elements (i.e., the same size). We can see the size of a matrix using size:"
      ]
    },
    {
      "cell_type": "code",
      "metadata": {
        "id": "-zdxGIxGPZBV",
        "colab_type": "code",
        "colab": {
          "base_uri": "https://localhost:8080/",
          "height": 35
        },
        "outputId": "b9cd87ba-20e2-43be-edca-b2d15802e054"
      },
      "source": [
        "matrix.size"
      ],
      "execution_count": 31,
      "outputs": [
        {
          "output_type": "execute_result",
          "data": {
            "text/plain": [
              "12"
            ]
          },
          "metadata": {
            "tags": []
          },
          "execution_count": 31
        }
      ]
    },
    {
      "cell_type": "markdown",
      "metadata": {
        "id": "CAHBNTkhPh54",
        "colab_type": "text"
      },
      "source": [
        "One useful argument in reshape is -1, which effectively means “as many as needed,” so reshape(-1, 1) means one row and as many columns as needed:"
      ]
    },
    {
      "cell_type": "code",
      "metadata": {
        "id": "7O9P0e4JPe29",
        "colab_type": "code",
        "colab": {
          "base_uri": "https://localhost:8080/",
          "height": 35
        },
        "outputId": "974d7ebf-fb4c-48bf-8c37-adef8cce6df6"
      },
      "source": [
        "matrix.reshape(1, -1)"
      ],
      "execution_count": 32,
      "outputs": [
        {
          "output_type": "execute_result",
          "data": {
            "text/plain": [
              "array([[ 1,  2,  3,  4,  5,  6,  7,  8,  9, 10, 11, 12]])"
            ]
          },
          "metadata": {
            "tags": []
          },
          "execution_count": 32
        }
      ]
    },
    {
      "cell_type": "markdown",
      "metadata": {
        "id": "AYQ_5_-UPmEh",
        "colab_type": "text"
      },
      "source": [
        "Finally, if we provide one integer, reshape will return a 1D array of that length:"
      ]
    },
    {
      "cell_type": "code",
      "metadata": {
        "id": "R27I-IdvPj27",
        "colab_type": "code",
        "colab": {
          "base_uri": "https://localhost:8080/",
          "height": 35
        },
        "outputId": "f22bd41b-dad2-4284-a289-92691838d349"
      },
      "source": [
        "matrix.reshape(12)"
      ],
      "execution_count": 35,
      "outputs": [
        {
          "output_type": "execute_result",
          "data": {
            "text/plain": [
              "array([ 1,  2,  3,  4,  5,  6,  7,  8,  9, 10, 11, 12])"
            ]
          },
          "metadata": {
            "tags": []
          },
          "execution_count": 35
        }
      ]
    },
    {
      "cell_type": "markdown",
      "metadata": {
        "id": "fs6Cqh2JWBY6",
        "colab_type": "text"
      },
      "source": [
        "## 1.10 Transposing a Vector or Matrix\n",
        "### Problem\n",
        "You need to transpose a vector or matrix.\n",
        "\n",
        "### Solution\n",
        "Use the T method:"
      ]
    },
    {
      "cell_type": "code",
      "metadata": {
        "id": "S3z-gfv6PozP",
        "colab_type": "code",
        "colab": {
          "base_uri": "https://localhost:8080/",
          "height": 71
        },
        "outputId": "9ce189ab-56b9-4881-a8a2-4e74f72fcbff"
      },
      "source": [
        "# Create matrix\n",
        "matrix = np.array([[1, 2, 3],\n",
        "                   [4, 5, 6],\n",
        "                   [7, 8, 9]])\n",
        "\n",
        "# Transpose matrix\n",
        "matrix.T"
      ],
      "execution_count": 36,
      "outputs": [
        {
          "output_type": "execute_result",
          "data": {
            "text/plain": [
              "array([[1, 4, 7],\n",
              "       [2, 5, 8],\n",
              "       [3, 6, 9]])"
            ]
          },
          "metadata": {
            "tags": []
          },
          "execution_count": 36
        }
      ]
    },
    {
      "cell_type": "markdown",
      "metadata": {
        "id": "tsZEqNcqWKGr",
        "colab_type": "text"
      },
      "source": [
        "### Discussion\n",
        "Transposing is a common operation in linear algebra where the column and row indices of each element are swapped. One nuanced point that is typically overlooked outside of a linear algebra class is that, technically, a vector cannot be transposed because it is just a collection of values:"
      ]
    },
    {
      "cell_type": "code",
      "metadata": {
        "id": "wTCEdyVRWHg1",
        "colab_type": "code",
        "colab": {
          "base_uri": "https://localhost:8080/",
          "height": 35
        },
        "outputId": "b9b9ca80-e904-44fe-a927-0416b5f02c08"
      },
      "source": [
        "# Transpose vector\n",
        "np.array([1, 2, 3, 4, 5, 6]).T"
      ],
      "execution_count": 37,
      "outputs": [
        {
          "output_type": "execute_result",
          "data": {
            "text/plain": [
              "array([1, 2, 3, 4, 5, 6])"
            ]
          },
          "metadata": {
            "tags": []
          },
          "execution_count": 37
        }
      ]
    },
    {
      "cell_type": "markdown",
      "metadata": {
        "id": "1FKLsSwiWVTt",
        "colab_type": "text"
      },
      "source": [
        "However, it is common to refer to transposing a vector as converting a row vector to a column vector (notice the second pair of brackets) or vice versa:"
      ]
    },
    {
      "cell_type": "code",
      "metadata": {
        "id": "OW8Kil7vWPxB",
        "colab_type": "code",
        "colab": {
          "base_uri": "https://localhost:8080/",
          "height": 125
        },
        "outputId": "2867ae12-5efe-4880-fd7c-70a8f3f97c35"
      },
      "source": [
        "# Tranpose row vector\n",
        "np.array([[1, 2, 3, 4, 5, 6]]).T"
      ],
      "execution_count": 38,
      "outputs": [
        {
          "output_type": "execute_result",
          "data": {
            "text/plain": [
              "array([[1],\n",
              "       [2],\n",
              "       [3],\n",
              "       [4],\n",
              "       [5],\n",
              "       [6]])"
            ]
          },
          "metadata": {
            "tags": []
          },
          "execution_count": 38
        }
      ]
    },
    {
      "cell_type": "markdown",
      "metadata": {
        "id": "2fbS-inSWb_5",
        "colab_type": "text"
      },
      "source": [
        "## 1.11 Flattening a Matrix\n",
        "### Problem\n",
        "You need to transform a matrix into a one-dimensional array.\n",
        "\n",
        "### Solution\n",
        "Use flatten:"
      ]
    },
    {
      "cell_type": "code",
      "metadata": {
        "id": "QD4IvIzbWYSY",
        "colab_type": "code",
        "colab": {
          "base_uri": "https://localhost:8080/",
          "height": 35
        },
        "outputId": "84b8a5c0-3c17-43bc-bcb5-bf75f9f4b909"
      },
      "source": [
        "# Create matrix\n",
        "matrix = np.array([[1, 2, 3],\n",
        "                   [4, 5, 6],\n",
        "                   [7, 8, 9]])\n",
        "\n",
        "# Flatten matrix\n",
        "matrix.flatten()"
      ],
      "execution_count": 39,
      "outputs": [
        {
          "output_type": "execute_result",
          "data": {
            "text/plain": [
              "array([1, 2, 3, 4, 5, 6, 7, 8, 9])"
            ]
          },
          "metadata": {
            "tags": []
          },
          "execution_count": 39
        }
      ]
    },
    {
      "cell_type": "markdown",
      "metadata": {
        "id": "6Ez4RjReWoex",
        "colab_type": "text"
      },
      "source": [
        "### Discussion\n",
        "flatten is a simple method to transform a matrix into a one-dimensional array. Alternatively, we can use reshape to create a row vector:"
      ]
    },
    {
      "cell_type": "code",
      "metadata": {
        "id": "Do-_w8G-Wlhy",
        "colab_type": "code",
        "colab": {
          "base_uri": "https://localhost:8080/",
          "height": 35
        },
        "outputId": "b8381675-e433-4adb-9a01-af096d50bf98"
      },
      "source": [
        "matrix.reshape(1, -1)"
      ],
      "execution_count": 43,
      "outputs": [
        {
          "output_type": "execute_result",
          "data": {
            "text/plain": [
              "array([[1, 2, 3, 4, 5, 6, 7, 8, 9]])"
            ]
          },
          "metadata": {
            "tags": []
          },
          "execution_count": 43
        }
      ]
    },
    {
      "cell_type": "markdown",
      "metadata": {
        "id": "D_YQj6LtYZ8W",
        "colab_type": "text"
      },
      "source": [
        "### Explore binary operations on row vectors with one dimensional arrays."
      ]
    },
    {
      "cell_type": "code",
      "metadata": {
        "id": "jY0LW1aeWq7K",
        "colab_type": "code",
        "colab": {
          "base_uri": "https://localhost:8080/",
          "height": 35
        },
        "outputId": "763358b2-a396-47e5-cda8-e173e9a3a743"
      },
      "source": [
        "matrix.reshape(1, -1) == matrix.flatten()"
      ],
      "execution_count": 44,
      "outputs": [
        {
          "output_type": "execute_result",
          "data": {
            "text/plain": [
              "array([[ True,  True,  True,  True,  True,  True,  True,  True,  True]])"
            ]
          },
          "metadata": {
            "tags": []
          },
          "execution_count": 44
        }
      ]
    },
    {
      "cell_type": "code",
      "metadata": {
        "id": "gRC5O0DmXqUb",
        "colab_type": "code",
        "colab": {
          "base_uri": "https://localhost:8080/",
          "height": 35
        },
        "outputId": "bca94063-ad01-4d78-f712-b14e913b0426"
      },
      "source": [
        "matrix.flatten() == matrix.reshape(1, -1)"
      ],
      "execution_count": 53,
      "outputs": [
        {
          "output_type": "execute_result",
          "data": {
            "text/plain": [
              "array([[ True,  True,  True,  True,  True,  True,  True,  True,  True]])"
            ]
          },
          "metadata": {
            "tags": []
          },
          "execution_count": 53
        }
      ]
    },
    {
      "cell_type": "code",
      "metadata": {
        "id": "HH9xSsP9X1_o",
        "colab_type": "code",
        "colab": {
          "base_uri": "https://localhost:8080/",
          "height": 35
        },
        "outputId": "6c1a70d0-b89b-485b-df4c-82eef66588a4"
      },
      "source": [
        "matrix.flatten() * matrix.reshape(1, -1)"
      ],
      "execution_count": 56,
      "outputs": [
        {
          "output_type": "execute_result",
          "data": {
            "text/plain": [
              "array([[ 1,  4,  9, 16, 25, 36, 49, 64, 81]])"
            ]
          },
          "metadata": {
            "tags": []
          },
          "execution_count": 56
        }
      ]
    },
    {
      "cell_type": "code",
      "metadata": {
        "id": "4Qkw9GDHW69n",
        "colab_type": "code",
        "colab": {
          "base_uri": "https://localhost:8080/",
          "height": 35
        },
        "outputId": "3325c8d8-d9d3-4fe0-985f-0b32cde8b921"
      },
      "source": [
        "matrix.reshape(1, -1)[0] == matrix.flatten()"
      ],
      "execution_count": 45,
      "outputs": [
        {
          "output_type": "execute_result",
          "data": {
            "text/plain": [
              "array([ True,  True,  True,  True,  True,  True,  True,  True,  True])"
            ]
          },
          "metadata": {
            "tags": []
          },
          "execution_count": 45
        }
      ]
    },
    {
      "cell_type": "code",
      "metadata": {
        "id": "TVTQLK9OXAvs",
        "colab_type": "code",
        "colab": {
          "base_uri": "https://localhost:8080/",
          "height": 35
        },
        "outputId": "71954890-a6aa-42f3-ef0b-746f56e10556"
      },
      "source": [
        "matrix.reshape(1, -1).shape"
      ],
      "execution_count": 49,
      "outputs": [
        {
          "output_type": "execute_result",
          "data": {
            "text/plain": [
              "(1, 9)"
            ]
          },
          "metadata": {
            "tags": []
          },
          "execution_count": 49
        }
      ]
    },
    {
      "cell_type": "code",
      "metadata": {
        "id": "o5AOhEC0XUAg",
        "colab_type": "code",
        "colab": {
          "base_uri": "https://localhost:8080/",
          "height": 35
        },
        "outputId": "fc2a38ee-7ee4-4281-954b-d878febc5548"
      },
      "source": [
        "matrix.reshape(1, -1)[0].shape"
      ],
      "execution_count": 50,
      "outputs": [
        {
          "output_type": "execute_result",
          "data": {
            "text/plain": [
              "(9,)"
            ]
          },
          "metadata": {
            "tags": []
          },
          "execution_count": 50
        }
      ]
    },
    {
      "cell_type": "code",
      "metadata": {
        "id": "gxLzUdg8Xeqe",
        "colab_type": "code",
        "colab": {
          "base_uri": "https://localhost:8080/",
          "height": 35
        },
        "outputId": "a01c1d6e-b189-4020-8389-f9337ee4c8a9"
      },
      "source": [
        "matrix.flatten().shape"
      ],
      "execution_count": 51,
      "outputs": [
        {
          "output_type": "execute_result",
          "data": {
            "text/plain": [
              "(9,)"
            ]
          },
          "metadata": {
            "tags": []
          },
          "execution_count": 51
        }
      ]
    },
    {
      "cell_type": "markdown",
      "metadata": {
        "id": "FLyYh7ozYtWE",
        "colab_type": "text"
      },
      "source": [
        "## 1.12 Finding the Rank of a Matrix\n",
        "### Problem\n",
        "You need to know the rank of a matrix.\n",
        "\n",
        "### Solution\n",
        "Use NumPy’s linear algebra method matrix_rank:"
      ]
    },
    {
      "cell_type": "code",
      "metadata": {
        "id": "4djfoUKbXjsm",
        "colab_type": "code",
        "colab": {
          "base_uri": "https://localhost:8080/",
          "height": 35
        },
        "outputId": "d305e55c-cff2-4c74-dba1-d93a77037e2e"
      },
      "source": [
        "# Create matrix\n",
        "matrix = np.array([[1, 1, 1],\n",
        "                   [1, 1, 10],\n",
        "                   [1, 1, 15]])\n",
        "\n",
        "# Return matrix rank\n",
        "np.linalg.matrix_rank(matrix)"
      ],
      "execution_count": 57,
      "outputs": [
        {
          "output_type": "execute_result",
          "data": {
            "text/plain": [
              "2"
            ]
          },
          "metadata": {
            "tags": []
          },
          "execution_count": 57
        }
      ]
    },
    {
      "cell_type": "code",
      "metadata": {
        "id": "GbChDD24Yx61",
        "colab_type": "code",
        "colab": {}
      },
      "source": [
        ""
      ],
      "execution_count": 0,
      "outputs": []
    },
    {
      "cell_type": "markdown",
      "metadata": {
        "id": "mzKycu2MYzKk",
        "colab_type": "text"
      },
      "source": [
        "### Discussion\n",
        "The rank of a matrix is the dimensions of the vector space spanned by its columns or rows. Finding the rank of a matrix is easy in NumPy thanks to matrix_rank.\n",
        "\n",
        "### See Also\n",
        "- [The Rank of a Matrix, CliffsNotes](http://bit.ly/2HUzkMs)"
      ]
    },
    {
      "cell_type": "markdown",
      "metadata": {
        "id": "inu7MDUYY_Xx",
        "colab_type": "text"
      },
      "source": [
        "## 1.13 Calculating the Determinant\n",
        "### Problem\n",
        "You need to know the determinant of a matrix.\n",
        "\n",
        "### Solution\n",
        "Use NumPy’s linear algebra method det"
      ]
    },
    {
      "cell_type": "code",
      "metadata": {
        "id": "uuBU8kKpY0u4",
        "colab_type": "code",
        "colab": {
          "base_uri": "https://localhost:8080/",
          "height": 35
        },
        "outputId": "bb6c3ad8-8b0b-40e7-be4a-23f63216219a"
      },
      "source": [
        "# Create matrix\n",
        "matrix = np.array([[1, 2, 3],\n",
        "                   [2, 4, 6],\n",
        "                   [3, 8, 9]])\n",
        "\n",
        "# Return determinant of matrix\n",
        "np.linalg.det(matrix)"
      ],
      "execution_count": 63,
      "outputs": [
        {
          "output_type": "execute_result",
          "data": {
            "text/plain": [
              "0.0"
            ]
          },
          "metadata": {
            "tags": []
          },
          "execution_count": 63
        }
      ]
    },
    {
      "cell_type": "code",
      "metadata": {
        "id": "Kp2Exm3EZN2R",
        "colab_type": "code",
        "colab": {
          "base_uri": "https://localhost:8080/",
          "height": 35
        },
        "outputId": "93b0de8b-7a5c-4a86-c8da-1a197e66baec"
      },
      "source": [
        "# Create matrix\n",
        "matrix = np.array([[1, 2, 3],\n",
        "                   [2, 6, 6],\n",
        "                   [4, 8, 9]])\n",
        "\n",
        "# Return determinant of matrix\n",
        "np.linalg.det(matrix)"
      ],
      "execution_count": 65,
      "outputs": [
        {
          "output_type": "execute_result",
          "data": {
            "text/plain": [
              "-6.0"
            ]
          },
          "metadata": {
            "tags": []
          },
          "execution_count": 65
        }
      ]
    },
    {
      "cell_type": "markdown",
      "metadata": {
        "id": "uwFcmarlZGh8",
        "colab_type": "text"
      },
      "source": [
        "### Discussion\n",
        "It can sometimes be useful to calculate the determinant of a matrix. NumPy makes this easy with det.\n",
        "\n",
        "### See Also\n",
        "- [The determinant | Essence of linear algebra, chapter 5](http://bit.ly/2FA6ToM)\n",
        "\n",
        "- [Determinant, Wolfram MathWorld](http://bit.ly/2FxSUzC)"
      ]
    },
    {
      "cell_type": "markdown",
      "metadata": {
        "id": "qjb43dJ-aIwJ",
        "colab_type": "text"
      },
      "source": [
        "## 1.14 Getting the Diagonal of a Matrix\n",
        "## Problem\n",
        "You need to get the diagonal elements of a matrix.\n",
        "\n",
        "### Solution\n",
        "Use diagonal:"
      ]
    },
    {
      "cell_type": "code",
      "metadata": {
        "id": "tpYKtJueZEXy",
        "colab_type": "code",
        "colab": {
          "base_uri": "https://localhost:8080/",
          "height": 35
        },
        "outputId": "28f9cec5-90e9-44a4-e69e-44944846c60b"
      },
      "source": [
        "# Create matrix\n",
        "matrix = np.array([[1, 2, 3],\n",
        "                   [2, 4, 6],\n",
        "                   [3, 8, 9]])\n",
        "\n",
        "# Return diagonal elements\n",
        "matrix.diagonal()"
      ],
      "execution_count": 66,
      "outputs": [
        {
          "output_type": "execute_result",
          "data": {
            "text/plain": [
              "array([1, 4, 9])"
            ]
          },
          "metadata": {
            "tags": []
          },
          "execution_count": 66
        }
      ]
    },
    {
      "cell_type": "markdown",
      "metadata": {
        "id": "UpPuJABzaR1z",
        "colab_type": "text"
      },
      "source": [
        "### Discussion\n",
        "NumPy makes getting the diagonal elements of a matrix easy with diagonal. It is also possible to get a diagonal off from the main diagonal by using the offset parameter:"
      ]
    },
    {
      "cell_type": "code",
      "metadata": {
        "id": "tQtw8s5jaPXr",
        "colab_type": "code",
        "colab": {
          "base_uri": "https://localhost:8080/",
          "height": 35
        },
        "outputId": "058026ed-84f7-4890-f96b-be0a4251062f"
      },
      "source": [
        "# Return diagonal one above the main diagonal\n",
        "matrix.diagonal(offset=1)"
      ],
      "execution_count": 67,
      "outputs": [
        {
          "output_type": "execute_result",
          "data": {
            "text/plain": [
              "array([2, 6])"
            ]
          },
          "metadata": {
            "tags": []
          },
          "execution_count": 67
        }
      ]
    },
    {
      "cell_type": "code",
      "metadata": {
        "id": "w3n8KJlzaVyG",
        "colab_type": "code",
        "colab": {
          "base_uri": "https://localhost:8080/",
          "height": 35
        },
        "outputId": "6cc35196-3909-4b61-fff6-04718ea5a072"
      },
      "source": [
        "# Return diagonal one below the main diagonal\n",
        "matrix.diagonal(offset=-1)"
      ],
      "execution_count": 68,
      "outputs": [
        {
          "output_type": "execute_result",
          "data": {
            "text/plain": [
              "array([2, 8])"
            ]
          },
          "metadata": {
            "tags": []
          },
          "execution_count": 68
        }
      ]
    },
    {
      "cell_type": "markdown",
      "metadata": {
        "id": "5jfxJda_abLW",
        "colab_type": "text"
      },
      "source": [
        "## 1.15 Calculating the Trace of a Matrix\n",
        "### Problem\n",
        "You need to calculate the trace of a matrix.\n",
        "\n",
        "### Solution\n",
        "Use trace:"
      ]
    },
    {
      "cell_type": "code",
      "metadata": {
        "id": "b65FBqvxaYgM",
        "colab_type": "code",
        "colab": {
          "base_uri": "https://localhost:8080/",
          "height": 35
        },
        "outputId": "8d80ca1d-2f99-44d0-891a-c9dad043623f"
      },
      "source": [
        "# Create matrix\n",
        "matrix = np.array([[1, 2, 3],\n",
        "                   [2, 4, 6],\n",
        "                   [3, 8, 9]])\n",
        "\n",
        "# Return trace\n",
        "matrix.trace()"
      ],
      "execution_count": 69,
      "outputs": [
        {
          "output_type": "execute_result",
          "data": {
            "text/plain": [
              "14"
            ]
          },
          "metadata": {
            "tags": []
          },
          "execution_count": 69
        }
      ]
    },
    {
      "cell_type": "markdown",
      "metadata": {
        "id": "MSvuKgjfaiJK",
        "colab_type": "text"
      },
      "source": [
        "### Discussion\n",
        "The trace of a matrix is the sum of the diagonal elements and is often used under the hood in machine learning methods. Given a NumPy multidimensional array, we can calculate the trace using trace. We can also return the diagonal of a matrix and calculate its sum:"
      ]
    },
    {
      "cell_type": "code",
      "metadata": {
        "id": "M8gDySGNagdA",
        "colab_type": "code",
        "colab": {
          "base_uri": "https://localhost:8080/",
          "height": 35
        },
        "outputId": "c7567c8e-d20f-424f-aa36-1f589fbce655"
      },
      "source": [
        "# Return diagonal and sum elements\n",
        "sum(matrix.diagonal())"
      ],
      "execution_count": 70,
      "outputs": [
        {
          "output_type": "execute_result",
          "data": {
            "text/plain": [
              "14"
            ]
          },
          "metadata": {
            "tags": []
          },
          "execution_count": 70
        }
      ]
    },
    {
      "cell_type": "markdown",
      "metadata": {
        "id": "VvgoxGMdaq2j",
        "colab_type": "text"
      },
      "source": [
        "### See Also\n",
        "- [The Trace of a Square Matrix](http://bit.ly/2FunM45)"
      ]
    },
    {
      "cell_type": "markdown",
      "metadata": {
        "id": "yF3jwSRaayHq",
        "colab_type": "text"
      },
      "source": [
        "## 1.16 Finding Eigenvalues and Eigenvectors\n",
        "Problem\n",
        "You need to find the eigenvalues and eigenvectors of a square matrix.\n",
        "\n",
        "Solution\n",
        "Use NumPy’s linalg.eig:"
      ]
    },
    {
      "cell_type": "code",
      "metadata": {
        "id": "h1WvVyCxaoSB",
        "colab_type": "code",
        "colab": {}
      },
      "source": [
        "# Create matrix\n",
        "matrix = np.array([[1, -1, 3],\n",
        "                   [1, 1, 6],\n",
        "                   [3, 8, 9]])\n",
        "\n",
        "# Calculate eigenvalues and eigenvectors\n",
        "eigenvalues, eigenvectors = np.linalg.eig(matrix)"
      ],
      "execution_count": 0,
      "outputs": []
    },
    {
      "cell_type": "code",
      "metadata": {
        "id": "sdapi1n3bI0D",
        "colab_type": "code",
        "colab": {
          "base_uri": "https://localhost:8080/",
          "height": 35
        },
        "outputId": "0d379eed-58d0-426b-ea82-dd2f1e66cf07"
      },
      "source": [
        "# View eigenvalues\n",
        "eigenvalues"
      ],
      "execution_count": 72,
      "outputs": [
        {
          "output_type": "execute_result",
          "data": {
            "text/plain": [
              "array([13.55075847,  0.74003145, -3.29078992])"
            ]
          },
          "metadata": {
            "tags": []
          },
          "execution_count": 72
        }
      ]
    },
    {
      "cell_type": "code",
      "metadata": {
        "id": "ch8fmJJEbLvn",
        "colab_type": "code",
        "colab": {
          "base_uri": "https://localhost:8080/",
          "height": 71
        },
        "outputId": "1813bf59-2c00-4365-dc95-d90e54450799"
      },
      "source": [
        "# View eigenvectors\n",
        "eigenvectors"
      ],
      "execution_count": 73,
      "outputs": [
        {
          "output_type": "execute_result",
          "data": {
            "text/plain": [
              "array([[-0.17622017, -0.96677403, -0.53373322],\n",
              "       [-0.435951  ,  0.2053623 , -0.64324848],\n",
              "       [-0.88254925,  0.15223105,  0.54896288]])"
            ]
          },
          "metadata": {
            "tags": []
          },
          "execution_count": 73
        }
      ]
    },
    {
      "cell_type": "markdown",
      "metadata": {
        "id": "T0i04IoLbSwr",
        "colab_type": "text"
      },
      "source": [
        "### Discussion\n",
        "Eigenvectors are widely used in machine learning libraries. Intuitively, given a linear transformation represented by a matrix, A, eigenvectors are vectors that, when that transformation is applied, change only in scale (not direction). More formally:\n",
        "\n",
        "$$A v = λ v$$\n",
        "\n",
        "where $A$ is a square matrix, $λ$ contains the eigenvalues and $v$ contains the eigenvectors. In NumPy’s linear algebra toolset, eig lets us calculate the eigenvalues, and eigenvectors of any square matrix.\n",
        "\n",
        "### See Also\n",
        "- [Eigenvectors and Eigenvalues Explained Visually, Setosa.io](http://bit.ly/2Hb32LV)\n",
        "\n",
        "- [Eigenvectors and eigenvalues | Essence of linear algebra, Chapter 10](http://bit.ly/2HeGppK)"
      ]
    },
    {
      "cell_type": "markdown",
      "metadata": {
        "id": "pwBcai1Qbpip",
        "colab_type": "text"
      },
      "source": [
        "## 1.17 Calculating Dot Products\n",
        "### Problem\n",
        "You need to calculate the dot product of two vectors.\n",
        "\n",
        "### Solution\n",
        "Use NumPy’s dot:"
      ]
    },
    {
      "cell_type": "code",
      "metadata": {
        "id": "28uXUwcPbOo-",
        "colab_type": "code",
        "colab": {
          "base_uri": "https://localhost:8080/",
          "height": 35
        },
        "outputId": "d6bcbff5-4ca3-4c75-c217-6bdd48cdda2e"
      },
      "source": [
        "# Create two vectors\n",
        "vector_a = np.array([1,2,3])\n",
        "vector_b = np.array([4,5,6])\n",
        "\n",
        "# Calculate dot product\n",
        "np.dot(vector_a, vector_b)"
      ],
      "execution_count": 74,
      "outputs": [
        {
          "output_type": "execute_result",
          "data": {
            "text/plain": [
              "32"
            ]
          },
          "metadata": {
            "tags": []
          },
          "execution_count": 74
        }
      ]
    },
    {
      "cell_type": "markdown",
      "metadata": {
        "id": "M1-MhrcRbwl9",
        "colab_type": "text"
      },
      "source": [
        "### Discussion\n",
        "The dot product of two vectors, a and b, is defined as:\n",
        "\n",
        "$$\n",
        "\\sum_{i=1}^{n} a_i b_i\n",
        "$$\n",
        "\n",
        "where $a_i$ is the ith element of vector a. We can use NumPy’s dot class to calculate the dot product. Alternatively, in Python 3.5+ we can use the new @ operator:"
      ]
    },
    {
      "cell_type": "code",
      "metadata": {
        "id": "23hqL18Nbugl",
        "colab_type": "code",
        "colab": {
          "base_uri": "https://localhost:8080/",
          "height": 35
        },
        "outputId": "e2da0121-c4e5-45cc-f1a6-95dec69746c6"
      },
      "source": [
        "# Calculate dot product\n",
        "vector_a @ vector_b"
      ],
      "execution_count": 75,
      "outputs": [
        {
          "output_type": "execute_result",
          "data": {
            "text/plain": [
              "32"
            ]
          },
          "metadata": {
            "tags": []
          },
          "execution_count": 75
        }
      ]
    },
    {
      "cell_type": "code",
      "metadata": {
        "id": "v44a1yqVcN4X",
        "colab_type": "code",
        "colab": {}
      },
      "source": [
        ""
      ],
      "execution_count": 0,
      "outputs": []
    },
    {
      "cell_type": "markdown",
      "metadata": {
        "id": "AqaTN1IJcRJd",
        "colab_type": "text"
      },
      "source": [
        "### See Also\n",
        "- [Vector dot product and vector length, Khan Academy](http://bit.ly/2Fr0AUe)\n",
        "\n",
        "- [Dot Product, Paul’s Online Math Notes](http://bit.ly/2HgZHLp)"
      ]
    },
    {
      "cell_type": "markdown",
      "metadata": {
        "id": "H79nSDT4cbxg",
        "colab_type": "text"
      },
      "source": [
        "## 1.18 Adding and Subtracting Matrices\n",
        "### Problem\n",
        "You want to add or subtract two matrices.\n",
        "\n",
        "### Solution\n",
        "Use NumPy’s add and subtract:"
      ]
    },
    {
      "cell_type": "code",
      "metadata": {
        "id": "cuJ8v4X9cZNG",
        "colab_type": "code",
        "colab": {
          "base_uri": "https://localhost:8080/",
          "height": 71
        },
        "outputId": "b8871479-70b1-4f14-cb21-7b1303f66b1b"
      },
      "source": [
        "# Create matrix\n",
        "matrix_a = np.array([[1, 1, 1],\n",
        "                     [1, 1, 1],\n",
        "                     [1, 1, 2]])\n",
        "\n",
        "# Create matrix\n",
        "matrix_b = np.array([[1, 3, 1],\n",
        "                     [1, 3, 1],\n",
        "                     [1, 3, 8]])\n",
        "\n",
        "# Add two matrices\n",
        "np.add(matrix_a, matrix_b)"
      ],
      "execution_count": 76,
      "outputs": [
        {
          "output_type": "execute_result",
          "data": {
            "text/plain": [
              "array([[ 2,  4,  2],\n",
              "       [ 2,  4,  2],\n",
              "       [ 2,  4, 10]])"
            ]
          },
          "metadata": {
            "tags": []
          },
          "execution_count": 76
        }
      ]
    },
    {
      "cell_type": "code",
      "metadata": {
        "id": "EI64FeK8chPf",
        "colab_type": "code",
        "colab": {
          "base_uri": "https://localhost:8080/",
          "height": 71
        },
        "outputId": "d78b736e-fb04-4699-a7d9-f0cb9b4bf1eb"
      },
      "source": [
        "# Subtract two matrices\n",
        "np.subtract(matrix_a, matrix_b)"
      ],
      "execution_count": 77,
      "outputs": [
        {
          "output_type": "execute_result",
          "data": {
            "text/plain": [
              "array([[ 0, -2,  0],\n",
              "       [ 0, -2,  0],\n",
              "       [ 0, -2, -6]])"
            ]
          },
          "metadata": {
            "tags": []
          },
          "execution_count": 77
        }
      ]
    },
    {
      "cell_type": "markdown",
      "metadata": {
        "id": "jDNsIfJTcnMh",
        "colab_type": "text"
      },
      "source": [
        "### Discussion\n",
        "Alternatively, we can simply use the + and - operators:"
      ]
    },
    {
      "cell_type": "code",
      "metadata": {
        "id": "8FlSbKNacisY",
        "colab_type": "code",
        "colab": {
          "base_uri": "https://localhost:8080/",
          "height": 71
        },
        "outputId": "f3bf10ca-ffcc-4541-a049-0c08d6586a3f"
      },
      "source": [
        "# Add two matrices\n",
        "matrix_a + matrix_b"
      ],
      "execution_count": 79,
      "outputs": [
        {
          "output_type": "execute_result",
          "data": {
            "text/plain": [
              "array([[ 2,  4,  2],\n",
              "       [ 2,  4,  2],\n",
              "       [ 2,  4, 10]])"
            ]
          },
          "metadata": {
            "tags": []
          },
          "execution_count": 79
        }
      ]
    },
    {
      "cell_type": "markdown",
      "metadata": {
        "id": "GS3nhwJLcvbs",
        "colab_type": "text"
      },
      "source": [
        "## 1.19 Multiplying Matrices\n",
        "### Problem\n",
        "You want to multiply two matrices.\n",
        "\n",
        "### Solution\n",
        "Use NumPy’s dot:"
      ]
    },
    {
      "cell_type": "code",
      "metadata": {
        "id": "fF-7zMcAcllK",
        "colab_type": "code",
        "colab": {
          "base_uri": "https://localhost:8080/",
          "height": 53
        },
        "outputId": "7b8c3884-4a59-42e4-ce92-21028ec26c64"
      },
      "source": [
        "# Create matrix\n",
        "matrix_a = np.array([[1, 1],\n",
        "                     [1, 2]])\n",
        "\n",
        "# Create matrix\n",
        "matrix_b = np.array([[1, 3],\n",
        "                     [1, 2]])\n",
        "\n",
        "# Multiply two matrices\n",
        "np.dot(matrix_a, matrix_b)"
      ],
      "execution_count": 80,
      "outputs": [
        {
          "output_type": "execute_result",
          "data": {
            "text/plain": [
              "array([[2, 5],\n",
              "       [3, 7]])"
            ]
          },
          "metadata": {
            "tags": []
          },
          "execution_count": 80
        }
      ]
    },
    {
      "cell_type": "code",
      "metadata": {
        "id": "Zpn0NQGUc0ry",
        "colab_type": "code",
        "colab": {}
      },
      "source": [
        ""
      ],
      "execution_count": 0,
      "outputs": []
    },
    {
      "cell_type": "markdown",
      "metadata": {
        "id": "gQlgFJILc2fv",
        "colab_type": "text"
      },
      "source": [
        "Discussion\n",
        "Alternatively, in Python 3.5+ we can use the @ operator:"
      ]
    },
    {
      "cell_type": "code",
      "metadata": {
        "id": "tWCYlLFzc3ah",
        "colab_type": "code",
        "colab": {
          "base_uri": "https://localhost:8080/",
          "height": 53
        },
        "outputId": "91714401-abd7-4c19-f43c-f2990be709b6"
      },
      "source": [
        "# Multiply two matrices\n",
        "matrix_a @ matrix_b"
      ],
      "execution_count": 81,
      "outputs": [
        {
          "output_type": "execute_result",
          "data": {
            "text/plain": [
              "array([[2, 5],\n",
              "       [3, 7]])"
            ]
          },
          "metadata": {
            "tags": []
          },
          "execution_count": 81
        }
      ]
    },
    {
      "cell_type": "markdown",
      "metadata": {
        "id": "D73onYLlc_1y",
        "colab_type": "text"
      },
      "source": [
        "If we want to do element-wise multiplication, we can use the * operator:"
      ]
    },
    {
      "cell_type": "code",
      "metadata": {
        "id": "4b7q9yKuc5Br",
        "colab_type": "code",
        "colab": {
          "base_uri": "https://localhost:8080/",
          "height": 53
        },
        "outputId": "d78a89c9-cc82-400b-af43-6974ae43354b"
      },
      "source": [
        "# Multiply two matrices element-wise\n",
        "matrix_a * matrix_b"
      ],
      "execution_count": 82,
      "outputs": [
        {
          "output_type": "execute_result",
          "data": {
            "text/plain": [
              "array([[1, 3],\n",
              "       [1, 4]])"
            ]
          },
          "metadata": {
            "tags": []
          },
          "execution_count": 82
        }
      ]
    },
    {
      "cell_type": "markdown",
      "metadata": {
        "id": "KexDUw0fdDoI",
        "colab_type": "text"
      },
      "source": [
        "### See Also\n",
        "- [Array vs. Matrix Operations, MathWorks](http://bit.ly/2FtpXVr)"
      ]
    },
    {
      "cell_type": "markdown",
      "metadata": {
        "id": "FPJS0ViKdJuo",
        "colab_type": "text"
      },
      "source": [
        "## 1.20 Inverting a Matrix\n",
        "### Problem\n",
        "You want to calculate the inverse of a square matrix.\n",
        "\n",
        "### Solution\n",
        "Use NumPy’s linear algebra inv method:"
      ]
    },
    {
      "cell_type": "code",
      "metadata": {
        "id": "4AcUR8sddB8N",
        "colab_type": "code",
        "colab": {
          "base_uri": "https://localhost:8080/",
          "height": 53
        },
        "outputId": "fa42a026-1d48-4a26-d664-27949df58cd2"
      },
      "source": [
        "# Create matrix\n",
        "matrix = np.array([[1, 4],\n",
        "                   [2, 5]])\n",
        "\n",
        "# Calculate inverse of matrix\n",
        "np.linalg.inv(matrix)"
      ],
      "execution_count": 83,
      "outputs": [
        {
          "output_type": "execute_result",
          "data": {
            "text/plain": [
              "array([[-1.66666667,  1.33333333],\n",
              "       [ 0.66666667, -0.33333333]])"
            ]
          },
          "metadata": {
            "tags": []
          },
          "execution_count": 83
        }
      ]
    },
    {
      "cell_type": "markdown",
      "metadata": {
        "id": "HEHeh1NTdRM3",
        "colab_type": "text"
      },
      "source": [
        "### Discussion\n",
        "The inverse of a square matrix, $A$, is a second matrix $A^{–1}$, such that:\n",
        "\n",
        "$$A A^{-1} = I$$\n",
        "\n",
        "where $I$ is the identity matrix. In NumPy we can use linalg.inv to calculate $A^{–1}$ if it exists. To see this in action, we can multiply a matrix by its inverse and the result is the identity matrix:"
      ]
    },
    {
      "cell_type": "code",
      "metadata": {
        "id": "Ea5zIeUDdOMs",
        "colab_type": "code",
        "colab": {
          "base_uri": "https://localhost:8080/",
          "height": 53
        },
        "outputId": "76291f5e-6d55-4338-b3dd-a1a23574c8a0"
      },
      "source": [
        "# Multiply matrix and its inverse\n",
        "matrix @ np.linalg.inv(matrix)"
      ],
      "execution_count": 84,
      "outputs": [
        {
          "output_type": "execute_result",
          "data": {
            "text/plain": [
              "array([[1.00000000e+00, 0.00000000e+00],\n",
              "       [1.11022302e-16, 1.00000000e+00]])"
            ]
          },
          "metadata": {
            "tags": []
          },
          "execution_count": 84
        }
      ]
    },
    {
      "cell_type": "markdown",
      "metadata": {
        "id": "keGEH9dMdp3M",
        "colab_type": "text"
      },
      "source": [
        "### See Also\n",
        "- [Inverse of a Matrix](http://bit.ly/2Fzf0BS)"
      ]
    },
    {
      "cell_type": "markdown",
      "metadata": {
        "id": "rdY6AIKzdwKM",
        "colab_type": "text"
      },
      "source": [
        "## 1.21 Generating Random Values\n",
        "### Problem\n",
        "You want to generate pseudorandom values.\n",
        "\n",
        "### Solution\n",
        "Use NumPy’s random:"
      ]
    },
    {
      "cell_type": "code",
      "metadata": {
        "id": "DgMWbBA6dnzg",
        "colab_type": "code",
        "colab": {
          "base_uri": "https://localhost:8080/",
          "height": 35
        },
        "outputId": "1f6eb34c-5754-4dec-e6fa-10e64fbfe020"
      },
      "source": [
        "# Set seed\n",
        "np.random.seed(0)\n",
        "\n",
        "# Generate three random floats between 0.0 and 1.0\n",
        "np.random.random(3)"
      ],
      "execution_count": 85,
      "outputs": [
        {
          "output_type": "execute_result",
          "data": {
            "text/plain": [
              "array([0.5488135 , 0.71518937, 0.60276338])"
            ]
          },
          "metadata": {
            "tags": []
          },
          "execution_count": 85
        }
      ]
    },
    {
      "cell_type": "markdown",
      "metadata": {
        "id": "u1WfLXA3d2Vv",
        "colab_type": "text"
      },
      "source": [
        "### Discussion\n",
        "NumPy offers a wide variety of means to generate random numbers, many more than can be covered here. In our solution we generated floats; however, it is also common to generate integers:"
      ]
    },
    {
      "cell_type": "code",
      "metadata": {
        "id": "p10FVv6Ed0Td",
        "colab_type": "code",
        "colab": {
          "base_uri": "https://localhost:8080/",
          "height": 35
        },
        "outputId": "3e6b1275-7229-4a6c-ce66-50b66a8efe38"
      },
      "source": [
        "# Generate three random integers between 1 and 10\n",
        "np.random.randint(0, 11, 3)"
      ],
      "execution_count": 86,
      "outputs": [
        {
          "output_type": "execute_result",
          "data": {
            "text/plain": [
              "array([3, 7, 9])"
            ]
          },
          "metadata": {
            "tags": []
          },
          "execution_count": 86
        }
      ]
    },
    {
      "cell_type": "markdown",
      "metadata": {
        "id": "BkPk-cFid7-C",
        "colab_type": "text"
      },
      "source": [
        "Alternatively, we can generate numbers by drawing them from a distribution:"
      ]
    },
    {
      "cell_type": "code",
      "metadata": {
        "id": "n-0BHgIod883",
        "colab_type": "code",
        "colab": {
          "base_uri": "https://localhost:8080/",
          "height": 35
        },
        "outputId": "78f1fc1a-9a1f-41a7-f2dd-ca1eeab404bf"
      },
      "source": [
        "# Draw three numbers from a normal distribution with mean 0.0\n",
        "# and standard deviation of 1.0\n",
        "np.random.normal(0.0, 1.0, 3)"
      ],
      "execution_count": 88,
      "outputs": [
        {
          "output_type": "execute_result",
          "data": {
            "text/plain": [
              "array([-1.42232584,  1.52006949, -0.29139398])"
            ]
          },
          "metadata": {
            "tags": []
          },
          "execution_count": 88
        }
      ]
    },
    {
      "cell_type": "code",
      "metadata": {
        "id": "tkSdB0Bkd6W_",
        "colab_type": "code",
        "colab": {
          "base_uri": "https://localhost:8080/",
          "height": 35
        },
        "outputId": "9941ea98-2f12-46cd-cdfc-84518eb7fa90"
      },
      "source": [
        "# Draw three numbers from a logistic distribution with mean 0.0 and scale of 1.0\n",
        "np.random.logistic(0.0, 1.0, 3)"
      ],
      "execution_count": 89,
      "outputs": [
        {
          "output_type": "execute_result",
          "data": {
            "text/plain": [
              "array([-0.98118713, -0.08939902,  1.46416405])"
            ]
          },
          "metadata": {
            "tags": []
          },
          "execution_count": 89
        }
      ]
    },
    {
      "cell_type": "code",
      "metadata": {
        "id": "2jNcjhgpeEbV",
        "colab_type": "code",
        "colab": {
          "base_uri": "https://localhost:8080/",
          "height": 35
        },
        "outputId": "65581e31-801c-40db-a221-81610733d9d2"
      },
      "source": [
        "# Draw three numbers greater than or equal to 1.0 and less than 2.0\n",
        "np.random.uniform(1.0, 2.0, 3)"
      ],
      "execution_count": 90,
      "outputs": [
        {
          "output_type": "execute_result",
          "data": {
            "text/plain": [
              "array([1.47997717, 1.3927848 , 1.83607876])"
            ]
          },
          "metadata": {
            "tags": []
          },
          "execution_count": 90
        }
      ]
    },
    {
      "cell_type": "markdown",
      "metadata": {
        "id": "Q69N1__deKGf",
        "colab_type": "text"
      },
      "source": [
        "## Setting the random seed\n",
        "\n",
        "Finally, it can sometimes be useful to return the same random numbers multiple times to get predictable, repeatable results. We can do this by setting the “seed” (an integer) of the pseudorandom generator. Random processes with the same seed will always produce the same output. \n",
        "\n"
      ]
    },
    {
      "cell_type": "markdown",
      "metadata": {
        "id": "cRbNJN8ceb1R",
        "colab_type": "text"
      },
      "source": [
        "### End of notebook."
      ]
    }
  ]
}