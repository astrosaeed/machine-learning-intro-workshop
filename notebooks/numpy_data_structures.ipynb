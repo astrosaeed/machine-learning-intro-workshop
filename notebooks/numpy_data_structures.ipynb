{
  "nbformat": 4,
  "nbformat_minor": 0,
  "metadata": {
    "colab": {
      "name": "numpy_data_structures.ipynb",
      "version": "0.3.2",
      "provenance": [],
      "include_colab_link": true
    },
    "kernelspec": {
      "name": "python3",
      "display_name": "Python 3"
    }
  },
  "cells": [
    {
      "cell_type": "markdown",
      "metadata": {
        "id": "view-in-github",
        "colab_type": "text"
      },
      "source": [
        "<a href=\"https://colab.research.google.com/github/jfogarty/machine-learning-intro-workshop/blob/master/notebooks/numpy_data_structures.ipynb\" target=\"_parent\"><img src=\"https://colab.research.google.com/assets/colab-badge.svg\" alt=\"Open In Colab\"/></a>"
      ]
    },
    {
      "cell_type": "code",
      "metadata": {
        "id": "n-gVo6OfplhJ",
        "colab_type": "code",
        "colab": {}
      },
      "source": [
        ""
      ],
      "execution_count": 0,
      "outputs": []
    },
    {
      "cell_type": "markdown",
      "metadata": {
        "id": "MNRniHbHppOb",
        "colab_type": "text"
      },
      "source": [
        "# NumPy Vectors, Matrices, and Arrays\n",
        "\n",
        "- From [Machine Learning with Python Cookbook](https://www.oreilly.com/library/view/machine-learning-with/9781491989371/ch01.html) by [Chris Albon](https://chrisalbon.com/) [[Github/notes](https://github.com/chrisalbon/notes)], published by [O'Reilly Safari](https://www.oreilly.com).\n",
        "\n",
        "Updated by [John Fogarty](https://github.com/jfogarty) for Python 3.6 and [Base2 MLI](https://github.com/base2solutions/mli).\n"
      ]
    },
    {
      "cell_type": "markdown",
      "metadata": {
        "id": "rcjEgEshp2Z0",
        "colab_type": "text"
      },
      "source": [
        "## \n",
        "1.0 Introduction\n",
        "\n",
        "NumPy is the foundation of the Python machine learning stack. NumPy allows for efficient operations on the data structures often used in machine learning: vectors, matrices, and tensors. While NumPy is not the focus of this book, it will show up frequently throughout the following chapters. This chapter covers the most common NumPy operations we are likely to run into while working on machine learning workflows."
      ]
    },
    {
      "cell_type": "markdown",
      "metadata": {
        "id": "VRIx-DOkH5Us",
        "colab_type": "text"
      },
      "source": [
        "## 1.1 Creating a Vector\n",
        "### Problem\n",
        "You need to create a vector.\n",
        "\n",
        "### Solution\n",
        "Use NumPy to create a one-dimensional array:"
      ]
    },
    {
      "cell_type": "code",
      "metadata": {
        "id": "QGCpxcaIH-5H",
        "colab_type": "code",
        "colab": {}
      },
      "source": [
        "# Load library\n",
        "import numpy as np\n",
        "\n",
        "# Create a vector as a row\n",
        "vector_row = np.array([1, 2, 3])\n",
        "\n",
        "# Create a vector as a column\n",
        "vector_column = np.array([[1],\n",
        "                          [2],\n",
        "                          [3]])"
      ],
      "execution_count": 0,
      "outputs": []
    },
    {
      "cell_type": "markdown",
      "metadata": {
        "id": "DKsbYPhfIGYr",
        "colab_type": "text"
      },
      "source": [
        "### Discussion\n",
        "\n",
        "NumPy’s main data structure is the multidimensional array. To create a vector, we simply create a one-dimensional array. Just like vectors, these arrays can be represented horizontally (i.e., rows) or vertically (i.e., columns).\n",
        "\n",
        "### See Also\n",
        "- [Vectors, Math Is Fun](http://bit.ly/2FB5q1v)\n",
        "\n",
        "- [Euclidean vector, Wikipedia](http://bit.ly/2FtnRoL)\n"
      ]
    },
    {
      "cell_type": "markdown",
      "metadata": {
        "id": "YRVQuCBpIXX4",
        "colab_type": "text"
      },
      "source": [
        "## 1.2 Creating a Matrix\n",
        "### Problem\n",
        "You need to create a matrix.\n",
        "\n",
        "### Solution\n",
        "Use NumPy to create a two-dimensional array:"
      ]
    },
    {
      "cell_type": "code",
      "metadata": {
        "id": "1D9ryZrLIXxQ",
        "colab_type": "code",
        "colab": {}
      },
      "source": [
        "# Create a matrix\n",
        "matrix = np.array([[1, 2],\n",
        "                   [1, 2],\n",
        "                   [1, 2]])"
      ],
      "execution_count": 0,
      "outputs": []
    },
    {
      "cell_type": "markdown",
      "metadata": {
        "id": "RZavXMedIYBX",
        "colab_type": "text"
      },
      "source": [
        "### Discussion\n",
        "To create a matrix we can use a NumPy two-dimensional array. In our solution, the matrix contains three rows and two columns (a column of 1s and a column of 2s).\n",
        "\n",
        "NumPy actually has a dedicated matrix data structure:"
      ]
    },
    {
      "cell_type": "code",
      "metadata": {
        "id": "0uWt5kNVH9N3",
        "colab_type": "code",
        "colab": {
          "base_uri": "https://localhost:8080/",
          "height": 71
        },
        "outputId": "6233c210-27d9-44d2-9a82-f5f4fc1d6ae1"
      },
      "source": [
        "matrix_object = np.mat([[1, 2],\n",
        "                        [1, 2],\n",
        "                        [1, 2]])\n",
        "matrix_object"
      ],
      "execution_count": 4,
      "outputs": [
        {
          "output_type": "execute_result",
          "data": {
            "text/plain": [
              "matrix([[1, 2],\n",
              "        [1, 2],\n",
              "        [1, 2]])"
            ]
          },
          "metadata": {
            "tags": []
          },
          "execution_count": 4
        }
      ]
    },
    {
      "cell_type": "markdown",
      "metadata": {
        "id": "DCXsjYdXJAHW",
        "colab_type": "text"
      },
      "source": [
        "However, the matrix data structure is **not recommended** for two reasons. First, arrays are the de facto standard data structure of NumPy. Second, the vast majority of NumPy operations return arrays, not matrix objects.\n",
        "\n",
        "### See Also\n",
        "- [Matrix, Wikipedia](http://bit.ly/2Ftnevp)\n",
        "\n",
        "- [Matrix, Wolfram MathWorld](http://bit.ly/2Fut7IJ)"
      ]
    },
    {
      "cell_type": "markdown",
      "metadata": {
        "id": "IvO4q41MJS9i",
        "colab_type": "text"
      },
      "source": [
        "## 1.3 Creating a Sparse Matrix\n",
        "### Problem\n",
        "Given data with very few nonzero values, you want to efficiently represent it.\n",
        "\n",
        "### Solution\n",
        "Create a sparse matrix:"
      ]
    },
    {
      "cell_type": "code",
      "metadata": {
        "id": "TzoTR1VPJTJI",
        "colab_type": "code",
        "colab": {}
      },
      "source": [
        "# Load libraries\n",
        "from scipy import sparse\n",
        "\n",
        "# Create a matrix\n",
        "matrix = np.array([[0, 0],\n",
        "                   [0, 1],\n",
        "                   [3, 0]])\n",
        "\n",
        "# Create compressed sparse row (CSR) matrix\n",
        "matrix_sparse = sparse.csr_matrix(matrix)"
      ],
      "execution_count": 0,
      "outputs": []
    },
    {
      "cell_type": "markdown",
      "metadata": {
        "id": "andNKe18JTTi",
        "colab_type": "text"
      },
      "source": [
        "### Discussion\n",
        "A frequent situation in machine learning is having a huge amount of data; however, most of the elements in the data are zeros. For example, imagine a matrix where the columns are every movie on Netflix, the rows are every Netflix user, and the values are how many times a user has watched that particular movie. This matrix would have tens of thousands of columns and millions of rows! However, since most users do not watch most movies, the vast majority of elements would be zero.\n",
        "\n",
        "Sparse matrices only store nonzero elements and assume all other values will be zero, leading to significant computational savings. In our solution, we created a NumPy array with two nonzero values, then converted it into a sparse matrix. If we view the sparse matrix we can see that only the nonzero values are stored:"
      ]
    },
    {
      "cell_type": "code",
      "metadata": {
        "id": "cgKvFjnqI1IG",
        "colab_type": "code",
        "colab": {
          "base_uri": "https://localhost:8080/",
          "height": 53
        },
        "outputId": "b2b5a9e7-a46d-4954-f24b-45d5f2692edd"
      },
      "source": [
        "# View sparse matrix\n",
        "print(matrix_sparse)"
      ],
      "execution_count": 6,
      "outputs": [
        {
          "output_type": "stream",
          "text": [
            "  (1, 1)\t1\n",
            "  (2, 0)\t3\n"
          ],
          "name": "stdout"
        }
      ]
    },
    {
      "cell_type": "markdown",
      "metadata": {
        "id": "qjkSSvtqJn6g",
        "colab_type": "text"
      },
      "source": [
        "There are a number of types of sparse matrices. However, in *compressed sparse row* (CSR) matrices, (1, 1) and (2, 0) represent the (zero-indexed) indices of the non-zero values 1 and 3, respectively. For example, the element 1 is in the second row and second column. We can see the advantage of sparse matrices if we create a much larger matrix with many more zero elements and then compare this larger matrix with our original sparse matrix:"
      ]
    },
    {
      "cell_type": "code",
      "metadata": {
        "id": "PkSTTH2fJj_M",
        "colab_type": "code",
        "colab": {
          "base_uri": "https://localhost:8080/",
          "height": 53
        },
        "outputId": "9dc13cd9-fcf6-454c-d30d-987861124920"
      },
      "source": [
        "# Create larger matrix\n",
        "matrix_large = np.array([[0, 0, 0, 0, 0, 0, 0, 0, 0, 0],\n",
        "                         [0, 1, 0, 0, 0, 0, 0, 0, 0, 0],\n",
        "                         [3, 0, 0, 0, 0, 0, 0, 0, 0, 0]])\n",
        "\n",
        "# Create compressed sparse row (CSR) matrix\n",
        "matrix_large_sparse = sparse.csr_matrix(matrix_large)\n",
        "\n",
        "# View original sparse matrix\n",
        "print(matrix_sparse)"
      ],
      "execution_count": 7,
      "outputs": [
        {
          "output_type": "stream",
          "text": [
            "  (1, 1)\t1\n",
            "  (2, 0)\t3\n"
          ],
          "name": "stdout"
        }
      ]
    },
    {
      "cell_type": "code",
      "metadata": {
        "id": "nqqGXfiIJxjF",
        "colab_type": "code",
        "colab": {
          "base_uri": "https://localhost:8080/",
          "height": 53
        },
        "outputId": "02b3144f-47bb-4379-92b7-d297e8bc4ac0"
      },
      "source": [
        "# View larger sparse matrix\n",
        "print(matrix_large_sparse)"
      ],
      "execution_count": 8,
      "outputs": [
        {
          "output_type": "stream",
          "text": [
            "  (1, 1)\t1\n",
            "  (2, 0)\t3\n"
          ],
          "name": "stdout"
        }
      ]
    },
    {
      "cell_type": "markdown",
      "metadata": {
        "id": "4USdNvXYJ3ss",
        "colab_type": "text"
      },
      "source": [
        "As we can see, despite the fact that we added many more zero elements in the larger matrix, its sparse representation is exactly the same as our original sparse matrix. That is, the addition of zero elements did not change the size of the sparse matrix.\n",
        "\n",
        "As mentioned, there are many different types of sparse matrices, such as compressed sparse column, list of lists, and dictionary of keys. While an explanation of the different types and their implications is outside the scope of this book, it is worth noting that while there is no “best” sparse matrix type, there are meaningful differences between them and we should be conscious about why we are choosing one type over another.\n",
        "\n",
        "### See Also\n",
        "- [Sparse matrices, SciPy documentation](http://bit.ly/2HReBZR)\n",
        "\n",
        "- [101 Ways to Store a Sparse Matrix](http://bit.ly/2HS43cI)"
      ]
    },
    {
      "cell_type": "markdown",
      "metadata": {
        "id": "a3L8Mp4KMYQp",
        "colab_type": "text"
      },
      "source": [
        "## 1.4 Selecting Elements\n",
        "### Problem\n",
        "You need to select one or more elements in a vector or matrix.\n",
        "\n",
        "### Solution\n",
        "NumPy’s arrays make that easy:"
      ]
    },
    {
      "cell_type": "code",
      "metadata": {
        "id": "E4tGWS6dJz19",
        "colab_type": "code",
        "colab": {
          "base_uri": "https://localhost:8080/",
          "height": 35
        },
        "outputId": "747ea91f-251f-456e-d72d-f3c83cf80ad9"
      },
      "source": [
        "# Create row vector\n",
        "vector = np.array([1, 2, 3, 4, 5, 6])\n",
        "\n",
        "# Create matrix\n",
        "matrix = np.array([[1, 2, 3],\n",
        "                   [4, 5, 6],\n",
        "                   [7, 8, 9]])\n",
        "\n",
        "# Select third element of vector\n",
        "vector[2]"
      ],
      "execution_count": 9,
      "outputs": [
        {
          "output_type": "execute_result",
          "data": {
            "text/plain": [
              "3"
            ]
          },
          "metadata": {
            "tags": []
          },
          "execution_count": 9
        }
      ]
    },
    {
      "cell_type": "code",
      "metadata": {
        "id": "__eEH_cUMcMG",
        "colab_type": "code",
        "colab": {
          "base_uri": "https://localhost:8080/",
          "height": 35
        },
        "outputId": "07399c6a-6a01-482d-cf92-e3c71a89e5fd"
      },
      "source": [
        "# Select second row, second column\n",
        "matrix[1,1]"
      ],
      "execution_count": 10,
      "outputs": [
        {
          "output_type": "execute_result",
          "data": {
            "text/plain": [
              "5"
            ]
          },
          "metadata": {
            "tags": []
          },
          "execution_count": 10
        }
      ]
    },
    {
      "cell_type": "markdown",
      "metadata": {
        "id": "8tr73fIQMifK",
        "colab_type": "text"
      },
      "source": [
        "### Discussion\n",
        "Like most things in Python, NumPy arrays are zero-indexed, meaning that the index of the first element is 0, not 1. With that caveat, NumPy offers a wide variety of methods for selecting (i.e., indexing and slicing) elements or groups of elements in arrays:"
      ]
    },
    {
      "cell_type": "code",
      "metadata": {
        "id": "_6DfmZtBMgpD",
        "colab_type": "code",
        "colab": {
          "base_uri": "https://localhost:8080/",
          "height": 35
        },
        "outputId": "b4d0a8a2-4fa5-4185-856c-a5d00cbce568"
      },
      "source": [
        "# Select all elements of a vector\n",
        "vector[:]"
      ],
      "execution_count": 11,
      "outputs": [
        {
          "output_type": "execute_result",
          "data": {
            "text/plain": [
              "array([1, 2, 3, 4, 5, 6])"
            ]
          },
          "metadata": {
            "tags": []
          },
          "execution_count": 11
        }
      ]
    },
    {
      "cell_type": "code",
      "metadata": {
        "id": "9gM2tzDbMm5H",
        "colab_type": "code",
        "colab": {
          "base_uri": "https://localhost:8080/",
          "height": 35
        },
        "outputId": "715a15a2-27c5-4f37-e8ac-79864c59122c"
      },
      "source": [
        "# Select everything up to and including the third element\n",
        "vector[:3]"
      ],
      "execution_count": 12,
      "outputs": [
        {
          "output_type": "execute_result",
          "data": {
            "text/plain": [
              "array([1, 2, 3])"
            ]
          },
          "metadata": {
            "tags": []
          },
          "execution_count": 12
        }
      ]
    },
    {
      "cell_type": "code",
      "metadata": {
        "id": "v3dZ895CMpcW",
        "colab_type": "code",
        "colab": {
          "base_uri": "https://localhost:8080/",
          "height": 35
        },
        "outputId": "ff73700e-6632-48f5-c580-fb45ee735a7f"
      },
      "source": [
        "# Select everything after the third element\n",
        "vector[3:]"
      ],
      "execution_count": 13,
      "outputs": [
        {
          "output_type": "execute_result",
          "data": {
            "text/plain": [
              "array([4, 5, 6])"
            ]
          },
          "metadata": {
            "tags": []
          },
          "execution_count": 13
        }
      ]
    },
    {
      "cell_type": "code",
      "metadata": {
        "id": "pwvUGNvPMrWO",
        "colab_type": "code",
        "colab": {
          "base_uri": "https://localhost:8080/",
          "height": 35
        },
        "outputId": "aaca306a-a4bd-4d29-b814-9862d4b9c43b"
      },
      "source": [
        "# Select the last element\n",
        "vector[-1]"
      ],
      "execution_count": 14,
      "outputs": [
        {
          "output_type": "execute_result",
          "data": {
            "text/plain": [
              "6"
            ]
          },
          "metadata": {
            "tags": []
          },
          "execution_count": 14
        }
      ]
    },
    {
      "cell_type": "code",
      "metadata": {
        "id": "PzoDmkAPMtdk",
        "colab_type": "code",
        "colab": {
          "base_uri": "https://localhost:8080/",
          "height": 53
        },
        "outputId": "24a34914-774b-4263-b389-db8acfd97ab4"
      },
      "source": [
        "# Select the first two rows and all columns of a matrix\n",
        "matrix[:2,:]"
      ],
      "execution_count": 15,
      "outputs": [
        {
          "output_type": "execute_result",
          "data": {
            "text/plain": [
              "array([[1, 2, 3],\n",
              "       [4, 5, 6]])"
            ]
          },
          "metadata": {
            "tags": []
          },
          "execution_count": 15
        }
      ]
    },
    {
      "cell_type": "code",
      "metadata": {
        "id": "7bQzVmWLMxrv",
        "colab_type": "code",
        "colab": {
          "base_uri": "https://localhost:8080/",
          "height": 71
        },
        "outputId": "7fa2108d-1b5e-4767-c581-c1f5330d3294"
      },
      "source": [
        "# Select all rows and the second column\n",
        "matrix[:,1:2]"
      ],
      "execution_count": 16,
      "outputs": [
        {
          "output_type": "execute_result",
          "data": {
            "text/plain": [
              "array([[2],\n",
              "       [5],\n",
              "       [8]])"
            ]
          },
          "metadata": {
            "tags": []
          },
          "execution_count": 16
        }
      ]
    },
    {
      "cell_type": "markdown",
      "metadata": {
        "id": "ZyYWDikIM2PC",
        "colab_type": "text"
      },
      "source": [
        "## 1.5 Describing a Matrix\n",
        "### Problem\n",
        "You want to describe the shape, size, and dimensions of the matrix.\n",
        "\n",
        "### Solution\n",
        "Use shape, size, and ndim:"
      ]
    },
    {
      "cell_type": "code",
      "metadata": {
        "id": "is6Zyo5gMzNG",
        "colab_type": "code",
        "colab": {
          "base_uri": "https://localhost:8080/",
          "height": 35
        },
        "outputId": "e0b228cd-e7d0-494f-8c23-ebae80ccc68c"
      },
      "source": [
        "# Create matrix\n",
        "matrix = np.array([[1, 2, 3, 4],\n",
        "                   [5, 6, 7, 8],\n",
        "                   [9, 10, 11, 12]])\n",
        "\n",
        "# View number of rows and columns\n",
        "matrix.shape"
      ],
      "execution_count": 17,
      "outputs": [
        {
          "output_type": "execute_result",
          "data": {
            "text/plain": [
              "(3, 4)"
            ]
          },
          "metadata": {
            "tags": []
          },
          "execution_count": 17
        }
      ]
    },
    {
      "cell_type": "code",
      "metadata": {
        "id": "TPUMJpRZM7O2",
        "colab_type": "code",
        "colab": {
          "base_uri": "https://localhost:8080/",
          "height": 35
        },
        "outputId": "e611d07e-e238-4d2b-9c32-45298df132cd"
      },
      "source": [
        "# View number of elements (rows * columns)\n",
        "matrix.size"
      ],
      "execution_count": 18,
      "outputs": [
        {
          "output_type": "execute_result",
          "data": {
            "text/plain": [
              "12"
            ]
          },
          "metadata": {
            "tags": []
          },
          "execution_count": 18
        }
      ]
    },
    {
      "cell_type": "code",
      "metadata": {
        "id": "P8WLBMVsM9CS",
        "colab_type": "code",
        "colab": {
          "base_uri": "https://localhost:8080/",
          "height": 35
        },
        "outputId": "b8703b72-501c-484b-c9e2-c8429c45a644"
      },
      "source": [
        "# View number of dimensions\n",
        "matrix.ndim"
      ],
      "execution_count": 19,
      "outputs": [
        {
          "output_type": "execute_result",
          "data": {
            "text/plain": [
              "2"
            ]
          },
          "metadata": {
            "tags": []
          },
          "execution_count": 19
        }
      ]
    },
    {
      "cell_type": "markdown",
      "metadata": {
        "id": "lhfMzRRINCye",
        "colab_type": "text"
      },
      "source": [
        "Discussion\n",
        "This might seem basic (and it is); however, time and again it will be valuable to check the shape and size of an array both for further calculations and simply as a gut check after some operation."
      ]
    },
    {
      "cell_type": "markdown",
      "metadata": {
        "id": "rUsmiyS0NDx2",
        "colab_type": "text"
      },
      "source": [
        "## 1.6 Applying Operations to Elements\n",
        "### Problem\n",
        "You want to apply some function to multiple elements in an array.\n",
        "\n",
        "### Solution\n",
        "Use NumPy’s vectorize:"
      ]
    },
    {
      "cell_type": "code",
      "metadata": {
        "id": "37Y3b2EvM_nd",
        "colab_type": "code",
        "colab": {
          "base_uri": "https://localhost:8080/",
          "height": 71
        },
        "outputId": "f38b2c08-8407-4d27-e239-3d242aaab11f"
      },
      "source": [
        "# Create matrix\n",
        "matrix = np.array([[1, 2, 3],\n",
        "                   [4, 5, 6],\n",
        "                   [7, 8, 9]])\n",
        "\n",
        "# Create function that adds 100 to something\n",
        "add_100 = lambda i: i + 100\n",
        "\n",
        "# Create vectorized function\n",
        "vectorized_add_100 = np.vectorize(add_100)\n",
        "\n",
        "# Apply function to all elements in matrix\n",
        "vectorized_add_100(matrix)"
      ],
      "execution_count": 20,
      "outputs": [
        {
          "output_type": "execute_result",
          "data": {
            "text/plain": [
              "array([[101, 102, 103],\n",
              "       [104, 105, 106],\n",
              "       [107, 108, 109]])"
            ]
          },
          "metadata": {
            "tags": []
          },
          "execution_count": 20
        }
      ]
    },
    {
      "cell_type": "markdown",
      "metadata": {
        "id": "VLp4IPyVOk5I",
        "colab_type": "text"
      },
      "source": [
        "### Discussion\n",
        "NumPy’s vectorize class converts a function into a function that can apply to all elements in an array or slice of an array. It’s worth noting that vectorize is essentially a for loop over the elements and does not increase performance. Furthermore, NumPy arrays allow us to perform operations between arrays even if their dimensions are not the same (a process called broadcasting). For example, we can create a much simpler version of our solution using broadcasting:"
      ]
    },
    {
      "cell_type": "code",
      "metadata": {
        "id": "zfHXuc33Ott6",
        "colab_type": "code",
        "colab": {
          "base_uri": "https://localhost:8080/",
          "height": 71
        },
        "outputId": "9b2d0e79-a700-4720-e103-998f2e349745"
      },
      "source": [
        "# Add 100 to all elements\n",
        "matrix + 100"
      ],
      "execution_count": 21,
      "outputs": [
        {
          "output_type": "execute_result",
          "data": {
            "text/plain": [
              "array([[101, 102, 103],\n",
              "       [104, 105, 106],\n",
              "       [107, 108, 109]])"
            ]
          },
          "metadata": {
            "tags": []
          },
          "execution_count": 21
        }
      ]
    },
    {
      "cell_type": "markdown",
      "metadata": {
        "id": "e7uIZMYYOpnG",
        "colab_type": "text"
      },
      "source": [
        "## 1.7 Finding the Maximum and Minimum Values\n",
        "### Problem\n",
        "You need to find the maximum or minimum value in an array.\n",
        "\n",
        "### Solution\n",
        "Use NumPy’s max and min:"
      ]
    },
    {
      "cell_type": "code",
      "metadata": {
        "id": "2QlloRs1OiIZ",
        "colab_type": "code",
        "colab": {
          "base_uri": "https://localhost:8080/",
          "height": 35
        },
        "outputId": "192e339c-5dfa-4cde-a1cb-07c97370514e"
      },
      "source": [
        "# Create matrix\n",
        "matrix = np.array([[1, 2, 3],\n",
        "                   [4, 5, 6],\n",
        "                   [7, 8, 9]])\n",
        "\n",
        "# Return maximum element\n",
        "np.max(matrix)"
      ],
      "execution_count": 22,
      "outputs": [
        {
          "output_type": "execute_result",
          "data": {
            "text/plain": [
              "9"
            ]
          },
          "metadata": {
            "tags": []
          },
          "execution_count": 22
        }
      ]
    },
    {
      "cell_type": "code",
      "metadata": {
        "id": "NXr_a5eyO2Ve",
        "colab_type": "code",
        "colab": {
          "base_uri": "https://localhost:8080/",
          "height": 35
        },
        "outputId": "c887f059-e7ee-4a64-938c-577c2618753f"
      },
      "source": [
        "# Return minimum element\n",
        "np.min(matrix)"
      ],
      "execution_count": 23,
      "outputs": [
        {
          "output_type": "execute_result",
          "data": {
            "text/plain": [
              "1"
            ]
          },
          "metadata": {
            "tags": []
          },
          "execution_count": 23
        }
      ]
    },
    {
      "cell_type": "markdown",
      "metadata": {
        "id": "ntXUGFmSO73S",
        "colab_type": "text"
      },
      "source": [
        "### Discussion\n",
        "Often we want to know the maximum and minimum value in an array or subset of an array. This can be accomplished with the max and min methods. Using the axis parameter we can also apply the operation along a certain axis:"
      ]
    },
    {
      "cell_type": "code",
      "metadata": {
        "id": "a05vknMpO5Df",
        "colab_type": "code",
        "colab": {
          "base_uri": "https://localhost:8080/",
          "height": 35
        },
        "outputId": "b7bcf724-5cf3-4880-82b6-a6e12dc9546b"
      },
      "source": [
        "# Find maximum element in each column\n",
        "np.max(matrix, axis=0)"
      ],
      "execution_count": 24,
      "outputs": [
        {
          "output_type": "execute_result",
          "data": {
            "text/plain": [
              "array([7, 8, 9])"
            ]
          },
          "metadata": {
            "tags": []
          },
          "execution_count": 24
        }
      ]
    },
    {
      "cell_type": "code",
      "metadata": {
        "id": "3NwIGLkmO-1H",
        "colab_type": "code",
        "colab": {
          "base_uri": "https://localhost:8080/",
          "height": 35
        },
        "outputId": "4a7cbc7a-31b5-42d4-968a-ac4afddf2aad"
      },
      "source": [
        "# Find maximum element in each row\n",
        "np.max(matrix, axis=1)"
      ],
      "execution_count": 25,
      "outputs": [
        {
          "output_type": "execute_result",
          "data": {
            "text/plain": [
              "array([3, 6, 9])"
            ]
          },
          "metadata": {
            "tags": []
          },
          "execution_count": 25
        }
      ]
    },
    {
      "cell_type": "markdown",
      "metadata": {
        "id": "3BNB1j43PDGq",
        "colab_type": "text"
      },
      "source": [
        "## 1.8 Calculating the Average, Variance, and Standard Deviation\n",
        "### Problem\n",
        "You want to calculate some descriptive statistics about an array.\n",
        "\n",
        "### Solution\n",
        "Use NumPy’s mean, var, and std:"
      ]
    },
    {
      "cell_type": "code",
      "metadata": {
        "id": "fsEcjiXYPAG1",
        "colab_type": "code",
        "colab": {
          "base_uri": "https://localhost:8080/",
          "height": 35
        },
        "outputId": "6334b586-a405-4a0f-e7e7-13b1e439c7c9"
      },
      "source": [
        "# Create matrix\n",
        "matrix = np.array([[1, 2, 3],\n",
        "                   [4, 5, 6],\n",
        "                   [7, 8, 9]])\n",
        "\n",
        "# Return mean\n",
        "np.mean(matrix)"
      ],
      "execution_count": 26,
      "outputs": [
        {
          "output_type": "execute_result",
          "data": {
            "text/plain": [
              "5.0"
            ]
          },
          "metadata": {
            "tags": []
          },
          "execution_count": 26
        }
      ]
    },
    {
      "cell_type": "code",
      "metadata": {
        "id": "ZetmakcnPG23",
        "colab_type": "code",
        "colab": {
          "base_uri": "https://localhost:8080/",
          "height": 35
        },
        "outputId": "5b1f628c-a252-4d76-a4b9-fdb78af3db78"
      },
      "source": [
        "# Return variance\n",
        "np.var(matrix)"
      ],
      "execution_count": 27,
      "outputs": [
        {
          "output_type": "execute_result",
          "data": {
            "text/plain": [
              "6.666666666666667"
            ]
          },
          "metadata": {
            "tags": []
          },
          "execution_count": 27
        }
      ]
    },
    {
      "cell_type": "code",
      "metadata": {
        "id": "qcrYErxfPJY1",
        "colab_type": "code",
        "colab": {
          "base_uri": "https://localhost:8080/",
          "height": 35
        },
        "outputId": "48203167-235b-4cd5-c18e-0cb3dfad785a"
      },
      "source": [
        "# Return standard deviation\n",
        "np.std(matrix)"
      ],
      "execution_count": 28,
      "outputs": [
        {
          "output_type": "execute_result",
          "data": {
            "text/plain": [
              "2.581988897471611"
            ]
          },
          "metadata": {
            "tags": []
          },
          "execution_count": 28
        }
      ]
    },
    {
      "cell_type": "markdown",
      "metadata": {
        "id": "tUjli6yBPMrP",
        "colab_type": "text"
      },
      "source": [
        "### Discussion\n",
        "Just like with max and min, we can easily get descriptive statistics about the whole matrix or do calculations along a single axis:"
      ]
    },
    {
      "cell_type": "code",
      "metadata": {
        "id": "V5l0HDjVPKub",
        "colab_type": "code",
        "colab": {
          "base_uri": "https://localhost:8080/",
          "height": 35
        },
        "outputId": "52f44015-1bd6-4066-e2d2-5d73de474d92"
      },
      "source": [
        "# Find the mean value in each column\n",
        "np.mean(matrix, axis=0)"
      ],
      "execution_count": 29,
      "outputs": [
        {
          "output_type": "execute_result",
          "data": {
            "text/plain": [
              "array([4., 5., 6.])"
            ]
          },
          "metadata": {
            "tags": []
          },
          "execution_count": 29
        }
      ]
    },
    {
      "cell_type": "markdown",
      "metadata": {
        "id": "Chgzm_EbPUYn",
        "colab_type": "text"
      },
      "source": [
        "## 1.9 Reshaping Arrays\n",
        "### Problem\n",
        "You want to change the shape (number of rows and columns) of an array without changing the element values.\n",
        "\n",
        "### Solution\n",
        "Use NumPy’s reshape:"
      ]
    },
    {
      "cell_type": "code",
      "metadata": {
        "id": "8LFXQ_E4PRqq",
        "colab_type": "code",
        "colab": {
          "base_uri": "https://localhost:8080/",
          "height": 53
        },
        "outputId": "ca8c39f2-adb9-4946-adb0-c1122971642a"
      },
      "source": [
        "# Create 4x3 matrix\n",
        "matrix = np.array([[1, 2, 3],\n",
        "                   [4, 5, 6],\n",
        "                   [7, 8, 9],\n",
        "                   [10, 11, 12]])\n",
        "\n",
        "# Reshape matrix into 2x6 matrix\n",
        "matrix.reshape(2, 6)"
      ],
      "execution_count": 30,
      "outputs": [
        {
          "output_type": "execute_result",
          "data": {
            "text/plain": [
              "array([[ 1,  2,  3,  4,  5,  6],\n",
              "       [ 7,  8,  9, 10, 11, 12]])"
            ]
          },
          "metadata": {
            "tags": []
          },
          "execution_count": 30
        }
      ]
    },
    {
      "cell_type": "markdown",
      "metadata": {
        "id": "ZfMYx63JPbb3",
        "colab_type": "text"
      },
      "source": [
        "### Discussion\n",
        "reshape allows us to restructure an array so that we maintain the same data but it is organized as a different number of rows and columns. The only requirement is that the shape of the original and new matrix contain the same number of elements (i.e., the same size). We can see the size of a matrix using size:"
      ]
    },
    {
      "cell_type": "code",
      "metadata": {
        "id": "-zdxGIxGPZBV",
        "colab_type": "code",
        "colab": {
          "base_uri": "https://localhost:8080/",
          "height": 35
        },
        "outputId": "b9cd87ba-20e2-43be-edca-b2d15802e054"
      },
      "source": [
        "matrix.size"
      ],
      "execution_count": 31,
      "outputs": [
        {
          "output_type": "execute_result",
          "data": {
            "text/plain": [
              "12"
            ]
          },
          "metadata": {
            "tags": []
          },
          "execution_count": 31
        }
      ]
    },
    {
      "cell_type": "markdown",
      "metadata": {
        "id": "CAHBNTkhPh54",
        "colab_type": "text"
      },
      "source": [
        "One useful argument in reshape is -1, which effectively means “as many as needed,” so reshape(-1, 1) means one row and as many columns as needed:"
      ]
    },
    {
      "cell_type": "code",
      "metadata": {
        "id": "7O9P0e4JPe29",
        "colab_type": "code",
        "colab": {
          "base_uri": "https://localhost:8080/",
          "height": 35
        },
        "outputId": "974d7ebf-fb4c-48bf-8c37-adef8cce6df6"
      },
      "source": [
        "matrix.reshape(1, -1)"
      ],
      "execution_count": 32,
      "outputs": [
        {
          "output_type": "execute_result",
          "data": {
            "text/plain": [
              "array([[ 1,  2,  3,  4,  5,  6,  7,  8,  9, 10, 11, 12]])"
            ]
          },
          "metadata": {
            "tags": []
          },
          "execution_count": 32
        }
      ]
    },
    {
      "cell_type": "markdown",
      "metadata": {
        "id": "AYQ_5_-UPmEh",
        "colab_type": "text"
      },
      "source": [
        "Finally, if we provide one integer, reshape will return a 1D array of that length:"
      ]
    },
    {
      "cell_type": "code",
      "metadata": {
        "id": "R27I-IdvPj27",
        "colab_type": "code",
        "colab": {
          "base_uri": "https://localhost:8080/",
          "height": 35
        },
        "outputId": "822334b1-1b97-4fa7-8dd4-e62d35772851"
      },
      "source": [
        "matrix.reshape(12)"
      ],
      "execution_count": 33,
      "outputs": [
        {
          "output_type": "execute_result",
          "data": {
            "text/plain": [
              "array([ 1,  2,  3,  4,  5,  6,  7,  8,  9, 10, 11, 12])"
            ]
          },
          "metadata": {
            "tags": []
          },
          "execution_count": 33
        }
      ]
    },
    {
      "cell_type": "code",
      "metadata": {
        "id": "S3z-gfv6PozP",
        "colab_type": "code",
        "colab": {}
      },
      "source": [
        ""
      ],
      "execution_count": 0,
      "outputs": []
    }
  ]
}