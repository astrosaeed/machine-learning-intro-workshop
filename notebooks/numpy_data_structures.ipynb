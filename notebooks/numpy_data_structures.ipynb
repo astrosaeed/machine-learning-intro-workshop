{
 "cells": [
  {
   "cell_type": "markdown",
   "metadata": {
    "colab_type": "text",
    "id": "view-in-github"
   },
   "source": [
    "<a href=\"https://colab.research.google.com/github/jfogarty/machine-learning-intro-workshop/blob/master/notebooks/numpy_data_structures.ipynb\" target=\"_parent\"><img src=\"https://colab.research.google.com/assets/colab-badge.svg\" alt=\"Open In Colab\"/></a>"
   ]
  },
  {
   "cell_type": "markdown",
   "metadata": {
    "colab_type": "text",
    "id": "MNRniHbHppOb"
   },
   "source": [
    "# NumPy Vectors, Matrices, and Arrays\n",
    "\n",
    "- From [Machine Learning with Python Cookbook](https://www.oreilly.com/library/view/machine-learning-with/9781491989371/ch01.html) by [Chris Albon](https://chrisalbon.com/) [[Github/notes](https://github.com/chrisalbon/notes)], published by [O'Reilly Safari](https://www.oreilly.com).\n",
    "\n",
    "Updated by [John Fogarty](https://github.com/jfogarty) for Python 3.6 and [Base2 MLI](https://github.com/base2solutions/mli).\n"
   ]
  },
  {
   "cell_type": "markdown",
   "metadata": {
    "colab_type": "text",
    "id": "rcjEgEshp2Z0"
   },
   "source": [
    "## 1.0 Introduction\n",
    "\n",
    "NumPy is the foundation of the Python machine learning stack. NumPy allows for efficient operations on the data structures often used in machine learning: vectors, matrices, and tensors. While NumPy is not the focus of this book, it will show up frequently throughout the following chapters. This chapter covers the most common NumPy operations we are likely to run into while working on machine learning workflows."
   ]
  },
  {
   "cell_type": "markdown",
   "metadata": {
    "colab_type": "text",
    "id": "VRIx-DOkH5Us"
   },
   "source": [
    "## 1.1 Creating a Vector\n",
    "### Problem\n",
    "You need to create a vector.\n",
    "\n",
    "### Solution\n",
    "Use NumPy to create a one-dimensional array:"
   ]
  },
  {
   "cell_type": "code",
   "execution_count": null,
   "metadata": {
    "colab": {},
    "colab_type": "code",
    "id": "QGCpxcaIH-5H"
   },
   "outputs": [],
   "source": [
    "# Load library\n",
    "import numpy as np\n",
    "\n",
    "# Create a vector as a row\n",
    "vector_row = np.array([1, 2, 3])\n",
    "\n",
    "# Create a vector as a column\n",
    "vector_column = np.array([[1],\n",
    "                          [2],\n",
    "                          [3]])"
   ]
  },
  {
   "cell_type": "markdown",
   "metadata": {
    "colab_type": "text",
    "id": "DKsbYPhfIGYr"
   },
   "source": [
    "### Discussion\n",
    "\n",
    "NumPy’s main data structure is the multidimensional array. To create a vector, we simply create a one-dimensional array. Just like vectors, these arrays can be represented horizontally (i.e., rows) or vertically (i.e., columns).\n",
    "\n",
    "### See Also\n",
    "- [Vectors, Math Is Fun](http://bit.ly/2FB5q1v)\n",
    "\n",
    "- [Euclidean vector, Wikipedia](http://bit.ly/2FtnRoL)\n"
   ]
  },
  {
   "cell_type": "markdown",
   "metadata": {
    "colab_type": "text",
    "id": "YRVQuCBpIXX4"
   },
   "source": [
    "## 1.2 Creating a Matrix\n",
    "### Problem\n",
    "You need to create a matrix.\n",
    "\n",
    "### Solution\n",
    "Use NumPy to create a two-dimensional array:"
   ]
  },
  {
   "cell_type": "code",
   "execution_count": null,
   "metadata": {
    "colab": {},
    "colab_type": "code",
    "id": "1D9ryZrLIXxQ"
   },
   "outputs": [],
   "source": [
    "# Create a matrix\n",
    "matrix = np.array([[1, 2],\n",
    "                   [1, 2],\n",
    "                   [1, 2]])"
   ]
  },
  {
   "cell_type": "markdown",
   "metadata": {
    "colab_type": "text",
    "id": "RZavXMedIYBX"
   },
   "source": [
    "### Discussion\n",
    "To create a matrix we can use a NumPy two-dimensional array. In our solution, the matrix contains three rows and two columns (a column of 1s and a column of 2s).\n",
    "\n",
    "NumPy actually has a dedicated matrix data structure:"
   ]
  },
  {
   "cell_type": "code",
   "execution_count": null,
   "metadata": {
    "colab": {
     "base_uri": "https://localhost:8080/",
     "height": 71
    },
    "colab_type": "code",
    "id": "0uWt5kNVH9N3",
    "outputId": "6233c210-27d9-44d2-9a82-f5f4fc1d6ae1"
   },
   "outputs": [],
   "source": [
    "matrix_object = np.mat([[1, 2],\n",
    "                        [1, 2],\n",
    "                        [1, 2]])\n",
    "matrix_object"
   ]
  },
  {
   "cell_type": "markdown",
   "metadata": {
    "colab_type": "text",
    "id": "DCXsjYdXJAHW"
   },
   "source": [
    "However, the matrix data structure is **not recommended** for two reasons. First, arrays are the de facto standard data structure of NumPy. Second, the vast majority of NumPy operations return arrays, not matrix objects.\n",
    "\n",
    "### See Also\n",
    "- [Matrix, Wikipedia](http://bit.ly/2Ftnevp)\n",
    "\n",
    "- [Matrix, Wolfram MathWorld](http://bit.ly/2Fut7IJ)"
   ]
  },
  {
   "cell_type": "markdown",
   "metadata": {
    "colab_type": "text",
    "id": "IvO4q41MJS9i"
   },
   "source": [
    "## 1.3 Creating a Sparse Matrix\n",
    "### Problem\n",
    "Given data with very few nonzero values, you want to efficiently represent it.\n",
    "\n",
    "### Solution\n",
    "Create a sparse matrix:"
   ]
  },
  {
   "cell_type": "code",
   "execution_count": null,
   "metadata": {
    "colab": {},
    "colab_type": "code",
    "id": "TzoTR1VPJTJI"
   },
   "outputs": [],
   "source": [
    "# Load libraries\n",
    "from scipy import sparse\n",
    "\n",
    "# Create a matrix\n",
    "matrix = np.array([[0, 0],\n",
    "                   [0, 1],\n",
    "                   [3, 0]])\n",
    "\n",
    "# Create compressed sparse row (CSR) matrix\n",
    "matrix_sparse = sparse.csr_matrix(matrix)"
   ]
  },
  {
   "cell_type": "markdown",
   "metadata": {
    "colab_type": "text",
    "id": "andNKe18JTTi"
   },
   "source": [
    "### Discussion\n",
    "A frequent situation in machine learning is having a huge amount of data; however, most of the elements in the data are zeros. For example, imagine a matrix where the columns are every movie on Netflix, the rows are every Netflix user, and the values are how many times a user has watched that particular movie. This matrix would have tens of thousands of columns and millions of rows! However, since most users do not watch most movies, the vast majority of elements would be zero.\n",
    "\n",
    "Sparse matrices only store nonzero elements and assume all other values will be zero, leading to significant computational savings. In our solution, we created a NumPy array with two nonzero values, then converted it into a sparse matrix. If we view the sparse matrix we can see that only the nonzero values are stored:"
   ]
  },
  {
   "cell_type": "code",
   "execution_count": null,
   "metadata": {
    "colab": {
     "base_uri": "https://localhost:8080/",
     "height": 53
    },
    "colab_type": "code",
    "id": "cgKvFjnqI1IG",
    "outputId": "b2b5a9e7-a46d-4954-f24b-45d5f2692edd"
   },
   "outputs": [],
   "source": [
    "# View sparse matrix\n",
    "print(matrix_sparse)"
   ]
  },
  {
   "cell_type": "markdown",
   "metadata": {
    "colab_type": "text",
    "id": "qjkSSvtqJn6g"
   },
   "source": [
    "There are a number of types of sparse matrices. However, in *compressed sparse row* (CSR) matrices, (1, 1) and (2, 0) represent the (zero-indexed) indices of the non-zero values 1 and 3, respectively. For example, the element 1 is in the second row and second column. We can see the advantage of sparse matrices if we create a much larger matrix with many more zero elements and then compare this larger matrix with our original sparse matrix:"
   ]
  },
  {
   "cell_type": "code",
   "execution_count": null,
   "metadata": {
    "colab": {
     "base_uri": "https://localhost:8080/",
     "height": 53
    },
    "colab_type": "code",
    "id": "PkSTTH2fJj_M",
    "outputId": "9dc13cd9-fcf6-454c-d30d-987861124920"
   },
   "outputs": [],
   "source": [
    "# Create larger matrix\n",
    "matrix_large = np.array([[0, 0, 0, 0, 0, 0, 0, 0, 0, 0],\n",
    "                         [0, 1, 0, 0, 0, 0, 0, 0, 0, 0],\n",
    "                         [3, 0, 0, 0, 0, 0, 0, 0, 0, 0]])\n",
    "\n",
    "# Create compressed sparse row (CSR) matrix\n",
    "matrix_large_sparse = sparse.csr_matrix(matrix_large)\n",
    "\n",
    "# View original sparse matrix\n",
    "print(matrix_sparse)"
   ]
  },
  {
   "cell_type": "code",
   "execution_count": null,
   "metadata": {
    "colab": {
     "base_uri": "https://localhost:8080/",
     "height": 53
    },
    "colab_type": "code",
    "id": "nqqGXfiIJxjF",
    "outputId": "02b3144f-47bb-4379-92b7-d297e8bc4ac0"
   },
   "outputs": [],
   "source": [
    "# View larger sparse matrix\n",
    "print(matrix_large_sparse)"
   ]
  },
  {
   "cell_type": "markdown",
   "metadata": {
    "colab_type": "text",
    "id": "4USdNvXYJ3ss"
   },
   "source": [
    "As we can see, despite the fact that we added many more zero elements in the larger matrix, its sparse representation is exactly the same as our original sparse matrix. That is, the addition of zero elements did not change the size of the sparse matrix.\n",
    "\n",
    "As mentioned, there are many different types of sparse matrices, such as compressed sparse column, list of lists, and dictionary of keys. While an explanation of the different types and their implications is outside the scope of this book, it is worth noting that while there is no “best” sparse matrix type, there are meaningful differences between them and we should be conscious about why we are choosing one type over another.\n",
    "\n",
    "### See Also\n",
    "- [Sparse matrices, SciPy documentation](http://bit.ly/2HReBZR)\n",
    "\n",
    "- [101 Ways to Store a Sparse Matrix](http://bit.ly/2HS43cI)"
   ]
  },
  {
   "cell_type": "markdown",
   "metadata": {
    "colab_type": "text",
    "id": "a3L8Mp4KMYQp"
   },
   "source": [
    "## 1.4 Selecting Elements\n",
    "### Problem\n",
    "You need to select one or more elements in a vector or matrix.\n",
    "\n",
    "### Solution\n",
    "NumPy’s arrays make that easy:"
   ]
  },
  {
   "cell_type": "code",
   "execution_count": null,
   "metadata": {
    "colab": {
     "base_uri": "https://localhost:8080/",
     "height": 35
    },
    "colab_type": "code",
    "id": "E4tGWS6dJz19",
    "outputId": "747ea91f-251f-456e-d72d-f3c83cf80ad9"
   },
   "outputs": [],
   "source": [
    "# Create row vector\n",
    "vector = np.array([1, 2, 3, 4, 5, 6])\n",
    "\n",
    "# Create matrix\n",
    "matrix = np.array([[1, 2, 3],\n",
    "                   [4, 5, 6],\n",
    "                   [7, 8, 9]])\n",
    "\n",
    "# Select third element of vector\n",
    "vector[2]"
   ]
  },
  {
   "cell_type": "code",
   "execution_count": null,
   "metadata": {
    "colab": {
     "base_uri": "https://localhost:8080/",
     "height": 35
    },
    "colab_type": "code",
    "id": "__eEH_cUMcMG",
    "outputId": "07399c6a-6a01-482d-cf92-e3c71a89e5fd"
   },
   "outputs": [],
   "source": [
    "# Select second row, second column\n",
    "matrix[1,1]"
   ]
  },
  {
   "cell_type": "markdown",
   "metadata": {
    "colab_type": "text",
    "id": "8tr73fIQMifK"
   },
   "source": [
    "### Discussion\n",
    "Like most things in Python, NumPy arrays are zero-indexed, meaning that the index of the first element is 0, not 1. With that caveat, NumPy offers a wide variety of methods for selecting (i.e., indexing and slicing) elements or groups of elements in arrays:"
   ]
  },
  {
   "cell_type": "code",
   "execution_count": null,
   "metadata": {
    "colab": {
     "base_uri": "https://localhost:8080/",
     "height": 35
    },
    "colab_type": "code",
    "id": "_6DfmZtBMgpD",
    "outputId": "b4d0a8a2-4fa5-4185-856c-a5d00cbce568"
   },
   "outputs": [],
   "source": [
    "# Select all elements of a vector\n",
    "vector[:]"
   ]
  },
  {
   "cell_type": "code",
   "execution_count": null,
   "metadata": {
    "colab": {
     "base_uri": "https://localhost:8080/",
     "height": 35
    },
    "colab_type": "code",
    "id": "9gM2tzDbMm5H",
    "outputId": "715a15a2-27c5-4f37-e8ac-79864c59122c"
   },
   "outputs": [],
   "source": [
    "# Select everything up to and including the third element\n",
    "vector[:3]"
   ]
  },
  {
   "cell_type": "code",
   "execution_count": null,
   "metadata": {
    "colab": {
     "base_uri": "https://localhost:8080/",
     "height": 35
    },
    "colab_type": "code",
    "id": "v3dZ895CMpcW",
    "outputId": "ff73700e-6632-48f5-c580-fb45ee735a7f"
   },
   "outputs": [],
   "source": [
    "# Select everything after the third element\n",
    "vector[3:]"
   ]
  },
  {
   "cell_type": "code",
   "execution_count": null,
   "metadata": {
    "colab": {
     "base_uri": "https://localhost:8080/",
     "height": 35
    },
    "colab_type": "code",
    "id": "pwvUGNvPMrWO",
    "outputId": "aaca306a-a4bd-4d29-b814-9862d4b9c43b"
   },
   "outputs": [],
   "source": [
    "# Select the last element\n",
    "vector[-1]"
   ]
  },
  {
   "cell_type": "code",
   "execution_count": null,
   "metadata": {
    "colab": {
     "base_uri": "https://localhost:8080/",
     "height": 53
    },
    "colab_type": "code",
    "id": "PzoDmkAPMtdk",
    "outputId": "24a34914-774b-4263-b389-db8acfd97ab4"
   },
   "outputs": [],
   "source": [
    "# Select the first two rows and all columns of a matrix\n",
    "matrix[:2,:]"
   ]
  },
  {
   "cell_type": "code",
   "execution_count": null,
   "metadata": {
    "colab": {
     "base_uri": "https://localhost:8080/",
     "height": 71
    },
    "colab_type": "code",
    "id": "7bQzVmWLMxrv",
    "outputId": "7fa2108d-1b5e-4767-c581-c1f5330d3294"
   },
   "outputs": [],
   "source": [
    "# Select all rows and the second column\n",
    "matrix[:,1:2]"
   ]
  },
  {
   "cell_type": "markdown",
   "metadata": {
    "colab_type": "text",
    "id": "ZyYWDikIM2PC"
   },
   "source": [
    "## 1.5 Describing a Matrix\n",
    "### Problem\n",
    "You want to describe the shape, size, and dimensions of the matrix.\n",
    "\n",
    "### Solution\n",
    "Use shape, size, and ndim:"
   ]
  },
  {
   "cell_type": "code",
   "execution_count": null,
   "metadata": {
    "colab": {
     "base_uri": "https://localhost:8080/",
     "height": 35
    },
    "colab_type": "code",
    "id": "is6Zyo5gMzNG",
    "outputId": "e0b228cd-e7d0-494f-8c23-ebae80ccc68c"
   },
   "outputs": [],
   "source": [
    "# Create matrix\n",
    "matrix = np.array([[1, 2, 3, 4],\n",
    "                   [5, 6, 7, 8],\n",
    "                   [9, 10, 11, 12]])\n",
    "\n",
    "# View number of rows and columns\n",
    "matrix.shape"
   ]
  },
  {
   "cell_type": "code",
   "execution_count": null,
   "metadata": {
    "colab": {
     "base_uri": "https://localhost:8080/",
     "height": 35
    },
    "colab_type": "code",
    "id": "TPUMJpRZM7O2",
    "outputId": "e611d07e-e238-4d2b-9c32-45298df132cd"
   },
   "outputs": [],
   "source": [
    "# View number of elements (rows * columns)\n",
    "matrix.size"
   ]
  },
  {
   "cell_type": "code",
   "execution_count": null,
   "metadata": {
    "colab": {
     "base_uri": "https://localhost:8080/",
     "height": 35
    },
    "colab_type": "code",
    "id": "P8WLBMVsM9CS",
    "outputId": "b8703b72-501c-484b-c9e2-c8429c45a644"
   },
   "outputs": [],
   "source": [
    "# View number of dimensions\n",
    "matrix.ndim"
   ]
  },
  {
   "cell_type": "markdown",
   "metadata": {
    "colab_type": "text",
    "id": "lhfMzRRINCye"
   },
   "source": [
    "Discussion\n",
    "This might seem basic (and it is); however, time and again it will be valuable to check the shape and size of an array both for further calculations and simply as a gut check after some operation."
   ]
  },
  {
   "cell_type": "markdown",
   "metadata": {
    "colab_type": "text",
    "id": "rUsmiyS0NDx2"
   },
   "source": [
    "## 1.6 Applying Operations to Elements\n",
    "### Problem\n",
    "You want to apply some function to multiple elements in an array.\n",
    "\n",
    "### Solution\n",
    "Use NumPy’s vectorize:"
   ]
  },
  {
   "cell_type": "code",
   "execution_count": null,
   "metadata": {
    "colab": {
     "base_uri": "https://localhost:8080/",
     "height": 71
    },
    "colab_type": "code",
    "id": "37Y3b2EvM_nd",
    "outputId": "f38b2c08-8407-4d27-e239-3d242aaab11f"
   },
   "outputs": [],
   "source": [
    "# Create matrix\n",
    "matrix = np.array([[1, 2, 3],\n",
    "                   [4, 5, 6],\n",
    "                   [7, 8, 9]])\n",
    "\n",
    "# Create function that adds 100 to something\n",
    "add_100 = lambda i: i + 100\n",
    "\n",
    "# Create vectorized function\n",
    "vectorized_add_100 = np.vectorize(add_100)\n",
    "\n",
    "# Apply function to all elements in matrix\n",
    "vectorized_add_100(matrix)"
   ]
  },
  {
   "cell_type": "markdown",
   "metadata": {
    "colab_type": "text",
    "id": "VLp4IPyVOk5I"
   },
   "source": [
    "### Discussion\n",
    "NumPy’s vectorize class converts a function into a function that can apply to all elements in an array or slice of an array. It’s worth noting that vectorize is essentially a for loop over the elements and does not increase performance. Furthermore, NumPy arrays allow us to perform operations between arrays even if their dimensions are not the same (a process called broadcasting). For example, we can create a much simpler version of our solution using broadcasting:"
   ]
  },
  {
   "cell_type": "code",
   "execution_count": null,
   "metadata": {
    "colab": {
     "base_uri": "https://localhost:8080/",
     "height": 71
    },
    "colab_type": "code",
    "id": "zfHXuc33Ott6",
    "outputId": "9b2d0e79-a700-4720-e103-998f2e349745"
   },
   "outputs": [],
   "source": [
    "# Add 100 to all elements\n",
    "matrix + 100"
   ]
  },
  {
   "cell_type": "markdown",
   "metadata": {
    "colab_type": "text",
    "id": "e7uIZMYYOpnG"
   },
   "source": [
    "## 1.7 Finding the Maximum and Minimum Values\n",
    "### Problem\n",
    "You need to find the maximum or minimum value in an array.\n",
    "\n",
    "### Solution\n",
    "Use NumPy’s max and min:"
   ]
  },
  {
   "cell_type": "code",
   "execution_count": null,
   "metadata": {
    "colab": {
     "base_uri": "https://localhost:8080/",
     "height": 35
    },
    "colab_type": "code",
    "id": "2QlloRs1OiIZ",
    "outputId": "192e339c-5dfa-4cde-a1cb-07c97370514e"
   },
   "outputs": [],
   "source": [
    "# Create matrix\n",
    "matrix = np.array([[1, 2, 3],\n",
    "                   [4, 5, 6],\n",
    "                   [7, 8, 9]])\n",
    "\n",
    "# Return maximum element\n",
    "np.max(matrix)"
   ]
  },
  {
   "cell_type": "code",
   "execution_count": null,
   "metadata": {
    "colab": {
     "base_uri": "https://localhost:8080/",
     "height": 35
    },
    "colab_type": "code",
    "id": "NXr_a5eyO2Ve",
    "outputId": "c887f059-e7ee-4a64-938c-577c2618753f"
   },
   "outputs": [],
   "source": [
    "# Return minimum element\n",
    "np.min(matrix)"
   ]
  },
  {
   "cell_type": "markdown",
   "metadata": {
    "colab_type": "text",
    "id": "ntXUGFmSO73S"
   },
   "source": [
    "### Discussion\n",
    "Often we want to know the maximum and minimum value in an array or subset of an array. This can be accomplished with the max and min methods. Using the axis parameter we can also apply the operation along a certain axis:"
   ]
  },
  {
   "cell_type": "code",
   "execution_count": null,
   "metadata": {
    "colab": {
     "base_uri": "https://localhost:8080/",
     "height": 35
    },
    "colab_type": "code",
    "id": "a05vknMpO5Df",
    "outputId": "b7bcf724-5cf3-4880-82b6-a6e12dc9546b"
   },
   "outputs": [],
   "source": [
    "# Find maximum element in each column\n",
    "np.max(matrix, axis=0)"
   ]
  },
  {
   "cell_type": "code",
   "execution_count": null,
   "metadata": {
    "colab": {
     "base_uri": "https://localhost:8080/",
     "height": 35
    },
    "colab_type": "code",
    "id": "3NwIGLkmO-1H",
    "outputId": "4a7cbc7a-31b5-42d4-968a-ac4afddf2aad"
   },
   "outputs": [],
   "source": [
    "# Find maximum element in each row\n",
    "np.max(matrix, axis=1)"
   ]
  },
  {
   "cell_type": "markdown",
   "metadata": {
    "colab_type": "text",
    "id": "3BNB1j43PDGq"
   },
   "source": [
    "## 1.8 Calculating the Average, Variance, and Standard Deviation\n",
    "### Problem\n",
    "You want to calculate some descriptive statistics about an array.\n",
    "\n",
    "### Solution\n",
    "Use NumPy’s mean, var, and std:"
   ]
  },
  {
   "cell_type": "code",
   "execution_count": null,
   "metadata": {
    "colab": {
     "base_uri": "https://localhost:8080/",
     "height": 35
    },
    "colab_type": "code",
    "id": "fsEcjiXYPAG1",
    "outputId": "6334b586-a405-4a0f-e7e7-13b1e439c7c9"
   },
   "outputs": [],
   "source": [
    "# Create matrix\n",
    "matrix = np.array([[1, 2, 3],\n",
    "                   [4, 5, 6],\n",
    "                   [7, 8, 9]])\n",
    "\n",
    "# Return mean\n",
    "np.mean(matrix)"
   ]
  },
  {
   "cell_type": "code",
   "execution_count": null,
   "metadata": {
    "colab": {
     "base_uri": "https://localhost:8080/",
     "height": 35
    },
    "colab_type": "code",
    "id": "ZetmakcnPG23",
    "outputId": "5b1f628c-a252-4d76-a4b9-fdb78af3db78"
   },
   "outputs": [],
   "source": [
    "# Return variance\n",
    "np.var(matrix)"
   ]
  },
  {
   "cell_type": "code",
   "execution_count": null,
   "metadata": {
    "colab": {
     "base_uri": "https://localhost:8080/",
     "height": 35
    },
    "colab_type": "code",
    "id": "qcrYErxfPJY1",
    "outputId": "48203167-235b-4cd5-c18e-0cb3dfad785a"
   },
   "outputs": [],
   "source": [
    "# Return standard deviation\n",
    "np.std(matrix)"
   ]
  },
  {
   "cell_type": "markdown",
   "metadata": {
    "colab_type": "text",
    "id": "tUjli6yBPMrP"
   },
   "source": [
    "### Discussion\n",
    "Just like with max and min, we can easily get descriptive statistics about the whole matrix or do calculations along a single axis:"
   ]
  },
  {
   "cell_type": "code",
   "execution_count": null,
   "metadata": {
    "colab": {
     "base_uri": "https://localhost:8080/",
     "height": 35
    },
    "colab_type": "code",
    "id": "V5l0HDjVPKub",
    "outputId": "52f44015-1bd6-4066-e2d2-5d73de474d92"
   },
   "outputs": [],
   "source": [
    "# Find the mean value in each column\n",
    "np.mean(matrix, axis=0)"
   ]
  },
  {
   "cell_type": "markdown",
   "metadata": {
    "colab_type": "text",
    "id": "Chgzm_EbPUYn"
   },
   "source": [
    "## 1.9 Reshaping Arrays\n",
    "### Problem\n",
    "You want to change the shape (number of rows and columns) of an array without changing the element values.\n",
    "\n",
    "### Solution\n",
    "Use NumPy’s reshape:"
   ]
  },
  {
   "cell_type": "code",
   "execution_count": null,
   "metadata": {
    "colab": {
     "base_uri": "https://localhost:8080/",
     "height": 53
    },
    "colab_type": "code",
    "id": "8LFXQ_E4PRqq",
    "outputId": "ca8c39f2-adb9-4946-adb0-c1122971642a"
   },
   "outputs": [],
   "source": [
    "# Create 4x3 matrix\n",
    "matrix = np.array([[1, 2, 3],\n",
    "                   [4, 5, 6],\n",
    "                   [7, 8, 9],\n",
    "                   [10, 11, 12]])\n",
    "\n",
    "# Reshape matrix into 2x6 matrix\n",
    "matrix.reshape(2, 6)"
   ]
  },
  {
   "cell_type": "markdown",
   "metadata": {
    "colab_type": "text",
    "id": "ZfMYx63JPbb3"
   },
   "source": [
    "### Discussion\n",
    "reshape allows us to restructure an array so that we maintain the same data but it is organized as a different number of rows and columns. The only requirement is that the shape of the original and new matrix contain the same number of elements (i.e., the same size). We can see the size of a matrix using size:"
   ]
  },
  {
   "cell_type": "code",
   "execution_count": null,
   "metadata": {
    "colab": {
     "base_uri": "https://localhost:8080/",
     "height": 35
    },
    "colab_type": "code",
    "id": "-zdxGIxGPZBV",
    "outputId": "b9cd87ba-20e2-43be-edca-b2d15802e054"
   },
   "outputs": [],
   "source": [
    "matrix.size"
   ]
  },
  {
   "cell_type": "markdown",
   "metadata": {
    "colab_type": "text",
    "id": "CAHBNTkhPh54"
   },
   "source": [
    "One useful argument in reshape is -1, which effectively means “as many as needed,” so reshape(-1, 1) means one row and as many columns as needed:"
   ]
  },
  {
   "cell_type": "code",
   "execution_count": null,
   "metadata": {
    "colab": {
     "base_uri": "https://localhost:8080/",
     "height": 35
    },
    "colab_type": "code",
    "id": "7O9P0e4JPe29",
    "outputId": "974d7ebf-fb4c-48bf-8c37-adef8cce6df6"
   },
   "outputs": [],
   "source": [
    "matrix.reshape(1, -1)"
   ]
  },
  {
   "cell_type": "markdown",
   "metadata": {
    "colab_type": "text",
    "id": "AYQ_5_-UPmEh"
   },
   "source": [
    "Finally, if we provide one integer, reshape will return a 1D array of that length:"
   ]
  },
  {
   "cell_type": "code",
   "execution_count": null,
   "metadata": {
    "colab": {
     "base_uri": "https://localhost:8080/",
     "height": 35
    },
    "colab_type": "code",
    "id": "R27I-IdvPj27",
    "outputId": "f22bd41b-dad2-4284-a289-92691838d349"
   },
   "outputs": [],
   "source": [
    "matrix.reshape(12)"
   ]
  },
  {
   "cell_type": "markdown",
   "metadata": {
    "colab_type": "text",
    "id": "fs6Cqh2JWBY6"
   },
   "source": [
    "## 1.10 Transposing a Vector or Matrix\n",
    "### Problem\n",
    "You need to transpose a vector or matrix.\n",
    "\n",
    "### Solution\n",
    "Use the T method:"
   ]
  },
  {
   "cell_type": "code",
   "execution_count": null,
   "metadata": {
    "colab": {
     "base_uri": "https://localhost:8080/",
     "height": 71
    },
    "colab_type": "code",
    "id": "S3z-gfv6PozP",
    "outputId": "9ce189ab-56b9-4881-a8a2-4e74f72fcbff"
   },
   "outputs": [],
   "source": [
    "# Create matrix\n",
    "matrix = np.array([[1, 2, 3],\n",
    "                   [4, 5, 6],\n",
    "                   [7, 8, 9]])\n",
    "\n",
    "# Transpose matrix\n",
    "matrix.T"
   ]
  },
  {
   "cell_type": "markdown",
   "metadata": {
    "colab_type": "text",
    "id": "tsZEqNcqWKGr"
   },
   "source": [
    "### Discussion\n",
    "Transposing is a common operation in linear algebra where the column and row indices of each element are swapped. One nuanced point that is typically overlooked outside of a linear algebra class is that, technically, a vector cannot be transposed because it is just a collection of values:"
   ]
  },
  {
   "cell_type": "code",
   "execution_count": null,
   "metadata": {
    "colab": {
     "base_uri": "https://localhost:8080/",
     "height": 35
    },
    "colab_type": "code",
    "id": "wTCEdyVRWHg1",
    "outputId": "b9b9ca80-e904-44fe-a927-0416b5f02c08"
   },
   "outputs": [],
   "source": [
    "# Transpose vector\n",
    "np.array([1, 2, 3, 4, 5, 6]).T"
   ]
  },
  {
   "cell_type": "markdown",
   "metadata": {
    "colab_type": "text",
    "id": "1FKLsSwiWVTt"
   },
   "source": [
    "However, it is common to refer to transposing a vector as converting a row vector to a column vector (notice the second pair of brackets) or vice versa:"
   ]
  },
  {
   "cell_type": "code",
   "execution_count": null,
   "metadata": {
    "colab": {
     "base_uri": "https://localhost:8080/",
     "height": 125
    },
    "colab_type": "code",
    "id": "OW8Kil7vWPxB",
    "outputId": "2867ae12-5efe-4880-fd7c-70a8f3f97c35"
   },
   "outputs": [],
   "source": [
    "# Tranpose row vector\n",
    "np.array([[1, 2, 3, 4, 5, 6]]).T"
   ]
  },
  {
   "cell_type": "markdown",
   "metadata": {
    "colab_type": "text",
    "id": "2fbS-inSWb_5"
   },
   "source": [
    "## 1.11 Flattening a Matrix\n",
    "### Problem\n",
    "You need to transform a matrix into a one-dimensional array.\n",
    "\n",
    "### Solution\n",
    "Use flatten:"
   ]
  },
  {
   "cell_type": "code",
   "execution_count": null,
   "metadata": {
    "colab": {
     "base_uri": "https://localhost:8080/",
     "height": 35
    },
    "colab_type": "code",
    "id": "QD4IvIzbWYSY",
    "outputId": "84b8a5c0-3c17-43bc-bcb5-bf75f9f4b909"
   },
   "outputs": [],
   "source": [
    "# Create matrix\n",
    "matrix = np.array([[1, 2, 3],\n",
    "                   [4, 5, 6],\n",
    "                   [7, 8, 9]])\n",
    "\n",
    "# Flatten matrix\n",
    "matrix.flatten()"
   ]
  },
  {
   "cell_type": "markdown",
   "metadata": {
    "colab_type": "text",
    "id": "6Ez4RjReWoex"
   },
   "source": [
    "### Discussion\n",
    "flatten is a simple method to transform a matrix into a one-dimensional array. Alternatively, we can use reshape to create a row vector:"
   ]
  },
  {
   "cell_type": "code",
   "execution_count": null,
   "metadata": {
    "colab": {
     "base_uri": "https://localhost:8080/",
     "height": 35
    },
    "colab_type": "code",
    "id": "Do-_w8G-Wlhy",
    "outputId": "b8381675-e433-4adb-9a01-af096d50bf98"
   },
   "outputs": [],
   "source": [
    "matrix.reshape(1, -1)"
   ]
  },
  {
   "cell_type": "markdown",
   "metadata": {
    "colab_type": "text",
    "id": "D_YQj6LtYZ8W"
   },
   "source": [
    "### Explore binary operations on row vectors with one dimensional arrays."
   ]
  },
  {
   "cell_type": "code",
   "execution_count": null,
   "metadata": {
    "colab": {
     "base_uri": "https://localhost:8080/",
     "height": 35
    },
    "colab_type": "code",
    "id": "jY0LW1aeWq7K",
    "outputId": "763358b2-a396-47e5-cda8-e173e9a3a743"
   },
   "outputs": [],
   "source": [
    "matrix.reshape(1, -1) == matrix.flatten()"
   ]
  },
  {
   "cell_type": "code",
   "execution_count": null,
   "metadata": {
    "colab": {
     "base_uri": "https://localhost:8080/",
     "height": 35
    },
    "colab_type": "code",
    "id": "gRC5O0DmXqUb",
    "outputId": "bca94063-ad01-4d78-f712-b14e913b0426"
   },
   "outputs": [],
   "source": [
    "matrix.flatten() == matrix.reshape(1, -1)"
   ]
  },
  {
   "cell_type": "code",
   "execution_count": null,
   "metadata": {
    "colab": {
     "base_uri": "https://localhost:8080/",
     "height": 35
    },
    "colab_type": "code",
    "id": "HH9xSsP9X1_o",
    "outputId": "6c1a70d0-b89b-485b-df4c-82eef66588a4"
   },
   "outputs": [],
   "source": [
    "matrix.flatten() * matrix.reshape(1, -1)"
   ]
  },
  {
   "cell_type": "code",
   "execution_count": null,
   "metadata": {
    "colab": {
     "base_uri": "https://localhost:8080/",
     "height": 35
    },
    "colab_type": "code",
    "id": "4Qkw9GDHW69n",
    "outputId": "3325c8d8-d9d3-4fe0-985f-0b32cde8b921"
   },
   "outputs": [],
   "source": [
    "matrix.reshape(1, -1)[0] == matrix.flatten()"
   ]
  },
  {
   "cell_type": "code",
   "execution_count": null,
   "metadata": {
    "colab": {
     "base_uri": "https://localhost:8080/",
     "height": 35
    },
    "colab_type": "code",
    "id": "TVTQLK9OXAvs",
    "outputId": "71954890-a6aa-42f3-ef0b-746f56e10556"
   },
   "outputs": [],
   "source": [
    "matrix.reshape(1, -1).shape"
   ]
  },
  {
   "cell_type": "code",
   "execution_count": null,
   "metadata": {
    "colab": {
     "base_uri": "https://localhost:8080/",
     "height": 35
    },
    "colab_type": "code",
    "id": "o5AOhEC0XUAg",
    "outputId": "fc2a38ee-7ee4-4281-954b-d878febc5548"
   },
   "outputs": [],
   "source": [
    "matrix.reshape(1, -1)[0].shape"
   ]
  },
  {
   "cell_type": "code",
   "execution_count": null,
   "metadata": {
    "colab": {
     "base_uri": "https://localhost:8080/",
     "height": 35
    },
    "colab_type": "code",
    "id": "gxLzUdg8Xeqe",
    "outputId": "a01c1d6e-b189-4020-8389-f9337ee4c8a9"
   },
   "outputs": [],
   "source": [
    "matrix.flatten().shape"
   ]
  },
  {
   "cell_type": "markdown",
   "metadata": {
    "colab_type": "text",
    "id": "FLyYh7ozYtWE"
   },
   "source": [
    "## 1.12 Finding the Rank of a Matrix\n",
    "### Problem\n",
    "You need to know the rank of a matrix.\n",
    "\n",
    "### Solution\n",
    "Use NumPy’s linear algebra method matrix_rank:"
   ]
  },
  {
   "cell_type": "code",
   "execution_count": null,
   "metadata": {
    "colab": {
     "base_uri": "https://localhost:8080/",
     "height": 35
    },
    "colab_type": "code",
    "id": "4djfoUKbXjsm",
    "outputId": "d305e55c-cff2-4c74-dba1-d93a77037e2e"
   },
   "outputs": [],
   "source": [
    "# Create matrix\n",
    "matrix = np.array([[1, 1, 1],\n",
    "                   [1, 1, 10],\n",
    "                   [1, 1, 15]])\n",
    "\n",
    "# Return matrix rank\n",
    "np.linalg.matrix_rank(matrix)"
   ]
  },
  {
   "cell_type": "code",
   "execution_count": null,
   "metadata": {
    "colab": {},
    "colab_type": "code",
    "id": "GbChDD24Yx61"
   },
   "outputs": [],
   "source": []
  },
  {
   "cell_type": "markdown",
   "metadata": {
    "colab_type": "text",
    "id": "mzKycu2MYzKk"
   },
   "source": [
    "### Discussion\n",
    "The rank of a matrix is the dimensions of the vector space spanned by its columns or rows. Finding the rank of a matrix is easy in NumPy thanks to matrix_rank.\n",
    "\n",
    "### See Also\n",
    "- [The Rank of a Matrix, CliffsNotes](http://bit.ly/2HUzkMs)"
   ]
  },
  {
   "cell_type": "markdown",
   "metadata": {
    "colab_type": "text",
    "id": "inu7MDUYY_Xx"
   },
   "source": [
    "## 1.13 Calculating the Determinant\n",
    "### Problem\n",
    "You need to know the determinant of a matrix.\n",
    "\n",
    "### Solution\n",
    "Use NumPy’s linear algebra method det"
   ]
  },
  {
   "cell_type": "code",
   "execution_count": null,
   "metadata": {
    "colab": {
     "base_uri": "https://localhost:8080/",
     "height": 35
    },
    "colab_type": "code",
    "id": "uuBU8kKpY0u4",
    "outputId": "bb6c3ad8-8b0b-40e7-be4a-23f63216219a"
   },
   "outputs": [],
   "source": [
    "# Create matrix\n",
    "matrix = np.array([[1, 2, 3],\n",
    "                   [2, 4, 6],\n",
    "                   [3, 8, 9]])\n",
    "\n",
    "# Return determinant of matrix\n",
    "np.linalg.det(matrix)"
   ]
  },
  {
   "cell_type": "code",
   "execution_count": null,
   "metadata": {
    "colab": {
     "base_uri": "https://localhost:8080/",
     "height": 35
    },
    "colab_type": "code",
    "id": "Kp2Exm3EZN2R",
    "outputId": "93b0de8b-7a5c-4a86-c8da-1a197e66baec"
   },
   "outputs": [],
   "source": [
    "# Create matrix\n",
    "matrix = np.array([[1, 2, 3],\n",
    "                   [2, 6, 6],\n",
    "                   [4, 8, 9]])\n",
    "\n",
    "# Return determinant of matrix\n",
    "np.linalg.det(matrix)"
   ]
  },
  {
   "cell_type": "markdown",
   "metadata": {
    "colab_type": "text",
    "id": "uwFcmarlZGh8"
   },
   "source": [
    "### Discussion\n",
    "It can sometimes be useful to calculate the determinant of a matrix. NumPy makes this easy with det.\n",
    "\n",
    "### See Also\n",
    "- [The determinant | Essence of linear algebra, chapter 5](http://bit.ly/2FA6ToM)\n",
    "\n",
    "- [Determinant, Wolfram MathWorld](http://bit.ly/2FxSUzC)"
   ]
  },
  {
   "cell_type": "markdown",
   "metadata": {
    "colab_type": "text",
    "id": "qjb43dJ-aIwJ"
   },
   "source": [
    "## 1.14 Getting the Diagonal of a Matrix\n",
    "## Problem\n",
    "You need to get the diagonal elements of a matrix.\n",
    "\n",
    "### Solution\n",
    "Use diagonal:"
   ]
  },
  {
   "cell_type": "code",
   "execution_count": null,
   "metadata": {
    "colab": {
     "base_uri": "https://localhost:8080/",
     "height": 35
    },
    "colab_type": "code",
    "id": "tpYKtJueZEXy",
    "outputId": "28f9cec5-90e9-44a4-e69e-44944846c60b"
   },
   "outputs": [],
   "source": [
    "# Create matrix\n",
    "matrix = np.array([[1, 2, 3],\n",
    "                   [2, 4, 6],\n",
    "                   [3, 8, 9]])\n",
    "\n",
    "# Return diagonal elements\n",
    "matrix.diagonal()"
   ]
  },
  {
   "cell_type": "markdown",
   "metadata": {
    "colab_type": "text",
    "id": "UpPuJABzaR1z"
   },
   "source": [
    "### Discussion\n",
    "NumPy makes getting the diagonal elements of a matrix easy with diagonal. It is also possible to get a diagonal off from the main diagonal by using the offset parameter:"
   ]
  },
  {
   "cell_type": "code",
   "execution_count": null,
   "metadata": {
    "colab": {
     "base_uri": "https://localhost:8080/",
     "height": 35
    },
    "colab_type": "code",
    "id": "tQtw8s5jaPXr",
    "outputId": "058026ed-84f7-4890-f96b-be0a4251062f"
   },
   "outputs": [],
   "source": [
    "# Return diagonal one above the main diagonal\n",
    "matrix.diagonal(offset=1)"
   ]
  },
  {
   "cell_type": "code",
   "execution_count": null,
   "metadata": {
    "colab": {
     "base_uri": "https://localhost:8080/",
     "height": 35
    },
    "colab_type": "code",
    "id": "w3n8KJlzaVyG",
    "outputId": "6cc35196-3909-4b61-fff6-04718ea5a072"
   },
   "outputs": [],
   "source": [
    "# Return diagonal one below the main diagonal\n",
    "matrix.diagonal(offset=-1)"
   ]
  },
  {
   "cell_type": "markdown",
   "metadata": {
    "colab_type": "text",
    "id": "5jfxJda_abLW"
   },
   "source": [
    "## 1.15 Calculating the Trace of a Matrix\n",
    "### Problem\n",
    "You need to calculate the trace of a matrix.\n",
    "\n",
    "### Solution\n",
    "Use trace:"
   ]
  },
  {
   "cell_type": "code",
   "execution_count": null,
   "metadata": {
    "colab": {
     "base_uri": "https://localhost:8080/",
     "height": 35
    },
    "colab_type": "code",
    "id": "b65FBqvxaYgM",
    "outputId": "8d80ca1d-2f99-44d0-891a-c9dad043623f"
   },
   "outputs": [],
   "source": [
    "# Create matrix\n",
    "matrix = np.array([[1, 2, 3],\n",
    "                   [2, 4, 6],\n",
    "                   [3, 8, 9]])\n",
    "\n",
    "# Return trace\n",
    "matrix.trace()"
   ]
  },
  {
   "cell_type": "markdown",
   "metadata": {
    "colab_type": "text",
    "id": "MSvuKgjfaiJK"
   },
   "source": [
    "### Discussion\n",
    "The trace of a matrix is the sum of the diagonal elements and is often used under the hood in machine learning methods. Given a NumPy multidimensional array, we can calculate the trace using trace. We can also return the diagonal of a matrix and calculate its sum:"
   ]
  },
  {
   "cell_type": "code",
   "execution_count": null,
   "metadata": {
    "colab": {
     "base_uri": "https://localhost:8080/",
     "height": 35
    },
    "colab_type": "code",
    "id": "M8gDySGNagdA",
    "outputId": "c7567c8e-d20f-424f-aa36-1f589fbce655"
   },
   "outputs": [],
   "source": [
    "# Return diagonal and sum elements\n",
    "sum(matrix.diagonal())"
   ]
  },
  {
   "cell_type": "markdown",
   "metadata": {
    "colab_type": "text",
    "id": "VvgoxGMdaq2j"
   },
   "source": [
    "### See Also\n",
    "- [The Trace of a Square Matrix](http://bit.ly/2FunM45)"
   ]
  },
  {
   "cell_type": "markdown",
   "metadata": {
    "colab_type": "text",
    "id": "yF3jwSRaayHq"
   },
   "source": [
    "## 1.16 Finding Eigenvalues and Eigenvectors\n",
    "Problem\n",
    "You need to find the eigenvalues and eigenvectors of a square matrix.\n",
    "\n",
    "Solution\n",
    "Use NumPy’s linalg.eig:"
   ]
  },
  {
   "cell_type": "code",
   "execution_count": null,
   "metadata": {
    "colab": {},
    "colab_type": "code",
    "id": "h1WvVyCxaoSB"
   },
   "outputs": [],
   "source": [
    "# Create matrix\n",
    "matrix = np.array([[1, -1, 3],\n",
    "                   [1, 1, 6],\n",
    "                   [3, 8, 9]])\n",
    "\n",
    "# Calculate eigenvalues and eigenvectors\n",
    "eigenvalues, eigenvectors = np.linalg.eig(matrix)"
   ]
  },
  {
   "cell_type": "code",
   "execution_count": null,
   "metadata": {
    "colab": {
     "base_uri": "https://localhost:8080/",
     "height": 35
    },
    "colab_type": "code",
    "id": "sdapi1n3bI0D",
    "outputId": "0d379eed-58d0-426b-ea82-dd2f1e66cf07"
   },
   "outputs": [],
   "source": [
    "# View eigenvalues\n",
    "eigenvalues"
   ]
  },
  {
   "cell_type": "code",
   "execution_count": null,
   "metadata": {
    "colab": {
     "base_uri": "https://localhost:8080/",
     "height": 71
    },
    "colab_type": "code",
    "id": "ch8fmJJEbLvn",
    "outputId": "1813bf59-2c00-4365-dc95-d90e54450799"
   },
   "outputs": [],
   "source": [
    "# View eigenvectors\n",
    "eigenvectors"
   ]
  },
  {
   "cell_type": "markdown",
   "metadata": {
    "colab_type": "text",
    "id": "T0i04IoLbSwr"
   },
   "source": [
    "### Discussion\n",
    "Eigenvectors are widely used in machine learning libraries. Intuitively, given a linear transformation represented by a matrix, A, eigenvectors are vectors that, when that transformation is applied, change only in scale (not direction). More formally:\n",
    "\n",
    "$$A v = λ v$$\n",
    "\n",
    "where $A$ is a square matrix, $λ$ contains the eigenvalues and $v$ contains the eigenvectors. In NumPy’s linear algebra toolset, eig lets us calculate the eigenvalues, and eigenvectors of any square matrix.\n",
    "\n",
    "### See Also\n",
    "- [Eigenvectors and Eigenvalues Explained Visually, Setosa.io](http://bit.ly/2Hb32LV)\n",
    "\n",
    "- [Eigenvectors and eigenvalues | Essence of linear algebra, Chapter 10](http://bit.ly/2HeGppK)"
   ]
  },
  {
   "cell_type": "markdown",
   "metadata": {
    "colab_type": "text",
    "id": "pwBcai1Qbpip"
   },
   "source": [
    "## 1.17 Calculating Dot Products\n",
    "### Problem\n",
    "You need to calculate the dot product of two vectors.\n",
    "\n",
    "### Solution\n",
    "Use NumPy’s dot:"
   ]
  },
  {
   "cell_type": "code",
   "execution_count": null,
   "metadata": {
    "colab": {
     "base_uri": "https://localhost:8080/",
     "height": 35
    },
    "colab_type": "code",
    "id": "28uXUwcPbOo-",
    "outputId": "d6bcbff5-4ca3-4c75-c217-6bdd48cdda2e"
   },
   "outputs": [],
   "source": [
    "# Create two vectors\n",
    "vector_a = np.array([1,2,3])\n",
    "vector_b = np.array([4,5,6])\n",
    "\n",
    "# Calculate dot product\n",
    "np.dot(vector_a, vector_b)"
   ]
  },
  {
   "cell_type": "markdown",
   "metadata": {
    "colab_type": "text",
    "id": "M1-MhrcRbwl9"
   },
   "source": [
    "### Discussion\n",
    "The dot product of two vectors, a and b, is defined as:\n",
    "\n",
    "$$\n",
    "\\sum_{i=1}^{n} a_i b_i\n",
    "$$\n",
    "\n",
    "where $a_i$ is the ith element of vector a. We can use NumPy’s dot class to calculate the dot product. Alternatively, in Python 3.5+ we can use the new @ operator:"
   ]
  },
  {
   "cell_type": "code",
   "execution_count": null,
   "metadata": {
    "colab": {
     "base_uri": "https://localhost:8080/",
     "height": 35
    },
    "colab_type": "code",
    "id": "23hqL18Nbugl",
    "outputId": "e2da0121-c4e5-45cc-f1a6-95dec69746c6"
   },
   "outputs": [],
   "source": [
    "# Calculate dot product\n",
    "vector_a @ vector_b"
   ]
  },
  {
   "cell_type": "code",
   "execution_count": null,
   "metadata": {
    "colab": {},
    "colab_type": "code",
    "id": "v44a1yqVcN4X"
   },
   "outputs": [],
   "source": []
  },
  {
   "cell_type": "markdown",
   "metadata": {
    "colab_type": "text",
    "id": "AqaTN1IJcRJd"
   },
   "source": [
    "### See Also\n",
    "- [Vector dot product and vector length, Khan Academy](http://bit.ly/2Fr0AUe)\n",
    "\n",
    "- [Dot Product, Paul’s Online Math Notes](http://bit.ly/2HgZHLp)"
   ]
  },
  {
   "cell_type": "markdown",
   "metadata": {
    "colab_type": "text",
    "id": "H79nSDT4cbxg"
   },
   "source": [
    "## 1.18 Adding and Subtracting Matrices\n",
    "### Problem\n",
    "You want to add or subtract two matrices.\n",
    "\n",
    "### Solution\n",
    "Use NumPy’s add and subtract:"
   ]
  },
  {
   "cell_type": "code",
   "execution_count": null,
   "metadata": {
    "colab": {
     "base_uri": "https://localhost:8080/",
     "height": 71
    },
    "colab_type": "code",
    "id": "cuJ8v4X9cZNG",
    "outputId": "b8871479-70b1-4f14-cb21-7b1303f66b1b"
   },
   "outputs": [],
   "source": [
    "# Create matrix\n",
    "matrix_a = np.array([[1, 1, 1],\n",
    "                     [1, 1, 1],\n",
    "                     [1, 1, 2]])\n",
    "\n",
    "# Create matrix\n",
    "matrix_b = np.array([[1, 3, 1],\n",
    "                     [1, 3, 1],\n",
    "                     [1, 3, 8]])\n",
    "\n",
    "# Add two matrices\n",
    "np.add(matrix_a, matrix_b)"
   ]
  },
  {
   "cell_type": "code",
   "execution_count": null,
   "metadata": {
    "colab": {
     "base_uri": "https://localhost:8080/",
     "height": 71
    },
    "colab_type": "code",
    "id": "EI64FeK8chPf",
    "outputId": "d78b736e-fb04-4699-a7d9-f0cb9b4bf1eb"
   },
   "outputs": [],
   "source": [
    "# Subtract two matrices\n",
    "np.subtract(matrix_a, matrix_b)"
   ]
  },
  {
   "cell_type": "markdown",
   "metadata": {
    "colab_type": "text",
    "id": "jDNsIfJTcnMh"
   },
   "source": [
    "### Discussion\n",
    "Alternatively, we can simply use the + and - operators:"
   ]
  },
  {
   "cell_type": "code",
   "execution_count": null,
   "metadata": {
    "colab": {
     "base_uri": "https://localhost:8080/",
     "height": 71
    },
    "colab_type": "code",
    "id": "8FlSbKNacisY",
    "outputId": "f3bf10ca-ffcc-4541-a049-0c08d6586a3f"
   },
   "outputs": [],
   "source": [
    "# Add two matrices\n",
    "matrix_a + matrix_b"
   ]
  },
  {
   "cell_type": "markdown",
   "metadata": {
    "colab_type": "text",
    "id": "GS3nhwJLcvbs"
   },
   "source": [
    "## 1.19 Multiplying Matrices\n",
    "### Problem\n",
    "You want to multiply two matrices.\n",
    "\n",
    "### Solution\n",
    "Use NumPy’s dot:"
   ]
  },
  {
   "cell_type": "code",
   "execution_count": null,
   "metadata": {
    "colab": {
     "base_uri": "https://localhost:8080/",
     "height": 53
    },
    "colab_type": "code",
    "id": "fF-7zMcAcllK",
    "outputId": "7b8c3884-4a59-42e4-ce92-21028ec26c64"
   },
   "outputs": [],
   "source": [
    "# Create matrix\n",
    "matrix_a = np.array([[1, 1],\n",
    "                     [1, 2]])\n",
    "\n",
    "# Create matrix\n",
    "matrix_b = np.array([[1, 3],\n",
    "                     [1, 2]])\n",
    "\n",
    "# Multiply two matrices\n",
    "np.dot(matrix_a, matrix_b)"
   ]
  },
  {
   "cell_type": "code",
   "execution_count": null,
   "metadata": {
    "colab": {},
    "colab_type": "code",
    "id": "Zpn0NQGUc0ry"
   },
   "outputs": [],
   "source": []
  },
  {
   "cell_type": "markdown",
   "metadata": {
    "colab_type": "text",
    "id": "gQlgFJILc2fv"
   },
   "source": [
    "Discussion\n",
    "Alternatively, in Python 3.5+ we can use the @ operator:"
   ]
  },
  {
   "cell_type": "code",
   "execution_count": null,
   "metadata": {
    "colab": {
     "base_uri": "https://localhost:8080/",
     "height": 53
    },
    "colab_type": "code",
    "id": "tWCYlLFzc3ah",
    "outputId": "91714401-abd7-4c19-f43c-f2990be709b6"
   },
   "outputs": [],
   "source": [
    "# Multiply two matrices\n",
    "matrix_a @ matrix_b"
   ]
  },
  {
   "cell_type": "markdown",
   "metadata": {
    "colab_type": "text",
    "id": "D73onYLlc_1y"
   },
   "source": [
    "If we want to do element-wise multiplication, we can use the * operator:"
   ]
  },
  {
   "cell_type": "code",
   "execution_count": null,
   "metadata": {
    "colab": {
     "base_uri": "https://localhost:8080/",
     "height": 53
    },
    "colab_type": "code",
    "id": "4b7q9yKuc5Br",
    "outputId": "d78a89c9-cc82-400b-af43-6974ae43354b"
   },
   "outputs": [],
   "source": [
    "# Multiply two matrices element-wise\n",
    "matrix_a * matrix_b"
   ]
  },
  {
   "cell_type": "markdown",
   "metadata": {
    "colab_type": "text",
    "id": "KexDUw0fdDoI"
   },
   "source": [
    "### See Also\n",
    "- [Array vs. Matrix Operations, MathWorks](http://bit.ly/2FtpXVr)"
   ]
  },
  {
   "cell_type": "markdown",
   "metadata": {
    "colab_type": "text",
    "id": "FPJS0ViKdJuo"
   },
   "source": [
    "## 1.20 Inverting a Matrix\n",
    "### Problem\n",
    "You want to calculate the inverse of a square matrix.\n",
    "\n",
    "### Solution\n",
    "Use NumPy’s linear algebra inv method:"
   ]
  },
  {
   "cell_type": "code",
   "execution_count": null,
   "metadata": {
    "colab": {
     "base_uri": "https://localhost:8080/",
     "height": 53
    },
    "colab_type": "code",
    "id": "4AcUR8sddB8N",
    "outputId": "fa42a026-1d48-4a26-d664-27949df58cd2"
   },
   "outputs": [],
   "source": [
    "# Create matrix\n",
    "matrix = np.array([[1, 4],\n",
    "                   [2, 5]])\n",
    "\n",
    "# Calculate inverse of matrix\n",
    "np.linalg.inv(matrix)"
   ]
  },
  {
   "cell_type": "markdown",
   "metadata": {
    "colab_type": "text",
    "id": "HEHeh1NTdRM3"
   },
   "source": [
    "### Discussion\n",
    "The inverse of a square matrix, $A$, is a second matrix $A^{–1}$, such that:\n",
    "\n",
    "$$A A^{-1} = I$$\n",
    "\n",
    "where $I$ is the identity matrix. In NumPy we can use linalg.inv to calculate $A^{–1}$ if it exists. To see this in action, we can multiply a matrix by its inverse and the result is the identity matrix:"
   ]
  },
  {
   "cell_type": "code",
   "execution_count": null,
   "metadata": {
    "colab": {
     "base_uri": "https://localhost:8080/",
     "height": 53
    },
    "colab_type": "code",
    "id": "Ea5zIeUDdOMs",
    "outputId": "76291f5e-6d55-4338-b3dd-a1a23574c8a0"
   },
   "outputs": [],
   "source": [
    "# Multiply matrix and its inverse\n",
    "matrix @ np.linalg.inv(matrix)"
   ]
  },
  {
   "cell_type": "markdown",
   "metadata": {
    "colab_type": "text",
    "id": "keGEH9dMdp3M"
   },
   "source": [
    "### See Also\n",
    "- [Inverse of a Matrix](http://bit.ly/2Fzf0BS)"
   ]
  },
  {
   "cell_type": "markdown",
   "metadata": {
    "colab_type": "text",
    "id": "rdY6AIKzdwKM"
   },
   "source": [
    "## 1.21 Generating Random Values\n",
    "### Problem\n",
    "You want to generate pseudorandom values.\n",
    "\n",
    "### Solution\n",
    "Use NumPy’s random:"
   ]
  },
  {
   "cell_type": "code",
   "execution_count": null,
   "metadata": {
    "colab": {
     "base_uri": "https://localhost:8080/",
     "height": 35
    },
    "colab_type": "code",
    "id": "DgMWbBA6dnzg",
    "outputId": "1f6eb34c-5754-4dec-e6fa-10e64fbfe020"
   },
   "outputs": [],
   "source": [
    "# Set seed\n",
    "np.random.seed(0)\n",
    "\n",
    "# Generate three random floats between 0.0 and 1.0\n",
    "np.random.random(3)"
   ]
  },
  {
   "cell_type": "markdown",
   "metadata": {
    "colab_type": "text",
    "id": "u1WfLXA3d2Vv"
   },
   "source": [
    "### Discussion\n",
    "NumPy offers a wide variety of means to generate random numbers, many more than can be covered here. \n",
    "\n",
    "Note that if `np.random.seed` is `None`, then `RandomState` will try to read data from /dev/urandom (or the Windows analogue) if available or seed from the clock otherwise, rather than using a repeatable pseudo random sequence.\n",
    "\n",
    "In our solution we generated floats; however, it is also common to generate integers:"
   ]
  },
  {
   "cell_type": "code",
   "execution_count": null,
   "metadata": {
    "colab": {
     "base_uri": "https://localhost:8080/",
     "height": 35
    },
    "colab_type": "code",
    "id": "p10FVv6Ed0Td",
    "outputId": "3e6b1275-7229-4a6c-ce66-50b66a8efe38"
   },
   "outputs": [],
   "source": [
    "# Generate three random integers between 1 and 10\n",
    "np.random.randint(0, 11, 3)"
   ]
  },
  {
   "cell_type": "markdown",
   "metadata": {
    "colab_type": "text",
    "id": "BkPk-cFid7-C"
   },
   "source": [
    "Alternatively, we can generate numbers by drawing them from a distribution:"
   ]
  },
  {
   "cell_type": "code",
   "execution_count": null,
   "metadata": {
    "colab": {
     "base_uri": "https://localhost:8080/",
     "height": 35
    },
    "colab_type": "code",
    "id": "n-0BHgIod883",
    "outputId": "78f1fc1a-9a1f-41a7-f2dd-ca1eeab404bf"
   },
   "outputs": [],
   "source": [
    "# Draw three numbers from a normal distribution with mean 0.0\n",
    "# and standard deviation of 1.0\n",
    "np.random.normal(0.0, 1.0, 3)"
   ]
  },
  {
   "cell_type": "code",
   "execution_count": null,
   "metadata": {
    "colab": {
     "base_uri": "https://localhost:8080/",
     "height": 35
    },
    "colab_type": "code",
    "id": "tkSdB0Bkd6W_",
    "outputId": "9941ea98-2f12-46cd-cdfc-84518eb7fa90"
   },
   "outputs": [],
   "source": [
    "# Draw three numbers from a logistic distribution with mean 0.0 and scale of 1.0\n",
    "np.random.logistic(0.0, 1.0, 3)"
   ]
  },
  {
   "cell_type": "code",
   "execution_count": null,
   "metadata": {
    "colab": {
     "base_uri": "https://localhost:8080/",
     "height": 35
    },
    "colab_type": "code",
    "id": "2jNcjhgpeEbV",
    "outputId": "65581e31-801c-40db-a221-81610733d9d2"
   },
   "outputs": [],
   "source": [
    "# Draw three numbers greater than or equal to 1.0 and less than 2.0\n",
    "np.random.uniform(1.0, 2.0, 3)"
   ]
  },
  {
   "cell_type": "markdown",
   "metadata": {
    "colab_type": "text",
    "id": "Q69N1__deKGf"
   },
   "source": [
    "## Setting the random seed\n",
    "\n",
    "Finally, it can sometimes be useful to return the same random numbers multiple times to get predictable, repeatable results. We can do this by setting the “seed” (an integer) of the pseudorandom generator. Random processes with the same seed will always produce the same output. \n",
    "\n"
   ]
  },
  {
   "cell_type": "markdown",
   "metadata": {
    "colab_type": "text",
    "id": "cRbNJN8ceb1R"
   },
   "source": [
    "### End of notebook."
   ]
  }
 ],
 "metadata": {
  "colab": {
   "include_colab_link": true,
   "name": "numpy_data_structures.ipynb",
   "provenance": [],
   "toc_visible": true,
   "version": "0.3.2"
  },
  "kernelspec": {
   "display_name": "Python 3",
   "language": "python",
   "name": "python3"
  },
  "language_info": {
   "codemirror_mode": {
    "name": "ipython",
    "version": 3
   },
   "file_extension": ".py",
   "mimetype": "text/x-python",
   "name": "python",
   "nbconvert_exporter": "python",
   "pygments_lexer": "ipython3",
   "version": "3.6.8"
  }
 },
 "nbformat": 4,
 "nbformat_minor": 1
}
