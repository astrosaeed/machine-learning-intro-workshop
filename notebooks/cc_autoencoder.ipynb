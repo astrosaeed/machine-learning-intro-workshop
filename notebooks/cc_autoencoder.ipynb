{
 "cells": [
  {
   "cell_type": "markdown",
   "metadata": {},
   "source": [
    "# Fraud Detection Using Autoencoders in Keras with a TensorFlow Backend\n",
    "\n",
    "From [Fraud Detection Using Autoencoders in Keras with a TensorFlow Backend](https://www.datascience.com/blog/fraud-detection-with-tensorflow) by [David Ellison, PhD]() in [www.datascience.com](https://www.datascience.com/)\n",
    "\n",
    "Updated by [John Fogarty](https://github.com/jfogarty) for Python 3.6 and [Base2 MLI](https://github.com/base2solutions/mli).\n",
    "\n",
    "In this tutorial, we will use a [neural network](https://datascience.hubs.vidyard.com/watch/CYfbzzj57RPfCwoMnEHD4M) called an autoencoder to detect fraudulent credit/debit card transactions on a Kaggle dataset. We will introduce the importance of the business case, introduce autoencoders, perform an exploratory data analysis, and create and then evaluate the model. The model will be presented using Keras with a TensorFlow backend using a Jupyter Notebook and generally applicable to a wide range of anomaly detection problems.\n",
    "\n",
    "## Introduction\n",
    "### Card Fraud as a Booming Business\n",
    "\n",
    "Nilson reports that U.S. card fraud (credit, debt, etc) was reportedly [\\\\$9 billion in 2016](https://nilsonreport.com/) and expected to increase to [\\\\$12 billion by 2020](https://www.forbes.com/sites/rogeraitken/2016/10/26/us-card-fraud-losses-could-exceed-12bn-by-2020/#59e00dd6d243). For perspective, in 2017 both PayPal's and Mastercard's revenue was only $10.8 billion each.\n",
    "\n",
    "### Fraud Detection Algorithms\n",
    "Traditionally, many major banks have relied on old rules-based expert systems to catch fraud, but these systems have proved all too easy to beat; the financial services industry is relying on increasing complex fraud detection algorithms. Many in the financial services industry have updated their fraud detection to include some basic [machine learning algorithms](https://www.datascience.com/blog/introduction-to-machine-learning-algorithms) including various clustering classifiers, linear approaches, and support vector machines. The most advanced companies in the financial services industry, such as [PayPal](https://www.americanbanker.com/news/how-paypal-is-taking-a-chance-on-ai-to-fight-fraud), have been pioneering more advanced artificial intelligence techniques such as [deep neural networks and autoencoders](https://www.infoworld.com/article/2907877/machine-learning/how-paypal-reduces-fraud-with-machine-learning.html). Long story short, if you want to be where the industry is going and where the jobs are, focus on more advanced fraud detection techniques. This tutorial will focus on one of those more advanced techniques, autoencoders.\n",
    "\n",
    "### Autoencoders and Why You Should Use Them\n",
    "Autoencoders are a type of neural network that takes an input (e.g. image, dataset), boils that input down to core features, and reverses the process to recreate the input. Although it may sound pointless to feed in input just to get the same thing out, it is in fact very useful for a number of applications. The key here is that the autoencoder boils down (encodes) the input into some key features that it determines in an [unsupervised manner](https://www.datascience.com/blog/supervised-and-unsupervised-machine-learning-algorithms). Hence the name \"autoencoder\" — it automatically encodes the input.\n",
    "\n",
    "![bicycle-autoencoder](../images/ae_bicycle-autoencoder.jpg)\n",
    "\n",
    "Let us take this autoencoder of a bicycle as an example. The input is some actual picture of a bicycle that is then reduced to some hidden encoding (perhaps representing components such as handlebars and two wheels) and then is able to reconstruct the original object from that encoding. Of course there will be some loss (\"reconstruction error\") but hopefully the parts that remain will be the essential pieces of a bicycle.\n",
    "\n",
    "Now let us assume you fed something into this autoencoder that was a unicycle trying to pose as a bicycle. In the process of breaking down the unicycle into components intended for bicycles, the reconstructed version of the unicycle will be really altered (i.e. suffer a high reconstruction error). It is the assumption in using autoencoders that fraud or anomalies will suffer from a detectably high reconstruction error. \n"
   ]
  },
  {
   "cell_type": "markdown",
   "metadata": {},
   "source": [
    "\n",
    "## Import Statements\n",
    "First, let's set up the code and import all the necessary packages."
   ]
  },
  {
   "cell_type": "code",
   "execution_count": 1,
   "metadata": {},
   "outputs": [
    {
     "name": "stderr",
     "output_type": "stream",
     "text": [
      "Using TensorFlow backend.\n"
     ]
    }
   ],
   "source": [
    "# import packages\n",
    "%matplotlib inline\n",
    "import pandas as pd\n",
    "import numpy as np\n",
    "from scipy import stats\n",
    "\n",
    "import matplotlib.pyplot as plt\n",
    "\n",
    "import pickle\n",
    "from sklearn.model_selection import train_test_split\n",
    "from sklearn.metrics import confusion_matrix, precision_recall_curve\n",
    "from sklearn.metrics import recall_score, classification_report, auc, roc_curve\n",
    "from sklearn.metrics import precision_recall_fscore_support, f1_score\n",
    "from sklearn.preprocessing import StandardScaler\n",
    "from pylab import rcParams\n",
    "from keras.models import Model, load_model\n",
    "from keras.layers import Input, Dense\n",
    "from keras.callbacks import ModelCheckpoint, TensorBoard\n",
    "from keras import regularizers\n",
    "\n",
    "#set random seed and percentage of test data\n",
    "RANDOM_SEED = 314 #used to help randomly select the data points\n",
    "TEST_PCT = 0.2 # 20% of the data\n",
    "\n",
    "#set up graphic style in this case I am using the color scheme from xkcd.com\n",
    "rcParams['figure.figsize'] = 14, 8.7 # Golden Mean\n",
    "LABELS = [\"Normal\",\"Fraud\"]\n",
    "col_list = [\"cerulean\",\"scarlet\"]# https://xkcd.com/color/rgb/\n"
   ]
  },
  {
   "cell_type": "code",
   "execution_count": 2,
   "metadata": {},
   "outputs": [],
   "source": [
    "import seaborn as sns"
   ]
  },
  {
   "cell_type": "code",
   "execution_count": 3,
   "metadata": {},
   "outputs": [],
   "source": [
    "#sns.set(style='white', font_scale=1.75, palette=sns.xkcd_palette(col_list))"
   ]
  },
  {
   "cell_type": "markdown",
   "metadata": {},
   "source": [
    "I (JF) neutered the seaborn style settings due to a version error.  Instead I used the 'seaborn-poster' selection below.  [Here's](https://medium.com/@andykashyap/top-5-tricks-to-make-plots-look-better-9f6e687c1e08) a note on using styles."
   ]
  },
  {
   "cell_type": "code",
   "execution_count": 4,
   "metadata": {},
   "outputs": [
    {
     "data": {
      "text/plain": [
       "['bmh',\n",
       " 'classic',\n",
       " 'dark_background',\n",
       " 'fast',\n",
       " 'fivethirtyeight',\n",
       " 'ggplot',\n",
       " 'grayscale',\n",
       " 'seaborn-bright',\n",
       " 'seaborn-colorblind',\n",
       " 'seaborn-dark-palette',\n",
       " 'seaborn-dark',\n",
       " 'seaborn-darkgrid',\n",
       " 'seaborn-deep',\n",
       " 'seaborn-muted',\n",
       " 'seaborn-notebook',\n",
       " 'seaborn-paper',\n",
       " 'seaborn-pastel',\n",
       " 'seaborn-poster',\n",
       " 'seaborn-talk',\n",
       " 'seaborn-ticks',\n",
       " 'seaborn-white',\n",
       " 'seaborn-whitegrid',\n",
       " 'seaborn',\n",
       " 'Solarize_Light2',\n",
       " 'tableau-colorblind10',\n",
       " '_classic_test']"
      ]
     },
     "execution_count": 4,
     "metadata": {},
     "output_type": "execute_result"
    }
   ],
   "source": [
    "import matplotlib.style as style \n",
    "style.available"
   ]
  },
  {
   "cell_type": "code",
   "execution_count": 5,
   "metadata": {},
   "outputs": [],
   "source": [
    "style.use('seaborn-poster') #sets the style of the charts"
   ]
  },
  {
   "cell_type": "markdown",
   "metadata": {},
   "source": [
    "## Import and Check Data\n",
    "Download the credit card fraud dataset from [Kaggle](https://www.kaggle.com/mlg-ulb/creditcardfraud/data) and place it in the same directory as your python notebook. The data contains 284,807 European credit card transactions that occurred over two days with 492 fraudulent transactions. Everything except the time and amount has been reduced by a [Principle Component Analysis (PCA) for privacy concerns](https://www.kaggle.com/mlg-ulb/creditcardfraud/home#)."
   ]
  },
  {
   "cell_type": "code",
   "execution_count": 6,
   "metadata": {},
   "outputs": [],
   "source": [
    "import numpy as np\n",
    "import requests\n",
    "import shutil\n",
    "import os\n",
    "\n",
    "ds = np.DataSource()\n",
    "def copyHere(URL, toPath):\n",
    "    toDir, toFile = os.path.split(toPath)\n",
    "    toPath = os.path.join(toDir, toFile)\n",
    "    if ds.exists(URL):\n",
    "        if not toFile:\n",
    "            urlPrefix, toFile = os.path.split(URL)\n",
    "        response = requests.get(URL, stream=True)\n",
    "        response.raw.decode_content=True\n",
    "        if toDir:\n",
    "            if not os.path.exists(toDir): \n",
    "              print(f\"- Creating directory '{toDir}'.\")\n",
    "              os.makedirs(toDir)\n",
    "        with open(toPath, 'wb') as fin: shutil.copyfileobj(response.raw, fin)\n",
    "        print(f\"- Copied {URL} to {toPath}.\")\n",
    "    else:\n",
    "        print(f\"** Sorry, can't copy '{URL}' to '{toPath}'.\")\n",
    "        exit()  "
   ]
  },
  {
   "cell_type": "code",
   "execution_count": 7,
   "metadata": {
    "scrolled": true
   },
   "outputs": [
    {
     "name": "stdout",
     "output_type": "stream",
     "text": [
      "- Copied https://raw.githubusercontent.com/nsethi31/Kaggle-Data-Credit-Card-Fraud-Detection/master/creditcard.csv to tmpData\\creditcard.csv.\n"
     ]
    }
   ],
   "source": [
    "filename = 'creditcard.csv'\n",
    "REPO     = 'https://raw.githubusercontent.com/nsethi31/Kaggle-Data-Credit-Card-Fraud-Detection/'\n",
    "BRANCH   = 'master/'\n",
    "DIR      = ''\n",
    "URL      = os.path.join(REPO, BRANCH, DIR, filename)\n",
    "TMPDIR   = 'tmpData'\n",
    "toPath   = os.path.join(TMPDIR, filename)\n",
    "copyHere(URL, toPath)"
   ]
  },
  {
   "cell_type": "code",
   "execution_count": 8,
   "metadata": {},
   "outputs": [
    {
     "data": {
      "text/html": [
       "<div>\n",
       "<style scoped>\n",
       "    .dataframe tbody tr th:only-of-type {\n",
       "        vertical-align: middle;\n",
       "    }\n",
       "\n",
       "    .dataframe tbody tr th {\n",
       "        vertical-align: top;\n",
       "    }\n",
       "\n",
       "    .dataframe thead th {\n",
       "        text-align: right;\n",
       "    }\n",
       "</style>\n",
       "<table border=\"1\" class=\"dataframe\">\n",
       "  <thead>\n",
       "    <tr style=\"text-align: right;\">\n",
       "      <th></th>\n",
       "      <th>Time</th>\n",
       "      <th>V1</th>\n",
       "      <th>V2</th>\n",
       "      <th>V3</th>\n",
       "      <th>V4</th>\n",
       "      <th>V5</th>\n",
       "      <th>V6</th>\n",
       "      <th>V7</th>\n",
       "      <th>V8</th>\n",
       "      <th>V9</th>\n",
       "      <th>...</th>\n",
       "      <th>V21</th>\n",
       "      <th>V22</th>\n",
       "      <th>V23</th>\n",
       "      <th>V24</th>\n",
       "      <th>V25</th>\n",
       "      <th>V26</th>\n",
       "      <th>V27</th>\n",
       "      <th>V28</th>\n",
       "      <th>Amount</th>\n",
       "      <th>Class</th>\n",
       "    </tr>\n",
       "  </thead>\n",
       "  <tbody>\n",
       "    <tr>\n",
       "      <th>0</th>\n",
       "      <td>0.0</td>\n",
       "      <td>-1.359807</td>\n",
       "      <td>-0.072781</td>\n",
       "      <td>2.536347</td>\n",
       "      <td>1.378155</td>\n",
       "      <td>-0.338321</td>\n",
       "      <td>0.462388</td>\n",
       "      <td>0.239599</td>\n",
       "      <td>0.098698</td>\n",
       "      <td>0.363787</td>\n",
       "      <td>...</td>\n",
       "      <td>-0.018307</td>\n",
       "      <td>0.277838</td>\n",
       "      <td>-0.110474</td>\n",
       "      <td>0.066928</td>\n",
       "      <td>0.128539</td>\n",
       "      <td>-0.189115</td>\n",
       "      <td>0.133558</td>\n",
       "      <td>-0.021053</td>\n",
       "      <td>149.62</td>\n",
       "      <td>0</td>\n",
       "    </tr>\n",
       "    <tr>\n",
       "      <th>1</th>\n",
       "      <td>0.0</td>\n",
       "      <td>1.191857</td>\n",
       "      <td>0.266151</td>\n",
       "      <td>0.166480</td>\n",
       "      <td>0.448154</td>\n",
       "      <td>0.060018</td>\n",
       "      <td>-0.082361</td>\n",
       "      <td>-0.078803</td>\n",
       "      <td>0.085102</td>\n",
       "      <td>-0.255425</td>\n",
       "      <td>...</td>\n",
       "      <td>-0.225775</td>\n",
       "      <td>-0.638672</td>\n",
       "      <td>0.101288</td>\n",
       "      <td>-0.339846</td>\n",
       "      <td>0.167170</td>\n",
       "      <td>0.125895</td>\n",
       "      <td>-0.008983</td>\n",
       "      <td>0.014724</td>\n",
       "      <td>2.69</td>\n",
       "      <td>0</td>\n",
       "    </tr>\n",
       "    <tr>\n",
       "      <th>2</th>\n",
       "      <td>1.0</td>\n",
       "      <td>-1.358354</td>\n",
       "      <td>-1.340163</td>\n",
       "      <td>1.773209</td>\n",
       "      <td>0.379780</td>\n",
       "      <td>-0.503198</td>\n",
       "      <td>1.800499</td>\n",
       "      <td>0.791461</td>\n",
       "      <td>0.247676</td>\n",
       "      <td>-1.514654</td>\n",
       "      <td>...</td>\n",
       "      <td>0.247998</td>\n",
       "      <td>0.771679</td>\n",
       "      <td>0.909412</td>\n",
       "      <td>-0.689281</td>\n",
       "      <td>-0.327642</td>\n",
       "      <td>-0.139097</td>\n",
       "      <td>-0.055353</td>\n",
       "      <td>-0.059752</td>\n",
       "      <td>378.66</td>\n",
       "      <td>0</td>\n",
       "    </tr>\n",
       "    <tr>\n",
       "      <th>3</th>\n",
       "      <td>1.0</td>\n",
       "      <td>-0.966272</td>\n",
       "      <td>-0.185226</td>\n",
       "      <td>1.792993</td>\n",
       "      <td>-0.863291</td>\n",
       "      <td>-0.010309</td>\n",
       "      <td>1.247203</td>\n",
       "      <td>0.237609</td>\n",
       "      <td>0.377436</td>\n",
       "      <td>-1.387024</td>\n",
       "      <td>...</td>\n",
       "      <td>-0.108300</td>\n",
       "      <td>0.005274</td>\n",
       "      <td>-0.190321</td>\n",
       "      <td>-1.175575</td>\n",
       "      <td>0.647376</td>\n",
       "      <td>-0.221929</td>\n",
       "      <td>0.062723</td>\n",
       "      <td>0.061458</td>\n",
       "      <td>123.50</td>\n",
       "      <td>0</td>\n",
       "    </tr>\n",
       "    <tr>\n",
       "      <th>4</th>\n",
       "      <td>2.0</td>\n",
       "      <td>-1.158233</td>\n",
       "      <td>0.877737</td>\n",
       "      <td>1.548718</td>\n",
       "      <td>0.403034</td>\n",
       "      <td>-0.407193</td>\n",
       "      <td>0.095921</td>\n",
       "      <td>0.592941</td>\n",
       "      <td>-0.270533</td>\n",
       "      <td>0.817739</td>\n",
       "      <td>...</td>\n",
       "      <td>-0.009431</td>\n",
       "      <td>0.798278</td>\n",
       "      <td>-0.137458</td>\n",
       "      <td>0.141267</td>\n",
       "      <td>-0.206010</td>\n",
       "      <td>0.502292</td>\n",
       "      <td>0.219422</td>\n",
       "      <td>0.215153</td>\n",
       "      <td>69.99</td>\n",
       "      <td>0</td>\n",
       "    </tr>\n",
       "  </tbody>\n",
       "</table>\n",
       "<p>5 rows × 31 columns</p>\n",
       "</div>"
      ],
      "text/plain": [
       "   Time        V1        V2        V3        V4        V5        V6        V7  \\\n",
       "0   0.0 -1.359807 -0.072781  2.536347  1.378155 -0.338321  0.462388  0.239599   \n",
       "1   0.0  1.191857  0.266151  0.166480  0.448154  0.060018 -0.082361 -0.078803   \n",
       "2   1.0 -1.358354 -1.340163  1.773209  0.379780 -0.503198  1.800499  0.791461   \n",
       "3   1.0 -0.966272 -0.185226  1.792993 -0.863291 -0.010309  1.247203  0.237609   \n",
       "4   2.0 -1.158233  0.877737  1.548718  0.403034 -0.407193  0.095921  0.592941   \n",
       "\n",
       "         V8        V9  ...       V21       V22       V23       V24       V25  \\\n",
       "0  0.098698  0.363787  ... -0.018307  0.277838 -0.110474  0.066928  0.128539   \n",
       "1  0.085102 -0.255425  ... -0.225775 -0.638672  0.101288 -0.339846  0.167170   \n",
       "2  0.247676 -1.514654  ...  0.247998  0.771679  0.909412 -0.689281 -0.327642   \n",
       "3  0.377436 -1.387024  ... -0.108300  0.005274 -0.190321 -1.175575  0.647376   \n",
       "4 -0.270533  0.817739  ... -0.009431  0.798278 -0.137458  0.141267 -0.206010   \n",
       "\n",
       "        V26       V27       V28  Amount  Class  \n",
       "0 -0.189115  0.133558 -0.021053  149.62      0  \n",
       "1  0.125895 -0.008983  0.014724    2.69      0  \n",
       "2 -0.139097 -0.055353 -0.059752  378.66      0  \n",
       "3 -0.221929  0.062723  0.061458  123.50      0  \n",
       "4  0.502292  0.219422  0.215153   69.99      0  \n",
       "\n",
       "[5 rows x 31 columns]"
      ]
     },
     "execution_count": 8,
     "metadata": {},
     "output_type": "execute_result"
    }
   ],
   "source": [
    "df = pd.read_csv(toPath) #unzip and read in data downloaded to the local directory\n",
    "df.head(n=5) #just to check you imported the dataset properly"
   ]
  },
  {
   "cell_type": "markdown",
   "metadata": {},
   "source": [
    "The data looks like we would expect on the surface, but let's double check the shape (we are expecting 294,807 rows and 31 columns). It is a well-groomed dataset so we expect no null values."
   ]
  },
  {
   "cell_type": "code",
   "execution_count": 9,
   "metadata": {},
   "outputs": [
    {
     "data": {
      "text/plain": [
       "(284807, 31)"
      ]
     },
     "execution_count": 9,
     "metadata": {},
     "output_type": "execute_result"
    }
   ],
   "source": [
    "df.shape #secondary check on the size of the dataframe"
   ]
  },
  {
   "cell_type": "code",
   "execution_count": 10,
   "metadata": {},
   "outputs": [
    {
     "data": {
      "text/plain": [
       "False"
      ]
     },
     "execution_count": 10,
     "metadata": {},
     "output_type": "execute_result"
    }
   ],
   "source": [
    "df.isnull().values.any() #check to see if any values are null, which there are not"
   ]
  },
  {
   "cell_type": "markdown",
   "metadata": {},
   "source": [
    "Indeed the data seems to be cleaned and loaded as we expect. Now we want to check if we have the expected number of normal and fraudulent rows of data. We will simply pull the \"Class\" column and count the number of normal (0) and fraud (1) rows."
   ]
  },
  {
   "cell_type": "code",
   "execution_count": 11,
   "metadata": {},
   "outputs": [
    {
     "data": {
      "text/plain": [
       "0    284315\n",
       "1       492\n",
       "Name: Class, dtype: int64"
      ]
     },
     "execution_count": 11,
     "metadata": {},
     "output_type": "execute_result"
    }
   ],
   "source": [
    "pd.value_counts(df['Class'], sort = True) #class comparison 0=Normal 1=Fraud"
   ]
  },
  {
   "cell_type": "markdown",
   "metadata": {},
   "source": [
    "The counts are as expected (284,315 normal transactions and 492 fraud transactions). As is typical in fraud and anomaly detection in general, this is a very unbalanced dataset. "
   ]
  },
  {
   "cell_type": "markdown",
   "metadata": {},
   "source": [
    "# Exploratory Data Analysis\n",
    "## Balance of Data Visualization\n",
    "Let's get a visual confirmation of the unbalanced data in this fraud dataset."
   ]
  },
  {
   "cell_type": "code",
   "execution_count": 12,
   "metadata": {},
   "outputs": [
    {
     "data": {
      "image/png": "[encoded data removed]",
      "text/plain": [
       "<Figure size 921.6x633.6 with 1 Axes>"
      ]
     },
     "metadata": {
      "needs_background": "light"
     },
     "output_type": "display_data"
    }
   ],
   "source": [
    "#if you don't have an intuitive sense of how imbalanced these two classes are, let's go visual\n",
    "count_classes = pd.value_counts(df['Class'], sort = True)\n",
    "count_classes.plot(kind = 'bar', rot=0)\n",
    "plt.xticks(range(2), LABELS)\n",
    "plt.title(\"Frequency by observation number\")\n",
    "plt.xlabel(\"Class\")\n",
    "plt.ylabel(\"Number of Observations\");"
   ]
  },
  {
   "cell_type": "markdown",
   "metadata": {},
   "source": [
    "As you can see, the normal cases strongly outweigh the fraud cases.\n",
    "\n",
    "## Summary Statistics of the Transaction Amount Data\n",
    "We will cut up the dataset into two data frames, one for normal transactions and the other for fraud."
   ]
  },
  {
   "cell_type": "code",
   "execution_count": 13,
   "metadata": {},
   "outputs": [],
   "source": [
    "normal_df = df[df.Class == 0] #save normal_df observations into a separate df\n",
    "fraud_df = df[df.Class == 1] #do the same for fraud"
   ]
  },
  {
   "cell_type": "markdown",
   "metadata": {},
   "source": [
    "Let's look at some summary statistics and see if there are obvious differences between fraud and normal transactions."
   ]
  },
  {
   "cell_type": "code",
   "execution_count": 14,
   "metadata": {},
   "outputs": [
    {
     "data": {
      "text/plain": [
       "count    284315.000000\n",
       "mean         88.291022\n",
       "std         250.105092\n",
       "min           0.000000\n",
       "25%           5.650000\n",
       "50%          22.000000\n",
       "75%          77.050000\n",
       "max       25691.160000\n",
       "Name: Amount, dtype: float64"
      ]
     },
     "execution_count": 14,
     "metadata": {},
     "output_type": "execute_result"
    }
   ],
   "source": [
    "normal_df.Amount.describe()"
   ]
  },
  {
   "cell_type": "code",
   "execution_count": 15,
   "metadata": {},
   "outputs": [
    {
     "data": {
      "text/plain": [
       "count     492.000000\n",
       "mean      122.211321\n",
       "std       256.683288\n",
       "min         0.000000\n",
       "25%         1.000000\n",
       "50%         9.250000\n",
       "75%       105.890000\n",
       "max      2125.870000\n",
       "Name: Amount, dtype: float64"
      ]
     },
     "execution_count": 15,
     "metadata": {},
     "output_type": "execute_result"
    }
   ],
   "source": [
    "fraud_df.Amount.describe()"
   ]
  },
  {
   "cell_type": "markdown",
   "metadata": {},
   "source": [
    "Although the mean is a little higher in the fraud transactions, it is certainly within a standard deviation and so is unlikely to be easy to discriminate in a highly precise manner between the classes with pure statistical methods. I could run statistical tests (e.g. t-test) to support the claim that the two samples likely come from populations with similar means and deviations. However, such statistical methods are not the focus of this article on autoencoders.\n",
    "\n",
    "## Visual Exploration of the Transaction Amount Data\n",
    "We are going to get more familiar with the data and try some basic visuals. In anomaly detection datasets it is common to have the areas of interest \"washed out\" by abundant data. The most common method is to simply 'slice and dice' the data in a couple different ways until something interesting is found. Although this practice is common, it is not a scientifically sound way to explore data. There are always non-meaningful quirks to real data, so just looking until you \"find something interesting\" is likely going to result in you finding false positives. In other words, you find a random pattern in the current data set that will never be seen again. As a [famous economist](https://www.nobelprize.org/nobel_prizes/economic-sciences/laureates/1991/coase-bio.html) wrote, [\"If you torture the data long enough, it will confess.\"](https://www.goodreads.com/quotes/1249307-if-you-torture-the-data-long-enough-it-will-confess)\n",
    "\n",
    "In this dataset, I expect a lot of low-value transactions that will be generally uninteresting (buying cups of coffee, lunches, etc). This abundant data is likely to wash out the rest of the data, so I decided to look at the data in a number different \\\\$100 and \\\\$1,000 intervals. Since it would be tedious to show reader these graphs, I will only show the final graph that only visualizes the transactions above \\\\$200."
   ]
  },
  {
   "cell_type": "code",
   "execution_count": 16,
   "metadata": {},
   "outputs": [
    {
     "data": {
      "image/png": "[encoded data removed]",
      "text/plain": [
       "<Figure size 921.6x633.6 with 1 Axes>"
      ]
     },
     "metadata": {
      "needs_background": "light"
     },
     "output_type": "display_data"
    }
   ],
   "source": [
    "#plot of high value transactions\n",
    "bins = np.linspace(200, 2500, 100)\n",
    "plt.hist(normal_df.Amount, bins, alpha=1, density=True, label='Normal')\n",
    "plt.hist(fraud_df.Amount, bins, alpha=0.6, density=True, label='Fraud')\n",
    "plt.legend(loc='upper right')\n",
    "plt.title(\"Amount by percentage of transactions (transactions \\$200+)\")\n",
    "plt.xlabel(\"Transaction amount (USD)\")\n",
    "plt.ylabel(\"Percentage of transactions (%)\");\n",
    "plt.show()"
   ]
  },
  {
   "cell_type": "markdown",
   "metadata": {},
   "source": [
    "Since the fraud cases are relatively few in number compared to bin size, we see the data looks predictably more variable. In the long tail, especially, we are likely observing only a single fraud transaction. It would be hard to differentiate fraud from normal transactions by transaction amount alone.\n",
    "\n",
    "## Visual Exploration of the Data by Hour\n",
    "With a few exceptions, the transaction amount does not look very informative. Let's look at the time of day next."
   ]
  },
  {
   "cell_type": "code",
   "execution_count": 17,
   "metadata": {},
   "outputs": [
    {
     "data": {
      "image/png": "[encoded data removed]",
      "text/plain": [
       "<Figure size 921.6x633.6 with 1 Axes>"
      ]
     },
     "metadata": {
      "needs_background": "light"
     },
     "output_type": "display_data"
    }
   ],
   "source": [
    "bins = np.linspace(0, 48, 48) #48 hours\n",
    "plt.hist((normal_df.Time/(60*60)), bins, alpha=1, density=True, label='Normal')\n",
    "plt.hist((fraud_df.Time/(60*60)), bins, alpha=0.6, density=True, label='Fraud')\n",
    "plt.legend(loc='upper right')\n",
    "plt.title(\"Percentage of transactions by hour\")\n",
    "plt.xlabel(\"Transaction time as measured from first transaction in the dataset (hours)\")\n",
    "plt.ylabel(\"Percentage of transactions (%)\");\n",
    "#plt.hist((df.Time/(60*60)),bins)\n",
    "plt.show()"
   ]
  },
  {
   "cell_type": "markdown",
   "metadata": {},
   "source": [
    "Hour \"zero\" corresponds to the hour the first transaction happened and not necessarily 12-1am. Given the heavy decrease in normal transactions from hours 1 to 8 and again roughly at hours 24 to 32, I am assuming those time correspond to nighttime for this dataset. If this is true, fraud tends to occur at higher rates during the night. Statistical tests could be used to give evidence for this fact, but are not in the scope of this article. Again, however, the potential time offset between normal and fraud transactions is not enough to make a simple, precise classifier.\n",
    "\n",
    "Next, we will explore the potential interaction between transaction amount and hour to see if any patterns emerge. \n",
    "\n",
    "## Visual Exploration of Transaction Amount vs. Hour"
   ]
  },
  {
   "cell_type": "code",
   "execution_count": 18,
   "metadata": {},
   "outputs": [
    {
     "data": {
      "image/png": "[encoded data removed]",
      "text/plain": [
       "<Figure size 921.6x633.6 with 1 Axes>"
      ]
     },
     "metadata": {
      "needs_background": "light"
     },
     "output_type": "display_data"
    }
   ],
   "source": [
    "plt.scatter((normal_df.Time/(60*60)), normal_df.Amount, alpha=0.6, label='Normal')\n",
    "plt.scatter((fraud_df.Time/(60*60)), fraud_df.Amount, alpha=0.9, label='Fraud')\n",
    "plt.title(\"Amount of transaction by hour\")\n",
    "plt.xlabel(\"Transaction time as measured from first transaction in the dataset (hours)\")\n",
    "plt.ylabel('Amount (USD)')\n",
    "plt.legend(loc='upper right')\n",
    "plt.show()"
   ]
  },
  {
   "cell_type": "markdown",
   "metadata": {},
   "source": [
    "Again, this is not enough to make a good classifier. For example, it would be hard to draw a line that cleanly separates fraud and normal transactions. For the experienced Data Scientists in the readership, I am excluding more advanced techniques such as the kernel trick.\n",
    "\n",
    "# Model Setup: Basic Autoencoder\n",
    "Now that more simplistic methods are not proving that useful, we are justified in exploring our autoencoder to see if it does a little better.\n",
    "\n",
    "## Normalize and Scale Data\n",
    "Both time and amount have very different magnitudes, which will likely result in the large magnitude value \"washing out\" the small magnitude value. It is therefore common to scale the data to similar magnitudes. Although there are many different scaling methods and reasons to choose one method over the other, in this case I will err towards consistency. The reader may remember that most of the data (other than 'time' and 'amount') result from the product of a PCA analysis. The PCA done on the dataset transformed it into standard-normal form. I will do the same to the 'time' and 'amount' columns."
   ]
  },
  {
   "cell_type": "code",
   "execution_count": 19,
   "metadata": {},
   "outputs": [],
   "source": [
    "#data = df.drop(['Time'], axis=1) #if you think the var is unimportant\n",
    "df_norm = df\n",
    "df_norm['Time'] = StandardScaler().fit_transform(df_norm['Time'].values.reshape(-1, 1))\n",
    "df_norm['Amount'] = StandardScaler().fit_transform(df_norm['Amount'].values.reshape(-1, 1))"
   ]
  },
  {
   "cell_type": "markdown",
   "metadata": {},
   "source": [
    "## Dividing Training and Test Set\n",
    "Now we split the data into training and testing sets according to the percentage and with a random seed we wrote at the beginning of the code. This should have been done before the exploratory data analysis, but for ease of explanation I delayed it until right before the model."
   ]
  },
  {
   "cell_type": "code",
   "execution_count": 20,
   "metadata": {},
   "outputs": [],
   "source": [
    "train_x, test_x = train_test_split(df_norm, test_size=TEST_PCT, random_state=RANDOM_SEED)\n",
    "train_x = train_x[train_x.Class == 0] #where normal transactions\n",
    "train_x = train_x.drop(['Class'], axis=1) #drop the class column\n",
    "\n",
    "\n",
    "test_y = test_x['Class'] #save the class column for the test set\n",
    "test_x = test_x.drop(['Class'], axis=1) #drop the class column\n",
    "\n",
    "train_x = train_x.values #transform to ndarray\n",
    "test_x = test_x.values"
   ]
  },
  {
   "cell_type": "markdown",
   "metadata": {},
   "source": [
    "Just confirming the new ndarray is the expected shape."
   ]
  },
  {
   "cell_type": "code",
   "execution_count": 21,
   "metadata": {},
   "outputs": [
    {
     "data": {
      "text/plain": [
       "(227468, 30)"
      ]
     },
     "execution_count": 21,
     "metadata": {},
     "output_type": "execute_result"
    }
   ],
   "source": [
    "train_x.shape"
   ]
  },
  {
   "cell_type": "markdown",
   "metadata": {},
   "source": [
    "# Creating The Model\n",
    "## Autoencoder Layer Structure and Parameters\n",
    "Below we set up the structure of the autoencoder. It has symmetric encoding and decoding layers that are \"dense\" (e.g. full connected). The choice of the size of these layers is relatively arbitrary and generally the coder experiments with a few different layer sizes.\n",
    "\n",
    "Remember you are reducing the input into some form of simplified encoding and then expanding it again. The input and output dimension is the feature space (e.g. 30 columns), so the encoding layer should be smaller by an amount that I expect to represent some feature. In this case, I am encoding 30 columns into 14 dimensions so I am expecting high-level features to be represented by roughly two columns (30/14 = 2.1). Of those high-level features, I am expecting them to map to roughly seven hidden/latent features in the data.\n",
    "\n",
    "![autoencoder-architecture](../images/autoencoder-architecture.webp)\n",
    "\n",
    "Additionally, the epochs, batch size, learning rate, learning policy, and activation functions were all set to values empirically or for reasons that can and have repeatedly filled data science books. Explanation of the balancing of these values is far beyond this tutorial, but I would refer you to excellent texts such as [Hands-On Machine Learning with Scikit-Learn & TensorFlow](http://shop.oreilly.com/product/0636920052289.do) or [Deep Learning](http://shop.oreilly.com/product/0636920035343.do)."
   ]
  },
  {
   "cell_type": "code",
   "execution_count": 22,
   "metadata": {},
   "outputs": [
    {
     "name": "stdout",
     "output_type": "stream",
     "text": [
      "WARNING:tensorflow:From C:\\Users\\john.fogarty\\Anaconda3\\envs\\tf37\\lib\\site-packages\\tensorflow\\python\\framework\\op_def_library.py:263: colocate_with (from tensorflow.python.framework.ops) is deprecated and will be removed in a future version.\n",
      "Instructions for updating:\n",
      "Colocations handled automatically by placer.\n"
     ]
    }
   ],
   "source": [
    "nb_epoch = 100\n",
    "batch_size = 128\n",
    "input_dim = train_x.shape[1] #num of columns, 30\n",
    "encoding_dim = 14\n",
    "hidden_dim = int(encoding_dim / 2) #i.e. 7\n",
    "learning_rate = 1e-7\n",
    "\n",
    "input_layer = Input(shape=(input_dim, ))\n",
    "encoder = Dense(encoding_dim, activation=\"tanh\", activity_regularizer=regularizers.l1(learning_rate))(input_layer)\n",
    "encoder = Dense(hidden_dim, activation=\"relu\")(encoder)\n",
    "decoder = Dense(hidden_dim, activation='tanh')(encoder)\n",
    "decoder = Dense(input_dim, activation='relu')(decoder)\n",
    "autoencoder = Model(inputs=input_layer, outputs=decoder)"
   ]
  },
  {
   "cell_type": "markdown",
   "metadata": {},
   "source": [
    "## Model Training and Logging\n",
    "Below is where we set up the actual run including checkpoints and the tensorboard."
   ]
  },
  {
   "cell_type": "code",
   "execution_count": 24,
   "metadata": {},
   "outputs": [],
   "source": [
    "modelfile=os.path.join(TMPDIR, 'autoencoder_fraud.h5')"
   ]
  },
  {
   "cell_type": "code",
   "execution_count": 25,
   "metadata": {},
   "outputs": [
    {
     "name": "stderr",
     "output_type": "stream",
     "text": [
      "C:\\Users\\john.fogarty\\Anaconda3\\envs\\tf37\\lib\\site-packages\\dask\\config.py:168: YAMLLoadWarning: calling yaml.load() without Loader=... is deprecated, as the default Loader is unsafe. Please read https://msg.pyyaml.org/load for full details.\n",
      "  data = yaml.load(f.read()) or {}\n"
     ]
    },
    {
     "name": "stdout",
     "output_type": "stream",
     "text": [
      "WARNING:tensorflow:From C:\\Users\\john.fogarty\\Anaconda3\\envs\\tf37\\lib\\site-packages\\tensorflow\\python\\ops\\math_ops.py:3066: to_int32 (from tensorflow.python.ops.math_ops) is deprecated and will be removed in a future version.\n",
      "Instructions for updating:\n",
      "Use tf.cast instead.\n",
      "Train on 227468 samples, validate on 56962 samples\n",
      "Epoch 1/100\n",
      "227468/227468 [==============================] - 3s 15us/step - loss: 0.8553 - acc: 0.5089 - val_loss: 0.8237 - val_acc: 0.5926\n",
      "Epoch 2/100\n",
      "227468/227468 [==============================] - 3s 13us/step - loss: 0.7750 - acc: 0.6093 - val_loss: 0.7955 - val_acc: 0.6262\n",
      "Epoch 3/100\n",
      "227468/227468 [==============================] - 3s 13us/step - loss: 0.7570 - acc: 0.6262 - val_loss: 0.7861 - val_acc: 0.6295\n",
      "Epoch 4/100\n",
      "227468/227468 [==============================] - 3s 13us/step - loss: 0.7494 - acc: 0.6322 - val_loss: 0.7793 - val_acc: 0.6395\n",
      "Epoch 5/100\n",
      "227468/227468 [==============================] - 3s 14us/step - loss: 0.7419 - acc: 0.6380 - val_loss: 0.7713 - val_acc: 0.6437\n",
      "Epoch 6/100\n",
      "227468/227468 [==============================] - 3s 13us/step - loss: 0.7323 - acc: 0.6537 - val_loss: 0.7623 - val_acc: 0.6730\n",
      "Epoch 7/100\n",
      "227468/227468 [==============================] - 3s 14us/step - loss: 0.7250 - acc: 0.6735 - val_loss: 0.7559 - val_acc: 0.6833\n",
      "Epoch 8/100\n",
      "227468/227468 [==============================] - 3s 13us/step - loss: 0.7195 - acc: 0.6843 - val_loss: 0.7517 - val_acc: 0.6881\n",
      "Epoch 9/100\n",
      "227468/227468 [==============================] - 3s 13us/step - loss: 0.7161 - acc: 0.6927 - val_loss: 0.7496 - val_acc: 0.6997\n",
      "Epoch 10/100\n",
      "227468/227468 [==============================] - 3s 14us/step - loss: 0.7137 - acc: 0.7012 - val_loss: 0.7473 - val_acc: 0.7023\n",
      "Epoch 11/100\n",
      "227468/227468 [==============================] - 4s 17us/step - loss: 0.7118 - acc: 0.7074 - val_loss: 0.7458 - val_acc: 0.7043\n",
      "Epoch 12/100\n",
      "227468/227468 [==============================] - 3s 14us/step - loss: 0.7101 - acc: 0.7116 - val_loss: 0.7448 - val_acc: 0.7109\n",
      "Epoch 13/100\n",
      "227468/227468 [==============================] - 3s 15us/step - loss: 0.7090 - acc: 0.7146 - val_loss: 0.7430 - val_acc: 0.7120\n",
      "Epoch 14/100\n",
      "227468/227468 [==============================] - 3s 14us/step - loss: 0.7077 - acc: 0.7177 - val_loss: 0.7438 - val_acc: 0.7165\n",
      "Epoch 15/100\n",
      "227468/227468 [==============================] - 3s 14us/step - loss: 0.7069 - acc: 0.7194 - val_loss: 0.7414 - val_acc: 0.7119\n",
      "Epoch 16/100\n",
      "227468/227468 [==============================] - 3s 14us/step - loss: 0.7063 - acc: 0.7208 - val_loss: 0.7406 - val_acc: 0.7263\n",
      "Epoch 17/100\n",
      "227468/227468 [==============================] - 3s 14us/step - loss: 0.7056 - acc: 0.7235 - val_loss: 0.7394 - val_acc: 0.7215\n",
      "Epoch 18/100\n",
      "227468/227468 [==============================] - 3s 13us/step - loss: 0.7052 - acc: 0.7237 - val_loss: 0.7388 - val_acc: 0.7169\n",
      "Epoch 19/100\n",
      "227468/227468 [==============================] - 3s 14us/step - loss: 0.7048 - acc: 0.7241 - val_loss: 0.7398 - val_acc: 0.7268\n",
      "Epoch 20/100\n",
      "227468/227468 [==============================] - 3s 15us/step - loss: 0.7044 - acc: 0.7246 - val_loss: 0.7376 - val_acc: 0.7282\n",
      "Epoch 21/100\n",
      "227468/227468 [==============================] - 3s 14us/step - loss: 0.7040 - acc: 0.7235 - val_loss: 0.7374 - val_acc: 0.7311\n",
      "Epoch 22/100\n",
      "227468/227468 [==============================] - 4s 15us/step - loss: 0.7034 - acc: 0.7243 - val_loss: 0.7385 - val_acc: 0.7256\n",
      "Epoch 23/100\n",
      "227468/227468 [==============================] - 3s 13us/step - loss: 0.7034 - acc: 0.7250 - val_loss: 0.7368 - val_acc: 0.7241\n",
      "Epoch 24/100\n",
      "227468/227468 [==============================] - 3s 15us/step - loss: 0.7028 - acc: 0.7260 - val_loss: 0.7373 - val_acc: 0.7260\n",
      "Epoch 25/100\n",
      "227468/227468 [==============================] - 3s 14us/step - loss: 0.7027 - acc: 0.7257 - val_loss: 0.7369 - val_acc: 0.7347\n",
      "Epoch 26/100\n",
      "227468/227468 [==============================] - 3s 15us/step - loss: 0.7025 - acc: 0.7256 - val_loss: 0.7366 - val_acc: 0.7236\n",
      "Epoch 27/100\n",
      "227468/227468 [==============================] - 4s 16us/step - loss: 0.7019 - acc: 0.7266 - val_loss: 0.7363 - val_acc: 0.7221\n",
      "Epoch 28/100\n",
      "227468/227468 [==============================] - 3s 12us/step - loss: 0.7019 - acc: 0.7254 - val_loss: 0.7357 - val_acc: 0.7296\n",
      "Epoch 29/100\n",
      "227468/227468 [==============================] - 3s 13us/step - loss: 0.7017 - acc: 0.7265 - val_loss: 0.7364 - val_acc: 0.7205\n",
      "Epoch 30/100\n",
      "227468/227468 [==============================] - 3s 14us/step - loss: 0.7015 - acc: 0.7267 - val_loss: 0.7353 - val_acc: 0.7264\n",
      "Epoch 31/100\n",
      "227468/227468 [==============================] - 3s 14us/step - loss: 0.7012 - acc: 0.7262 - val_loss: 0.7360 - val_acc: 0.7260\n",
      "Epoch 32/100\n",
      "227468/227468 [==============================] - 4s 16us/step - loss: 0.7018 - acc: 0.7264 - val_loss: 0.7382 - val_acc: 0.7165\n",
      "Epoch 33/100\n",
      "227468/227468 [==============================] - 3s 14us/step - loss: 0.7010 - acc: 0.7276 - val_loss: 0.7352 - val_acc: 0.7248\n",
      "Epoch 34/100\n",
      "227468/227468 [==============================] - 3s 14us/step - loss: 0.7009 - acc: 0.7271 - val_loss: 0.7346 - val_acc: 0.7325\n",
      "Epoch 35/100\n",
      "227468/227468 [==============================] - 3s 13us/step - loss: 0.7006 - acc: 0.7266 - val_loss: 0.7352 - val_acc: 0.7167\n",
      "Epoch 36/100\n",
      "227468/227468 [==============================] - 4s 15us/step - loss: 0.7004 - acc: 0.7268 - val_loss: 0.7363 - val_acc: 0.7234\n",
      "Epoch 37/100\n",
      "227468/227468 [==============================] - 3s 13us/step - loss: 0.7005 - acc: 0.7266 - val_loss: 0.7353 - val_acc: 0.7280\n",
      "Epoch 38/100\n",
      "227468/227468 [==============================] - 3s 14us/step - loss: 0.7003 - acc: 0.7267 - val_loss: 0.7353 - val_acc: 0.7267\n",
      "Epoch 39/100\n",
      "227468/227468 [==============================] - 3s 12us/step - loss: 0.7001 - acc: 0.7266 - val_loss: 0.7344 - val_acc: 0.7316\n",
      "Epoch 40/100\n",
      "227468/227468 [==============================] - 3s 14us/step - loss: 0.7001 - acc: 0.7264 - val_loss: 0.7340 - val_acc: 0.7280\n",
      "Epoch 41/100\n",
      "227468/227468 [==============================] - 3s 13us/step - loss: 0.7001 - acc: 0.7260 - val_loss: 0.7341 - val_acc: 0.7314\n",
      "Epoch 42/100\n",
      "227468/227468 [==============================] - 3s 12us/step - loss: 0.7002 - acc: 0.7254 - val_loss: 0.7347 - val_acc: 0.7301\n",
      "Epoch 43/100\n",
      "227468/227468 [==============================] - 3s 14us/step - loss: 0.6997 - acc: 0.7272 - val_loss: 0.7343 - val_acc: 0.7235\n",
      "Epoch 44/100\n",
      "227468/227468 [==============================] - 3s 13us/step - loss: 0.6997 - acc: 0.7268 - val_loss: 0.7336 - val_acc: 0.7278\n",
      "Epoch 45/100\n",
      "227468/227468 [==============================] - 3s 13us/step - loss: 0.6995 - acc: 0.7265 - val_loss: 0.7345 - val_acc: 0.7241\n",
      "Epoch 46/100\n",
      "227468/227468 [==============================] - 4s 19us/step - loss: 0.6996 - acc: 0.7265 - val_loss: 0.7340 - val_acc: 0.7245\n",
      "Epoch 47/100\n",
      "227468/227468 [==============================] - 3s 13us/step - loss: 0.6995 - acc: 0.7261 - val_loss: 0.7338 - val_acc: 0.7242\n",
      "Epoch 48/100\n",
      "227468/227468 [==============================] - 3s 12us/step - loss: 0.6990 - acc: 0.7265 - val_loss: 0.7352 - val_acc: 0.7184\n",
      "Epoch 49/100\n",
      "227468/227468 [==============================] - 3s 13us/step - loss: 0.6992 - acc: 0.7257 - val_loss: 0.7340 - val_acc: 0.7307\n",
      "Epoch 50/100\n",
      "227468/227468 [==============================] - 3s 12us/step - loss: 0.6991 - acc: 0.7262 - val_loss: 0.7336 - val_acc: 0.7224\n",
      "Epoch 51/100\n",
      "227468/227468 [==============================] - 3s 12us/step - loss: 0.6991 - acc: 0.7259 - val_loss: 0.7341 - val_acc: 0.7264\n",
      "Epoch 52/100\n",
      "227468/227468 [==============================] - 3s 13us/step - loss: 0.6993 - acc: 0.7252 - val_loss: 0.7343 - val_acc: 0.7310\n",
      "Epoch 53/100\n",
      "227468/227468 [==============================] - 4s 16us/step - loss: 0.6989 - acc: 0.7250 - val_loss: 0.7333 - val_acc: 0.7246\n",
      "Epoch 54/100\n",
      "227468/227468 [==============================] - 4s 16us/step - loss: 0.6987 - acc: 0.7254 - val_loss: 0.7336 - val_acc: 0.7321\n",
      "Epoch 55/100\n",
      "227468/227468 [==============================] - 4s 17us/step - loss: 0.6989 - acc: 0.7247 - val_loss: 0.7338 - val_acc: 0.7243\n",
      "Epoch 56/100\n",
      "227468/227468 [==============================] - 3s 15us/step - loss: 0.6984 - acc: 0.7258 - val_loss: 0.7335 - val_acc: 0.7204\n"
     ]
    },
    {
     "name": "stdout",
     "output_type": "stream",
     "text": [
      "Epoch 57/100\n",
      "227468/227468 [==============================] - 3s 13us/step - loss: 0.6987 - acc: 0.7249 - val_loss: 0.7333 - val_acc: 0.7197\n",
      "Epoch 58/100\n",
      "227468/227468 [==============================] - 3s 12us/step - loss: 0.6984 - acc: 0.7259 - val_loss: 0.7331 - val_acc: 0.7256\n",
      "Epoch 59/100\n",
      "227468/227468 [==============================] - 3s 12us/step - loss: 0.6982 - acc: 0.7253 - val_loss: 0.7330 - val_acc: 0.7267\n",
      "Epoch 60/100\n",
      "227468/227468 [==============================] - 3s 13us/step - loss: 0.6981 - acc: 0.7250 - val_loss: 0.7362 - val_acc: 0.7167\n",
      "Epoch 61/100\n",
      "227468/227468 [==============================] - 4s 18us/step - loss: 0.6980 - acc: 0.7261 - val_loss: 0.7334 - val_acc: 0.7276\n",
      "Epoch 62/100\n",
      "227468/227468 [==============================] - 3s 14us/step - loss: 0.6981 - acc: 0.7254 - val_loss: 0.7322 - val_acc: 0.7206\n",
      "Epoch 63/100\n",
      "227468/227468 [==============================] - 3s 12us/step - loss: 0.6979 - acc: 0.7245 - val_loss: 0.7325 - val_acc: 0.7291\n",
      "Epoch 64/100\n",
      "227468/227468 [==============================] - 3s 13us/step - loss: 0.6977 - acc: 0.7257 - val_loss: 0.7334 - val_acc: 0.7232\n",
      "Epoch 65/100\n",
      "227468/227468 [==============================] - 3s 12us/step - loss: 0.6976 - acc: 0.7249 - val_loss: 0.7327 - val_acc: 0.7208\n",
      "Epoch 66/100\n",
      "227468/227468 [==============================] - 3s 12us/step - loss: 0.6974 - acc: 0.7248 - val_loss: 0.7318 - val_acc: 0.7297\n",
      "Epoch 67/100\n",
      "227468/227468 [==============================] - 3s 12us/step - loss: 0.6974 - acc: 0.7237 - val_loss: 0.7320 - val_acc: 0.7256\n",
      "Epoch 68/100\n",
      "227468/227468 [==============================] - 3s 12us/step - loss: 0.6971 - acc: 0.7242 - val_loss: 0.7324 - val_acc: 0.7207\n",
      "Epoch 69/100\n",
      "227468/227468 [==============================] - 3s 12us/step - loss: 0.6975 - acc: 0.7231 - val_loss: 0.7316 - val_acc: 0.7275\n",
      "Epoch 70/100\n",
      "227468/227468 [==============================] - 3s 15us/step - loss: 0.6972 - acc: 0.7239 - val_loss: 0.7326 - val_acc: 0.7246\n",
      "Epoch 71/100\n",
      "227468/227468 [==============================] - 3s 13us/step - loss: 0.6970 - acc: 0.7238 - val_loss: 0.7332 - val_acc: 0.7243\n",
      "Epoch 72/100\n",
      "227468/227468 [==============================] - 3s 14us/step - loss: 0.6971 - acc: 0.7229 - val_loss: 0.7326 - val_acc: 0.7187\n",
      "Epoch 73/100\n",
      "227468/227468 [==============================] - 3s 14us/step - loss: 0.6970 - acc: 0.7225 - val_loss: 0.7313 - val_acc: 0.7279\n",
      "Epoch 74/100\n",
      "227468/227468 [==============================] - 5s 21us/step - loss: 0.6967 - acc: 0.7226 - val_loss: 0.7317 - val_acc: 0.7213\n",
      "Epoch 75/100\n",
      "227468/227468 [==============================] - 4s 20us/step - loss: 0.6968 - acc: 0.7216 - val_loss: 0.7313 - val_acc: 0.7231\n",
      "Epoch 76/100\n",
      "227468/227468 [==============================] - 5s 20us/step - loss: 0.6968 - acc: 0.7217 - val_loss: 0.7310 - val_acc: 0.7197\n",
      "Epoch 77/100\n",
      "227468/227468 [==============================] - 3s 14us/step - loss: 0.6968 - acc: 0.7213 - val_loss: 0.7328 - val_acc: 0.7171\n",
      "Epoch 78/100\n",
      "227468/227468 [==============================] - 3s 14us/step - loss: 0.6965 - acc: 0.7218 - val_loss: 0.7315 - val_acc: 0.7169\n",
      "Epoch 79/100\n",
      "227468/227468 [==============================] - 3s 15us/step - loss: 0.6967 - acc: 0.7214 - val_loss: 0.7323 - val_acc: 0.7116\n",
      "Epoch 80/100\n",
      "227468/227468 [==============================] - 3s 13us/step - loss: 0.6963 - acc: 0.7217 - val_loss: 0.7309 - val_acc: 0.7219\n",
      "Epoch 81/100\n",
      "227468/227468 [==============================] - 3s 13us/step - loss: 0.6966 - acc: 0.7209 - val_loss: 0.7317 - val_acc: 0.7248\n",
      "Epoch 82/100\n",
      "227468/227468 [==============================] - 3s 14us/step - loss: 0.6965 - acc: 0.7215 - val_loss: 0.7316 - val_acc: 0.7147\n",
      "Epoch 83/100\n",
      "227468/227468 [==============================] - 3s 14us/step - loss: 0.6963 - acc: 0.7203 - val_loss: 0.7385 - val_acc: 0.7180\n",
      "Epoch 84/100\n",
      "227468/227468 [==============================] - 4s 17us/step - loss: 0.6965 - acc: 0.7206 - val_loss: 0.7317 - val_acc: 0.7209\n",
      "Epoch 85/100\n",
      "227468/227468 [==============================] - 4s 16us/step - loss: 0.6962 - acc: 0.7208 - val_loss: 0.7319 - val_acc: 0.7306\n",
      "Epoch 86/100\n",
      "227468/227468 [==============================] - 3s 14us/step - loss: 0.6963 - acc: 0.7204 - val_loss: 0.7298 - val_acc: 0.7254\n",
      "Epoch 87/100\n",
      "227468/227468 [==============================] - 4s 16us/step - loss: 0.6962 - acc: 0.7197 - val_loss: 0.7314 - val_acc: 0.7262\n",
      "Epoch 88/100\n",
      "227468/227468 [==============================] - 3s 14us/step - loss: 0.6962 - acc: 0.7204 - val_loss: 0.7302 - val_acc: 0.7206\n",
      "Epoch 89/100\n",
      "227468/227468 [==============================] - 3s 14us/step - loss: 0.6962 - acc: 0.7199 - val_loss: 0.7307 - val_acc: 0.7191\n",
      "Epoch 90/100\n",
      "227468/227468 [==============================] - 3s 14us/step - loss: 0.6964 - acc: 0.7196 - val_loss: 0.7313 - val_acc: 0.7225\n",
      "Epoch 91/100\n",
      "227468/227468 [==============================] - 3s 14us/step - loss: 0.6960 - acc: 0.7196 - val_loss: 0.7300 - val_acc: 0.7232\n",
      "Epoch 92/100\n",
      "227468/227468 [==============================] - 3s 13us/step - loss: 0.6962 - acc: 0.7195 - val_loss: 0.7315 - val_acc: 0.7193\n",
      "Epoch 93/100\n",
      "227468/227468 [==============================] - 3s 12us/step - loss: 0.6961 - acc: 0.7191 - val_loss: 0.7300 - val_acc: 0.7234\n",
      "Epoch 94/100\n",
      "227468/227468 [==============================] - 3s 13us/step - loss: 0.6964 - acc: 0.7188 - val_loss: 0.7309 - val_acc: 0.7227\n",
      "Epoch 95/100\n",
      "227468/227468 [==============================] - 3s 12us/step - loss: 0.6962 - acc: 0.7194 - val_loss: 0.7297 - val_acc: 0.7268\n",
      "Epoch 96/100\n",
      "227468/227468 [==============================] - 3s 15us/step - loss: 0.6958 - acc: 0.7186 - val_loss: 0.7318 - val_acc: 0.7164\n",
      "Epoch 97/100\n",
      "227468/227468 [==============================] - 4s 16us/step - loss: 0.6962 - acc: 0.7190 - val_loss: 0.7294 - val_acc: 0.7216\n",
      "Epoch 98/100\n",
      "227468/227468 [==============================] - 3s 14us/step - loss: 0.6962 - acc: 0.7183 - val_loss: 0.7302 - val_acc: 0.7219\n",
      "Epoch 99/100\n",
      "227468/227468 [==============================] - 3s 13us/step - loss: 0.6962 - acc: 0.7179 - val_loss: 0.7308 - val_acc: 0.7209\n",
      "Epoch 100/100\n",
      "227468/227468 [==============================] - 3s 14us/step - loss: 0.6959 - acc: 0.7184 - val_loss: 0.7301 - val_acc: 0.7223\n"
     ]
    }
   ],
   "source": [
    "autoencoder.compile(metrics=['accuracy'],\n",
    "                    loss='mean_squared_error',\n",
    "                    optimizer='adam')\n",
    "\n",
    "cp = ModelCheckpoint(filepath=modelfile,\n",
    "                              save_best_only=True,\n",
    "                              verbose=0)\n",
    "\n",
    "tb = TensorBoard(log_dir='./logs',\n",
    "                histogram_freq=0,\n",
    "                write_graph=True,\n",
    "                write_images=True)\n",
    "\n",
    "history = autoencoder.fit(train_x, train_x,\n",
    "                    epochs=nb_epoch,\n",
    "                    batch_size=batch_size,\n",
    "                    shuffle=True,\n",
    "                    validation_data=(test_x, test_x),\n",
    "                    verbose=1,\n",
    "                    callbacks=[cp, tb]).history"
   ]
  },
  {
   "cell_type": "code",
   "execution_count": 26,
   "metadata": {},
   "outputs": [],
   "source": [
    "autoencoder = load_model(modelfile)"
   ]
  },
  {
   "cell_type": "markdown",
   "metadata": {},
   "source": [
    "# Model Evaluation\n",
    "## Model Loss\n",
    "The model seems to be performing well enough, although there is significant room for improvement. This simple autoencoder architecture was chosen for ease of explanation within this tutorial. However, it is my intuition that it is too simple relative to complex financial data and that overall performance could be improved by adding more hidden layers. More hidden layers would allow this network to encode more complex relationships between the input features. Please feel free to experiment with the code and let me know what you find out.\n",
    "\n",
    "The loss of our current model seems to be converging and so more training epochs are not likely going to help. Let's explore this visually to confirm."
   ]
  },
  {
   "cell_type": "code",
   "execution_count": null,
   "metadata": {},
   "outputs": [],
   "source": [
    "plt.plot(history['loss'], linewidth=2, label='Train')\n",
    "plt.plot(history['val_loss'], linewidth=2, label='Test')\n",
    "plt.legend(loc='upper right')\n",
    "plt.title('Model loss')\n",
    "plt.ylabel('Loss')\n",
    "plt.xlabel('Epoch')\n",
    "#plt.ylim(ymin=0.70,ymax=1)\n",
    "plt.show()"
   ]
  },
  {
   "cell_type": "markdown",
   "metadata": {},
   "source": [
    "## Reconstruction Error Check\n",
    "Autoencoders are trained to reduce reconstruction error which we show below:"
   ]
  },
  {
   "cell_type": "code",
   "execution_count": null,
   "metadata": {},
   "outputs": [],
   "source": [
    "test_x_predictions = autoencoder.predict(test_x)\n",
    "mse = np.mean(np.power(test_x - test_x_predictions, 2), axis=1)\n",
    "error_df = pd.DataFrame({'Reconstruction_error': mse,\n",
    "                        'True_class': test_y})\n",
    "error_df.describe()"
   ]
  },
  {
   "cell_type": "markdown",
   "metadata": {},
   "source": [
    "## ROC Curve Check\n",
    "Receiver operating characteristic curves are an expected output of most binary classifiers. Since we have an imbalanced data set they are somewhat less useful. Why? Because you can generate a pretty good-looking curve by just simply guessing everything is the normal case because there are so proportionally few cases of fraud. Without getting into detail, this is something called the [Accuracy Paradox](https://en.wikipedia.org/wiki/Accuracy_paradox)."
   ]
  },
  {
   "cell_type": "code",
   "execution_count": null,
   "metadata": {},
   "outputs": [],
   "source": [
    "false_pos_rate, true_pos_rate, thresholds = roc_curve(error_df.True_class, error_df.Reconstruction_error)\n",
    "roc_auc = auc(false_pos_rate, true_pos_rate,)\n",
    "\n",
    "plt.plot(false_pos_rate, true_pos_rate, linewidth=5, label='AUC = %0.3f'% roc_auc)\n",
    "plt.plot([0,1],[0,1], linewidth=5)\n",
    "\n",
    "plt.xlim([-0.01, 1])\n",
    "plt.ylim([0, 1.01])\n",
    "plt.legend(loc='lower right')\n",
    "plt.title('Receiver operating characteristic curve (ROC)')\n",
    "plt.ylabel('True Positive Rate')\n",
    "plt.xlabel('False Positive Rate')\n",
    "plt.show()"
   ]
  },
  {
   "cell_type": "markdown",
   "metadata": {},
   "source": [
    "## Recall vs. Precision Thresholding\n",
    "Now let's look at recall vs. precision to see the trade-off between the two."
   ]
  },
  {
   "cell_type": "code",
   "execution_count": null,
   "metadata": {},
   "outputs": [],
   "source": [
    "precision_rt, recall_rt, threshold_rt = precision_recall_curve(error_df.True_class, error_df.Reconstruction_error)\n",
    "plt.plot(recall_rt, precision_rt, linewidth=5, label='Precision-Recall curve')\n",
    "plt.title('Recall vs Precision')\n",
    "plt.xlabel('Recall')\n",
    "plt.ylabel('Precision')\n",
    "plt.show()"
   ]
  },
  {
   "cell_type": "markdown",
   "metadata": {},
   "source": [
    "Precision and recall are the eternal tradeoff in data science, so at some point you have to draw an arbitrary line, or a threshold. Where this line will be drawn is essentially a business decision. In this case, you are trading off the cost between missing a fraudulent transaction and the cost of falsely flagging the transaction as a fraudulent even when it is not. Add those two weights to the calculation and you can come up with some theoretical optimal solution. This is rarely the way it is done in practice, however, as it is hard to quantify a lot of those costs (such as customer annoyance at getting fraud alerts too frequently), or because of various structural, technical, or business rules preventing the optimized solution from being chosen."
   ]
  },
  {
   "cell_type": "code",
   "execution_count": null,
   "metadata": {},
   "outputs": [],
   "source": [
    "plt.plot(threshold_rt, precision_rt[1:], label=\"Precision\",linewidth=5)\n",
    "plt.plot(threshold_rt, recall_rt[1:], label=\"Recall\",linewidth=5)\n",
    "plt.title('Precision and recall for different threshold values')\n",
    "plt.xlabel('Threshold')\n",
    "plt.ylabel('Precision/Recall')\n",
    "plt.legend()\n",
    "plt.show()"
   ]
  },
  {
   "cell_type": "markdown",
   "metadata": {},
   "source": [
    "Now that we have talked with the business client and established a threshold, let's see how that compares to reconstruction error. Where the threshold is set seems to miss the main cluster of the normal transactions, but still get a lot of the fraud transactions.\n",
    "\n",
    "## Reconstruction Error vs Threshold Check"
   ]
  },
  {
   "cell_type": "code",
   "execution_count": null,
   "metadata": {},
   "outputs": [],
   "source": [
    "threshold_fixed = 5\n",
    "groups = error_df.groupby('True_class')\n",
    "fig, ax = plt.subplots()\n",
    "\n",
    "for name, group in groups:\n",
    "    ax.plot(group.index, group.Reconstruction_error, marker='o', ms=3.5, linestyle='',\n",
    "            label= \"Fraud\" if name == 1 else \"Normal\")\n",
    "ax.hlines(threshold_fixed, ax.get_xlim()[0], ax.get_xlim()[1], colors=\"r\", zorder=100, label='Threshold')\n",
    "ax.legend()\n",
    "plt.title(\"Reconstruction error for different classes\")\n",
    "plt.ylabel(\"Reconstruction error\")\n",
    "plt.xlabel(\"Data point index\")\n",
    "plt.show();"
   ]
  },
  {
   "cell_type": "markdown",
   "metadata": {},
   "source": [
    "## Confusion Matrix\n",
    "Finally, we take a look at a traditional confusion matrix for the 20% of the data we randomly held back in the testing set. Here I really take a look at the ratio of detected fraud cases to false positives. A 1:10 ratio is a fairly standard benchmark if there are no business rules or cost tradeoffs that dominate that decision. However, I can assure any data scientist that there will indeed be at least those outside influences, if not vastly more outside influences ranging from regulatory and privacy concerns to executive confidence in data and technology in general."
   ]
  },
  {
   "cell_type": "code",
   "execution_count": null,
   "metadata": {},
   "outputs": [],
   "source": [
    "pred_y = [1 if e > threshold_fixed else 0 for e in error_df.Reconstruction_error.values]\n",
    "conf_matrix = confusion_matrix(error_df.True_class, pred_y)\n",
    "\n",
    "plt.figure(figsize=(12, 12))\n",
    "sns.heatmap(conf_matrix, xticklabels=LABELS, yticklabels=LABELS, annot=True, fmt=\"d\");\n",
    "plt.title(\"Confusion matrix\")\n",
    "plt.ylabel('True class')\n",
    "plt.xlabel('Predicted class')\n",
    "plt.show()"
   ]
  },
  {
   "cell_type": "markdown",
   "metadata": {},
   "source": [
    "You will also notice we caught about 60% of the fraud cases, which might seem low at face value but remember there are no magic bullets here. Remember two things: 1) you will never catch even close to 100% of the fraud cases in any way that is even remotely real-world useful and 2) your fraud detection algorithm will be running as a part of the overall ensemble of fraud detectors that will hopefully complement your model.\n",
    "\n",
    "Data science, as with so much else in life, is a team effort. With this tutorial and some real-world experience, it is my hope that the reader will be able to contribute more value to the organization or community in which they choose to operate.\n",
    "\n",
    "## Conclusion\n",
    "In this tutorial, I presented the business case for card payment fraud detection and provided a brief overview of the algorithms in use. I then used some basic exploratory data analysis techniques to show that simple linear methods would not be a good choice as a fraud detection algorithm and so chose to explore autoencoders. I then explained and ran a simple autoencoder written in Keras and analyzed the utility of that model. Finally, I discussed some of the business and real-world implications to choices made with the model. "
   ]
  },
  {
   "cell_type": "markdown",
   "metadata": {},
   "source": [
    "## David Ellison, PhD\n",
    "David Ellison is the Senior Artificial Intelligence Data Scientist for Lenovo. Through Lenovo’s US and European Innovation Centers, he uses cutting-edge AI techniques to deliver solutions for external customers while internally supporting the overall AI strategy for the World Wide Data Center Group. Currently, his emphasis is in distributed training of neural networks and fine-grain objection detection using high-resolution imaging. Previous to Lenovo, he ran an international scientific analysis and equipment company and worked as a Data Scientist for the US Postal Service."
   ]
  },
  {
   "cell_type": "markdown",
   "metadata": {},
   "source": [
    "### End of notebook."
   ]
  }
 ],
 "metadata": {
  "kernelspec": {
   "display_name": "Python [conda env:tf37]",
   "language": "python",
   "name": "conda-env-tf37-py"
  },
  "language_info": {
   "codemirror_mode": {
    "name": "ipython",
    "version": 3
   },
   "file_extension": ".py",
   "mimetype": "text/x-python",
   "name": "python",
   "nbconvert_exporter": "python",
   "pygments_lexer": "ipython3",
   "version": "3.7.3"
  }
 },
 "nbformat": 4,
 "nbformat_minor": 2
}
