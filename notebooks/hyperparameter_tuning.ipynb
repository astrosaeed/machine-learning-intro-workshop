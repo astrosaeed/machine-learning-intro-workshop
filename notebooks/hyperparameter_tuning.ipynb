{
  "nbformat": 4,
  "nbformat_minor": 0,
  "metadata": {
    "colab": {
      "name": "hyperparameter_tuning.ipynb",
      "version": "0.3.2",
      "provenance": [],
      "include_colab_link": true
    },
    "kernelspec": {
      "name": "python3",
      "display_name": "Python 3"
    }
  },
  "cells": [
    {
      "cell_type": "markdown",
      "metadata": {
        "id": "view-in-github",
        "colab_type": "text"
      },
      "source": [
        "<a href=\"https://colab.research.google.com/github/jfogarty/machine-learning-intro-workshop/blob/master/notebooks/hyperparameter_tuning.ipynb\" target=\"_parent\"><img src=\"https://colab.research.google.com/assets/colab-badge.svg\" alt=\"Open In Colab\"/></a>"
      ]
    },
    {
      "cell_type": "markdown",
      "metadata": {
        "id": "LDujGFixTPuK",
        "colab_type": "text"
      },
      "source": [
        "# Hyperparameter Tuning\n",
        "\n",
        "From [Hyperparameter Tuning](https://towardsdatascience.com/hyperparameter-tuning-c5619e7e6624) by [Tara Boyle](https://taraboyle.me/data-science/) in [towardsdatascience.com](https://towardsdatascience.com/hyperparameter-tuning-c5619e7e6624)\n",
        "\n",
        "Updated by [John Fogarty](https://github.com/jfogarty) for Python 3.6 and [Base2 MLI](https://github.com/base2solutions/mli) and [colab](https://colab.research.google.com) standalone evaluation."
      ]
    },
    {
      "cell_type": "markdown",
      "metadata": {
        "id": "EnZkt8ymUQIm",
        "colab_type": "text"
      },
      "source": [
        "[Kaggle’s](https://www.kaggle.com/c/dont-overfit-ii) Don’t Overfit II competition presents an interesting problem. We have 20,000 rows of continuous variables, with only 250 of them belonging to the training set.\n",
        "The challenge is not to overfit.\n",
        "\n",
        "With such a small dataset — and even smaller training set, this can be a difficult task!\n",
        "In this article, we’ll explore hyperparameter optimization as a means of preventing overfitting."
      ]
    },
    {
      "cell_type": "markdown",
      "metadata": {
        "id": "xPxUadYaUy4I",
        "colab_type": "text"
      },
      "source": [
        "## Hyperparameter Tuning\n",
        "\n",
        "[Wikipedia states](https://en.wikipedia.org/wiki/Hyperparameter_optimization) that “hyperparameter tuning is choosing a set of optimal hyperparameters for a learning algorithm”. So what is a [hyperparameter](https://en.wikipedia.org/wiki/Hyperparameter_(machine_learning))?\n",
        "\n",
        "> *A hyperparameter is a parameter whose value is set before the learning process begins.\n",
        "Some examples of hyperparameters include penalty in logistic regression and loss in stochastic gradient descent.*\n",
        "\n",
        "In [sklearn](https://scikit-learn.org/stable/modules/grid_search.html#grid-search), hyperparameters are passed in as arguments to the constructor of the model classes."
      ]
    },
    {
      "cell_type": "markdown",
      "metadata": {
        "id": "MDUPmbyrVTPT",
        "colab_type": "text"
      },
      "source": [
        "## Tuning Strategies\n",
        "\n",
        "We will explore two different methods for optimizing hyperparameters:\n",
        "\n",
        "- **Grid Search**\n",
        "\n",
        "- **Random Search**\n",
        "\n",
        "We’ll begin by preparing the data and trying several different models with their default hyperparameters. From these we’ll select the top two performing methods for hyperparameter tuning."
      ]
    },
    {
      "cell_type": "code",
      "metadata": {
        "id": "VwLdIxGNVp77",
        "colab_type": "code",
        "colab": {}
      },
      "source": [
        "import numpy as np\n",
        "import pandas as pd\n",
        "\n",
        "import matplotlib.pyplot as plt\n",
        "import seaborn as sns\n",
        "\n",
        "from sklearn.model_selection import train_test_split, cross_val_score\n",
        "from sklearn.preprocessing import StandardScaler\n",
        "\n",
        "from sklearn import linear_model\n",
        "from sklearn.model_selection import GridSearchCV, RandomizedSearchCV\n",
        "\n",
        "import warnings\n",
        "warnings.filterwarnings('ignore')\n",
        "\n",
        "np.random.seed(27)"
      ],
      "execution_count": 0,
      "outputs": []
    },
    {
      "cell_type": "markdown",
      "metadata": {
        "id": "wnPtpiAFVTcR",
        "colab_type": "text"
      },
      "source": [
        "import os\n",
        "REPODATA='https://github.com/plotly/datasets/blob/master/titanic.csv'\n",
        "RAWDATA='https://raw.githubusercontent.com/plotly/datasets/master/titanic.csv'\n",
        "filename='titanic.csv'\n",
        "TMPDATA='./tmpData'\n",
        "if not os.path.exists(TMPDATA) : os.makedirs(TMPDATA)\n",
        "datafile=os.path.join(TMPDATA, filename)\n",
        "!curl $RAWDATA -o $datafile"
      ]
    },
    {
      "cell_type": "code",
      "metadata": {
        "id": "Bj_zdQq7XaXj",
        "colab_type": "code",
        "colab": {}
      },
      "source": [
        "# setting up default plotting parameters\n",
        "%matplotlib inline\n",
        "\n",
        "plt.rcParams['figure.figsize'] = [20.0, 7.0]\n",
        "plt.rcParams.update({'font.size': 22,})\n",
        "\n",
        "sns.set_palette('viridis')\n",
        "sns.set_style('white')\n",
        "sns.set_context('talk', font_scale=0.8)"
      ],
      "execution_count": 0,
      "outputs": []
    },
    {
      "cell_type": "code",
      "metadata": {
        "id": "IfQhU40rWE9a",
        "colab_type": "code",
        "colab": {
          "base_uri": "https://localhost:8080/",
          "height": 238
        },
        "outputId": "62627ffa-9b6d-4b47-be46-d2f58d61739e"
      },
      "source": [
        "\n",
        "train = pd.read_csv(os.path.join(TMPDATA, 'train.csv'))\n",
        "test = pd.read_csv(os.path.join(TMPDATA, 'test.csv'))\n",
        "\n",
        "print('Train Shape: ', train.shape)\n",
        "print('Test Shape: ', test.shape)\n",
        "\n",
        "train.head()"
      ],
      "execution_count": 4,
      "outputs": [
        {
          "output_type": "error",
          "ename": "NameError",
          "evalue": "ignored",
          "traceback": [
            "\u001b[0;31m---------------------------------------------------------------------------\u001b[0m",
            "\u001b[0;31mNameError\u001b[0m                                 Traceback (most recent call last)",
            "\u001b[0;32m<ipython-input-4-5d7105baefd5>\u001b[0m in \u001b[0;36m<module>\u001b[0;34m()\u001b[0m\n\u001b[1;32m      1\u001b[0m \u001b[0;34m\u001b[0m\u001b[0m\n\u001b[0;32m----> 2\u001b[0;31m \u001b[0mtrain\u001b[0m \u001b[0;34m=\u001b[0m \u001b[0mpd\u001b[0m\u001b[0;34m.\u001b[0m\u001b[0mread_csv\u001b[0m\u001b[0;34m(\u001b[0m\u001b[0mos\u001b[0m\u001b[0;34m.\u001b[0m\u001b[0mpath\u001b[0m\u001b[0;34m.\u001b[0m\u001b[0mjoin\u001b[0m\u001b[0;34m(\u001b[0m\u001b[0mTMPDATA\u001b[0m\u001b[0;34m,\u001b[0m \u001b[0;34m'train.csv'\u001b[0m\u001b[0;34m)\u001b[0m\u001b[0;34m)\u001b[0m\u001b[0;34m\u001b[0m\u001b[0;34m\u001b[0m\u001b[0m\n\u001b[0m\u001b[1;32m      3\u001b[0m \u001b[0mtest\u001b[0m \u001b[0;34m=\u001b[0m \u001b[0mpd\u001b[0m\u001b[0;34m.\u001b[0m\u001b[0mread_csv\u001b[0m\u001b[0;34m(\u001b[0m\u001b[0mos\u001b[0m\u001b[0;34m.\u001b[0m\u001b[0mpath\u001b[0m\u001b[0;34m.\u001b[0m\u001b[0mjoin\u001b[0m\u001b[0;34m(\u001b[0m\u001b[0mTMPDATA\u001b[0m\u001b[0;34m,\u001b[0m \u001b[0;34m'test.csv'\u001b[0m\u001b[0;34m)\u001b[0m\u001b[0;34m)\u001b[0m\u001b[0;34m\u001b[0m\u001b[0;34m\u001b[0m\u001b[0m\n\u001b[1;32m      4\u001b[0m \u001b[0;34m\u001b[0m\u001b[0m\n\u001b[1;32m      5\u001b[0m \u001b[0mprint\u001b[0m\u001b[0;34m(\u001b[0m\u001b[0;34m'Train Shape: '\u001b[0m\u001b[0;34m,\u001b[0m \u001b[0mtrain\u001b[0m\u001b[0;34m.\u001b[0m\u001b[0mshape\u001b[0m\u001b[0;34m)\u001b[0m\u001b[0;34m\u001b[0m\u001b[0;34m\u001b[0m\u001b[0m\n",
            "\u001b[0;31mNameError\u001b[0m: name 'os' is not defined"
          ]
        }
      ]
    },
    {
      "cell_type": "markdown",
      "metadata": {
        "id": "ShuYAMsyVTue",
        "colab_type": "text"
      },
      "source": [
        "Prepare the data sets for training."
      ]
    },
    {
      "cell_type": "code",
      "metadata": {
        "id": "2-7iWdWsXmKz",
        "colab_type": "code",
        "colab": {}
      },
      "source": [
        "# prepare for modeling\n",
        "X_train = train.drop(['id', 'target'], axis=1)\n",
        "y_train = train['target']\n",
        "\n",
        "X_test = test.drop(['id'], axis=1)\n",
        "\n",
        "# scaling data\n",
        "scaler = StandardScaler()\n",
        "X_train = scaler.fit_transform(X_train)\n",
        "X_test = scaler.transform(X_test)"
      ],
      "execution_count": 0,
      "outputs": []
    },
    {
      "cell_type": "markdown",
      "metadata": {
        "id": "6Oh_WzTYVTzW",
        "colab_type": "text"
      },
      "source": [
        "## Baseline Models"
      ]
    },
    {
      "cell_type": "code",
      "metadata": {
        "id": "mIyKp8W9XocV",
        "colab_type": "code",
        "colab": {}
      },
      "source": [
        "# define models\n",
        "ridge = linear_model.Ridge()\n",
        "lasso = linear_model.Lasso()\n",
        "elastic = linear_model.ElasticNet()\n",
        "lasso_lars = linear_model.LassoLars()\n",
        "bayesian_ridge = linear_model.BayesianRidge()\n",
        "logistic = linear_model.LogisticRegression(solver='liblinear')\n",
        "sgd = linear_model.SGDClassifier()"
      ],
      "execution_count": 0,
      "outputs": []
    },
    {
      "cell_type": "markdown",
      "metadata": {
        "id": "eIciWM6eXtJd",
        "colab_type": "text"
      },
      "source": [
        "Here we select seven common traditional machine learning models."
      ]
    },
    {
      "cell_type": "code",
      "metadata": {
        "id": "O8L8OslwUMru",
        "colab_type": "code",
        "colab": {}
      },
      "source": [
        "models = [ridge, lasso, elastic, lasso_lars, bayesian_ridge, logistic, sgd]"
      ],
      "execution_count": 0,
      "outputs": []
    },
    {
      "cell_type": "markdown",
      "metadata": {
        "id": "0EzvLtYVXxI2",
        "colab_type": "text"
      },
      "source": [
        "### Get Basic Metrics\n",
        "\n",
        "We then find the mean cross validation score and standard deviation:"
      ]
    },
    {
      "cell_type": "code",
      "metadata": {
        "id": "Z_gWxEKeXx52",
        "colab_type": "code",
        "colab": {}
      },
      "source": [
        "# function to get cross validation scores\n",
        "def get_cv_scores(model):\n",
        "    scores = cross_val_score(model, X_train, y_train, cv=5, scoring='roc_auc')\n",
        "    print('CV Mean: ', np.mean(scores))\n",
        "    print('STD: ', np.std(scores))\n",
        "    print('\\n')"
      ],
      "execution_count": 0,
      "outputs": []
    },
    {
      "cell_type": "code",
      "metadata": {
        "id": "mApTAseoX2PR",
        "colab_type": "code",
        "colab": {}
      },
      "source": [
        "# loop through list of models\n",
        "for model in models:\n",
        "    print(model)\n",
        "    get_cv_scores(model)"
      ],
      "execution_count": 0,
      "outputs": []
    },
    {
      "cell_type": "markdown",
      "metadata": {
        "id": "WwhV28zvX-LV",
        "colab_type": "text"
      },
      "source": [
        "From this we can see our best performing models out of the box are logistic regression and stochastic gradient descent. Let's see if we can optimize these models with hyperparameter tuning.\n"
      ]
    },
    {
      "cell_type": "markdown",
      "metadata": {
        "id": "UV-jZ6MmX-S7",
        "colab_type": "text"
      },
      "source": [
        "## Logistic Regression and Grid Search\n",
        "\n",
        "Grid search is a traditional way to perform hyperparameter optimization. It works by searching exhaustively through a specified subset of hyperparameters.\n",
        "Using sklearn’s **[GridSearchCV](https://scikit-learn.org/stable/modules/generated/sklearn.model_selection.GridSearchCV.html)**, we first define our grid of parameters to search over and then run the grid search."
      ]
    },
    {
      "cell_type": "code",
      "metadata": {
        "id": "UuyDDYSdYEIl",
        "colab_type": "code",
        "colab": {}
      },
      "source": [
        "penalty = ['l1', 'l2']\n",
        "C = [0.0001, 0.001, 0.01, 0.1, 1, 10, 100, 1000]\n",
        "class_weight = [{1:0.5, 0:0.5}, {1:0.4, 0:0.6}, {1:0.6, 0:0.4}, {1:0.7, 0:0.3}]\n",
        "solver = ['liblinear', 'saga']\n",
        "\n",
        "param_grid = dict(penalty=penalty,\n",
        "                  C=C,\n",
        "                  class_weight=class_weight,\n",
        "                  solver=solver)\n",
        "\n",
        "grid = GridSearchCV(estimator=logistic, param_grid=param_grid, scoring='roc_auc', verbose=1, n_jobs=-1)\n",
        "grid_result = grid.fit(X_train, y_train)\n",
        "\n",
        "print('Best Score: ', grid_result.best_score_)\n",
        "print('Best Params: ', grid_result.best_params_)"
      ],
      "execution_count": 0,
      "outputs": []
    },
    {
      "cell_type": "markdown",
      "metadata": {
        "id": "fws--KGDYIQ_",
        "colab_type": "text"
      },
      "source": [
        "We improved our cross validation score from 0.744 to 0.789!\n",
        "\n",
        "The benefit of grid search is that it is guaranteed to find the optimal combination of parameters supplied. The drawback is that it can be very time consuming and computationally expensive.\n",
        "\n",
        "We can combat this with random search."
      ]
    },
    {
      "cell_type": "code",
      "metadata": {
        "id": "_DR63HsrYMGf",
        "colab_type": "code",
        "colab": {}
      },
      "source": [
        "logistic = linear_model.LogisticRegression(C=1, class_weight={1:0.6, 0:0.4}, penalty='l1', solver='liblinear')\n",
        "get_cv_scores(logistic)"
      ],
      "execution_count": 0,
      "outputs": []
    },
    {
      "cell_type": "markdown",
      "metadata": {
        "id": "Zuyhzbi3YPfP",
        "colab_type": "text"
      },
      "source": [
        ""
      ]
    },
    {
      "cell_type": "code",
      "metadata": {
        "id": "P3Eu_FAoYP20",
        "colab_type": "code",
        "colab": {}
      },
      "source": [
        "predictions = logistic.fit(X_train, y_train).predict_proba(X_test)\n",
        "#### score 0.828 on public leaderboard"
      ],
      "execution_count": 0,
      "outputs": []
    },
    {
      "cell_type": "markdown",
      "metadata": {
        "id": "1a3IaslNYTbd",
        "colab_type": "text"
      },
      "source": [
        ""
      ]
    },
    {
      "cell_type": "code",
      "metadata": {
        "id": "AYIOgdTGYToR",
        "colab_type": "code",
        "colab": {}
      },
      "source": [
        "submission = pd.read_csv('../input/sample_submission.csv')\n",
        "submission['target'] = predictions\n",
        "#submission.to_csv('submission.csv', index=False)\n",
        "submission.head()"
      ],
      "execution_count": 0,
      "outputs": []
    },
    {
      "cell_type": "code",
      "metadata": {
        "id": "b_5QHIw6YVf5",
        "colab_type": "code",
        "colab": {}
      },
      "source": [
        ""
      ],
      "execution_count": 0,
      "outputs": []
    },
    {
      "cell_type": "markdown",
      "metadata": {
        "id": "WRxdH-gKYYv3",
        "colab_type": "text"
      },
      "source": [
        "## Stochastic Gradient Descent and Random Search\n",
        "Random search is a random (obviously) search over specified parameter values.\n",
        "\n",
        "### Random Search\n",
        "\n",
        "Random search differs from grid search mainly in that it searches the specified subset of hyperparameters randomly instead of exhaustively. The major benefit being decreased processing time.\n",
        "\n",
        "There is a tradeoff to decreased processing time, however. We aren’t guaranteed to find the optimal combination of hyperparameters.\n",
        "\n",
        "Let’s give random search a try with sklearn’s **[RandomizedSearchCV](https://scikit-learn.org/stable/modules/generated/sklearn.model_selection.RandomizedSearchCV.html)**. Very similar to grid search above, we define the hyperparameters to search over before running the search.\n",
        "An important additional parameter to specify here is n_iter. This specifies the number of combinations to randomly try.\n",
        "\n",
        "- Selecting too low of a number will decrease our chance of finding the best combination. \n",
        "\n",
        "- Selecting too large of a number will increase our processing time."
      ]
    },
    {
      "cell_type": "code",
      "metadata": {
        "id": "RjqSs6ghYam4",
        "colab_type": "code",
        "colab": {}
      },
      "source": [
        "loss = ['hinge', 'log', 'modified_huber', 'squared_hinge', 'perceptron']\n",
        "penalty = ['l1', 'l2', 'elasticnet']\n",
        "alpha = [0.0001, 0.001, 0.01, 0.1, 1, 10, 100, 1000]\n",
        "learning_rate = ['constant', 'optimal', 'invscaling', 'adaptive']\n",
        "class_weight = [{1:0.5, 0:0.5}, {1:0.4, 0:0.6}, {1:0.6, 0:0.4}, {1:0.7, 0:0.3}]\n",
        "eta0 = [1, 10, 100]\n",
        "\n",
        "param_distributions = dict(loss=loss,\n",
        "                           penalty=penalty,\n",
        "                           alpha=alpha,\n",
        "                           learning_rate=learning_rate,\n",
        "                           class_weight=class_weight,\n",
        "                           eta0=eta0)\n",
        "\n",
        "random = RandomizedSearchCV(estimator=sgd, param_distributions=param_distributions, scoring='roc_auc', verbose=1, n_jobs=-1, n_iter=1000)\n",
        "random_result = random.fit(X_train, y_train)\n",
        "\n",
        "print('Best Score: ', random_result.best_score_)\n",
        "print('Best Params: ', random_result.best_params_)"
      ],
      "execution_count": 0,
      "outputs": []
    },
    {
      "cell_type": "markdown",
      "metadata": {
        "id": "NDKO36KBYgVZ",
        "colab_type": "text"
      },
      "source": [
        ""
      ]
    },
    {
      "cell_type": "code",
      "metadata": {
        "id": "TQbz9-1xYj4D",
        "colab_type": "code",
        "colab": {}
      },
      "source": [
        "sgd = linear_model.SGDClassifier(alpha=0.1,\n",
        "                                 class_weight={1:0.7, 0:0.3},\n",
        "                                 eta0=100,\n",
        "                                 learning_rate='optimal',\n",
        "                                 loss='log',\n",
        "                                 penalty='elasticnet')\n",
        "get_cv_scores(sgd)"
      ],
      "execution_count": 0,
      "outputs": []
    },
    {
      "cell_type": "markdown",
      "metadata": {
        "id": "_2vGBnw7Ymq7",
        "colab_type": "text"
      },
      "source": [
        ""
      ]
    },
    {
      "cell_type": "code",
      "metadata": {
        "id": "vXwk625VYm0N",
        "colab_type": "code",
        "colab": {}
      },
      "source": [
        "predictions = sgd.fit(X_train, y_train).predict_proba(X_test)\n",
        "#### score 0.790 on public leaderboard"
      ],
      "execution_count": 0,
      "outputs": []
    },
    {
      "cell_type": "markdown",
      "metadata": {
        "id": "pIbpaVYkYnss",
        "colab_type": "text"
      },
      "source": [
        "Here we improved the cross validation score from 0.733 to 0.780!\n",
        "Conclusion\n",
        "Here we explored two methods for hyperparameter turning and saw improvement in model performance.\n",
        "While this is an important step in modeling, it is by no means the only way to improve performance.\n",
        "In future articles we will explore other means to prevent overfitting including feature selection and ensembling."
      ]
    },
    {
      "cell_type": "markdown",
      "metadata": {
        "id": "F1jfSWkPbeMJ",
        "colab_type": "text"
      },
      "source": [
        "## Conclusion\n",
        "\n",
        "Here we explored two methods for hyperparameter turning and saw improvement in model performance.\n",
        "\n",
        "While this is an important step in modeling, it is by no means the only way to improve performance.\n",
        "\n",
        "In future articles we will explore other means to prevent overfitting including feature selection and ensembling."
      ]
    },
    {
      "cell_type": "code",
      "metadata": {
        "id": "E61FtcVxYn0v",
        "colab_type": "code",
        "colab": {}
      },
      "source": [
        "submission = pd.read_csv('../input/sample_submission.csv')\n",
        "submission['target'] = predictions\n",
        "submission.to_csv('submission.csv', index=False)\n",
        "submission.head()"
      ],
      "execution_count": 0,
      "outputs": []
    },
    {
      "cell_type": "markdown",
      "metadata": {
        "id": "wVOAS8V0Yqi3",
        "colab_type": "text"
      },
      "source": [
        "So since this is used in a Kaggle Competition, the results are saved into a submission CSV dataset."
      ]
    },
    {
      "cell_type": "markdown",
      "metadata": {
        "id": "cpUlhl-LYvN3",
        "colab_type": "text"
      },
      "source": [
        "### End of notebook."
      ]
    }
  ]
}