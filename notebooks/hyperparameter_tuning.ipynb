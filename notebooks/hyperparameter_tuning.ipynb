{
 "cells": [
  {
   "cell_type": "markdown",
   "metadata": {
    "colab_type": "text",
    "id": "view-in-github"
   },
   "source": [
    "<a href=\"https://colab.research.google.com/github/jfogarty/machine-learning-intro-workshop/blob/master/notebooks/hyperparameter_tuning.ipynb\" target=\"_parent\"><img src=\"https://colab.research.google.com/assets/colab-badge.svg\" alt=\"Open In Colab\"/></a>"
   ]
  },
  {
   "cell_type": "markdown",
   "metadata": {
    "colab_type": "text",
    "id": "LDujGFixTPuK"
   },
   "source": [
    "# Hyperparameter Tuning\n",
    "\n",
    "From [Hyperparameter Tuning](https://towardsdatascience.com/hyperparameter-tuning-c5619e7e6624) by [Tara Boyle](https://taraboyle.me/data-science/) in [towardsdatascience.com](https://towardsdatascience.com/hyperparameter-tuning-c5619e7e6624)\n",
    "\n",
    "Updated by [John Fogarty](https://github.com/jfogarty) for Python 3.6 and [Base2 MLI](https://github.com/base2solutions/mli) and [colab](https://colab.research.google.com) standalone evaluation.\n",
    "\n",
    "### NOTE! This is a Colab ONLY notebook which loads data via Google Drive"
   ]
  },
  {
   "cell_type": "markdown",
   "metadata": {
    "colab_type": "text",
    "id": "EnZkt8ymUQIm"
   },
   "source": [
    "[Kaggle’s](https://www.kaggle.com/c/dont-overfit-ii) Don’t Overfit II competition presents an interesting problem. We have 20,000 rows of continuous variables, with only 250 of them belonging to the training set.\n",
    "The challenge is not to overfit.\n",
    "\n",
    "With such a small dataset — and even smaller training set, this can be a difficult task!\n",
    "In this article, we’ll explore hyperparameter optimization as a means of preventing overfitting."
   ]
  },
  {
   "cell_type": "markdown",
   "metadata": {
    "colab_type": "text",
    "id": "xPxUadYaUy4I"
   },
   "source": [
    "## Hyperparameter Tuning\n",
    "\n",
    "[Wikipedia states](https://en.wikipedia.org/wiki/Hyperparameter_optimization) that “hyperparameter tuning is choosing a set of optimal hyperparameters for a learning algorithm”. So what is a [hyperparameter](https://en.wikipedia.org/wiki/Hyperparameter_(machine_learning))?\n",
    "\n",
    "> *A hyperparameter is a parameter whose value is set before the learning process begins.\n",
    "Some examples of hyperparameters include penalty in logistic regression and loss in stochastic gradient descent.*\n",
    "\n",
    "In [sklearn](https://scikit-learn.org/stable/modules/grid_search.html#grid-search), hyperparameters are passed in as arguments to the constructor of the model classes."
   ]
  },
  {
   "cell_type": "markdown",
   "metadata": {
    "colab_type": "text",
    "id": "MDUPmbyrVTPT"
   },
   "source": [
    "## Tuning Strategies\n",
    "\n",
    "We will explore two different methods for optimizing hyperparameters:\n",
    "\n",
    "- **Grid Search**\n",
    "\n",
    "- **Random Search**\n",
    "\n",
    "We’ll begin by preparing the data and trying several different models with their default hyperparameters. From these we’ll select the top two performing methods for hyperparameter tuning."
   ]
  },
  {
   "cell_type": "code",
   "execution_count": null,
   "metadata": {
    "colab": {},
    "colab_type": "code",
    "id": "VwLdIxGNVp77"
   },
   "outputs": [],
   "source": [
    "import numpy as np\n",
    "import pandas as pd\n",
    "\n",
    "import matplotlib.pyplot as plt\n",
    "import seaborn as sns\n",
    "\n",
    "from sklearn.model_selection import train_test_split, cross_val_score\n",
    "from sklearn.preprocessing import StandardScaler\n",
    "\n",
    "from sklearn import linear_model\n",
    "from sklearn.model_selection import GridSearchCV, RandomizedSearchCV\n",
    "\n",
    "import warnings\n",
    "warnings.filterwarnings('ignore')\n",
    "\n",
    "np.random.seed(27)"
   ]
  },
  {
   "cell_type": "markdown",
   "metadata": {
    "colab_type": "text",
    "id": "wnPtpiAFVTcR"
   },
   "source": [
    "## Download Datasets from Google Drive\n",
    "\n",
    "### NOTE! This will ask you to login to your Google Account \n",
    "\n",
    "You can use any Google account, this is asking you whether you are willing to use your account to access the remote Google Drive and and to create a local drive on this virtual machine instance."
   ]
  },
  {
   "cell_type": "code",
   "execution_count": null,
   "metadata": {
    "colab": {},
    "colab_type": "code",
    "id": "hDS4esRhkAZ1"
   },
   "outputs": [],
   "source": [
    "from google.colab import auth\n",
    "auth.authenticate_user()\n",
    "from googleapiclient.discovery import build\n",
    "drive_service = build('drive', 'v3')"
   ]
  },
  {
   "cell_type": "code",
   "execution_count": null,
   "metadata": {
    "colab": {},
    "colab_type": "code",
    "id": "ND-b8sKfi4hm"
   },
   "outputs": [],
   "source": [
    "import io\n",
    "from googleapiclient.http import MediaIoBaseDownload\n",
    "\n",
    "def googledrive_load(file_id, tofile):\n",
    "    request = drive_service.files().get_media(fileId=file_id)\n",
    "    with open(tofile, 'wb') as fout:\n",
    "      downloader = MediaIoBaseDownload(fout, request)\n",
    "      done = False\n",
    "      while done is False:\n",
    "          _, done = downloader.next_chunk()\n",
    "    print(f'- Downloaded {tofile}.')"
   ]
  },
  {
   "cell_type": "code",
   "execution_count": null,
   "metadata": {
    "colab": {
     "base_uri": "https://localhost:8080/",
     "height": 35
    },
    "colab_type": "code",
    "id": "i7ChsJQXg2i8",
    "outputId": "3957813f-306e-442c-d904-63da9d6dcdda"
   },
   "outputs": [],
   "source": [
    "import os\n",
    "FILE_ID_TRAIN = '1ldAeovBgrWo3oiXlQaeuSX97xLb_r962'\n",
    "TMPDATA = './tmpData'\n",
    "if not os.path.exists(TMPDATA) : os.makedirs(TMPDATA)\n",
    "trainFile = os.path.join(TMPDATA, 'train.csv')\n",
    "googledrive_load(FILE_ID_TRAIN, trainFile)"
   ]
  },
  {
   "cell_type": "code",
   "execution_count": null,
   "metadata": {
    "colab": {
     "base_uri": "https://localhost:8080/",
     "height": 35
    },
    "colab_type": "code",
    "id": "KX9sYfKLmAoc",
    "outputId": "ef899edf-4f18-4486-dc84-6a3c051a25da"
   },
   "outputs": [],
   "source": [
    "FILE_ID_TEST = '1YTe-lgXh8lUtz56Ftw10u-7ucoI8fW1o'\n",
    "testFile = os.path.join(TMPDATA, 'test.csv')\n",
    "googledrive_load(FILE_ID_TEST, testFile)"
   ]
  },
  {
   "cell_type": "code",
   "execution_count": null,
   "metadata": {
    "colab": {
     "base_uri": "https://localhost:8080/",
     "height": 35
    },
    "colab_type": "code",
    "id": "7ffup5CEn8iA",
    "outputId": "f6d53df0-b45d-4094-9f81-8da61c1ea0bb"
   },
   "outputs": [],
   "source": [
    "FILE_ID_SUBMISSION = '1dIxeOb6U_96Ky7Hg_cWbZeTqq7gDkybH'\n",
    "submissionFile = os.path.join(TMPDATA, 'submission.csv')\n",
    "googledrive_load(FILE_ID_SUBMISSION, submissionFile)"
   ]
  },
  {
   "cell_type": "code",
   "execution_count": null,
   "metadata": {
    "colab": {},
    "colab_type": "code",
    "id": "Bj_zdQq7XaXj"
   },
   "outputs": [],
   "source": [
    "# setting up default plotting parameters\n",
    "%matplotlib inline\n",
    "\n",
    "plt.rcParams['figure.figsize'] = [20.0, 7.0]\n",
    "plt.rcParams.update({'font.size': 22,})\n",
    "\n",
    "sns.set_palette('viridis')\n",
    "sns.set_style('white')\n",
    "sns.set_context('talk', font_scale=0.8)"
   ]
  },
  {
   "cell_type": "code",
   "execution_count": null,
   "metadata": {
    "colab": {
     "base_uri": "https://localhost:8080/",
     "height": 289
    },
    "colab_type": "code",
    "id": "IfQhU40rWE9a",
    "outputId": "e0f84eee-07cd-4f44-8f43-e99314460ed5"
   },
   "outputs": [],
   "source": [
    "\n",
    "train = pd.read_csv(trainFile)\n",
    "test = pd.read_csv(testFile)\n",
    "\n",
    "print('Train Shape: ', train.shape)\n",
    "print('Test Shape: ', test.shape)\n",
    "\n",
    "train.head()"
   ]
  },
  {
   "cell_type": "markdown",
   "metadata": {
    "colab_type": "text",
    "id": "ShuYAMsyVTue"
   },
   "source": [
    "Prepare the data sets for training."
   ]
  },
  {
   "cell_type": "code",
   "execution_count": null,
   "metadata": {
    "colab": {},
    "colab_type": "code",
    "id": "2-7iWdWsXmKz"
   },
   "outputs": [],
   "source": [
    "# prepare for modeling\n",
    "X_train = train.drop(['id', 'target'], axis=1)\n",
    "y_train = train['target']\n",
    "\n",
    "X_test = test.drop(['id'], axis=1)\n",
    "\n",
    "# scaling data\n",
    "scaler = StandardScaler()\n",
    "X_train = scaler.fit_transform(X_train)\n",
    "X_test = scaler.transform(X_test)"
   ]
  },
  {
   "cell_type": "markdown",
   "metadata": {
    "colab_type": "text",
    "id": "6Oh_WzTYVTzW"
   },
   "source": [
    "## Baseline Models"
   ]
  },
  {
   "cell_type": "code",
   "execution_count": null,
   "metadata": {
    "colab": {},
    "colab_type": "code",
    "id": "mIyKp8W9XocV"
   },
   "outputs": [],
   "source": [
    "# define models\n",
    "ridge = linear_model.Ridge()\n",
    "lasso = linear_model.Lasso()\n",
    "elastic = linear_model.ElasticNet()\n",
    "lasso_lars = linear_model.LassoLars()\n",
    "bayesian_ridge = linear_model.BayesianRidge()\n",
    "logistic = linear_model.LogisticRegression(solver='liblinear')\n",
    "sgd = linear_model.SGDClassifier()"
   ]
  },
  {
   "cell_type": "markdown",
   "metadata": {
    "colab_type": "text",
    "id": "eIciWM6eXtJd"
   },
   "source": [
    "Here we select seven common traditional machine learning models."
   ]
  },
  {
   "cell_type": "code",
   "execution_count": null,
   "metadata": {
    "colab": {},
    "colab_type": "code",
    "id": "O8L8OslwUMru"
   },
   "outputs": [],
   "source": [
    "models = [ridge, lasso, elastic, lasso_lars, bayesian_ridge, logistic, sgd]"
   ]
  },
  {
   "cell_type": "markdown",
   "metadata": {
    "colab_type": "text",
    "id": "0EzvLtYVXxI2"
   },
   "source": [
    "### Get Basic Metrics\n",
    "\n",
    "We then find the mean cross validation score and standard deviation:"
   ]
  },
  {
   "cell_type": "code",
   "execution_count": null,
   "metadata": {
    "colab": {},
    "colab_type": "code",
    "id": "Z_gWxEKeXx52"
   },
   "outputs": [],
   "source": [
    "# function to get cross validation scores\n",
    "def get_cv_scores(model):\n",
    "    scores = cross_val_score(model, X_train, y_train, cv=5, scoring='roc_auc')\n",
    "    print('CV Mean: ', np.mean(scores))\n",
    "    print('STD: ', np.std(scores))\n",
    "    print('\\n')"
   ]
  },
  {
   "cell_type": "code",
   "execution_count": null,
   "metadata": {
    "colab": {
     "base_uri": "https://localhost:8080/",
     "height": 971
    },
    "colab_type": "code",
    "id": "mApTAseoX2PR",
    "outputId": "d6cf42e0-dbdf-41e5-e0c9-8d3b52eebf65"
   },
   "outputs": [],
   "source": [
    "# loop through list of models\n",
    "for model in models:\n",
    "    print(model)\n",
    "    get_cv_scores(model)"
   ]
  },
  {
   "cell_type": "markdown",
   "metadata": {
    "colab_type": "text",
    "id": "WwhV28zvX-LV"
   },
   "source": [
    "From this we can see our best performing models out of the box are logistic regression and stochastic gradient descent. Let's see if we can optimize these models with hyperparameter tuning.\n"
   ]
  },
  {
   "cell_type": "markdown",
   "metadata": {
    "colab_type": "text",
    "id": "UV-jZ6MmX-S7"
   },
   "source": [
    "## Logistic Regression and Grid Search\n",
    "\n",
    "Grid search is a traditional way to perform hyperparameter optimization. It works by searching exhaustively through a specified subset of hyperparameters.\n",
    "Using sklearn’s **[GridSearchCV](https://scikit-learn.org/stable/modules/generated/sklearn.model_selection.GridSearchCV.html)**, we first define our grid of parameters to search over and then run the grid search."
   ]
  },
  {
   "cell_type": "code",
   "execution_count": null,
   "metadata": {
    "colab": {
     "base_uri": "https://localhost:8080/",
     "height": 143
    },
    "colab_type": "code",
    "id": "UuyDDYSdYEIl",
    "outputId": "3eedf80e-5405-449f-ed5e-7066bcf6c7ad"
   },
   "outputs": [],
   "source": [
    "penalty = ['l1', 'l2']\n",
    "C = [0.0001, 0.001, 0.01, 0.1, 1, 10, 100, 1000]\n",
    "class_weight = [{1:0.5, 0:0.5}, {1:0.4, 0:0.6}, {1:0.6, 0:0.4}, {1:0.7, 0:0.3}]\n",
    "solver = ['liblinear', 'saga']\n",
    "\n",
    "param_grid = dict(penalty=penalty,\n",
    "                  C=C,\n",
    "                  class_weight=class_weight,\n",
    "                  solver=solver)\n",
    "\n",
    "grid = GridSearchCV(estimator=logistic, param_grid=param_grid, scoring='roc_auc', verbose=1, n_jobs=-1)\n",
    "grid_result = grid.fit(X_train, y_train)\n",
    "\n",
    "print('Best Score: ', grid_result.best_score_)\n",
    "print('Best Params: ', grid_result.best_params_)"
   ]
  },
  {
   "cell_type": "markdown",
   "metadata": {
    "colab_type": "text",
    "id": "fws--KGDYIQ_"
   },
   "source": [
    "We improved our cross validation score from 0.744 to 0.789!\n",
    "\n",
    "The benefit of grid search is that it is guaranteed to find the optimal combination of parameters supplied. The drawback is that it can be very time consuming and computationally expensive.\n",
    "\n",
    "We can combat this with random search."
   ]
  },
  {
   "cell_type": "code",
   "execution_count": null,
   "metadata": {
    "colab": {
     "base_uri": "https://localhost:8080/",
     "height": 89
    },
    "colab_type": "code",
    "id": "_DR63HsrYMGf",
    "outputId": "3cbae90d-d23f-4676-fe97-ddc0742800c0"
   },
   "outputs": [],
   "source": [
    "logistic = linear_model.LogisticRegression(C=1, class_weight={1:0.6, 0:0.4}, penalty='l1', solver='liblinear')\n",
    "get_cv_scores(logistic)"
   ]
  },
  {
   "cell_type": "code",
   "execution_count": null,
   "metadata": {
    "colab": {},
    "colab_type": "code",
    "id": "P3Eu_FAoYP20"
   },
   "outputs": [],
   "source": [
    "predictions = logistic.fit(X_train, y_train).predict_proba(X_test)\n",
    "#### score 0.828 on public leaderboard"
   ]
  },
  {
   "cell_type": "code",
   "execution_count": null,
   "metadata": {
    "colab": {
     "base_uri": "https://localhost:8080/",
     "height": 204
    },
    "colab_type": "code",
    "id": "AYIOgdTGYToR",
    "outputId": "74c8ba11-f46b-459b-fa28-59e3e30a7884"
   },
   "outputs": [],
   "source": [
    "submission = pd.read_csv(submissionFile)\n",
    "submission['target'] = predictions\n",
    "#submission.to_csv('submission.csv', index=False)\n",
    "submission.head()"
   ]
  },
  {
   "cell_type": "markdown",
   "metadata": {
    "colab_type": "text",
    "id": "WRxdH-gKYYv3"
   },
   "source": [
    "## Stochastic Gradient Descent and Random Search\n",
    "Random search is a random (obviously) search over specified parameter values.\n",
    "\n",
    "### Random Search\n",
    "\n",
    "Random search differs from grid search mainly in that it searches the specified subset of hyperparameters randomly instead of exhaustively. The major benefit being decreased processing time.\n",
    "\n",
    "There is a tradeoff to decreased processing time, however. We aren’t guaranteed to find the optimal combination of hyperparameters.\n",
    "\n",
    "Let’s give random search a try with sklearn’s **[RandomizedSearchCV](https://scikit-learn.org/stable/modules/generated/sklearn.model_selection.RandomizedSearchCV.html)**. Very similar to grid search above, we define the hyperparameters to search over before running the search.\n",
    "An important additional parameter to specify here is n_iter. This specifies the number of combinations to randomly try.\n",
    "\n",
    "- Selecting too low of a number will decrease our chance of finding the best combination. \n",
    "\n",
    "- Selecting too large of a number will increase our processing time."
   ]
  },
  {
   "cell_type": "code",
   "execution_count": null,
   "metadata": {
    "colab": {
     "base_uri": "https://localhost:8080/",
     "height": 145
    },
    "colab_type": "code",
    "id": "RjqSs6ghYam4",
    "outputId": "0cd30005-bc4d-410b-dcac-500998b071d9"
   },
   "outputs": [],
   "source": [
    "loss = ['hinge', 'log', 'modified_huber', 'squared_hinge', 'perceptron']\n",
    "penalty = ['l1', 'l2', 'elasticnet']\n",
    "alpha = [0.0001, 0.001, 0.01, 0.1, 1, 10, 100, 1000]\n",
    "learning_rate = ['constant', 'optimal', 'invscaling', 'adaptive']\n",
    "class_weight = [{1:0.5, 0:0.5}, {1:0.4, 0:0.6}, {1:0.6, 0:0.4}, {1:0.7, 0:0.3}]\n",
    "eta0 = [1, 10, 100]\n",
    "\n",
    "param_distributions = dict(loss=loss,\n",
    "                           penalty=penalty,\n",
    "                           alpha=alpha,\n",
    "                           learning_rate=learning_rate,\n",
    "                           class_weight=class_weight,\n",
    "                           eta0=eta0)\n",
    "\n",
    "random = RandomizedSearchCV(estimator=sgd, param_distributions=param_distributions, scoring='roc_auc', verbose=1, n_jobs=-1, n_iter=1000)\n",
    "random_result = random.fit(X_train, y_train)\n",
    "\n",
    "print('Best Score: ', random_result.best_score_)\n",
    "print('Best Params: ', random_result.best_params_)"
   ]
  },
  {
   "cell_type": "code",
   "execution_count": null,
   "metadata": {
    "colab": {
     "base_uri": "https://localhost:8080/",
     "height": 89
    },
    "colab_type": "code",
    "id": "TQbz9-1xYj4D",
    "outputId": "4fd82dba-34a3-4b3a-86b2-43e6fc3c6ead"
   },
   "outputs": [],
   "source": [
    "sgd = linear_model.SGDClassifier(alpha=0.1,\n",
    "                                 class_weight={1:0.7, 0:0.3},\n",
    "                                 eta0=100,\n",
    "                                 learning_rate='optimal',\n",
    "                                 loss='log',\n",
    "                                 penalty='elasticnet')\n",
    "get_cv_scores(sgd)"
   ]
  },
  {
   "cell_type": "code",
   "execution_count": null,
   "metadata": {
    "colab": {},
    "colab_type": "code",
    "id": "vXwk625VYm0N"
   },
   "outputs": [],
   "source": [
    "predictions = sgd.fit(X_train, y_train).predict_proba(X_test)\n",
    "#### score 0.790 on public leaderboard"
   ]
  },
  {
   "cell_type": "markdown",
   "metadata": {
    "colab_type": "text",
    "id": "pIbpaVYkYnss"
   },
   "source": [
    "Here we improved the cross validation score from 0.733 to 0.780!\n",
    "Conclusion\n",
    "Here we explored two methods for hyperparameter turning and saw improvement in model performance.\n",
    "While this is an important step in modeling, it is by no means the only way to improve performance.\n",
    "In future articles we will explore other means to prevent overfitting including feature selection and ensembling."
   ]
  },
  {
   "cell_type": "markdown",
   "metadata": {
    "colab_type": "text",
    "id": "F1jfSWkPbeMJ"
   },
   "source": [
    "## Conclusion\n",
    "\n",
    "Here we explored two methods for hyperparameter turning and saw improvement in model performance.\n",
    "\n",
    "While this is an important step in modeling, it is by no means the only way to improve performance.\n",
    "\n",
    "In future articles we will explore other means to prevent overfitting including feature selection and ensembling."
   ]
  },
  {
   "cell_type": "code",
   "execution_count": null,
   "metadata": {
    "colab": {
     "base_uri": "https://localhost:8080/",
     "height": 204
    },
    "colab_type": "code",
    "id": "E61FtcVxYn0v",
    "outputId": "2675a9a5-10c1-4141-d06a-067f733f2951"
   },
   "outputs": [],
   "source": [
    "submission = pd.read_csv(submissionFile)\n",
    "submission['target'] = predictions\n",
    "submission.to_csv('submission.csv', index=False)\n",
    "submission.head()"
   ]
  },
  {
   "cell_type": "markdown",
   "metadata": {
    "colab_type": "text",
    "id": "wVOAS8V0Yqi3"
   },
   "source": [
    "So since this is used in a Kaggle Competition, the results are saved into a submission CSV dataset."
   ]
  },
  {
   "cell_type": "markdown",
   "metadata": {
    "colab_type": "text",
    "id": "cpUlhl-LYvN3"
   },
   "source": [
    "### End of notebook."
   ]
  }
 ],
 "metadata": {
  "colab": {
   "include_colab_link": true,
   "name": "hyperparameter_tuning.ipynb",
   "provenance": [],
   "toc_visible": true,
   "version": "0.3.2"
  },
  "kernelspec": {
   "display_name": "Python 3",
   "language": "python",
   "name": "python3"
  },
  "language_info": {
   "codemirror_mode": {
    "name": "ipython",
    "version": 3
   },
   "file_extension": ".py",
   "mimetype": "text/x-python",
   "name": "python",
   "nbconvert_exporter": "python",
   "pygments_lexer": "ipython3",
   "version": "3.6.8"
  }
 },
 "nbformat": 4,
 "nbformat_minor": 1
}
