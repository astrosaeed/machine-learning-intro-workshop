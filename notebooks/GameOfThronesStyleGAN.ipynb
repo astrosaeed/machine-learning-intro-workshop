{
  "nbformat": 4,
  "nbformat_minor": 0,
  "metadata": {
    "colab": {
      "name": "GameOfThronesStyleGAN.ipynb",
      "version": "0.3.2",
      "provenance": [],
      "include_colab_link": true
    },
    "kernelspec": {
      "name": "python3",
      "display_name": "Python 3"
    }
  },
  "cells": [
    {
      "cell_type": "markdown",
      "metadata": {
        "id": "view-in-github",
        "colab_type": "text"
      },
      "source": [
        "<a href=\"https://colab.research.google.com/github/jfogarty/machine-learning-intro-workshop/blob/master/notebooks/GameOfThronesStyleGAN.ipynb\" target=\"_parent\"><img src=\"https://colab.research.google.com/assets/colab-badge.svg\" alt=\"Open In Colab\"/></a>"
      ]
    },
    {
      "cell_type": "markdown",
      "metadata": {
        "id": "Hw5oA4-yVNlq",
        "colab_type": "text"
      },
      "source": [
        "This is taken from https://colab.research.google.com/github/iyaja/stylegan-encoder/blob/master/generate_GoT_characters_with_StyleGAN.ipynb"
      ]
    },
    {
      "cell_type": "markdown",
      "metadata": {
        "id": "DCwMiX3CUY8C",
        "colab_type": "text"
      },
      "source": [
        "# How to Generate Game of Thrones Characters With StyleGAN\n",
        "\n",
        "Hi, welcome to this tutorial on generating and messsing around with Game of Thrones characters uing StyleGAN.\n",
        "\n",
        "If you're reading this, I'm assuming that you came here after reading the [article](https://blog.nanonets.com/stylegan-got/)  that accompanies this notebook. If you didn't, [CHECK IT OUT NOW!](https://blog.nanonets.com/stylegan-got/)\n",
        "\n",
        "Once you're done, we can get started with the good stuff."
      ]
    },
    {
      "cell_type": "markdown",
      "metadata": {
        "id": "G1PrnlGIUbz5",
        "colab_type": "text"
      },
      "source": [
        "# Setting thigs up\n",
        "\n",
        "StyleGAN is a massive model that can take weeks to train. So for this tutorial, we're going to use a pretrained model that Nvidia open-sourced. You can find the official implementation [here](https://github.com/NVlabs/stylegan).\n",
        "\n",
        "But here, we're going to use a version of that repo that I forked and modified specifically to save you time when using Game of Thrones Characters."
      ]
    },
    {
      "cell_type": "markdown",
      "metadata": {
        "id": "bWJuhMLqUdvi",
        "colab_type": "text"
      },
      "source": [
        "So first, let's clone the repo and move into it."
      ]
    },
    {
      "cell_type": "code",
      "metadata": {
        "id": "ZzItR5o1UhDx",
        "colab_type": "code",
        "colab": {}
      },
      "source": [
        "! git clone https://github.com/iyaja/stylegan-encoder.git\n",
        "import os\n",
        "os.chdir(\"stylegan-encoder\")"
      ],
      "execution_count": 0,
      "outputs": []
    },
    {
      "cell_type": "markdown",
      "metadata": {
        "id": "oHEwgJKaUifC",
        "colab_type": "text"
      },
      "source": [
        "Next, we need to import a few required libraries. You can pretty much leave this part alone, but be sure to run it."
      ]
    },
    {
      "cell_type": "code",
      "metadata": {
        "id": "o0-xxPTGUjq6",
        "colab_type": "code",
        "colab": {}
      },
      "source": [
        "import os\n",
        "import pickle\n",
        "import PIL.Image\n",
        "import numpy as np\n",
        "import dnnlib\n",
        "import dnnlib.tflib as tflib\n",
        "import config\n",
        "from encoder.generator_model import Generator\n",
        "\n",
        "import matplotlib.pyplot as plt\n",
        "%matplotlib inline"
      ],
      "execution_count": 0,
      "outputs": []
    },
    {
      "cell_type": "markdown",
      "metadata": {
        "id": "JXi_wwCZUk7J",
        "colab_type": "text"
      },
      "source": [
        "Like I mentioned, we're going to use a pretrained StyleGAN, which was trained on the [FFHQ dataset](https://www.github.com/NVlabs/ffhq-dataset). This code block downloads the weights and initializes the network to make it easy for us to play around with the model via a high-level interface."
      ]
    },
    {
      "cell_type": "code",
      "metadata": {
        "id": "QBgLY4EWUmIK",
        "colab_type": "code",
        "colab": {}
      },
      "source": [
        "URL_FFHQ = 'https://s3-us-west-2.amazonaws.com/nanonets/blogs/karras2019stylegan-ffhq-1024x1024.pkl'\n",
        "\n",
        "tflib.init_tf()\n",
        "with dnnlib.util.open_url(URL_FFHQ, cache_dir=config.cache_dir) as f:\n",
        "    generator_network, discriminator_network, Gs = pickle.load(f)\n",
        "\n",
        "generator = Generator(Gs, batch_size=1, randomize_noise=False)"
      ],
      "execution_count": 0,
      "outputs": []
    },
    {
      "cell_type": "markdown",
      "metadata": {
        "id": "2SSndm2nUnpd",
        "colab_type": "text"
      },
      "source": [
        "We'll also define these helper functions. It may not seem intuitive now, but these functions will make it really easy to iterate quickly later on."
      ]
    },
    {
      "cell_type": "code",
      "metadata": {
        "id": "NNZtlNArUoty",
        "colab_type": "code",
        "colab": {}
      },
      "source": [
        "def generate_image(latent_vector):\n",
        "    latent_vector = latent_vector.reshape((1, 18, 512))\n",
        "    generator.set_dlatents(latent_vector)\n",
        "    img_array = generator.generate_images()[0]\n",
        "    img = PIL.Image.fromarray(img_array, 'RGB')\n",
        "    #return img\n",
        "    return img.resize((256, 256))\n",
        "\n",
        "def move_and_show(latent_vector, direction, coeffs):\n",
        "    fig,ax = plt.subplots(1, len(coeffs), figsize=(15, 10), dpi=80)\n",
        "    for i, coeff in enumerate(coeffs):\n",
        "        new_latent_vector = latent_vector.copy()\n",
        "        new_latent_vector[:8] = (latent_vector + coeff*direction)[:8]\n",
        "        ax[i].imshow(generate_image(new_latent_vector))\n",
        "        ax[i].set_title('Coeff: %0.1f' % coeff)\n",
        "    [x.axis('off') for x in ax]\n",
        "    plt.show()"
      ],
      "execution_count": 0,
      "outputs": []
    },
    {
      "cell_type": "markdown",
      "metadata": {
        "id": "AowvguewUqDi",
        "colab_type": "text"
      },
      "source": [
        "I've also precomputed latent representations of a few popular Game of Thrones Characters. Quality isn't top-notch, though, since I did zero fine tuning on top of the baseline StyleGAN.\n",
        "\n",
        "[Dmitry Nikitko ](https://www.linkedin.com/in/puzer/) has an excellent [GitHub repo](https://github.com/Puzer/stylegan-encoder) which includes an \"encoder\" for StyleGAN. The repo has latent directions like smile, age, and gender built-in, so we'll load those too."
      ]
    },
    {
      "cell_type": "code",
      "metadata": {
        "id": "J580-RAUUrU6",
        "colab_type": "code",
        "colab": {}
      },
      "source": [
        "# Loading already learned representations\n",
        "jon = np.load('latent_representations/jon.npy')\n",
        "jon_2 = np.load('latent_representations/jon_2.npy')\n",
        "tyrion = np.load('latent_representations/tyrion.npy')\n",
        "daenerys = np.load('latent_representations/daenerys.npy')\n",
        "drogo = np.load('latent_representations/drogo.npy')\n",
        "bran = np.load('latent_representations/bran.npy')\n",
        "cersei = np.load('latent_representations/cersei.npy')\n",
        "jaime = np.load('latent_representations/jaime.npy')\n",
        "theon = np.load('latent_representations/theon.npy')\n",
        "night_king_1 = np.load('latent_representations/night_king_1.npy')\n",
        "night_king_2 = np.load('latent_representations/night_king_2.npy')\n",
        "\n",
        "# Loading already learned latent directions\n",
        "smile_direction = np.load('ffhq_dataset/latent_directions/smile.npy')\n",
        "gender_direction = np.load('ffhq_dataset/latent_directions/gender.npy')\n",
        "age_direction = np.load('ffhq_dataset/latent_directions/age.npy')"
      ],
      "execution_count": 0,
      "outputs": []
    },
    {
      "cell_type": "markdown",
      "metadata": {
        "id": "KOfE_cZ4Us-V",
        "colab_type": "text"
      },
      "source": [
        "If you want to play around with your own images, go ahead! All you have to do is make sure you have the right folders set up, then upload your face images to the 'raw_images' folder (without quotes) and these scripts by uncommenting the appropriate lines."
      ]
    },
    {
      "cell_type": "code",
      "metadata": {
        "id": "lajUvP-qUuc0",
        "colab_type": "code",
        "colab": {}
      },
      "source": [
        "# First, set up the required folders\n",
        "\n",
        "#os.mkdir('raw_images')\n",
        "#os.mkdir('aligned_images')\n",
        "#os.mkdir('generated_images')\n",
        "\n",
        "# Then, run these scripts\n",
        "\n",
        "# 1) Extract and align faces from images\n",
        "#!python align_images.py raw_images/ aligned_images/\n",
        "\n",
        "# 2) Find latent representation of aligned images\n",
        "#!python encode_images.py aligned_images/ generated_images/ latent_representations/"
      ],
      "execution_count": 0,
      "outputs": []
    },
    {
      "cell_type": "markdown",
      "metadata": {
        "id": "I3l4hdjoUwVK",
        "colab_type": "text"
      },
      "source": [
        "# Character Transformations"
      ]
    },
    {
      "cell_type": "markdown",
      "metadata": {
        "id": "Uj5h-WmBUxvi",
        "colab_type": "text"
      },
      "source": [
        "Using the latent representation of any character along with the learned latent directions, you can adjust three traits of any charcter: smile, age, and gender. This is done via the `move_and_show()` function, which takes three arguments: a latent vector, a latent direction, and an array of coefficients. It then performs the following computation:\n",
        "\n",
        "\n",
        "$$ \\text{new latent vector} = \\text{latent vector} + (\\text{coefficient} * \\text{latent direction} )$$\n",
        "\n",
        "\n",
        "The new latent vectors are passed through the StyleGAN genertor, and the resulting images are plotted. You can refer back to the previous section to go through the implementation of `move_and_show()`."
      ]
    },
    {
      "cell_type": "code",
      "metadata": {
        "id": "shQVs1nXUy9K",
        "colab_type": "code",
        "colab": {}
      },
      "source": [
        "move_and_show(theon, smile_direction, [-1, 0, 1])"
      ],
      "execution_count": 0,
      "outputs": []
    },
    {
      "cell_type": "code",
      "metadata": {
        "id": "9S1K4Nc_U1Fy",
        "colab_type": "code",
        "colab": {}
      },
      "source": [
        "move_and_show(jaime, gender_direction, [-2, 0, 2])"
      ],
      "execution_count": 0,
      "outputs": []
    },
    {
      "cell_type": "code",
      "metadata": {
        "id": "5UvF9O-IU22M",
        "colab_type": "code",
        "colab": {}
      },
      "source": [
        "move_and_show(drogo, age_direction, [-4, 0, 2])"
      ],
      "execution_count": 0,
      "outputs": []
    },
    {
      "cell_type": "markdown",
      "metadata": {
        "id": "BDr3vhHJU4P6",
        "colab_type": "text"
      },
      "source": [
        "#Character Fusion"
      ]
    },
    {
      "cell_type": "markdown",
      "metadata": {
        "id": "RH54f7ejU5Zy",
        "colab_type": "text"
      },
      "source": [
        "We can also try mixing characters together to find an \"average\" of the two. The easiest way to do this is to simply take an average of the two latent vectors and generate an image using the average latent vector. You can also adjust how much of each character you want by changing `alpha`.\n",
        "\n",
        "\n",
        "Now for the moment of truth -- Let's see what the future protector of the realm will look like!"
      ]
    },
    {
      "cell_type": "code",
      "metadata": {
        "id": "Dtw2QQUEU6pD",
        "colab_type": "code",
        "colab": {}
      },
      "source": [
        "alpha = 0.5\n",
        "\n",
        "mix = (((alpha)*jon)+((1-alpha)*daenerys))\n",
        "\n",
        "move_and_show(mix, gender_direction, [-2, 0, 2])"
      ],
      "execution_count": 0,
      "outputs": []
    },
    {
      "cell_type": "markdown",
      "metadata": {
        "id": "8LQK8qnRU8Zi",
        "colab_type": "text"
      },
      "source": [
        "Note that above, you basically created a new character, so can save that latent and do the age, gender, and smile transforms as shown above.\n",
        "\n",
        "The second, and perhaps more interesting way to fuse characters i through Nvidia's style mixing technique. Refer back to the [main article](https://blog.nanonets.com/stylegan-got/https://blog.nanonets.com/got-gan) to learn how this works. The code below is a modification of Nvidia's style mixing implementation."
      ]
    },
    {
      "cell_type": "code",
      "metadata": {
        "id": "6pMPwlG8U9_b",
        "colab_type": "code",
        "colab": {}
      },
      "source": [
        "def draw_style_mixing_figure(png, Gs, w, h, src_dlatents, dst_dlatents, style_ranges):\n",
        "    print(png)\n",
        "    #src_dlatents = Gs.components.mapping.run(src_latents, None) # [seed, layer, component]\n",
        "    #dst_dlatents = Gs.components.mapping.run(dst_latents, None)\n",
        "    src_images = Gs.components.synthesis.run(src_dlatents, randomize_noise=False, **synthesis_kwargs)\n",
        "    dst_images = Gs.components.synthesis.run(dst_dlatents, randomize_noise=False, **synthesis_kwargs)\n",
        "\n",
        "    canvas = PIL.Image.new('RGB', (w * (len(src_dlatents) + 1), h * (len(dst_dlatents) + 1)), 'white')\n",
        "    for col, src_image in enumerate(list(src_images)):\n",
        "        canvas.paste(PIL.Image.fromarray(src_image, 'RGB'), ((col + 1) * w, 0))\n",
        "    for row, dst_image in enumerate(list(dst_images)):\n",
        "        canvas.paste(PIL.Image.fromarray(dst_image, 'RGB'), (0, (row + 1) * h))\n",
        "        row_dlatents = np.stack([dst_dlatents[row]] * len(src_dlatents))\n",
        "        row_dlatents[:, style_ranges[row]] = src_dlatents[:, style_ranges[row]]\n",
        "        row_images = Gs.components.synthesis.run(row_dlatents, randomize_noise=False, **synthesis_kwargs)\n",
        "        for col, image in enumerate(list(row_images)):\n",
        "            canvas.paste(PIL.Image.fromarray(image, 'RGB'), ((col + 1) * w, (row + 1) * h))\n",
        "    canvas.save(png)\n",
        "    return canvas.resize((512,512))"
      ],
      "execution_count": 0,
      "outputs": []
    },
    {
      "cell_type": "code",
      "metadata": {
        "id": "Bu4rruO0VAUz",
        "colab_type": "code",
        "colab": {}
      },
      "source": [
        "tflib.init_tf()\n",
        "synthesis_kwargs = dict(output_transform=dict(func=tflib.convert_images_to_uint8, nchw_to_nhwc=True), minibatch_size=1)\n",
        "_Gs_cache = dict()\n",
        "\n",
        "draw_style_mixing_figure(os.path.join(config.result_dir, 'style-mixing.png'), Gs, w=1024, h=1024, src_dlatents=daenerys.reshape((1, 18, 512)), dst_dlatents=jon_2.reshape((1, 18, 512)), style_ranges=[range(6,14)])"
      ],
      "execution_count": 0,
      "outputs": []
    },
    {
      "cell_type": "markdown",
      "metadata": {
        "id": "tr67mwYUVBqT",
        "colab_type": "text"
      },
      "source": [
        "Surprisingly, I found the simple averaging method to produce better results, and I'm not sure why that's the case. I'd encourage you to keep trying Nvidia's style mixing method with different paramets, since you might get some really cool results."
      ]
    },
    {
      "cell_type": "markdown",
      "metadata": {
        "id": "DxSiXbREVCxa",
        "colab_type": "text"
      },
      "source": [
        "# Interpolation Videos\n"
      ]
    },
    {
      "cell_type": "markdown",
      "metadata": {
        "id": "PWgWirU1VEXl",
        "colab_type": "text"
      },
      "source": [
        "This secion will prduce one of the most exciting reults -- GAN interpolation videos. These videos perform smooth transitions between various images, which you'll only understand if you watch one yourself. So to make your own, start by tweaking these parameters to your preferences (note: this can increase the time it takes to generate a video)."
      ]
    },
    {
      "cell_type": "code",
      "metadata": {
        "id": "vB5xC2mRVFda",
        "colab_type": "code",
        "colab": {}
      },
      "source": [
        "duration_sec = 5.0\n",
        "smoothing_sec = 1.0\n",
        "mp4_fps = 20\n",
        "num_frames = int(np.rint(duration_sec * mp4_fps))"
      ],
      "execution_count": 0,
      "outputs": []
    },
    {
      "cell_type": "markdown",
      "metadata": {
        "id": "oqSuKMe3VGz6",
        "colab_type": "text"
      },
      "source": [
        "Next, we'll define two helper functions like the ones from the start of this notebook. Except, these will reurn image arrays instead."
      ]
    },
    {
      "cell_type": "code",
      "metadata": {
        "id": "xfLL8HF7VIGa",
        "colab_type": "code",
        "colab": {}
      },
      "source": [
        "def generate_image_for_video(latent_vector):\n",
        "    latent_vector = latent_vector.reshape((1, 18, 512))\n",
        "    generator.set_dlatents(latent_vector)\n",
        "    img_array = generator.generate_images()[0]\n",
        "\n",
        "    return img_array\n",
        "  \n",
        "  \n",
        "def move_for_video(latent_vector, direction, coeff):\n",
        "  \n",
        "  new_latent_vector = latent_vector.copy()\n",
        "  new_latent_vector[:8] = (latent_vector + coeff*direction)[:8]\n",
        "  \n",
        "  img_array = generate_image(new_latent_vector)\n",
        "  \n",
        "  return img_array"
      ],
      "execution_count": 0,
      "outputs": []
    },
    {
      "cell_type": "markdown",
      "metadata": {
        "id": "rIt8ITa5VJd6",
        "colab_type": "text"
      },
      "source": [
        "Finally, run this code block to generate cool videos. The results will be saved under the reults folder. Follow the comments to generate different kinds of videos, and enjoy!"
      ]
    },
    {
      "cell_type": "code",
      "metadata": {
        "id": "hvBnUJYlVLAL",
        "colab_type": "code",
        "colab": {}
      },
      "source": [
        "# If you're interpolating between two characters, set these characters here\n",
        "char1 = daenerys\n",
        "char2 = jaime\n",
        "\n",
        "# This creates an nd array that stores all the image frames fot cross-character interpolation\n",
        "src_images = np.stack(generate_image_for_video((0.01*alpha*char2)+((1-(0.01*alpha))*char1)) for alpha in range (100))\n",
        "\n",
        "\n",
        "# Uncomment the next line if you want to do a character transforation video, and choose the arguments as per your requirement\n",
        "#src_images = np.stack(move_for_video(dany_meme, smile_direction, (0.02*alpha)) for alpha in range (-100,100))\n",
        "\n",
        "\n",
        "def make_frame(t):\n",
        "    frame_idx = int(np.clip(np.round(t * mp4_fps), 0, num_frames - 1))\n",
        "    src_image = src_images[frame_idx]\n",
        "    return np.array(src_image)\n",
        "\n",
        "# Generate video.\n",
        "import moviepy.editor\n",
        "mp4_file = 'results/interpolate.mp4'\n",
        "mp4_codec = 'libx264'\n",
        "mp4_bitrate = '5M'\n",
        "\n",
        "video_clip = moviepy.editor.VideoClip(make_frame, duration=duration_sec)\n",
        "video_clip.write_videofile(mp4_file, fps=mp4_fps, codec=mp4_codec, bitrate=mp4_bitrate)"
      ],
      "execution_count": 0,
      "outputs": []
    }
  ]
}