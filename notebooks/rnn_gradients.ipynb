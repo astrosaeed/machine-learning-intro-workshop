{
 "cells": [
  {
   "cell_type": "markdown",
   "metadata": {
    "colab_type": "text",
    "id": "view-in-github"
   },
   "source": [
    "<a href=\"https://colab.research.google.com/github/jfogarty/machine-learning-intro-workshop/blob/master/notebooks/rnn_gradients.ipynb\" target=\"_parent\"><img src=\"https://colab.research.google.com/assets/colab-badge.svg\" alt=\"Open In Colab\"/></a>"
   ]
  },
  {
   "cell_type": "markdown",
   "metadata": {
    "colab_type": "text",
    "id": "erZsrqcUT3qQ"
   },
   "source": [
    "# Explaining Exploding and Vanishing Gradients in RNNs\n",
    "\n",
    "From [The curious case of the vanishing & exploding gradient](https://medium.com/learn-love-ai/the-curious-case-of-the-vanishing-exploding-gradient-bf58ec6822eb) by [Eniola Alese](https://medium.com/@eniola.alese?source=post_page-----bf58ec6822eb----------------------) in [www.medium.com](https://www.medium.com/)\n",
    "\n",
    "Updated by [John Fogarty](https://github.com/jfogarty) for Python 3.6 and [Base2 MLI](https://github.com/base2solutions/mli).\n"
   ]
  },
  {
   "cell_type": "markdown",
   "metadata": {
    "colab_type": "text",
    "id": "N89FEgywT3xy"
   },
   "source": [
    "In the [last post](https://medium.com/learn-love-ai/step-by-step-walkthrough-of-rnn-training-part-ii-7141084d274b), we introduced a step by step walkthrough of RNN training and how to derive the gradients of the network weights using back propagation and the chain rule. But it turns out that during this training the RNN can suffer greatly from two problems: 1. Vanishing gradients or 2. Exploding gradients."
   ]
  },
  {
   "cell_type": "markdown",
   "metadata": {
    "colab_type": "text",
    "id": "ODRLPGpdT36a"
   },
   "source": [
    "## Why Gradients Explode or Vanish\n",
    "\n",
    "Recall the many-to-many architecture for text generation shown below and in the introduction to RNN post, lets assume the input sequence to the network is a 20 word sentence: *“I grew up in France,…….. I speak French fluently\"*.\n",
    "\n",
    "<figure>\n",
    "  <br><center>\n",
    "    <img src=\"../images/rex_1.png\" />\n",
    "    <figcaption></figcaption>     \n",
    "  </center>\n",
    "</figure>"
   ]
  },
  {
   "cell_type": "markdown",
   "metadata": {
    "colab_type": "text",
    "id": "IoqjOVv8T38_"
   },
   "source": [
    "We can see from the example above that for the RNN to predict the word “French” which comes at the end of the sequence, it would need information from the word ***“France”***, which occurs further back at the beginning of the sentence. This kind of dependence between sequence data is called long-term dependencies because the distance between the relevant information ***“France”*** and the point where it is needed to make a prediction ***“French”*** is very wide. Unfortunately, in practice as this distance becomes wider, RNNs have a hard time learning these dependencies because it encounters either a vanishing or exploding gradient problem.\n",
    "\n",
    "These problems arise during training of a deep network when the gradients are being propagated back in time all the way to the initial layer. The gradients coming from the deeper layers have to go through continuous matrix multiplications because of the the chain rule, and as they approach the earlier layers, if they have small values ($<1$), they shrink exponentially until they vanish and make it impossible for the model to learn , this is the *vanishing gradient problem*. While on the other hand if they have large values ($>1$) they get larger and eventually blow up and crash the model, this is the *exploding gradient problem*"
   ]
  },
  {
   "cell_type": "markdown",
   "metadata": {
    "colab_type": "text",
    "id": "v32P2FeTT3_u"
   },
   "source": [
    "## Dealing with Exploding Gradients\n",
    "\n",
    "When gradients explode, the gradients could become `NaN` because of the numerical overflow or we might see irregular oscillations in training cost when we plot the learning curve. A solution to fix this is to apply **[gradient clipping](http://proceedings.mlr.press/v28/pascanu13.pdf)**; which places a predefined threshold on the gradients to prevent it from getting too large, and by doing this it doesn’t change the direction of the gradients it only change its length.\n",
    "\n",
    "\n",
    "<figure>\n",
    "  <br><center>\n",
    "    <img src=\"../images/rex_2.png\" />\n",
    "    <figcaption>Reference: Ian Goodfellow et. al, “<a src=\"http://www.deeplearningbook.org/contents/rnn.html\">Deep Learning</a>”, MIT press, 2016</figcaption>     \n",
    "  </center>\n",
    "</figure>"
   ]
  },
  {
   "cell_type": "markdown",
   "metadata": {
    "colab_type": "text",
    "id": "EXcvHrpyT4CT"
   },
   "source": [
    "## Dealing with Vanishing Gradients\n",
    "\n",
    "One simple solution for dealing with vanishing gradient is the **[identity RNN](https://arxiv.org/pdf/1504.00941.pdf)** architecture; where the network weights are initialized to the identity matrix and the activation functions are all set to ReLU and this ends up encouraging the network computations to stay close to the identity function. This works well because when the error derivatives are being propagated backwards through time, they remain constants of either 0 or 1, hence aren’t likely to suffer from vanishing gradients."
   ]
  },
  {
   "cell_type": "markdown",
   "metadata": {
    "colab_type": "text",
    "id": "y0jPdPuSWH91"
   },
   "source": [
    "An even more popular and widely used solution is the **[Long Short-Term Memory](http://www.bioinf.jku.at/publications/older/2604.pdf)** architecture (LSTM); a variant of the regular recurrent network which was designed to make it easy to capture long-term dependencies in sequence data. The standard RNN operates in such a way that the hidden state activation are influenced by the other local activations closest to them, which corresponds to a *“short-term memory”*, while the network weights are influenced by the computations that take place over entire long sequences, which corresponds to a *“long-term memory”*. Hence the RNN was redesigned so that it has an activation state that can also act like weights and preserve information over long distances, hence the name *“Long Short-Term Memory”*.\n",
    "\n",
    "\n",
    "<figure>\n",
    "  <br><center>\n",
    "    <img src=\"../images/rex_3.gif\" />\n",
    "    <figcaption>LSTM Unit</figcaption>     \n",
    "  </center>\n",
    "</figure>"
   ]
  },
  {
   "cell_type": "markdown",
   "metadata": {
    "colab_type": "text",
    "id": "-SttrcAlXB87"
   },
   "source": [
    "## Conclusion\n",
    "\n",
    "In this post we explored the reasons why gradients explode or vanish and examined some methods for dealing with the problem. In the next post we would look further into the LSTM architecture and learn how to derive its gradients for back propagation."
   ]
  },
  {
   "cell_type": "markdown",
   "metadata": {
    "colab_type": "text",
    "id": "vPIiv4M0T4Ev"
   },
   "source": [
    "### End of notebook"
   ]
  }
 ],
 "metadata": {
  "colab": {
   "include_colab_link": true,
   "name": "rnn_gradients.ipynb",
   "provenance": [],
   "version": "0.3.2"
  },
  "kernelspec": {
   "display_name": "Python 3",
   "language": "python",
   "name": "python3"
  },
  "language_info": {
   "codemirror_mode": {
    "name": "ipython",
    "version": 3
   },
   "file_extension": ".py",
   "mimetype": "text/x-python",
   "name": "python",
   "nbconvert_exporter": "python",
   "pygments_lexer": "ipython3",
   "version": "3.6.8"
  }
 },
 "nbformat": 4,
 "nbformat_minor": 1
}
