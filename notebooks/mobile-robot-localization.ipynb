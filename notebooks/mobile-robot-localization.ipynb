{
  "nbformat": 4,
  "nbformat_minor": 0,
  "metadata": {
    "colab": {
      "name": "Untitled1.ipynb",
      "version": "0.3.2",
      "provenance": [],
      "include_colab_link": true
    },
    "kernelspec": {
      "name": "python3",
      "display_name": "Python 3"
    }
  },
  "cells": [
    {
      "cell_type": "markdown",
      "metadata": {
        "id": "view-in-github",
        "colab_type": "text"
      },
      "source": [
        "<a href=\"https://colab.research.google.com/github/jfogarty/machine-learning-intro-workshop/blob/master/notebooks/mobile-robot-localization.ipynb\" target=\"_parent\"><img src=\"https://colab.research.google.com/assets/colab-badge.svg\" alt=\"Open In Colab\"/></a>"
      ]
    },
    {
      "cell_type": "markdown",
      "metadata": {
        "id": "cOmQgWYcq7-I",
        "colab_type": "text"
      },
      "source": [
        "# Particle Filters for Mobile Robot Localization\n",
        "\n",
        "We have a robot.  Our poor robot don't know where it is, but it wants to know.  And the robot has a map that is known to be pretty accurate.  We consider a probability distribution over where it might be.  Right now, that is pretty uniform, but it will change in strange ways - it may have a strong peak, a weak peak and gentle slope, or depending on symmetry in the environment, it might have multiple peaks.  So we can't represent our probability distribution with a nice clean Gaussian or some other canonical distribution.\n",
        "\n",
        "## Representing the probability distribution\n",
        "So let's maintain a population of samples, each giving a guess at where the robot might be (**x**,**y**, and $\\theta$).  Now as our robot moves through the environment and its sensors perceive things, we can move these samples around or generate new ones to keep track of how the probability distribution changes.  If all goes well, our samples will be move to where our robot is.\n",
        "\n",
        "You can think of this as being similar to a Genetic Algorithm.  GAs keep a population of individuals, each one representing a guess at the optimal solution.  Through mutation and cross-over, the individuals (in theory) gravitate toward that optimal solution.  We have samples here too, except we will be using probability and statistics to generate the next generation of samples, not random mutation and cross-over."
      ]
    },
    {
      "cell_type": "markdown",
      "metadata": {
        "id": "T07qK6HHsSU-",
        "colab_type": "text"
      },
      "source": [
        "## Sensor Model\n",
        "\n",
        "Our robot isn't perfect - its sensor readings don't always perceive reality perfectly.  So if it detects an obstacle 1.000 meters away, it might actually be 0.997 meters away, but it's probably not 5 meters away.  So we produce a sensor model, describing the accuracy of our sensors.  Let's say our robot gets a sensor reading $r$.\n",
        "\n",
        "For any given pose $p$ in our map, we can say that the likelihood of that sensor reading is $M_s(p,r)$, where $M_s$ is our sensor model.  But if we don't know where our robot is, how do we know what $p$ is?  Simple: just compute it once for each of our samples."
      ]
    },
    {
      "cell_type": "markdown",
      "metadata": {
        "id": "7d4jESPgunm4",
        "colab_type": "text"
      },
      "source": [
        "\n",
        "## Movement Model\n",
        "Our robots motion isn't perfect either.  We might command the robot to drive to drive 1.000 meter straight forward, but it due to wheel slippage, it might actually move 1.050 meters in a direction 3 degrees to the right, and it's now facing 2 degrees to the left.  How do we compensate for this?  Build another model!  Let's say the likelihood of being in a pose $p'$ after a movement $m$ is $M_m(p,m)$.\n"
      ]
    },
    {
      "cell_type": "markdown",
      "metadata": {
        "id": "Sv8ZPJhWxgqV",
        "colab_type": "text"
      },
      "source": [
        "## Resampling\n",
        "Let's say our robot set up some samples to guess at its starting pose.  Then it moved a bit.  Then it checked its sensors.  It should update its guess at where it is in the world now.  \n",
        "\n",
        "Yes, it should."
      ]
    },
    {
      "cell_type": "code",
      "metadata": {
        "id": "hLhB2b34q3bm",
        "colab_type": "code",
        "colab": {}
      },
      "source": [
        ""
      ],
      "execution_count": 0,
      "outputs": []
    }
  ]
}