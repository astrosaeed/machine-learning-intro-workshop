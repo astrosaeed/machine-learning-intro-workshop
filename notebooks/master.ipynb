{
  "nbformat": 4,
  "nbformat_minor": 0,
  "metadata": {
    "colab": {
      "name": "master.ipynb",
      "version": "0.3.2",
      "provenance": [],
      "toc_visible": true,
      "include_colab_link": true
    },
    "kernelspec": {
      "name": "python3",
      "display_name": "Python 3"
    }
  },
  "cells": [
    {
      "cell_type": "markdown",
      "metadata": {
        "id": "view-in-github",
        "colab_type": "text"
      },
      "source": [
        "<a href=\"https://colab.research.google.com/github/jfogarty/machine-learning-intro-workshop/blob/master/notebooks/master.ipynb\" target=\"_parent\"><img src=\"https://colab.research.google.com/assets/colab-badge.svg\" alt=\"Open In Colab\"/></a>"
      ]
    },
    {
      "cell_type": "markdown",
      "metadata": {
        "colab_type": "text",
        "id": "AaIRWSzHYlOK"
      },
      "source": [
        "# Welcome to the Base2 Solutions Machine Learning Workshop\n",
        "\n",
        "This is your starting place for the Machine Learning Workshop, consider bookmarking this page for easier navigation throughout the course. The course is made up of multiple Jupyter Notebooks like this one, and will be comprised of both text and code snippets. Use the Table of Contents below to get started!\n",
        "\n",
        "> Programming exercises run directly in your browser (no setup required!) using the [Colaboratory](https://colab.research.google.com/) platform. Colaboratory is supported on most major browsers, and is most thoroughly tested on desktop versions of Chrome and Firefox.\n",
        "\n",
        " \n",
        "\n"
      ]
    },
    {
      "cell_type": "markdown",
      "metadata": {
        "id": "MQuYZTAjlqjR",
        "colab_type": "text"
      },
      "source": [
        "\n",
        "## Table of Contents\n"
      ]
    },
    {
      "cell_type": "markdown",
      "metadata": {
        "id": "kBJZtWfxlYSa",
        "colab_type": "text"
      },
      "source": [
        "### Getting Comforatable\n",
        "[1.1 Intro to Pandas](https://colab.research.google.com/github/jfogarty/machine-learning-intro-workshop/blob/master/notebooks/intro_to_pandas.ipynb): pandas is an important library for data analysis and modeling, and is widely used in TensorFlow coding. This tutorial provides all the pandas information you need for this course. If you already know pandas, you can skip this exercise.\n",
        "\n",
        "[1.2 Running a Machine Learning Model](<simple_linear_regression_example>): Simple Linear Regression Machine Learning Model"
      ]
    },
    {
      "cell_type": "markdown",
      "metadata": {
        "id": "a6OXUAn5lYcJ",
        "colab_type": "text"
      },
      "source": [
        "### Handling Data\n",
        "[2.2 Working with Data](<prepare_and_manipulate_data>): Preparing and manipulating data for use with Machine Learning Models"
      ]
    },
    {
      "cell_type": "markdown",
      "metadata": {
        "id": "1Lfl9OgalU1S",
        "colab_type": "text"
      },
      "source": [
        "### Training Machine Learning Models\n",
        "[3.1 Training a Model](<exploring_mnist>): Exploring MNIST\n",
        "\n",
        "[3.2 Minimizing Loss and Validating Models](<tuning_hyperparameters_and_more>): Making better models through model configuration\n"
      ]
    },
    {
      "cell_type": "markdown",
      "metadata": {
        "id": "O2lGFE1VHX1S",
        "colab_type": "text"
      },
      "source": [
        "## Training Simple Neural Networks\n",
        "\n",
        "[4.1 Binary functions](https://colab.research.google.com/github/jfogarty/machine-learning-intro-workshop/blob/master/notebooks/binary_functions.ipynb): computing the simplest binary functions (not, xor, or, and) with neural networks."
      ]
    },
    {
      "cell_type": "markdown",
      "metadata": {
        "id": "Yfbip1R6mG3Q",
        "colab_type": "text"
      },
      "source": [
        "## Advanced Techniques and Miscellaneous"
      ]
    },
    {
      "cell_type": "markdown",
      "metadata": {
        "id": "54FHXKfEmOJy",
        "colab_type": "text"
      },
      "source": [
        "[LaTeX Math in Notebooks](https://colab.research.google.com/github/jfogarty/machine-learning-intro-workshop/blob/master/misc/math-examples.ipynb): writing mathematical expressions in notebook markdown."
      ]
    }
  ]
}