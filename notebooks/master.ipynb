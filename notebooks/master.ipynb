{
  "nbformat": 4,
  "nbformat_minor": 0,
  "metadata": {
    "colab": {
      "name": "master.ipynb",
      "version": "0.3.2",
      "provenance": [],
      "include_colab_link": true
    },
    "kernelspec": {
      "name": "python3",
      "display_name": "Python 3"
    }
  },
  "cells": [
    {
      "cell_type": "markdown",
      "metadata": {
        "id": "view-in-github",
        "colab_type": "text"
      },
      "source": [
        "<a href=\"https://colab.research.google.com/github/jfogarty/machine-learning-intro-workshop/blob/devtrev/notebooks/master.ipynb\" target=\"_parent\"><img src=\"https://colab.research.google.com/assets/colab-badge.svg\" alt=\"Open In Colab\"/></a>"
      ]
    },
    {
      "cell_type": "markdown",
      "metadata": {
        "id": "WP6eMrkwB2N-",
        "colab_type": "text"
      },
      "source": [
        "# Welcome to the Base2 Solutions Machine Learning Workshop\n",
        "\n",
        "Hello World \\\n",
        "Intro goes here.\n",
        "\n",
        "### Table of Contents\n",
        "\n",
        "[Working with Data](https://colab.research.google.com/github/jfogarty/machine-learning-intro-workshop/blob/devtrev/notebooks/intro_to_pandas.ipynb)\\\n",
        "[Placeholder 1](https://google.com)\\\n",
        "[Placeholder 2](https://googler.com)\n"
      ]
    }
  ]
}