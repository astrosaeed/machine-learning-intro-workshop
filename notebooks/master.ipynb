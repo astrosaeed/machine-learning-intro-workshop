{
  "nbformat": 4,
  "nbformat_minor": 0,
  "metadata": {
    "colab": {
      "name": "master.ipynb",
      "version": "0.3.2",
      "provenance": [],
      "toc_visible": true,
      "include_colab_link": true
    },
    "kernelspec": {
      "name": "python3",
      "display_name": "Python 3"
    }
  },
  "cells": [
    {
      "cell_type": "markdown",
      "metadata": {
        "id": "view-in-github",
        "colab_type": "text"
      },
      "source": [
        "<a href=\"https://colab.research.google.com/github/jfogarty/machine-learning-intro-workshop/blob/master/notebooks/master.ipynb\" target=\"_parent\"><img src=\"https://colab.research.google.com/assets/colab-badge.svg\" alt=\"Open In Colab\"/></a>"
      ]
    },
    {
      "cell_type": "markdown",
      "metadata": {
        "colab_type": "text",
        "id": "AaIRWSzHYlOK"
      },
      "source": [
        "# Welcome to the Base2 Solutions Machine Learning Workshop\n",
        "\n",
        "This is your starting place for the Machine Learning Workshop, consider bookmarking this page for easier navigation throughout the course. The course is made up of multiple Jupyter Notebooks like this one, and will be comprised of both text and code snippets. Use the Table of Contents below to get started!\n",
        "\n",
        "> Programming exercises run directly in your browser (no setup required!) using the [Colaboratory](https://colab.research.google.com/) platform. Colaboratory is supported on most major browsers, and is most thoroughly tested on desktop versions of Chrome and Firefox.\n",
        "\n",
        "## Table of Contents\n",
        "### Getting Comforatable\n",
        "[1.1 Intro to Pandas](https://colab.research.google.com/github/jfogarty/machine-learning-intro-workshop/blob/master/notebooks/intro_to_pandas.ipynb): pandas is an important library for data analysis and modeling, and is widely used in TensorFlow coding. This tutorial provides all the pandas information you need for this course. If you already know pandas, you can skip this exercise.\n",
        " \n",
        "[1.2 Running a Machine Learning Model](<simple_linear_regression_example>): Simple Linear Regression Machine Learning Model\n",
        "\n",
        "### Handling Data\n",
        "[2.2 Working with Data](<prepare_and_manipulate_data>): Preparing and manipulating data for use with Machine Learning Models\n",
        "\n",
        "### Training Machine Learning Models\n",
        "[3.1 Training a Model](<exploring_mnist>): Exploring MNIST\\\n",
        "[3.2 Minimizing Loss and Validating Models](<tuning_hyperparameters_and_more>): Making better models through model configuration\n",
        "\n"
      ]
    }
  ]
}