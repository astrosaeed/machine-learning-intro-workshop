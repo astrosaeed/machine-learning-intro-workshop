{
 "cells": [
  {
   "cell_type": "markdown",
   "metadata": {},
   "source": [
    "# Darwin's finches\n",
    "\n",
    "From [data-science-nano-projects](https://github.com/hugorcf/data-science-nano-projects) by [Hugo Ferreira](https://github.com/hugorcf) (2018)\n",
    "\n",
    "Updated by [John Fogarty](https://github.com/jfogarty) for Python 3.6 and [Base2 MLI](https://github.com/base2solutions/mli)."
   ]
  },
  {
   "cell_type": "markdown",
   "metadata": {},
   "source": [
    "In this notebook, I will perform some very basic data and statistical analysis on data on [Darwin's finches](https://en.wikipedia.org/wiki/Darwin%27s_finches).\n",
    "\n",
    "<img src=\"../images/Darwins_finches.jpg\" alt=\"Darwins_finches\" style=\"width: 600px;\"/>\n",
    "\n",
    "This analysis was done as practice in Python and basic stats concepts such as hypothesis testing, confidnece intervals and linear regression.\n",
    "\n",
    "The original data can be found in:\n",
    "\n",
    "> Grant PR, Grant BR (2014) Data from: 40 years of evolution. Darwin's finches on Daphne Major Island. Dryad Digital Repository. https://doi.org/10.5061/dryad.g6g3h\n",
    "\n",
    "The inspiration to create this notebook came from the *Statistical Thinking in Python* courses in [DataCamp](https://www.datacamp.com). The datasets (in csv format) were obtained in [here](https://github.com/johnashu/datacamp/tree/master/statistical-thinking-in-python-part-2)."
   ]
  },
  {
   "cell_type": "code",
   "execution_count": 1,
   "metadata": {},
   "outputs": [],
   "source": [
    "# import packages\n",
    "import numpy as np\n",
    "import pandas as pd\n",
    "import matplotlib.pyplot as plt\n",
    "import seaborn as sns\n",
    "%matplotlib inline\n",
    "\n",
    "# Seaborn and matplotlib styles\n",
    "sns.set_style(\"darkgrid\")\n",
    "plt.style.use('fivethirtyeight')"
   ]
  },
  {
   "cell_type": "markdown",
   "metadata": {},
   "source": [
    "## Finch beak length and depth"
   ]
  },
  {
   "cell_type": "markdown",
   "metadata": {},
   "source": [
    "We'll focus our attention to two species of finches, the [medium ground finch](https://en.wikipedia.org/wiki/Medium_ground_finch) (*Geospiza fortis*) and the [common cactus finch](https://en.wikipedia.org/wiki/Common_cactus_finch) (*Geospiza scandens*), which live in the island of Daphne Major.\n",
    "\n",
    "<img src=\"../images/Geospiza_fortis.jpg\" alt=\"Geospiza_fortis\" style=\"width: 400px;\"/>\n",
    "\n",
    "<img src=\"../images/Geospiza_scandens.jpg\" alt=\"Geospiza_scandens\" style=\"width: 400px;\"/>\n",
    "\n",
    "We have data for the beak length and depth for both species in 1975 and 2012."
   ]
  },
  {
   "cell_type": "markdown",
   "metadata": {},
   "source": [
    "### Exploratory data analysis (EDA) of beak length and depth"
   ]
  },
  {
   "cell_type": "markdown",
   "metadata": {},
   "source": [
    "First, we import the data relative to 1975 and 2012 contained in two csv files."
   ]
  },
  {
   "cell_type": "code",
   "execution_count": 2,
   "metadata": {},
   "outputs": [],
   "source": [
    "data_1975 = pd.read_csv(\"../data/finch_beaks_1975.csv\")\n",
    "data_2012 = pd.read_csv(\"../data/finch_beaks_2012.csv\")"
   ]
  },
  {
   "cell_type": "code",
   "execution_count": 3,
   "metadata": {},
   "outputs": [
    {
     "name": "stdout",
     "output_type": "stream",
     "text": [
      "<class 'pandas.core.frame.DataFrame'>\n",
      "RangeIndex: 403 entries, 0 to 402\n",
      "Data columns (total 4 columns):\n",
      "band               403 non-null int64\n",
      "species            403 non-null object\n",
      "Beak length, mm    403 non-null float64\n",
      "Beak depth, mm     403 non-null float64\n",
      "dtypes: float64(2), int64(1), object(1)\n",
      "memory usage: 12.7+ KB\n"
     ]
    }
   ],
   "source": [
    "data_1975.info()"
   ]
  },
  {
   "cell_type": "code",
   "execution_count": 4,
   "metadata": {},
   "outputs": [
    {
     "data": {
      "text/html": [
       "<div>\n",
       "<style scoped>\n",
       "    .dataframe tbody tr th:only-of-type {\n",
       "        vertical-align: middle;\n",
       "    }\n",
       "\n",
       "    .dataframe tbody tr th {\n",
       "        vertical-align: top;\n",
       "    }\n",
       "\n",
       "    .dataframe thead th {\n",
       "        text-align: right;\n",
       "    }\n",
       "</style>\n",
       "<table border=\"1\" class=\"dataframe\">\n",
       "  <thead>\n",
       "    <tr style=\"text-align: right;\">\n",
       "      <th></th>\n",
       "      <th>band</th>\n",
       "      <th>species</th>\n",
       "      <th>Beak length, mm</th>\n",
       "      <th>Beak depth, mm</th>\n",
       "    </tr>\n",
       "  </thead>\n",
       "  <tbody>\n",
       "    <tr>\n",
       "      <th>0</th>\n",
       "      <td>2</td>\n",
       "      <td>fortis</td>\n",
       "      <td>9.4</td>\n",
       "      <td>8.0</td>\n",
       "    </tr>\n",
       "    <tr>\n",
       "      <th>1</th>\n",
       "      <td>9</td>\n",
       "      <td>fortis</td>\n",
       "      <td>9.2</td>\n",
       "      <td>8.3</td>\n",
       "    </tr>\n",
       "    <tr>\n",
       "      <th>2</th>\n",
       "      <td>12</td>\n",
       "      <td>fortis</td>\n",
       "      <td>9.5</td>\n",
       "      <td>7.5</td>\n",
       "    </tr>\n",
       "    <tr>\n",
       "      <th>3</th>\n",
       "      <td>15</td>\n",
       "      <td>fortis</td>\n",
       "      <td>9.5</td>\n",
       "      <td>8.0</td>\n",
       "    </tr>\n",
       "    <tr>\n",
       "      <th>4</th>\n",
       "      <td>305</td>\n",
       "      <td>fortis</td>\n",
       "      <td>11.5</td>\n",
       "      <td>9.9</td>\n",
       "    </tr>\n",
       "  </tbody>\n",
       "</table>\n",
       "</div>"
      ],
      "text/plain": [
       "   band species  Beak length, mm  Beak depth, mm\n",
       "0     2  fortis              9.4             8.0\n",
       "1     9  fortis              9.2             8.3\n",
       "2    12  fortis              9.5             7.5\n",
       "3    15  fortis              9.5             8.0\n",
       "4   305  fortis             11.5             9.9"
      ]
     },
     "execution_count": 4,
     "metadata": {},
     "output_type": "execute_result"
    }
   ],
   "source": [
    "data_1975.head()"
   ]
  },
  {
   "cell_type": "code",
   "execution_count": 5,
   "metadata": {},
   "outputs": [
    {
     "name": "stdout",
     "output_type": "stream",
     "text": [
      "<class 'pandas.core.frame.DataFrame'>\n",
      "RangeIndex: 248 entries, 0 to 247\n",
      "Data columns (total 4 columns):\n",
      "band       248 non-null int64\n",
      "species    248 non-null object\n",
      "blength    248 non-null float64\n",
      "bdepth     248 non-null float64\n",
      "dtypes: float64(2), int64(1), object(1)\n",
      "memory usage: 7.9+ KB\n"
     ]
    }
   ],
   "source": [
    "data_2012.info()"
   ]
  },
  {
   "cell_type": "code",
   "execution_count": 6,
   "metadata": {},
   "outputs": [
    {
     "data": {
      "text/html": [
       "<div>\n",
       "<style scoped>\n",
       "    .dataframe tbody tr th:only-of-type {\n",
       "        vertical-align: middle;\n",
       "    }\n",
       "\n",
       "    .dataframe tbody tr th {\n",
       "        vertical-align: top;\n",
       "    }\n",
       "\n",
       "    .dataframe thead th {\n",
       "        text-align: right;\n",
       "    }\n",
       "</style>\n",
       "<table border=\"1\" class=\"dataframe\">\n",
       "  <thead>\n",
       "    <tr style=\"text-align: right;\">\n",
       "      <th></th>\n",
       "      <th>band</th>\n",
       "      <th>species</th>\n",
       "      <th>blength</th>\n",
       "      <th>bdepth</th>\n",
       "    </tr>\n",
       "  </thead>\n",
       "  <tbody>\n",
       "    <tr>\n",
       "      <th>0</th>\n",
       "      <td>19022</td>\n",
       "      <td>fortis</td>\n",
       "      <td>10.0</td>\n",
       "      <td>8.5</td>\n",
       "    </tr>\n",
       "    <tr>\n",
       "      <th>1</th>\n",
       "      <td>19028</td>\n",
       "      <td>fortis</td>\n",
       "      <td>12.5</td>\n",
       "      <td>8.9</td>\n",
       "    </tr>\n",
       "    <tr>\n",
       "      <th>2</th>\n",
       "      <td>19032</td>\n",
       "      <td>fortis</td>\n",
       "      <td>9.3</td>\n",
       "      <td>7.5</td>\n",
       "    </tr>\n",
       "    <tr>\n",
       "      <th>3</th>\n",
       "      <td>19041</td>\n",
       "      <td>fortis</td>\n",
       "      <td>10.3</td>\n",
       "      <td>9.6</td>\n",
       "    </tr>\n",
       "    <tr>\n",
       "      <th>4</th>\n",
       "      <td>19044</td>\n",
       "      <td>fortis</td>\n",
       "      <td>11.0</td>\n",
       "      <td>9.2</td>\n",
       "    </tr>\n",
       "  </tbody>\n",
       "</table>\n",
       "</div>"
      ],
      "text/plain": [
       "    band species  blength  bdepth\n",
       "0  19022  fortis     10.0     8.5\n",
       "1  19028  fortis     12.5     8.9\n",
       "2  19032  fortis      9.3     7.5\n",
       "3  19041  fortis     10.3     9.6\n",
       "4  19044  fortis     11.0     9.2"
      ]
     },
     "execution_count": 6,
     "metadata": {},
     "output_type": "execute_result"
    }
   ],
   "source": [
    "data_2012.head()"
   ]
  },
  {
   "cell_type": "code",
   "execution_count": 7,
   "metadata": {},
   "outputs": [],
   "source": [
    "# make column titles equal in both dataframes\n",
    "data_1975.columns = data_2012.columns"
   ]
  },
  {
   "cell_type": "code",
   "execution_count": 8,
   "metadata": {},
   "outputs": [
    {
     "data": {
      "text/html": [
       "<div>\n",
       "<style scoped>\n",
       "    .dataframe tbody tr th:only-of-type {\n",
       "        vertical-align: middle;\n",
       "    }\n",
       "\n",
       "    .dataframe tbody tr th {\n",
       "        vertical-align: top;\n",
       "    }\n",
       "\n",
       "    .dataframe thead th {\n",
       "        text-align: right;\n",
       "    }\n",
       "</style>\n",
       "<table border=\"1\" class=\"dataframe\">\n",
       "  <thead>\n",
       "    <tr style=\"text-align: right;\">\n",
       "      <th></th>\n",
       "      <th>band</th>\n",
       "      <th>species</th>\n",
       "      <th>blength</th>\n",
       "      <th>bdepth</th>\n",
       "    </tr>\n",
       "  </thead>\n",
       "  <tbody>\n",
       "    <tr>\n",
       "      <th>0</th>\n",
       "      <td>2</td>\n",
       "      <td>fortis</td>\n",
       "      <td>9.4</td>\n",
       "      <td>8.0</td>\n",
       "    </tr>\n",
       "    <tr>\n",
       "      <th>1</th>\n",
       "      <td>9</td>\n",
       "      <td>fortis</td>\n",
       "      <td>9.2</td>\n",
       "      <td>8.3</td>\n",
       "    </tr>\n",
       "    <tr>\n",
       "      <th>2</th>\n",
       "      <td>12</td>\n",
       "      <td>fortis</td>\n",
       "      <td>9.5</td>\n",
       "      <td>7.5</td>\n",
       "    </tr>\n",
       "    <tr>\n",
       "      <th>3</th>\n",
       "      <td>15</td>\n",
       "      <td>fortis</td>\n",
       "      <td>9.5</td>\n",
       "      <td>8.0</td>\n",
       "    </tr>\n",
       "    <tr>\n",
       "      <th>4</th>\n",
       "      <td>305</td>\n",
       "      <td>fortis</td>\n",
       "      <td>11.5</td>\n",
       "      <td>9.9</td>\n",
       "    </tr>\n",
       "  </tbody>\n",
       "</table>\n",
       "</div>"
      ],
      "text/plain": [
       "   band species  blength  bdepth\n",
       "0     2  fortis      9.4     8.0\n",
       "1     9  fortis      9.2     8.3\n",
       "2    12  fortis      9.5     7.5\n",
       "3    15  fortis      9.5     8.0\n",
       "4   305  fortis     11.5     9.9"
      ]
     },
     "execution_count": 8,
     "metadata": {},
     "output_type": "execute_result"
    }
   ],
   "source": [
    "data_1975.head()"
   ]
  },
  {
   "cell_type": "markdown",
   "metadata": {},
   "source": [
    "It will be useful for the analysis to have a single dataframe with all the information."
   ]
  },
  {
   "cell_type": "code",
   "execution_count": 9,
   "metadata": {},
   "outputs": [],
   "source": [
    "data = pd.concat([data_1975, data_2012], keys=['1975', '2012'], names=['year', ])"
   ]
  },
  {
   "cell_type": "code",
   "execution_count": 10,
   "metadata": {},
   "outputs": [
    {
     "data": {
      "text/html": [
       "<div>\n",
       "<style scoped>\n",
       "    .dataframe tbody tr th:only-of-type {\n",
       "        vertical-align: middle;\n",
       "    }\n",
       "\n",
       "    .dataframe tbody tr th {\n",
       "        vertical-align: top;\n",
       "    }\n",
       "\n",
       "    .dataframe thead th {\n",
       "        text-align: right;\n",
       "    }\n",
       "</style>\n",
       "<table border=\"1\" class=\"dataframe\">\n",
       "  <thead>\n",
       "    <tr style=\"text-align: right;\">\n",
       "      <th></th>\n",
       "      <th></th>\n",
       "      <th>band</th>\n",
       "      <th>species</th>\n",
       "      <th>blength</th>\n",
       "      <th>bdepth</th>\n",
       "    </tr>\n",
       "    <tr>\n",
       "      <th>year</th>\n",
       "      <th></th>\n",
       "      <th></th>\n",
       "      <th></th>\n",
       "      <th></th>\n",
       "      <th></th>\n",
       "    </tr>\n",
       "  </thead>\n",
       "  <tbody>\n",
       "    <tr>\n",
       "      <th rowspan=\"5\" valign=\"top\">1975</th>\n",
       "      <th>0</th>\n",
       "      <td>2</td>\n",
       "      <td>fortis</td>\n",
       "      <td>9.4</td>\n",
       "      <td>8.0</td>\n",
       "    </tr>\n",
       "    <tr>\n",
       "      <th>1</th>\n",
       "      <td>9</td>\n",
       "      <td>fortis</td>\n",
       "      <td>9.2</td>\n",
       "      <td>8.3</td>\n",
       "    </tr>\n",
       "    <tr>\n",
       "      <th>2</th>\n",
       "      <td>12</td>\n",
       "      <td>fortis</td>\n",
       "      <td>9.5</td>\n",
       "      <td>7.5</td>\n",
       "    </tr>\n",
       "    <tr>\n",
       "      <th>3</th>\n",
       "      <td>15</td>\n",
       "      <td>fortis</td>\n",
       "      <td>9.5</td>\n",
       "      <td>8.0</td>\n",
       "    </tr>\n",
       "    <tr>\n",
       "      <th>4</th>\n",
       "      <td>305</td>\n",
       "      <td>fortis</td>\n",
       "      <td>11.5</td>\n",
       "      <td>9.9</td>\n",
       "    </tr>\n",
       "  </tbody>\n",
       "</table>\n",
       "</div>"
      ],
      "text/plain": [
       "        band species  blength  bdepth\n",
       "year                                 \n",
       "1975 0     2  fortis      9.4     8.0\n",
       "     1     9  fortis      9.2     8.3\n",
       "     2    12  fortis      9.5     7.5\n",
       "     3    15  fortis      9.5     8.0\n",
       "     4   305  fortis     11.5     9.9"
      ]
     },
     "execution_count": 10,
     "metadata": {},
     "output_type": "execute_result"
    }
   ],
   "source": [
    "data.head()"
   ]
  },
  {
   "cell_type": "markdown",
   "metadata": {},
   "source": [
    "We obtain a dataframe with a hierarchical index, with levels 'year' and 'index'.It is convenient to have a simple index, which can be otained by resetting the index and dropping the 'index' column."
   ]
  },
  {
   "cell_type": "code",
   "execution_count": 11,
   "metadata": {},
   "outputs": [],
   "source": [
    "data.reset_index(level='year', inplace=True)"
   ]
  },
  {
   "cell_type": "code",
   "execution_count": 12,
   "metadata": {
    "scrolled": true
   },
   "outputs": [
    {
     "data": {
      "text/html": [
       "<div>\n",
       "<style scoped>\n",
       "    .dataframe tbody tr th:only-of-type {\n",
       "        vertical-align: middle;\n",
       "    }\n",
       "\n",
       "    .dataframe tbody tr th {\n",
       "        vertical-align: top;\n",
       "    }\n",
       "\n",
       "    .dataframe thead th {\n",
       "        text-align: right;\n",
       "    }\n",
       "</style>\n",
       "<table border=\"1\" class=\"dataframe\">\n",
       "  <thead>\n",
       "    <tr style=\"text-align: right;\">\n",
       "      <th></th>\n",
       "      <th>year</th>\n",
       "      <th>band</th>\n",
       "      <th>species</th>\n",
       "      <th>blength</th>\n",
       "      <th>bdepth</th>\n",
       "    </tr>\n",
       "  </thead>\n",
       "  <tbody>\n",
       "    <tr>\n",
       "      <th>0</th>\n",
       "      <td>1975</td>\n",
       "      <td>2</td>\n",
       "      <td>fortis</td>\n",
       "      <td>9.4</td>\n",
       "      <td>8.0</td>\n",
       "    </tr>\n",
       "    <tr>\n",
       "      <th>1</th>\n",
       "      <td>1975</td>\n",
       "      <td>9</td>\n",
       "      <td>fortis</td>\n",
       "      <td>9.2</td>\n",
       "      <td>8.3</td>\n",
       "    </tr>\n",
       "    <tr>\n",
       "      <th>2</th>\n",
       "      <td>1975</td>\n",
       "      <td>12</td>\n",
       "      <td>fortis</td>\n",
       "      <td>9.5</td>\n",
       "      <td>7.5</td>\n",
       "    </tr>\n",
       "    <tr>\n",
       "      <th>3</th>\n",
       "      <td>1975</td>\n",
       "      <td>15</td>\n",
       "      <td>fortis</td>\n",
       "      <td>9.5</td>\n",
       "      <td>8.0</td>\n",
       "    </tr>\n",
       "    <tr>\n",
       "      <th>4</th>\n",
       "      <td>1975</td>\n",
       "      <td>305</td>\n",
       "      <td>fortis</td>\n",
       "      <td>11.5</td>\n",
       "      <td>9.9</td>\n",
       "    </tr>\n",
       "  </tbody>\n",
       "</table>\n",
       "</div>"
      ],
      "text/plain": [
       "   year  band species  blength  bdepth\n",
       "0  1975     2  fortis      9.4     8.0\n",
       "1  1975     9  fortis      9.2     8.3\n",
       "2  1975    12  fortis      9.5     7.5\n",
       "3  1975    15  fortis      9.5     8.0\n",
       "4  1975   305  fortis     11.5     9.9"
      ]
     },
     "execution_count": 12,
     "metadata": {},
     "output_type": "execute_result"
    }
   ],
   "source": [
    "data.head()"
   ]
  },
  {
   "cell_type": "markdown",
   "metadata": {},
   "source": [
    "First, we plot the beak length and depth measurements in 1975 and 2012 in two bee swarm plots."
   ]
  },
  {
   "cell_type": "markdown",
   "metadata": {},
   "source": [
    "#### Beak length"
   ]
  },
  {
   "cell_type": "code",
   "execution_count": 13,
   "metadata": {},
   "outputs": [
    {
     "data": {
      "text/plain": [
       "Text(0, 0.5, 'beak length (mm)')"
      ]
     },
     "execution_count": 13,
     "metadata": {},
     "output_type": "execute_result"
    },
    {
     "data": {
      "image/png": "[encoded data removed]",
      "text/plain": [
       "<Figure size 432x288 with 1 Axes>"
      ]
     },
     "metadata": {
      "needs_background": "light"
     },
     "output_type": "display_data"
    }
   ],
   "source": [
    "sns.swarmplot(x='year', y='blength', data=data, hue='species', dodge=True)\n",
    "plt.title(\"Beak length of Darwin's finches\")\n",
    "plt.xlabel('year')\n",
    "plt.ylabel('beak length (mm)')"
   ]
  },
  {
   "cell_type": "markdown",
   "metadata": {},
   "source": [
    "We see that the *Geospiza scandens* has, on average, a longer beak that the *Geospiza fortis*, in both years, even though the difference seems smaller in 2012 than in 1975. In particular, the beak length of *Geospiza scandens* seems to have slightly decreased from 1975 to 2012."
   ]
  },
  {
   "cell_type": "markdown",
   "metadata": {},
   "source": [
    "#### Beak depth"
   ]
  },
  {
   "cell_type": "code",
   "execution_count": 61,
   "metadata": {},
   "outputs": [
    {
     "data": {
      "text/plain": [
       "Text(0, 0.5, 'beak depth (mm)')"
      ]
     },
     "execution_count": 61,
     "metadata": {},
     "output_type": "execute_result"
    },
    {
     "data": {
      "image/png": "[encoded data removed]",
      "text/plain": [
       "<Figure size 432x288 with 1 Axes>"
      ]
     },
     "metadata": {
      "needs_background": "light"
     },
     "output_type": "display_data"
    }
   ],
   "source": [
    "sns.swarmplot(x='year', y='bdepth', data=data, hue='species', dodge=True)\n",
    "plt.title(\"Beak depth of Darwin's finches\")\n",
    "plt.xlabel('year')\n",
    "plt.ylabel('beak depth (mm)')"
   ]
  },
  {
   "cell_type": "markdown",
   "metadata": {},
   "source": [
    "As for the beak depth, the difference between the species is much smaller than in the case of the beak length. It is hard to see if there is a clear difference in the datasets bewtween the two years. To help with this, we will build the **empirical cumulative distribution function** (ECDF) for each data (for more info, see [here](https://en.wikipedia.org/wiki/Empirical_distribution_function))."
   ]
  },
  {
   "cell_type": "code",
   "execution_count": 15,
   "metadata": {},
   "outputs": [],
   "source": [
    "def ecdf(data):\n",
    "    \"\"\"Compute ECDF for a one-dimensional array of measurements.\"\"\"\n",
    "\n",
    "    # Number of data points: n\n",
    "    n = len(data)\n",
    "\n",
    "    # x-data for the ECDF: x\n",
    "    x = np.sort(data)\n",
    "\n",
    "    # y-data for the ECDF: y\n",
    "    y = np.arange(1, n+1) / n\n",
    "\n",
    "    return x, y"
   ]
  },
  {
   "cell_type": "markdown",
   "metadata": {},
   "source": [
    "**_Geospiza fortis_**"
   ]
  },
  {
   "cell_type": "code",
   "execution_count": 16,
   "metadata": {},
   "outputs": [],
   "source": [
    "# arrays with beak depth for each year for fortis species\n",
    "bd_1975_fortis = data[(data['year'] == '1975') & (data['species'] == 'fortis')]['bdepth'].values\n",
    "bd_2012_fortis = data[(data['year'] == '2012') & (data['species'] == 'fortis')]['bdepth'].values"
   ]
  },
  {
   "cell_type": "code",
   "execution_count": 17,
   "metadata": {},
   "outputs": [],
   "source": [
    "# computation of ECDF for fortis species\n",
    "x_bd_1975_fortis, y_bd_1975_fortis = ecdf(bd_1975_fortis)\n",
    "x_bd_2012_fortis, y_bd_2012_fortis = ecdf(bd_2012_fortis)"
   ]
  },
  {
   "cell_type": "code",
   "execution_count": 18,
   "metadata": {},
   "outputs": [
    {
     "data": {
      "text/plain": [
       "<matplotlib.legend.Legend at 0x2ab50cf9a90>"
      ]
     },
     "execution_count": 18,
     "metadata": {},
     "output_type": "execute_result"
    },
    {
     "data": {
      "image/png": "[encoded data removed]",
      "text/plain": [
       "<Figure size 432x288 with 1 Axes>"
      ]
     },
     "metadata": {
      "needs_background": "light"
     },
     "output_type": "display_data"
    }
   ],
   "source": [
    "# plot of ECDFs for fortis species\n",
    "plt.plot(x_bd_1975_fortis, y_bd_1975_fortis, marker='.', ls='none')\n",
    "plt.plot(x_bd_2012_fortis, y_bd_2012_fortis, marker='.', ls='none')\n",
    "plt.title('Beak depths of Geospiza fortis')\n",
    "plt.xlabel('beak depth (mm)')\n",
    "plt.ylabel('ECDF')\n",
    "plt.legend(('1975', '2012'), loc='upper left')"
   ]
  },
  {
   "cell_type": "markdown",
   "metadata": {},
   "source": [
    "The differences in beak depths between 1975 and 2012 are much clearer in the ECDF. Namely, the mean is mean is *smaller* in the 2012 data. "
   ]
  },
  {
   "cell_type": "markdown",
   "metadata": {},
   "source": [
    "**_Geospiza scandens_**"
   ]
  },
  {
   "cell_type": "code",
   "execution_count": 19,
   "metadata": {},
   "outputs": [],
   "source": [
    "# arrays with beak depth for each year for scandens species\n",
    "bd_1975_scandens = data[(data['year'] == '1975') & (data['species'] == 'scandens')]['bdepth'].values\n",
    "bd_2012_scandens = data[(data['year'] == '2012') & (data['species'] == 'scandens')]['bdepth'].values"
   ]
  },
  {
   "cell_type": "code",
   "execution_count": 20,
   "metadata": {},
   "outputs": [],
   "source": [
    "# computation of ECDF for scandens species\n",
    "x_bd_1975_scandens, y_bd_1975_scandens = ecdf(bd_1975_scandens)\n",
    "x_bd_2012_scandens, y_bd_2012_scandens = ecdf(bd_2012_scandens)"
   ]
  },
  {
   "cell_type": "code",
   "execution_count": 21,
   "metadata": {},
   "outputs": [
    {
     "data": {
      "text/plain": [
       "<matplotlib.legend.Legend at 0x2ab50d78940>"
      ]
     },
     "execution_count": 21,
     "metadata": {},
     "output_type": "execute_result"
    },
    {
     "data": {
      "image/png": "[encoded data removed]",
      "text/plain": [
       "<Figure size 432x288 with 1 Axes>"
      ]
     },
     "metadata": {
      "needs_background": "light"
     },
     "output_type": "display_data"
    }
   ],
   "source": [
    "# plot of ECDFs for scandens species\n",
    "plt.plot(x_bd_1975_scandens, y_bd_1975_scandens, marker='.', ls='none')\n",
    "plt.plot(x_bd_2012_scandens, y_bd_2012_scandens, marker='.', ls='none')\n",
    "plt.title('Beak depths of Geospiza scandens')\n",
    "plt.xlabel('beak depth (mm)')\n",
    "plt.ylabel('ECDF')\n",
    "plt.legend(('1975', '2012'), loc='upper left')"
   ]
  },
  {
   "cell_type": "markdown",
   "metadata": {},
   "source": [
    "Once again, the difference between the 1975 and 2012 is clearer, and the mean of the beak depth is *larger* in the 2012 data."
   ]
  },
  {
   "cell_type": "markdown",
   "metadata": {},
   "source": [
    "### Parameter estimation of beak depths"
   ]
  },
  {
   "cell_type": "markdown",
   "metadata": {},
   "source": [
    "Let's now focus on the beak depth measurements of the *Geospiza scandens*. The EDA above indicates that the mean of the beak depth is larger in the 2012 data, in comparison with the 1975 data. We now estimate the difference of the mean beak depth and report a 95% confidence interval. For that, we will generate **bootstrap replicates** from the dataset."
   ]
  },
  {
   "cell_type": "code",
   "execution_count": 22,
   "metadata": {},
   "outputs": [],
   "source": [
    "def draw_bs_reps(data, func, size=1):\n",
    "    \"\"\"Draw bootstrap replicates.\"\"\"\n",
    "\n",
    "    # Initialize array of replicates: bs_replicates\n",
    "    bs_replicates = np.empty(size)\n",
    "\n",
    "    # Generate replicates\n",
    "    for i in range(size):\n",
    "        # bootstrap resampling using np.random.choice\n",
    "        bs_replicates[i] = func(np.random.choice(data, size=len(data)))\n",
    "\n",
    "    return bs_replicates"
   ]
  },
  {
   "cell_type": "markdown",
   "metadata": {},
   "source": [
    "First, we compute the *observed* difference of means of the beak depth in 2012 and 1975:"
   ]
  },
  {
   "cell_type": "code",
   "execution_count": 23,
   "metadata": {},
   "outputs": [
    {
     "data": {
      "text/plain": [
       "0.22622047244094645"
      ]
     },
     "execution_count": 23,
     "metadata": {},
     "output_type": "execute_result"
    }
   ],
   "source": [
    "np.mean(bd_2012_scandens) - np.mean(bd_1975_scandens)"
   ]
  },
  {
   "cell_type": "markdown",
   "metadata": {},
   "source": [
    "Second, we obtain 10000 bootstrap replicates of the mean for the 1975 and 2012 beak depths and their difference:"
   ]
  },
  {
   "cell_type": "code",
   "execution_count": 24,
   "metadata": {},
   "outputs": [],
   "source": [
    "bs_replicates_1975 = draw_bs_reps(bd_1975_scandens, np.mean, size=10000)\n",
    "bs_replicates_2012 = draw_bs_reps(bd_2012_scandens, np.mean, size=10000)\n",
    "bs_diff_replicates = bs_replicates_2012 - bs_replicates_1975"
   ]
  },
  {
   "cell_type": "markdown",
   "metadata": {},
   "source": [
    "Using the replicates, we compute the **95% confidence interval** for the difference of means:"
   ]
  },
  {
   "cell_type": "code",
   "execution_count": 25,
   "metadata": {},
   "outputs": [
    {
     "data": {
      "text/plain": [
       "array([0.06154917, 0.38782252])"
      ]
     },
     "execution_count": 25,
     "metadata": {},
     "output_type": "execute_result"
    }
   ],
   "source": [
    "np.percentile(bs_diff_replicates, [2.5, 97.5])"
   ]
  },
  {
   "cell_type": "markdown",
   "metadata": {},
   "source": [
    "It is quite clear from the observed difference of means and its 95% confidence interval that the beaks of the *Geospiza scandens* got deeper from 1975 to 2012."
   ]
  },
  {
   "cell_type": "markdown",
   "metadata": {},
   "source": [
    "### Hypothesis test: are the beak depths larger in 2012?"
   ]
  },
  {
   "cell_type": "markdown",
   "metadata": {},
   "source": [
    "As mentioned above, it is clear that the mean of the beak depth of the *Geospiza scandens* has increased from 1975 to 2012. Is it possible that this effect is due to random chance? That is, what is the probability that we would obtain the observed difference in means if the means were actually the same?\n",
    "\n",
    "To check this, we perform a [**hypothesis test**](http://mathworld.wolfram.com/HypothesisTesting.html).\n",
    "\n",
    "**Null hypothesis:** the mean beak depth in 1975 is equal to the mean beak depth in 2012.\n",
    "\n",
    "The **test statistic** we are going to use is the difference in mean beak depth. Under the null hypothesis, it should be zero. To test the null hypothesis, we are going to shift the two data sets so that they have the same mean, and then resample them using bootstrap and compute the difference of means. Finally, we compute the [**p-value**](https://en.wikipedia.org/wiki/P-value), that is the probability of obtaining a difference in mean beak depth equal or greater than the *observed* difference in mean beak depth, under the assumption the null hypothesis is true."
   ]
  },
  {
   "cell_type": "code",
   "execution_count": 26,
   "metadata": {},
   "outputs": [],
   "source": [
    "# mean of the combined data set\n",
    "combined_mean = np.mean(np.concatenate((bd_1975_scandens, bd_2012_scandens)))\n",
    "\n",
    "# shift of the data sets so that they have the same mean (combined_mean)\n",
    "bd_1975_scandens_shifted = bd_1975_scandens - np.mean(bd_1975_scandens) + combined_mean\n",
    "bd_2012_scandens_shifted = bd_2012_scandens - np.mean(bd_2012_scandens) + combined_mean\n",
    "\n",
    "# obtain 10000 bootstrap replicates of the mean for the shifted data sets and their difference\n",
    "bs_replicates_1975 = draw_bs_reps(bd_1975_scandens_shifted, np.mean, size=10000)\n",
    "bs_replicates_2012 = draw_bs_reps(bd_2012_scandens_shifted, np.mean, size=10000)\n",
    "bs_diff_replicates = bs_replicates_2012 - bs_replicates_1975\n",
    "\n",
    "# compute the p-value\n",
    "p = np.sum(bs_diff_replicates >= np.mean(bd_2012_scandens) - np.mean(bd_1975_scandens)) / len(bs_diff_replicates)"
   ]
  },
  {
   "cell_type": "markdown",
   "metadata": {},
   "source": [
    "The **[p-value](https://en.wikipedia.org/wiki/P-value)** is then:"
   ]
  },
  {
   "cell_type": "code",
   "execution_count": 27,
   "metadata": {},
   "outputs": [
    {
     "name": "stdout",
     "output_type": "stream",
     "text": [
      "0.0037\n"
     ]
    }
   ],
   "source": [
    "print(p)"
   ]
  },
  {
   "cell_type": "markdown",
   "metadata": {},
   "source": [
    "Therefore, 0.34% of the bootstrap replicates had a difference in mean beak depth equal or greater than the observed in the samples. This indicates that the probability that the increase in beak depth is due to chance is only 0.34%, thus, there is a *statistically significant* difference. For the samples, that difference was approximately 0.2 mm in 37 years, which is significant by evolutionary standards. If, for example, the beak depth kept changing at this rate, it would double in only 400 years!"
   ]
  },
  {
   "cell_type": "markdown",
   "metadata": {},
   "source": [
    "### Variation of beak shape"
   ]
  },
  {
   "cell_type": "markdown",
   "metadata": {},
   "source": [
    "Above, we saw that the beak depth for the *Geospiza scandens* increased from 1975 and 2012. We may also wonder how the beak *shape* has evolved, that is, the ratio between the beak depth and length. If the length and the depth have increased approximately in the same proportion, the overall shape of the beak would not change appreciably.\n",
    "\n",
    "Let's start with some basic EDA, by making a scatter plot of the beak depth versus beak length for the 1975 and 2012 data."
   ]
  },
  {
   "cell_type": "code",
   "execution_count": 28,
   "metadata": {},
   "outputs": [],
   "source": [
    "# arrays with beak length for each year for scandens species\n",
    "bl_1975_scandens = data[(data['year'] == '1975') & (data['species'] == 'scandens')]['blength'].values\n",
    "bl_2012_scandens = data[(data['year'] == '2012') & (data['species'] == 'scandens')]['blength'].values"
   ]
  },
  {
   "cell_type": "code",
   "execution_count": 29,
   "metadata": {},
   "outputs": [
    {
     "data": {
      "text/plain": [
       "<matplotlib.legend.Legend at 0x2ab50deb4e0>"
      ]
     },
     "execution_count": 29,
     "metadata": {},
     "output_type": "execute_result"
    },
    {
     "data": {
      "image/png": "[encoded data removed]",
      "text/plain": [
       "<Figure size 432x288 with 1 Axes>"
      ]
     },
     "metadata": {
      "needs_background": "light"
     },
     "output_type": "display_data"
    }
   ],
   "source": [
    "# scatter plot of beak depth vs length for the scandens species\n",
    "plt.scatter(x=bl_1975_scandens, y=bd_1975_scandens)\n",
    "plt.scatter(x=bl_2012_scandens, y=bd_2012_scandens)\n",
    "plt.title('Beak shape of Geospiza scandens')\n",
    "plt.xlabel('beak length (mm)')\n",
    "plt.ylabel('beak depth (mm)')\n",
    "plt.legend(('1975', '2012'), loc='upper left')"
   ]
  },
  {
   "cell_type": "markdown",
   "metadata": {},
   "source": [
    "We see (as in the previous plots) that the beaks got deeper (the red points are slightly higher) but also shorter (the red points are mostly to the left). Thus, it seems that the beak shape has *not* stayed the same. However, in both years, it looks like the beak depth increases approximately linearly with its length.\n",
    "\n",
    "To see that, let's perform a liner regression for both the 1975 and 2012 data."
   ]
  },
  {
   "cell_type": "code",
   "execution_count": 30,
   "metadata": {},
   "outputs": [
    {
     "data": {
      "text/plain": [
       "<matplotlib.legend.Legend at 0x2ab50e5cf98>"
      ]
     },
     "execution_count": 30,
     "metadata": {},
     "output_type": "execute_result"
    },
    {
     "data": {
      "image/png": "[encoded data removed]",
      "text/plain": [
       "<Figure size 432x288 with 1 Axes>"
      ]
     },
     "metadata": {
      "needs_background": "light"
     },
     "output_type": "display_data"
    }
   ],
   "source": [
    "# scatter plot of beak depth vs length for the scandens species and linear regression for each year\n",
    "sns.regplot(x=bl_1975_scandens, y=bd_1975_scandens, ci=95, scatter_kws={\"s\": 30}, line_kws={\"lw\": 3})\n",
    "sns.regplot(x=bl_2012_scandens, y=bd_2012_scandens, ci=95, scatter_kws={\"s\": 30}, line_kws={\"lw\": 3})\n",
    "plt.title('Beak shape of Geospiza scandens')\n",
    "plt.xlabel('beak length (mm)')\n",
    "plt.ylabel('beak depth (mm)')\n",
    "plt.legend(('1975', '2012'), loc='upper left')"
   ]
  },
  {
   "cell_type": "markdown",
   "metadata": {},
   "source": [
    "Below, we obtain the linear regression parameters and their 95% confidence intervals (95% CI), as represented in the plot above. For that, we first define a new function which performs pairs bootstrap for linear regression."
   ]
  },
  {
   "cell_type": "code",
   "execution_count": 31,
   "metadata": {},
   "outputs": [],
   "source": [
    "def draw_bs_pairs_linreg(x, y, size=1):\n",
    "    \"\"\"Perform pairs bootstrap for linear regression.\"\"\"\n",
    "\n",
    "    # Set up array of indices to sample from: inds\n",
    "    inds = np.arange(len(x))\n",
    "\n",
    "    # Initialize replicates: bs_a_reps, bs_b_reps\n",
    "    bs_a_reps = np.empty(size)\n",
    "    bs_b_reps = np.empty(size)\n",
    "\n",
    "    # Generate replicates\n",
    "    for i in range(size):\n",
    "        # bootstrap resampling using np.random.choice\n",
    "        bs_inds = np.random.choice(inds, size=len(inds))\n",
    "        bs_x, bs_y = x[bs_inds], y[bs_inds]\n",
    "        bs_a_reps[i], bs_b_reps[i] = np.polyfit(bs_x, bs_y, 1)\n",
    "\n",
    "    return bs_a_reps, bs_b_reps"
   ]
  },
  {
   "cell_type": "code",
   "execution_count": 32,
   "metadata": {},
   "outputs": [
    {
     "name": "stdout",
     "output_type": "stream",
     "text": [
      "Linear regression for 1975: a = 0.465 , 95% CI = [0.342 0.584] , b = 2.391 , 95% CI = [0.743 4.12 ]\n",
      "Linear regression for 2012: a = 0.463 , 95% CI = [0.325 0.608] , b = 2.977 , 95% CI = [1.065 4.827]\n"
     ]
    }
   ],
   "source": [
    "# Compute the linear regressions parameters\n",
    "a_1975, b_1975 = np.polyfit(bl_1975_scandens, bd_1975_scandens, 1)\n",
    "a_2012, b_2012 = np.polyfit(bl_2012_scandens, bd_2012_scandens, 1)\n",
    "\n",
    "# Perform pairs bootstrap for the linear regressions\n",
    "bs_a_reps_1975, bs_b_reps_1975 = draw_bs_pairs_linreg(bl_1975_scandens, bd_1975_scandens, size=1000)\n",
    "bs_a_reps_2012, bs_b_reps_2012 = draw_bs_pairs_linreg(bl_2012_scandens, bd_2012_scandens, size=1000)\n",
    "\n",
    "# Compute confidence intervals of slopes\n",
    "a_conf_int_1975 = np.percentile(bs_a_reps_1975, [2.5, 97.5])\n",
    "a_conf_int_2012 = np.percentile(bs_a_reps_2012, [2.5, 97.5])\n",
    "b_conf_int_1975 = np.percentile(bs_b_reps_1975, [2.5, 97.5])\n",
    "b_conf_int_2012 = np.percentile(bs_b_reps_2012, [2.5, 97.5])\n",
    "\n",
    "# Print the results\n",
    "print(\"Linear regression for 1975: a =\", round(a_1975, 3), \", 95% CI =\", a_conf_int_1975.round(3),\n",
    "      \", b =\", round(b_1975, 3), \", 95% CI =\", b_conf_int_1975.round(3))\n",
    "print(\"Linear regression for 2012: a =\", round(a_2012, 3), \", 95% CI =\", a_conf_int_2012.round(3),\n",
    "      \", b =\", round(b_2012, 3), \", 95% CI =\", b_conf_int_2012.round(3))"
   ]
  },
  {
   "cell_type": "markdown",
   "metadata": {},
   "source": [
    "We see that both linear regressions have approximately the same slope (for every mm in beak length the depth increases about half mm), but different intercepts. But how did the ratio of beak length to depth evolved from 1975 to 2012?\n",
    "\n",
    "Below we compute the mean ratio in both 1975 and 2012 and theirn 95% confidence interval."
   ]
  },
  {
   "cell_type": "code",
   "execution_count": 33,
   "metadata": {},
   "outputs": [
    {
     "name": "stdout",
     "output_type": "stream",
     "text": [
      "Ratio in 1975: mean = 1.579 , 99% CI = [1.556 1.601]\n",
      "Ratio in 2012: mean = 1.466 , 99% CI = [1.444 1.487]\n"
     ]
    }
   ],
   "source": [
    "# compute length-to-depth ratios\n",
    "ratio_1975 = bl_1975_scandens / bd_1975_scandens\n",
    "ratio_2012 = bl_2012_scandens / bd_2012_scandens\n",
    "\n",
    "# compute means\n",
    "mean_ratio_1975 = np.mean(ratio_1975)\n",
    "mean_ratio_2012 = np.mean(ratio_2012)\n",
    "\n",
    "# generate bootstrap replicates of the means\n",
    "bs_replicates_1975 = draw_bs_reps(ratio_1975, np.mean, size=10000)\n",
    "bs_replicates_2012 = draw_bs_reps(ratio_2012, np.mean, size=10000)\n",
    "\n",
    "# compute the 99% confidence intervals\n",
    "conf_int_1975 = np.percentile(bs_replicates_1975, [0.5, 99.5])\n",
    "conf_int_2012 = np.percentile(bs_replicates_2012, [0.5, 99.5])\n",
    "\n",
    "# print the results\n",
    "print(\"Ratio in 1975: mean =\", round(mean_ratio_1975, 3), \", 99% CI =\", conf_int_1975.round(3))\n",
    "print(\"Ratio in 2012: mean =\", round(mean_ratio_2012, 3), \", 99% CI =\", conf_int_2012.round(3))"
   ]
  },
  {
   "cell_type": "markdown",
   "metadata": {},
   "source": [
    "We observe that the mean ratio decreased by about 0.1 mm (or 7%) and the 99% confidence intervals do not overlap. Therefore, we can conclude that the beak shape actually changed from 1975 to 2012."
   ]
  },
  {
   "cell_type": "markdown",
   "metadata": {},
   "source": [
    "## Heritability of beak depth"
   ]
  },
  {
   "cell_type": "markdown",
   "metadata": {},
   "source": [
    "Another piece of data we have at our disposal is the beak depth of two parents and their respective offspring for both the *Geospiza fortis* and *Geospiza scandens*. We will analyse the heritability of the beak depth for both species."
   ]
  },
  {
   "cell_type": "markdown",
   "metadata": {},
   "source": [
    "### EDA of heritability"
   ]
  },
  {
   "cell_type": "markdown",
   "metadata": {},
   "source": [
    "First, we import the data from two csv files, one for each species. For the *Geospiza fortis*, the csv file includes the beak depth for the offspring in one column, and then the beak depth for the respective male and female parent. For the *Geospiza scandens*, besides the offspring beak depths, the second csv file include the average beak depth for the parents."
   ]
  },
  {
   "cell_type": "code",
   "execution_count": 35,
   "metadata": {},
   "outputs": [],
   "source": [
    "heredity_fortis = pd.read_csv(\"../data/fortis_beak_depth_heredity.csv\")\n",
    "heredity_scandens = pd.read_csv(\"../data/scandens_beak_depth_heredity.csv\")"
   ]
  },
  {
   "cell_type": "code",
   "execution_count": 36,
   "metadata": {},
   "outputs": [
    {
     "data": {
      "text/html": [
       "<div>\n",
       "<style scoped>\n",
       "    .dataframe tbody tr th:only-of-type {\n",
       "        vertical-align: middle;\n",
       "    }\n",
       "\n",
       "    .dataframe tbody tr th {\n",
       "        vertical-align: top;\n",
       "    }\n",
       "\n",
       "    .dataframe thead th {\n",
       "        text-align: right;\n",
       "    }\n",
       "</style>\n",
       "<table border=\"1\" class=\"dataframe\">\n",
       "  <thead>\n",
       "    <tr style=\"text-align: right;\">\n",
       "      <th></th>\n",
       "      <th>offspring</th>\n",
       "      <th>male</th>\n",
       "      <th>female</th>\n",
       "    </tr>\n",
       "  </thead>\n",
       "  <tbody>\n",
       "    <tr>\n",
       "      <th>0</th>\n",
       "      <td>10.70</td>\n",
       "      <td>10.90</td>\n",
       "      <td>9.3</td>\n",
       "    </tr>\n",
       "    <tr>\n",
       "      <th>1</th>\n",
       "      <td>9.78</td>\n",
       "      <td>10.70</td>\n",
       "      <td>8.4</td>\n",
       "    </tr>\n",
       "    <tr>\n",
       "      <th>2</th>\n",
       "      <td>9.48</td>\n",
       "      <td>10.70</td>\n",
       "      <td>8.1</td>\n",
       "    </tr>\n",
       "    <tr>\n",
       "      <th>3</th>\n",
       "      <td>9.60</td>\n",
       "      <td>10.70</td>\n",
       "      <td>9.8</td>\n",
       "    </tr>\n",
       "    <tr>\n",
       "      <th>4</th>\n",
       "      <td>10.27</td>\n",
       "      <td>9.85</td>\n",
       "      <td>10.4</td>\n",
       "    </tr>\n",
       "  </tbody>\n",
       "</table>\n",
       "</div>"
      ],
      "text/plain": [
       "   offspring   male  female\n",
       "0      10.70  10.90     9.3\n",
       "1       9.78  10.70     8.4\n",
       "2       9.48  10.70     8.1\n",
       "3       9.60  10.70     9.8\n",
       "4      10.27   9.85    10.4"
      ]
     },
     "execution_count": 36,
     "metadata": {},
     "output_type": "execute_result"
    }
   ],
   "source": [
    "heredity_fortis.columns = ['offspring', 'male', 'female']\n",
    "heredity_fortis.head()"
   ]
  },
  {
   "cell_type": "code",
   "execution_count": 37,
   "metadata": {},
   "outputs": [
    {
     "data": {
      "text/html": [
       "<div>\n",
       "<style scoped>\n",
       "    .dataframe tbody tr th:only-of-type {\n",
       "        vertical-align: middle;\n",
       "    }\n",
       "\n",
       "    .dataframe tbody tr th {\n",
       "        vertical-align: top;\n",
       "    }\n",
       "\n",
       "    .dataframe thead th {\n",
       "        text-align: right;\n",
       "    }\n",
       "</style>\n",
       "<table border=\"1\" class=\"dataframe\">\n",
       "  <thead>\n",
       "    <tr style=\"text-align: right;\">\n",
       "      <th></th>\n",
       "      <th>parents</th>\n",
       "      <th>offspring</th>\n",
       "    </tr>\n",
       "  </thead>\n",
       "  <tbody>\n",
       "    <tr>\n",
       "      <th>0</th>\n",
       "      <td>8.3318</td>\n",
       "      <td>8.4190</td>\n",
       "    </tr>\n",
       "    <tr>\n",
       "      <th>1</th>\n",
       "      <td>8.4035</td>\n",
       "      <td>9.2468</td>\n",
       "    </tr>\n",
       "    <tr>\n",
       "      <th>2</th>\n",
       "      <td>8.5317</td>\n",
       "      <td>8.1532</td>\n",
       "    </tr>\n",
       "    <tr>\n",
       "      <th>3</th>\n",
       "      <td>8.7202</td>\n",
       "      <td>8.0089</td>\n",
       "    </tr>\n",
       "    <tr>\n",
       "      <th>4</th>\n",
       "      <td>8.7089</td>\n",
       "      <td>8.2215</td>\n",
       "    </tr>\n",
       "  </tbody>\n",
       "</table>\n",
       "</div>"
      ],
      "text/plain": [
       "   parents  offspring\n",
       "0   8.3318     8.4190\n",
       "1   8.4035     9.2468\n",
       "2   8.5317     8.1532\n",
       "3   8.7202     8.0089\n",
       "4   8.7089     8.2215"
      ]
     },
     "execution_count": 37,
     "metadata": {},
     "output_type": "execute_result"
    }
   ],
   "source": [
    "heredity_scandens.columns = ['parents', 'offspring']\n",
    "heredity_scandens.head()"
   ]
  },
  {
   "cell_type": "markdown",
   "metadata": {},
   "source": [
    "In the case of the *fortis* data set, we add a column with the average beak depth for the parents."
   ]
  },
  {
   "cell_type": "code",
   "execution_count": 38,
   "metadata": {},
   "outputs": [],
   "source": [
    "heredity_fortis['parents'] = heredity_fortis[['male', 'female']].mean(axis=1)"
   ]
  },
  {
   "cell_type": "code",
   "execution_count": 39,
   "metadata": {},
   "outputs": [
    {
     "data": {
      "text/html": [
       "<div>\n",
       "<style scoped>\n",
       "    .dataframe tbody tr th:only-of-type {\n",
       "        vertical-align: middle;\n",
       "    }\n",
       "\n",
       "    .dataframe tbody tr th {\n",
       "        vertical-align: top;\n",
       "    }\n",
       "\n",
       "    .dataframe thead th {\n",
       "        text-align: right;\n",
       "    }\n",
       "</style>\n",
       "<table border=\"1\" class=\"dataframe\">\n",
       "  <thead>\n",
       "    <tr style=\"text-align: right;\">\n",
       "      <th></th>\n",
       "      <th>offspring</th>\n",
       "      <th>male</th>\n",
       "      <th>female</th>\n",
       "      <th>parents</th>\n",
       "    </tr>\n",
       "  </thead>\n",
       "  <tbody>\n",
       "    <tr>\n",
       "      <th>0</th>\n",
       "      <td>10.70</td>\n",
       "      <td>10.90</td>\n",
       "      <td>9.3</td>\n",
       "      <td>10.100</td>\n",
       "    </tr>\n",
       "    <tr>\n",
       "      <th>1</th>\n",
       "      <td>9.78</td>\n",
       "      <td>10.70</td>\n",
       "      <td>8.4</td>\n",
       "      <td>9.550</td>\n",
       "    </tr>\n",
       "    <tr>\n",
       "      <th>2</th>\n",
       "      <td>9.48</td>\n",
       "      <td>10.70</td>\n",
       "      <td>8.1</td>\n",
       "      <td>9.400</td>\n",
       "    </tr>\n",
       "    <tr>\n",
       "      <th>3</th>\n",
       "      <td>9.60</td>\n",
       "      <td>10.70</td>\n",
       "      <td>9.8</td>\n",
       "      <td>10.250</td>\n",
       "    </tr>\n",
       "    <tr>\n",
       "      <th>4</th>\n",
       "      <td>10.27</td>\n",
       "      <td>9.85</td>\n",
       "      <td>10.4</td>\n",
       "      <td>10.125</td>\n",
       "    </tr>\n",
       "  </tbody>\n",
       "</table>\n",
       "</div>"
      ],
      "text/plain": [
       "   offspring   male  female  parents\n",
       "0      10.70  10.90     9.3   10.100\n",
       "1       9.78  10.70     8.4    9.550\n",
       "2       9.48  10.70     8.1    9.400\n",
       "3       9.60  10.70     9.8   10.250\n",
       "4      10.27   9.85    10.4   10.125"
      ]
     },
     "execution_count": 39,
     "metadata": {},
     "output_type": "execute_result"
    }
   ],
   "source": [
    "heredity_fortis.head()"
   ]
  },
  {
   "cell_type": "markdown",
   "metadata": {},
   "source": [
    "Let's make a scatter plot of the offspring beak depth versus the average parental beak depth for both species."
   ]
  },
  {
   "cell_type": "code",
   "execution_count": 40,
   "metadata": {},
   "outputs": [
    {
     "data": {
      "text/plain": [
       "<matplotlib.legend.Legend at 0x2ab51002a20>"
      ]
     },
     "execution_count": 40,
     "metadata": {},
     "output_type": "execute_result"
    },
    {
     "data": {
      "image/png": "[encoded data removed]",
      "text/plain": [
       "<Figure size 432x288 with 1 Axes>"
      ]
     },
     "metadata": {
      "needs_background": "light"
     },
     "output_type": "display_data"
    }
   ],
   "source": [
    "# plot of offspring beak depth vs parental beak depth\n",
    "plt.scatter(heredity_fortis['parents'], heredity_fortis['offspring'], s=10)\n",
    "plt.scatter(heredity_scandens['parents'], heredity_scandens['offspring'], s=10)\n",
    "plt.title('Heritability of beak depths')\n",
    "plt.xlabel('parental beak depth (mm)')\n",
    "plt.ylabel('offspring beak depth (mm)')\n",
    "plt.legend(('G. fortis', 'G. scandens'), loc='lower right')"
   ]
  },
  {
   "cell_type": "markdown",
   "metadata": {},
   "source": [
    "It seems that there is a stronger correlation between the offspring and parental beak depth for the *Geospiza fortis* than the *scandens*, which might suggest that beak depth is more strongly inherited in the *Geospiza fortis*."
   ]
  },
  {
   "cell_type": "markdown",
   "metadata": {},
   "source": [
    "### Pearson correlation of offspring and parental beak depth"
   ]
  },
  {
   "cell_type": "markdown",
   "metadata": {},
   "source": [
    "To quantify the correlation between the offspring and parent beak for both species, we compute the **Pearson correlation coefficient** and its confidence interval. For the latter, we need to do a **pairs bootstrap**. We write a variation of the previously defined function `draw_bs_pairs_linreg`, which now performs pairs bootstrap and computes a single statistic on the pairs samples."
   ]
  },
  {
   "cell_type": "code",
   "execution_count": 41,
   "metadata": {},
   "outputs": [],
   "source": [
    "def draw_bs_pairs(x, y, func, size=1):\n",
    "    \"\"\"Perform pairs bootstrap for given function.\"\"\"\n",
    "\n",
    "    # Set up array of indices to sample from: inds\n",
    "    inds = np.arange(len(x))\n",
    "\n",
    "    # Initialize replicates\n",
    "    bs_replicates = np.empty(size)\n",
    "\n",
    "    # Generate replicates\n",
    "    for i in range(size):\n",
    "        # bootstrap resampling using np.random.choice\n",
    "        bs_inds = np.random.choice(inds, len(inds))\n",
    "        bs_x, bs_y = x[bs_inds], y[bs_inds]\n",
    "        bs_replicates[i] = func(bs_x, bs_y)\n",
    "\n",
    "    return bs_replicates"
   ]
  },
  {
   "cell_type": "markdown",
   "metadata": {},
   "source": [
    "For the Pearson correlation coefficient, it is useful to define a simple function to compute it."
   ]
  },
  {
   "cell_type": "code",
   "execution_count": 42,
   "metadata": {},
   "outputs": [],
   "source": [
    "def pearson_r(x, y):\n",
    "    \"\"\"Compute Pearson correlation coefficient between two arrays.\"\"\"\n",
    "\n",
    "    return np.corrcoef(x, y)[0,1]"
   ]
  },
  {
   "cell_type": "code",
   "execution_count": 43,
   "metadata": {},
   "outputs": [
    {
     "name": "stdout",
     "output_type": "stream",
     "text": [
      "Pearson corr. coef. for G. scandens: r = 0.412 , 95% CI = [0.28  0.541]\n",
      "Pearson corr. coef. for G. fortis:   r = 0.728 , 95% CI = [0.668 0.781]\n"
     ]
    }
   ],
   "source": [
    "# compute the Pearson correlation coefficients\n",
    "r_scandens = pearson_r(heredity_scandens['parents'], heredity_scandens['offspring'])\n",
    "r_fortis = pearson_r(heredity_fortis['parents'], heredity_fortis['offspring'])\n",
    "\n",
    "# obtain 1000 bootstrap replicates of Pearson r\n",
    "bs_replicates_scandens = draw_bs_pairs(heredity_scandens['parents'], heredity_scandens['offspring'], pearson_r, size=1000)\n",
    "bs_replicates_fortis = draw_bs_pairs(heredity_fortis['parents'], heredity_fortis['offspring'], pearson_r, size=1000)\n",
    "\n",
    "# compute 95% confidence intervals\n",
    "conf_int_scandens = np.percentile(bs_replicates_scandens, [2.5, 97.5])\n",
    "conf_int_fortis = np.percentile(bs_replicates_fortis, [2.5, 97.5])\n",
    "\n",
    "# print the results\n",
    "print('Pearson corr. coef. for G. scandens: r =', round(r_scandens, 3), \", 95% CI =\", conf_int_scandens.round(3))\n",
    "print('Pearson corr. coef. for G. fortis:   r =', round(r_fortis, 3), \", 95% CI =\", conf_int_fortis.round(3))"
   ]
  },
  {
   "cell_type": "markdown",
   "metadata": {},
   "source": [
    "It is clear that the beak depth of the offspring is more strongly correlated with those of their parents for the *Geospiza fortis* than for the *Geospiza scandens*."
   ]
  },
  {
   "cell_type": "markdown",
   "metadata": {},
   "source": [
    "### Heritability of offspring and parental beak depth"
   ]
  },
  {
   "cell_type": "markdown",
   "metadata": {},
   "source": [
    "As we know, the Pearson correlation coefficient is the ratio of the covariance between offspring and parents to the standard deviations of both the parents and offspring data. However, a better estimate of the *heritability* is the ratio of the covariance between offspring and parents to the variance of the parents alone.\n",
    "\n",
    "Here, we perform a similar calculation as above, but for the function `heritability` as defined below:"
   ]
  },
  {
   "cell_type": "code",
   "execution_count": 44,
   "metadata": {},
   "outputs": [],
   "source": [
    "def heritability(parents, offspring):\n",
    "    \"\"\"Compute the heritability from parent and offspring samples.\"\"\"\n",
    "\n",
    "    return np.cov(parents, offspring)[0,1] / np.cov(parents, offspring)[0,0]"
   ]
  },
  {
   "cell_type": "code",
   "execution_count": 45,
   "metadata": {},
   "outputs": [
    {
     "name": "stdout",
     "output_type": "stream",
     "text": [
      "Heritability for G. scandens: heritability = 0.549 , 95% CI = [0.339 0.743]\n",
      "Heritability for G. fortis:   heritability = 0.723 , 95% CI = [0.645 0.799]\n"
     ]
    }
   ],
   "source": [
    "# compute the heritability\n",
    "heritability_scandens = heritability(heredity_scandens['parents'], heredity_scandens['offspring'])\n",
    "heritability_fortis = heritability(heredity_fortis['parents'], heredity_fortis['offspring'])\n",
    "\n",
    "# obtain 1000 bootstrap replicates of heritability\n",
    "bs_replicates_scandens = draw_bs_pairs(heredity_scandens['parents'], heredity_scandens['offspring'], heritability, size=1000)\n",
    "bs_replicates_fortis = draw_bs_pairs(heredity_fortis['parents'], heredity_fortis['offspring'], heritability, size=1000)\n",
    "\n",
    "# compute 95% confidence intervals\n",
    "conf_int_scandens = np.percentile(bs_replicates_scandens, [2.5, 97.5])\n",
    "conf_int_fortis = np.percentile(bs_replicates_fortis, [2.5, 97.5])\n",
    "\n",
    "# print the results\n",
    "print('Heritability for G. scandens: heritability =', round(heritability_scandens, 3), \", 95% CI =\", conf_int_scandens.round(3))\n",
    "print('Heritability for G. fortis:   heritability =', round(heritability_fortis, 3), \", 95% CI =\", conf_int_fortis.round(3))"
   ]
  },
  {
   "cell_type": "markdown",
   "metadata": {},
   "source": [
    "Similarly with the Pearson correlation coefficient, we see that the *Geospiza fortis* has stronger heritability than the *Geospiza scandens*."
   ]
  },
  {
   "cell_type": "markdown",
   "metadata": {},
   "source": [
    "### Hypothesis test: is beak depth heritable for the *Geospiza scandens*?"
   ]
  },
  {
   "cell_type": "markdown",
   "metadata": {},
   "source": [
    "The analysis above suggests that the heritability of the beak depth for the *Geospiza scandens* is low. Could it be that the observed heritability is just by chance?\n",
    "\n",
    "**Null hypothesis:** the heritability of the beak depth for the *Geospiza scandens* is zero.\n",
    "\n",
    "The test statistic we use is, of course, the heritability, and to test the null hypothesis we will do a **pairs permutation test**. This can be implemented using the following function."
   ]
  },
  {
   "cell_type": "code",
   "execution_count": 46,
   "metadata": {},
   "outputs": [],
   "source": [
    "def draw_perm_replicates(x, y, func, size=1) :\n",
    "    # Initialize array of replicates: perm_replicates\n",
    "    perm_replicates = np.empty(size)\n",
    "\n",
    "    # Draw replicates\n",
    "    for i in range(size):\n",
    "        # Permute x\n",
    "        x_permuted = np.random.permutation(x)\n",
    "        perm_replicates[i] = func(x_permuted, y)\n",
    "    \n",
    "    return perm_replicates"
   ]
  },
  {
   "cell_type": "code",
   "execution_count": 47,
   "metadata": {},
   "outputs": [],
   "source": [
    "# obtain 1000 bootstrap replicates of heritability\n",
    "perm_replicates = draw_perm_replicates(heredity_scandens['parents'], heredity_scandens['offspring'], heritability, size=1000)\n",
    "\n",
    "# compute the p-value\n",
    "p = np.sum(perm_replicates >= heritability_scandens) / len(perm_replicates)"
   ]
  },
  {
   "cell_type": "markdown",
   "metadata": {},
   "source": [
    "The p-value is then:"
   ]
  },
  {
   "cell_type": "code",
   "execution_count": 48,
   "metadata": {},
   "outputs": [
    {
     "name": "stdout",
     "output_type": "stream",
     "text": [
      "0.0\n"
     ]
    }
   ],
   "source": [
    "print(p)"
   ]
  },
  {
   "cell_type": "markdown",
   "metadata": {},
   "source": [
    "This means that **none** of the 10000 permutation pairs replicates had a heritability which is larger than the observed one. This strongly suggests that the beak depth is heritable for the *Geospiza scandens*."
   ]
  },
  {
   "cell_type": "markdown",
   "metadata": {},
   "source": [
    "## Classifying finches species"
   ]
  },
  {
   "cell_type": "markdown",
   "metadata": {},
   "source": [
    "Looking at the swarm plots above, it seems that it should be straightforward to classify the species of a finch if are given its beak length and depth. For instance, look again at *all* the data for 1975."
   ]
  },
  {
   "cell_type": "code",
   "execution_count": 49,
   "metadata": {},
   "outputs": [
    {
     "data": {
      "text/plain": [
       "Text(1.1750000000000007, 0.5, 'beak depth (mm)')"
      ]
     },
     "execution_count": 49,
     "metadata": {},
     "output_type": "execute_result"
    },
    {
     "data": {
      "image/png": "[encoded data removed]",
      "text/plain": [
       "<Figure size 540x360 with 1 Axes>"
      ]
     },
     "metadata": {
      "needs_background": "light"
     },
     "output_type": "display_data"
    }
   ],
   "source": [
    "# scatter plot of beak length and depth for finches in 1975 (all data)\n",
    "sns.lmplot(x='blength', y='bdepth', data=data_1975, fit_reg=False, hue='species', legend_out=False, aspect=1.5)\n",
    "plt.title(\"Finches' beak length vs depth in 1975\")\n",
    "plt.xlabel('beak length (mm)')\n",
    "plt.ylabel('beak depth (mm)')"
   ]
  },
  {
   "cell_type": "markdown",
   "metadata": {},
   "source": [
    "Even though the measured beak depths are similar between the two species, the data relative to the beak length is quite separated, being visibly smaller for the *Geospiza fortis*. It should be no surprise that if we apply a **$k$-nearest neighbor classification algorithm** we can easily predict the species for new data.\n",
    "\n",
    "Just to test it, we are going to apply this algorithm using the `KNeighborClassifier` class in the `neighbors` module of `scikit-learn`."
   ]
  },
  {
   "cell_type": "code",
   "execution_count": 50,
   "metadata": {},
   "outputs": [],
   "source": [
    "# import relevant packages\n",
    "from sklearn.model_selection import train_test_split\n",
    "from sklearn.neighbors import KNeighborsClassifier"
   ]
  },
  {
   "cell_type": "markdown",
   "metadata": {},
   "source": [
    "First, let's split the data into **training data** and **test data**, using the `train_test_split` function."
   ]
  },
  {
   "cell_type": "code",
   "execution_count": 51,
   "metadata": {},
   "outputs": [
    {
     "name": "stdout",
     "output_type": "stream",
     "text": [
      "X_train shape: (302, 2)\n",
      "y_train shape: (302,)\n",
      "X_test shape: (101, 2)\n",
      "y_test shape: (101,)\n"
     ]
    }
   ],
   "source": [
    "# split training and test sets\n",
    "X_train, X_test, y_train, y_test = train_test_split(data_1975[['blength', 'bdepth']], data_1975['species'], random_state=0)\n",
    "\n",
    "# print shapes\n",
    "print(\"X_train shape: {}\".format(X_train.shape))\n",
    "print(\"y_train shape: {}\".format(y_train.shape))\n",
    "print(\"X_test shape: {}\".format(X_test.shape))\n",
    "print(\"y_test shape: {}\".format(y_test.shape))"
   ]
  },
  {
   "cell_type": "markdown",
   "metadata": {},
   "source": [
    "We have 75% of the original data in the training data and the remaining 25% in the test data. We can have a visual idea of the split through the following plot."
   ]
  },
  {
   "cell_type": "code",
   "execution_count": 52,
   "metadata": {},
   "outputs": [
    {
     "data": {
      "text/plain": [
       "<matplotlib.legend.Legend at 0x2ab5235ee80>"
      ]
     },
     "execution_count": 52,
     "metadata": {},
     "output_type": "execute_result"
    },
    {
     "data": {
      "image/png": "[encoded data removed]",
      "text/plain": [
       "<Figure size 432x288 with 1 Axes>"
      ]
     },
     "metadata": {
      "needs_background": "light"
     },
     "output_type": "display_data"
    }
   ],
   "source": [
    "# plot of training and test data\n",
    "plt.scatter(X_train['blength'], X_train['bdepth'], c='green')\n",
    "plt.scatter(X_test['blength'], X_test['bdepth'], c='orange')\n",
    "plt.title(\"Finches' beak length vs depth in 1975\")\n",
    "plt.xlabel('beak length (mm)')\n",
    "plt.ylabel('beak depth (mm)')\n",
    "plt.legend(('Training data', 'Test data'))"
   ]
  },
  {
   "cell_type": "markdown",
   "metadata": {},
   "source": [
    "We are going to fit the training data (in green in the above plot) using a $k$-nearest neighbor classification algorithm, with $k \\in \\{1, 2, \\ldots, 10\\}$. This is one of the simplest machine learning models, as it only stores the training data and, to make a prediction for a new data point, the algorithm finds the $k$ nearest points in the training data and then uses the majority class among the neighbors.\n",
    "\n",
    "As an example, imagine we apply the algorithm with $k=3$ and want to predict the species for the test point with coordinates $(14.05, 9.45)$. The algorithm finds the $3$ nearest neighbors in the training data (as in the plot below) and the prediction corresponds to the majority species of those $3$ points."
   ]
  },
  {
   "cell_type": "code",
   "execution_count": 53,
   "metadata": {},
   "outputs": [
    {
     "data": {
      "text/plain": [
       "[13, 15, 8.75, 10.25]"
      ]
     },
     "execution_count": 53,
     "metadata": {},
     "output_type": "execute_result"
    },
    {
     "data": {
      "image/png": "[encoded data removed]",
      "text/plain": [
       "<Figure size 432x288 with 1 Axes>"
      ]
     },
     "metadata": {
      "needs_background": "light"
     },
     "output_type": "display_data"
    }
   ],
   "source": [
    "# zoom of previous plot\n",
    "fig, ax = plt.subplots(1)\n",
    "ax.set_aspect('equal')\n",
    "\n",
    "plt.scatter(X_train['blength'], X_train['bdepth'], c='green')\n",
    "plt.scatter(X_test['blength'], X_test['bdepth'], c='orange')\n",
    "plt.xlabel('beak length (mm)')\n",
    "plt.ylabel('beak depth (mm)')\n",
    "#plt.legend(('Training data', 'Test data'))\n",
    "\n",
    "# circle around a test point (14.05, 9.45)\n",
    "ax.add_patch(plt.Circle((14.05, 9.45), 0.3, color='red', fill=False))\n",
    "\n",
    "# plot range\n",
    "plt.axis([13,15,8.75,10.25])"
   ]
  },
  {
   "cell_type": "markdown",
   "metadata": {},
   "source": [
    "We instantiate the class `KNeighborClassifier` in `scikit-learn` into an object, with $k \\in \\{1, 2, \\ldots, 10\\}$, and fit the training data."
   ]
  },
  {
   "cell_type": "code",
   "execution_count": 54,
   "metadata": {},
   "outputs": [],
   "source": [
    "# fit k-nearest neighbors classification algorithm\n",
    "knn = [KNeighborsClassifier(n_neighbors=n+1) for n in range(10)]\n",
    "for n in range(10) :\n",
    "    knn[n].fit(X_train, y_train)"
   ]
  },
  {
   "cell_type": "markdown",
   "metadata": {},
   "source": [
    "We can now make predictions using this model. For example, for the first test point:"
   ]
  },
  {
   "cell_type": "code",
   "execution_count": 55,
   "metadata": {},
   "outputs": [
    {
     "name": "stdout",
     "output_type": "stream",
     "text": [
      "Test point: (9.6, 9.4)\n",
      "Predicted species: fortis\n",
      "Actual species: fortis\n"
     ]
    }
   ],
   "source": [
    "print(\"Test point: ({}, {})\".format(X_test.iloc[0,0], X_test.iloc[0,1]))\n",
    "print(\"Predicted species:\", knn[0].predict(X_test)[0])\n",
    "print(\"Actual species:\", y_test.iloc[0])"
   ]
  },
  {
   "cell_type": "markdown",
   "metadata": {},
   "source": [
    "We see that, for the first test point, the prediction is in agreement with the real species. Below, we plot the test data **accuracy** of the model for each $k$, that is, the fraction of test points for which the right species was predicted."
   ]
  },
  {
   "cell_type": "code",
   "execution_count": 60,
   "metadata": {},
   "outputs": [
    {
     "data": {
      "text/plain": [
       "Text(0.5, 1.0, 'Accuracy for $k$-nearest neighboor algorithm')"
      ]
     },
     "execution_count": 60,
     "metadata": {},
     "output_type": "execute_result"
    },
    {
     "data": {
      "image/png": "[encoded data removed]",
      "text/plain": [
       "<Figure size 432x288 with 1 Axes>"
      ]
     },
     "metadata": {
      "needs_background": "light"
     },
     "output_type": "display_data"
    }
   ],
   "source": [
    "# construct x and y\n",
    "x_score = np.arange(1, 11)\n",
    "y_score = np.array([knn[n].score(X_test, y_test) for n in range(10)])\n",
    "\n",
    "# plot test set score as a function of the number of neighbors\n",
    "plt.plot(x_score, y_score, '.')\n",
    "plt.xlabel(\"number of neighbors $k$\")\n",
    "plt.xticks(range(1,11))\n",
    "plt.ylabel(\"Test data accuracy\")\n",
    "plt.yticks([1])\n",
    "plt.title(\"Accuracy for $k$-nearest neighboor algorithm\")"
   ]
  },
  {
   "cell_type": "markdown",
   "metadata": {},
   "source": [
    "The test set accuracy is 100% for all number of neighbors $k \\in \\{1, 2, \\ldots, 10\\}$. This is because the data is very well separated between the two species, and therefore applying a machine learning model for this dataset is overkill!\n",
    "\n",
    "**Note also** that the `$k$` in the plt.title shows that inline $LaTeX$ math expressions are allowed in matplotlib figures."
   ]
  },
  {
   "cell_type": "markdown",
   "metadata": {},
   "source": [
    "### End of notebook."
   ]
  }
 ],
 "metadata": {
  "kernelspec": {
   "display_name": "Python 3",
   "language": "python",
   "name": "python3"
  },
  "language_info": {
   "codemirror_mode": {
    "name": "ipython",
    "version": 3
   },
   "file_extension": ".py",
   "mimetype": "text/x-python",
   "name": "python",
   "nbconvert_exporter": "python",
   "pygments_lexer": "ipython3",
   "version": "3.6.8"
  }
 },
 "nbformat": 4,
 "nbformat_minor": 2
}
