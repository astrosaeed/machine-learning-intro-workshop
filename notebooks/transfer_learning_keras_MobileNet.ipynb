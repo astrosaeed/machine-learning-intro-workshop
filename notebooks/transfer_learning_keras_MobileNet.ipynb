{
  "nbformat": 4,
  "nbformat_minor": 0,
  "metadata": {
    "colab": {
      "name": "transfer_learning_keras_MobileNet.ipynb",
      "version": "0.3.2",
      "provenance": [],
      "collapsed_sections": [],
      "toc_visible": true,
      "include_colab_link": true
    },
    "kernelspec": {
      "name": "python3",
      "display_name": "Python 3"
    }
  },
  "cells": [
    {
      "cell_type": "markdown",
      "metadata": {
        "id": "view-in-github",
        "colab_type": "text"
      },
      "source": [
        "<a href=\"https://colab.research.google.com/github/jfogarty/machine-learning-intro-workshop/blob/master/notebooks/transfer_learning_keras_MobileNet.ipynb\" target=\"_parent\"><img src=\"https://colab.research.google.com/assets/colab-badge.svg\" alt=\"Open In Colab\"/></a>"
      ]
    },
    {
      "cell_type": "code",
      "metadata": {
        "id": "-id-i26CUhB7",
        "colab_type": "code",
        "colab": {}
      },
      "source": [
        "URL='https://github.com/aditya9898/transfer-learning/tree/master/train'"
      ],
      "execution_count": 0,
      "outputs": []
    },
    {
      "cell_type": "markdown",
      "metadata": {
        "id": "fvtWI5-iUlY8",
        "colab_type": "text"
      },
      "source": [
        ""
      ]
    },
    {
      "cell_type": "markdown",
      "metadata": {
        "id": "XJT8a2-wUlg8",
        "colab_type": "text"
      },
      "source": [
        "## Copy the Transfer Learning Training image to here.\n",
        "\n",
        "This uses some nasty tricks to get around githubusercontent.com's refusal to allow wget downloading of entire directories.  This is really nasty."
      ]
    },
    {
      "cell_type": "code",
      "metadata": {
        "id": "IrAGqmEMUkvq",
        "colab_type": "code",
        "colab": {}
      },
      "source": [
        "import numpy as np\n",
        "import requests\n",
        "import shutil\n",
        "import os\n",
        "\n",
        "ds = np.DataSource()\n",
        "def copyHere(URL, toPath, quiet=False):\n",
        "    toDir, toFile = os.path.split(toPath)\n",
        "    toPath = os.path.join(toDir, toFile)\n",
        "    if os.path.exists(toPath):\n",
        "        if not quiet:\n",
        "            print(f\"- Skipped copy of existing file {toPath}.\")\n",
        "    else:\n",
        "        if ds.exists(URL):\n",
        "            if not toFile:\n",
        "                urlPrefix, toFile = os.path.split(URL)\n",
        "            response = requests.get(URL, stream=True)\n",
        "            if toDir:\n",
        "                if not os.path.exists(toDir): \n",
        "                  print(f\"- Creating directory '{toDir}'.\")\n",
        "                  os.makedirs(toDir)\n",
        "            with open(toPath, 'wb') as fin: shutil.copyfileobj(response.raw, fin)\n",
        "            if not quiet:\n",
        "                print(f\"- Copied {URL} to {toPath}.\")\n",
        "        else:\n",
        "            print(f\"** Sorry, can't copy '{URL}' to '{toPath}'.\")"
      ],
      "execution_count": 0,
      "outputs": []
    },
    {
      "cell_type": "code",
      "metadata": {
        "id": "FaP_Nrbjj2NC",
        "colab_type": "code",
        "colab": {}
      },
      "source": [
        "import requests\n",
        "from bs4 import BeautifulSoup\n",
        "\n",
        "def get_url_files(url, ext='', params={}):\n",
        "    response = requests.get(url, params=params)\n",
        "    if response.ok:\n",
        "        response_text = response.text\n",
        "    else:\n",
        "        return response.raise_for_status()\n",
        "    soup = BeautifulSoup(response_text, 'html.parser')\n",
        "    parent = [url + node.get('href') for node in soup.find_all('a') if node.get('href').endswith(ext)]\n",
        "    files = [os.path.basename(f) for f in parent]    \n",
        "    return files"
      ],
      "execution_count": 0,
      "outputs": []
    },
    {
      "cell_type": "code",
      "metadata": {
        "id": "3svtOm5lmP0e",
        "colab_type": "code",
        "colab": {
          "base_uri": "https://localhost:8080/",
          "height": 68
        },
        "outputId": "7ae61bde-d5a8-4789-e852-e44495f06d2c"
      },
      "source": [
        "filename = 'Z.jpg'\n",
        "REPO     = 'https://raw.githubusercontent.com/aditya9898/transfer-learning/'\n",
        "BRANCH   = 'master/'\n",
        "DIR      = 'train/cats/'\n",
        "TMPDIR   = 'tmpData'\n",
        "\n",
        "url = 'https://github.com/aditya9898/transfer-learning/tree/master/'\n",
        "ext = 'jpg'\n",
        "\n",
        "for imgdir in ['train/cats', 'train/dogs', 'train/horses']:\n",
        "    TODIR = os.path.join(TMPDIR, imgdir)\n",
        "    files =  get_url_files(url + imgdir, ext)\n",
        "    print(f\"- Downloading all images to {TODIR}:\")\n",
        "    for img in files:\n",
        "        URL = os.path.join(REPO, BRANCH, imgdir, img)\n",
        "        toPath  = os.path.join(TODIR, img)\n",
        "        #print(f'- Copy {URL} to {toPath}')\n",
        "        copyHere(URL, toPath, quiet=True)"
      ],
      "execution_count": 17,
      "outputs": [
        {
          "output_type": "stream",
          "text": [
            "- Downloading all images to tmpData/train/cats:\n",
            "- Downloading all images to tmpData/train/dogs:\n",
            "- Downloading all images to tmpData/train/horses:\n"
          ],
          "name": "stdout"
        }
      ]
    },
    {
      "cell_type": "code",
      "metadata": {
        "id": "9nw2Ft2kp9oQ",
        "colab_type": "code",
        "colab": {}
      },
      "source": [
        "\n",
        "url = 'https://raw.githubusercontent.com/aditya9898/transfer-learning/master/train/cats'\n",
        "url = 'https://github.com/aditya9898/transfer-learning/tree/master/train/cats'\n",
        "ext = 'jpg'\n",
        "result = get_url_paths(url, ext)\n",
        "\n",
        "print(result)\n",
        "files = [os.path.basename(f) for f in result]\n",
        "print(files)"
      ],
      "execution_count": 0,
      "outputs": []
    },
    {
      "cell_type": "code",
      "metadata": {
        "id": "p71cA_N6urfN",
        "colab_type": "code",
        "colab": {}
      },
      "source": [
        ""
      ],
      "execution_count": 0,
      "outputs": []
    },
    {
      "cell_type": "code",
      "metadata": {
        "id": "8tgHalIQd69L",
        "colab_type": "code",
        "colab": {
          "base_uri": "https://localhost:8080/",
          "height": 136
        },
        "outputId": "77a56dd8-a24e-4d2b-ed2d-92861d761a24"
      },
      "source": [
        "!ls -al"
      ],
      "execution_count": 27,
      "outputs": [
        {
          "output_type": "stream",
          "text": [
            "total 24\n",
            "drwxr-xr-x 1 root root 4096 Aug 15 18:07 .\n",
            "drwxr-xr-x 1 root root 4096 Aug 15 15:37 ..\n",
            "drwxr-xr-x 1 root root 4096 Aug 13 16:04 .config\n",
            "drwxr-xr-x 1 root root 4096 Aug  2 16:06 sample_data\n",
            "drwxr-xr-x 3 root root 4096 Aug 15 17:48 tmpData\n",
            "-rw-r--r-- 1 root root   15 Aug 15 18:07 xxx\n"
          ],
          "name": "stdout"
        }
      ]
    },
    {
      "cell_type": "code",
      "metadata": {
        "id": "M-kUJ8qwmQDl",
        "colab_type": "code",
        "colab": {}
      },
      "source": [
        ""
      ],
      "execution_count": 0,
      "outputs": []
    },
    {
      "cell_type": "code",
      "metadata": {
        "id": "IQVyLi2FUk_Z",
        "colab_type": "code",
        "colab": {
          "base_uri": "https://localhost:8080/",
          "height": 34
        },
        "outputId": "a2675e50-b22c-4b94-b06e-f78f1483d9dc"
      },
      "source": [
        "import pandas as pd\n",
        "import numpy as np\n",
        "import os\n",
        "import keras\n",
        "import matplotlib.pyplot as plt\n",
        "from keras.layers import Dense,GlobalAveragePooling2D\n",
        "from keras.applications import MobileNet\n",
        "from keras.preprocessing import image\n",
        "from keras.applications.mobilenet import preprocess_input\n",
        "from keras.preprocessing.image import ImageDataGenerator\n",
        "from keras.models import Model\n",
        "from keras.optimizers import Adam"
      ],
      "execution_count": 1,
      "outputs": [
        {
          "output_type": "stream",
          "text": [
            "Using TensorFlow backend.\n"
          ],
          "name": "stderr"
        }
      ]
    },
    {
      "cell_type": "code",
      "metadata": {
        "id": "QA6XbgHiUmm4",
        "colab_type": "code",
        "colab": {}
      },
      "source": [
        ""
      ],
      "execution_count": 0,
      "outputs": []
    },
    {
      "cell_type": "markdown",
      "metadata": {
        "id": "oKCt3Rv0UqWf",
        "colab_type": "text"
      },
      "source": [
        "## xxx"
      ]
    },
    {
      "cell_type": "code",
      "metadata": {
        "id": "ItcoOMNaUsN4",
        "colab_type": "code",
        "colab": {
          "base_uri": "https://localhost:8080/",
          "height": 326
        },
        "outputId": "4c7b834f-24ff-4706-e010-f8ffc63a3980"
      },
      "source": [
        "base_model=MobileNet(weights='imagenet', include_top=False) #imports the mobilenet model and discards the last 1000 neuron layer.\n",
        "\n",
        "x=base_model.output\n",
        "x=GlobalAveragePooling2D()(x)\n",
        "x=Dense(1024,activation='relu')(x) #we add dense layers so that the model can learn more complex functions and classify for better results.\n",
        "x=Dense(1024,activation='relu')(x) #dense layer 2\n",
        "x=Dense(512,activation='relu')(x) #dense layer 3\n",
        "preds=Dense(3,activation='softmax')(x) #final layer with softmax activation"
      ],
      "execution_count": 2,
      "outputs": [
        {
          "output_type": "stream",
          "text": [
            "/usr/local/lib/python3.6/dist-packages/keras_applications/mobilenet.py:207: UserWarning: `input_shape` is undefined or non-square, or `rows` is not in [128, 160, 192, 224]. Weights for input shape (224, 224) will be loaded as the default.\n",
            "  warnings.warn('`input_shape` is undefined or non-square, '\n",
            "WARNING: Logging before flag parsing goes to stderr.\n",
            "W0815 17:28:37.043514 140413328377728 deprecation_wrapper.py:119] From /usr/local/lib/python3.6/dist-packages/keras/backend/tensorflow_backend.py:74: The name tf.get_default_graph is deprecated. Please use tf.compat.v1.get_default_graph instead.\n",
            "\n",
            "W0815 17:28:37.093657 140413328377728 deprecation_wrapper.py:119] From /usr/local/lib/python3.6/dist-packages/keras/backend/tensorflow_backend.py:517: The name tf.placeholder is deprecated. Please use tf.compat.v1.placeholder instead.\n",
            "\n",
            "W0815 17:28:37.117455 140413328377728 deprecation_wrapper.py:119] From /usr/local/lib/python3.6/dist-packages/keras/backend/tensorflow_backend.py:4138: The name tf.random_uniform is deprecated. Please use tf.random.uniform instead.\n",
            "\n",
            "W0815 17:28:37.165866 140413328377728 deprecation_wrapper.py:119] From /usr/local/lib/python3.6/dist-packages/keras/backend/tensorflow_backend.py:174: The name tf.get_default_session is deprecated. Please use tf.compat.v1.get_default_session instead.\n",
            "\n",
            "W0815 17:28:37.167380 140413328377728 deprecation_wrapper.py:119] From /usr/local/lib/python3.6/dist-packages/keras/backend/tensorflow_backend.py:181: The name tf.ConfigProto is deprecated. Please use tf.compat.v1.ConfigProto instead.\n",
            "\n",
            "W0815 17:28:37.475543 140413328377728 deprecation_wrapper.py:119] From /usr/local/lib/python3.6/dist-packages/keras/backend/tensorflow_backend.py:1834: The name tf.nn.fused_batch_norm is deprecated. Please use tf.compat.v1.nn.fused_batch_norm instead.\n",
            "\n"
          ],
          "name": "stderr"
        },
        {
          "output_type": "stream",
          "text": [
            "Downloading data from https://github.com/fchollet/deep-learning-models/releases/download/v0.6/mobilenet_1_0_224_tf_no_top.h5\n",
            "17227776/17225924 [==============================] - 1s 0us/step\n"
          ],
          "name": "stdout"
        }
      ]
    },
    {
      "cell_type": "markdown",
      "metadata": {
        "id": "-PiO-eJ9VGG4",
        "colab_type": "text"
      },
      "source": [
        "## xxx"
      ]
    },
    {
      "cell_type": "code",
      "metadata": {
        "id": "JzeUByfTUvsa",
        "colab_type": "code",
        "colab": {}
      },
      "source": [
        "model=Model(inputs=base_model.input,outputs=preds)\n",
        "#specify the inputs\n",
        "#specify the outputs\n",
        "#now a model has been created based on our architecture"
      ],
      "execution_count": 0,
      "outputs": []
    },
    {
      "cell_type": "markdown",
      "metadata": {
        "id": "wn6VnS10VOmc",
        "colab_type": "text"
      },
      "source": [
        "## xxx"
      ]
    },
    {
      "cell_type": "code",
      "metadata": {
        "id": "Uqy_ZyFzVNXQ",
        "colab_type": "code",
        "colab": {}
      },
      "source": [
        "for layer in model.layers[:20]:\n",
        "    layer.trainable=False\n",
        "for layer in model.layers[20:]:\n",
        "    layer.trainable=True"
      ],
      "execution_count": 0,
      "outputs": []
    },
    {
      "cell_type": "markdown",
      "metadata": {
        "id": "-LopFqifVTm1",
        "colab_type": "text"
      },
      "source": [
        "## xxx"
      ]
    },
    {
      "cell_type": "code",
      "metadata": {
        "id": "m0G7tlygVapE",
        "colab_type": "code",
        "colab": {}
      },
      "source": [
        "train_datagen=ImageDataGenerator(preprocessing_function=preprocess_input)"
      ],
      "execution_count": 0,
      "outputs": []
    },
    {
      "cell_type": "code",
      "metadata": {
        "id": "P9DRGtmZVSIp",
        "colab_type": "code",
        "colab": {}
      },
      "source": [
        " #included in our dependencies\n",
        "# ./train/ has been downloaded from https://github.com/aditya9898/transfer-learning/tree/master/train\n",
        "train_generator=train_datagen.flow_from_directory('./train/', \n",
        "                                                 target_size=(224,224),\n",
        "                                                 color_mode='rgb',\n",
        "                                                 batch_size=32,\n",
        "                                                 class_mode='categorical',\n",
        "                                                 shuffle=True)"
      ],
      "execution_count": 0,
      "outputs": []
    }
  ]
}