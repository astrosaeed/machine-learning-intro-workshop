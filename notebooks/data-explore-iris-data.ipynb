{
 "cells": [
  {
   "cell_type": "markdown",
   "metadata": {
    "colab_type": "text",
    "id": "view-in-github"
   },
   "source": [
    "<a href=\"https://colab.research.google.com/github/jfogarty/machine-learning-intro-workshop/blob/master/notebooks/data-explore-iris-data.ipynb\" target=\"_parent\"><img src=\"https://colab.research.google.com/assets/colab-badge.svg\" alt=\"Open In Colab\"/></a>"
   ]
  },
  {
   "cell_type": "markdown",
   "metadata": {
    "colab_type": "text",
    "id": "DnUCpC5PBGtJ"
   },
   "source": [
    "# Data exploration - Iris Data Set\n",
    "\n",
    "This example explores the [Iris Data Set](https://archive.ics.uci.edu/ml/datasets/iris) [[csv](https://github.com/venky14/Machine-Learning-with-Iris-Dataset/blob/master/Iris.csv)] from the [UC Irvine Machine Learning Repository](https://archive.ics.uci.edu/ml/index.php) usings [Pandas Dataframes](https://pandas.pydata.org/pandas-docs/stable/reference/api/pandas.DataFrame.html).  This kind of [EDA (Exploratory Data Analysis)](https://en.wikipedia.org/wiki/Exploratory_data_analysis) is one of the key data science components of machine learning applications.\n",
    "\n",
    "<figure><br>\n",
    "  <center><img src=\"https://github.com/jfogarty/machine-learning-intro-workshop/blob/master/images/iris.jpg?raw=1\" /></center>\n",
    "</figure>\n",
    "\n",
    "Some of the example code here is pulled from the book [Neural Network Projects with Python](https://www.oreilly.com/library/view/neural-network-projects/9781789138900/) by James Loy. The majority is from the Github project [Machine Learning with Iris Dataset](https://github.com/venky14/Machine-Learning-with-Iris-Dataset) by [Veky Rathod](https://github.com/venky14)"
   ]
  },
  {
   "cell_type": "markdown",
   "metadata": {
    "colab_type": "text",
    "id": "EaxlxDVaDz9O"
   },
   "source": [
    "## Data Set Information:\n",
    "\n",
    "This is perhaps the best known dataset to be found in the pattern recognition literature. Fisher's 1936 paper is a classic in the field and is referenced frequently to this day. (See [Duda & Hart](https://drive.google.com/open?id=1fq7usrZu7nmi0co5urq60h9P6w0WkDbY), for example.) \n",
    "\n",
    "- The data set contains 3 classes of 50 instances each, where each class refers to a type of iris plant. \n",
    "- One class is linearly separable from the other 2; the latter are NOT linearly separable from each other. \n",
    "- Predicted attribute: class of iris plant. \n",
    "- This is an exceedingly simple domain. \n",
    "- [Here's Jesin Fahad's Analysis of the dataset](https://www.kaggle.com/jesyfax/iris-analysis) on [Kaggle](https://www.kaggle.com/).\n",
    "- [Fisher's 1936 paper](https://digital.library.adelaide.edu.au/dspace/bitstream/2440/15227/1/138.pdf)\n",
    "\n",
    "## Attribute Information:\n",
    "\n",
    "1. [sepal](https://en.wikipedia.org/wiki/Sepal) length in cm \n",
    "2. [sepal](https://en.wikipedia.org/wiki/Sepal) width in cm \n",
    "3. [petal](https://en.wikipedia.org/wiki/Petal) length in cm \n",
    "4. [petal](https://en.wikipedia.org/wiki/Petal) width in cm \n",
    "5. class: \n",
    "  - Iris Setosa \n",
    "  - Iris Versicolour \n",
    "  - Iris Virginica\n",
    "  \n",
    " <figure>\n",
    "  <img src=\"../images/iris-petal-sepal.jpg?raw=1\" align=”right”/>\n",
    "</figure>"
   ]
  },
  {
   "cell_type": "markdown",
   "metadata": {
    "colab_type": "text",
    "id": "oey6L9e0IShg"
   },
   "source": [
    "\n",
    "# Python code\n",
    "\n",
    "**Usage NOTE!** Use `Shift+Enter` to step through this notebook, executing the code as you go."
   ]
  },
  {
   "cell_type": "code",
   "execution_count": null,
   "metadata": {
    "cellView": "form",
    "colab": {
     "base_uri": "https://localhost:8080/",
     "height": 35
    },
    "colab_type": "code",
    "id": "NDzdSWEGIShh",
    "outputId": "9dde29a2-7008-4b2e-df31-96c6437f9cbc"
   },
   "outputs": [],
   "source": [
    "#@title Welcome\n",
    "import datetime\n",
    "print(f\"Welcome to exploring this notebook at {datetime.datetime.now()}! \")"
   ]
  },
  {
   "cell_type": "code",
   "execution_count": null,
   "metadata": {
    "colab": {},
    "colab_type": "code",
    "id": "OK89acB3IhyE"
   },
   "outputs": [],
   "source": [
    "class Context:\n",
    "  DATA = 'https://raw.githubusercontent.com/jfogarty/machine-learning-intro-workshop/master/data/'"
   ]
  },
  {
   "cell_type": "code",
   "execution_count": null,
   "metadata": {
    "colab": {},
    "colab_type": "code",
    "id": "aYA_HQsEDz9h"
   },
   "outputs": [],
   "source": [
    "import numpy as np #linear algebra\n",
    "import pandas as pd # a data processing and CSV I/O library\n",
    "\n",
    "import warnings # current version of seaborn generates a bunch of warnings that will be ignore\n",
    "warnings.filterwarnings('ignore')\n",
    "\n",
    "# Data Visualization\n",
    "import seaborn as sns\n",
    "import matplotlib.pyplot as plt\n",
    "%matplotlib inline\n",
    "sns.set(style='white', color_codes=True)\n",
    "\n",
    "import matplotlib.cm as cm\n",
    "\n",
    "colors = cm.rainbow(np.linspace(0, 1, 4))"
   ]
  },
  {
   "cell_type": "code",
   "execution_count": null,
   "metadata": {
    "colab": {},
    "colab_type": "code",
    "id": "TbgfBVx4w99Z"
   },
   "outputs": [],
   "source": [
    "URL= 'https://archive.ics.uci.edu/ml/machine-learning-databases/iris/iris.data'"
   ]
  },
  {
   "cell_type": "markdown",
   "metadata": {
    "colab_type": "text",
    "id": "BkkQQ90wZZ-b"
   },
   "source": [
    "\n",
    "# Visualization Tools\n",
    "\n",
    "## <center>[matplotlib - Python 2D plotting library](https://matplotlib.org/) </center>\n",
    "\n",
    "## <center>[seaborn - Visualizing the distribution of a dataset](https://seaborn.pydata.org/tutorial/distributions.html) </center>\n",
    "\n",
    "## <center>[pandas - DataFrame visualization](https://pandas.pydata.org/pandas-docs/stable/user_guide/visualization.html) </center>\n"
   ]
  },
  {
   "cell_type": "markdown",
   "metadata": {
    "colab_type": "text",
    "id": "F7sHS9CIDz9y"
   },
   "source": [
    "### Read the Iris Data set from the UC Irvine ML databases"
   ]
  },
  {
   "cell_type": "code",
   "execution_count": null,
   "metadata": {
    "colab": {},
    "colab_type": "code",
    "id": "X0bMC7texpD1"
   },
   "outputs": [],
   "source": [
    "colnames = ['sepal_length', 'sepal_width', 'petal_length', 'petal_width', 'class']\n",
    "df = pd.read_csv(URL, names=colnames)"
   ]
  },
  {
   "cell_type": "code",
   "execution_count": null,
   "metadata": {
    "colab": {
     "base_uri": "https://localhost:8080/",
     "height": 197
    },
    "colab_type": "code",
    "id": "MJ-PPhuKxx5s",
    "outputId": "92af7439-08fe-4363-ce0b-3d4b1b0cbda1",
    "scrolled": true
   },
   "outputs": [],
   "source": [
    "df.info()"
   ]
  },
  {
   "cell_type": "code",
   "execution_count": null,
   "metadata": {
    "colab": {
     "base_uri": "https://localhost:8080/",
     "height": 359
    },
    "colab_type": "code",
    "id": "H3Rpmz1UDz-G",
    "outputId": "d3192a8a-b914-45d8-c3fc-bfbb6a317170"
   },
   "outputs": [],
   "source": [
    "df.head(10)"
   ]
  },
  {
   "cell_type": "code",
   "execution_count": null,
   "metadata": {
    "colab": {
     "base_uri": "https://localhost:8080/",
     "height": 309
    },
    "colab_type": "code",
    "id": "O1lyq3txDz-O",
    "outputId": "89521eee-d5e7-47b2-8ecf-964772bae4e4"
   },
   "outputs": [],
   "source": [
    "df.plot(kind='scatter',x='sepal_length', y='sepal_width', color=[colors[0]]) # use this to make a scatterplot of the Iris features."
   ]
  },
  {
   "cell_type": "code",
   "execution_count": null,
   "metadata": {
    "colab": {
     "base_uri": "https://localhost:8080/",
     "height": 89
    },
    "colab_type": "code",
    "id": "2fE22VWvEoRP",
    "outputId": "eba91ad0-d8b9-415e-f4cb-6bc18cb47b64"
   },
   "outputs": [],
   "source": [
    "colors"
   ]
  },
  {
   "cell_type": "markdown",
   "metadata": {
    "colab_type": "text",
    "id": "ivmIcOsZKl0J"
   },
   "source": [
    "## Read a CSV file with column headings from a local directory\n"
   ]
  },
  {
   "cell_type": "code",
   "execution_count": null,
   "metadata": {
    "colab": {},
    "colab_type": "code",
    "id": "1FCtmh4tDz-c"
   },
   "outputs": [],
   "source": [
    "# load Iris Flower dataset\n",
    "URL = Context.DATA + 'Iris.csv'\n",
    "iris = pd.read_csv(URL)"
   ]
  },
  {
   "cell_type": "markdown",
   "metadata": {
    "colab_type": "text",
    "id": "lpiZ8iQeLuHH"
   },
   "source": [
    "Display the [pandas DataFrame head](https://pandas.pydata.org/pandas-docs/stable/reference/api/pandas.DataFrame.head.html) of the first few elements."
   ]
  },
  {
   "cell_type": "code",
   "execution_count": null,
   "metadata": {
    "colab": {
     "base_uri": "https://localhost:8080/",
     "height": 359
    },
    "colab_type": "code",
    "id": "qO6b4bUyDz-j",
    "outputId": "619f5eba-6fea-4a83-c428-a7a5acd41cda"
   },
   "outputs": [],
   "source": [
    "iris.head(10)"
   ]
  },
  {
   "cell_type": "code",
   "execution_count": null,
   "metadata": {
    "colab": {
     "base_uri": "https://localhost:8080/",
     "height": 89
    },
    "colab_type": "code",
    "id": "BLbAUQxwDz-w",
    "outputId": "f34c0a5a-f4bb-4801-b1cd-0b63affdeede"
   },
   "outputs": [],
   "source": [
    "iris['Species'].value_counts()"
   ]
  },
  {
   "cell_type": "code",
   "execution_count": null,
   "metadata": {
    "colab": {
     "base_uri": "https://localhost:8080/",
     "height": 309
    },
    "colab_type": "code",
    "id": "LLMl8YKfDz-2",
    "outputId": "2bff3255-65b2-4243-b839-68b4360574e7"
   },
   "outputs": [],
   "source": [
    " blue = [0, 0, 1]\n",
    "iris.plot(kind='scatter',x='SepalLengthCm', y='SepalWidthCm', color=[blue]) # use this to make a scatterplot of the Iris features."
   ]
  },
  {
   "cell_type": "markdown",
   "metadata": {
    "colab_type": "text",
    "id": "_LUSlzHjLClz"
   },
   "source": [
    "### seaborn jointplot\n",
    "\n",
    "A [seaborn jointplot](https://seaborn.pydata.org/generated/seaborn.jointplot.html) shows bivariate scatterplots and univariate histograms in the same figure."
   ]
  },
  {
   "cell_type": "code",
   "execution_count": null,
   "metadata": {
    "colab": {
     "base_uri": "https://localhost:8080/",
     "height": 383
    },
    "colab_type": "code",
    "id": "VWgvududDz-8",
    "outputId": "08921236-6db3-402c-9d7f-bc8d5c852f09"
   },
   "outputs": [],
   "source": [
    "\n",
    "sns.jointplot(x='SepalLengthCm',y='SepalWidthCm', data=iris, size=5)"
   ]
  },
  {
   "cell_type": "code",
   "execution_count": null,
   "metadata": {
    "colab": {
     "base_uri": "https://localhost:8080/",
     "height": 35
    },
    "colab_type": "code",
    "id": "INUvzAG7Dz_C",
    "outputId": "32379594-c268-43bb-9764-ee270bd6cbaf"
   },
   "outputs": [],
   "source": [
    "iris.shape\n"
   ]
  },
  {
   "cell_type": "code",
   "execution_count": null,
   "metadata": {
    "colab": {
     "base_uri": "https://localhost:8080/",
     "height": 215
    },
    "colab_type": "code",
    "id": "IPGb4_0YDz_R",
    "outputId": "83f6a0e6-ede8-4f65-9cfd-850e9610ccb7"
   },
   "outputs": [],
   "source": [
    "iris.info()"
   ]
  },
  {
   "cell_type": "markdown",
   "metadata": {
    "colab_type": "text",
    "id": "rf_bsv9wMVGD"
   },
   "source": [
    "### seaborn FacetGrid\n",
    "\n",
    "A [seaborn FacetGrid](https://seaborn.pydata.org/generated/seaborn.FacetGrid.html) to color the scatterplot by species."
   ]
  },
  {
   "cell_type": "code",
   "execution_count": null,
   "metadata": {
    "colab": {
     "base_uri": "https://localhost:8080/",
     "height": 383
    },
    "colab_type": "code",
    "id": "CzwgRT-TDz_Z",
    "outputId": "098149e4-f4b6-4458-e86b-32db3348367d",
    "scrolled": true
   },
   "outputs": [],
   "source": [
    "# use seaborn's FacetGrid to color the scatterplot by species\n",
    "sns.FacetGrid(iris, hue = 'Species', size=5) \\\n",
    "    .map(plt.scatter, 'SepalLengthCm','SepalWidthCm') \\\n",
    "    .add_legend()"
   ]
  },
  {
   "cell_type": "markdown",
   "metadata": {
    "colab_type": "text",
    "id": "F6GjGOoNNNkK"
   },
   "source": [
    "### seaborn boxplot\n",
    "\n",
    "A [seaborn boxplot](https://seaborn.pydata.org/generated/seaborn.boxplot.html) to look at an individual feature in Seaborn through a boxplot.\n",
    "\n",
    "The box shows the quartiles of the dataset while the whiskers extend to show the rest of the distribution, except for points that are determined to be “outliers” using a method that is a function of the inter-quartile range."
   ]
  },
  {
   "cell_type": "code",
   "execution_count": null,
   "metadata": {
    "colab": {
     "base_uri": "https://localhost:8080/",
     "height": 309
    },
    "colab_type": "code",
    "id": "ibNqqZdrDz_h",
    "outputId": "1a3a1f01-6435-4366-902e-7d61dbada097"
   },
   "outputs": [],
   "source": [
    "# We can look at an individual feature in Seaborn through a boxplot\n",
    "sns.boxplot(x='Species', y='PetalLengthCm', data=iris)"
   ]
  },
  {
   "cell_type": "markdown",
   "metadata": {
    "colab_type": "text",
    "id": "5K-3yyDgOP59"
   },
   "source": [
    "### seaborn stripplot\n",
    "\n",
    "One way we can extend this plot is adding a layer of individual points on top of it through Seaborn's [stripplot](https://seaborn.pydata.org/generated/seaborn.stripplot.html).\n",
    "\n",
    "- use `jitter=True` so that all the points don't fall in single vertical lines above the species\n",
    "\n",
    "- Saving the resulting axes as `ax` each time causes the resulting plot to be shown on top of the previous axes"
   ]
  },
  {
   "cell_type": "code",
   "execution_count": null,
   "metadata": {
    "colab": {
     "base_uri": "https://localhost:8080/",
     "height": 291
    },
    "colab_type": "code",
    "id": "ibq4tiofDz_p",
    "outputId": "881cb865-a732-4fbb-b0e5-ba1b4222de3e"
   },
   "outputs": [],
   "source": [
    "ax = sns.boxplot(data=iris, x = 'Species', y = 'PetalLengthCm')\n",
    "ax = sns.stripplot(data=iris, x='Species', y='PetalLengthCm', jitter=True, edgecolor='green')"
   ]
  },
  {
   "cell_type": "markdown",
   "metadata": {
    "colab_type": "text",
    "id": "FoIXC8gEPd1j"
   },
   "source": [
    "### seaborn violinplot\n",
    "\n",
    " A violin plot combines the benefits of the previous two plots and simplifies them.\n",
    "\n",
    "Denser regions of the data are **fatter**, and sparser **thinner** in a [violinplot](https://seaborn.pydata.org/generated/seaborn.violinplot.html)."
   ]
  },
  {
   "cell_type": "code",
   "execution_count": null,
   "metadata": {
    "colab": {
     "base_uri": "https://localhost:8080/",
     "height": 309
    },
    "colab_type": "code",
    "id": "rnVUYjvbDz_y",
    "outputId": "1b678fc9-02a5-4f9a-958c-aac4ccb44f0c"
   },
   "outputs": [],
   "source": [
    "sns.violinplot(x='Species',y='PetalLengthCm', data=iris, size=6)   "
   ]
  },
  {
   "cell_type": "markdown",
   "metadata": {
    "colab_type": "text",
    "id": "CPFP5Yy2QTGK"
   },
   "source": [
    "### seaborn kdeplot\n",
    "\n",
    "A useful seaborn plot for looking at univariate relations is the [kdeplot](https://seaborn.pydata.org/generated/seaborn.kdeplot.html),\n",
    "which creates and visualizes a kernel density estimate of the underlying feature\n"
   ]
  },
  {
   "cell_type": "code",
   "execution_count": null,
   "metadata": {
    "colab": {
     "base_uri": "https://localhost:8080/",
     "height": 455
    },
    "colab_type": "code",
    "id": "TGefPLybD0AQ",
    "outputId": "4ab8855a-9436-4438-b02e-c08c6c0eb2a0"
   },
   "outputs": [],
   "source": [
    "sns.FacetGrid(iris, hue=\"Species\", size=6) \\\n",
    "   .map(sns.kdeplot, \"PetalLengthCm\") \\\n",
    "   .add_legend()"
   ]
  },
  {
   "cell_type": "markdown",
   "metadata": {
    "colab_type": "text",
    "id": "DIVsD1DOQtel"
   },
   "source": [
    "\n",
    "\n"
   ]
  },
  {
   "cell_type": "code",
   "execution_count": null,
   "metadata": {
    "colab": {
     "base_uri": "https://localhost:8080/",
     "height": 204
    },
    "colab_type": "code",
    "id": "rO50CNvJD0Ab",
    "outputId": "6faff248-32da-404a-a31c-b4261847801b"
   },
   "outputs": [],
   "source": [
    "iris.head()"
   ]
  },
  {
   "cell_type": "markdown",
   "metadata": {
    "colab_type": "text",
    "id": "3AasQeLgD0Aq"
   },
   "source": [
    "### seaborn pairplot\n",
    "\n",
    "A useful seaborn plot for looking at univariate relations is the [pairplot](https://seaborn.pydata.org/generated/seaborn.pairplot.html),\n",
    "which creates and visualizes a kernel density estimate of the underlying feature.\n",
    "\n",
    "The pairplot shows the bivariate relation between each pair of features.\n",
    "\n",
    "From the pairplot, we'll see that the Iris-setosa species is separated from the other two across all feature combinations."
   ]
  },
  {
   "cell_type": "code",
   "execution_count": null,
   "metadata": {
    "colab": {
     "base_uri": "https://localhost:8080/",
     "height": 887
    },
    "colab_type": "code",
    "id": "JIQ1Mi_DD0Ag",
    "outputId": "3022bb9b-b2c8-4865-82d6-1d3595e57b77"
   },
   "outputs": [],
   "source": [
    "sns.pairplot(iris.drop('Id', axis=1), hue='Species', size=3, diag_kind='hist')"
   ]
  },
  {
   "cell_type": "markdown",
   "metadata": {
    "colab_type": "text",
    "id": "yNIzsbT6VUnk"
   },
   "source": [
    "#### KDE - Kernel density estimation\n",
    "\n",
    "We can update these elements to show other things, such as a [kde](https://en.wikipedia.org/wiki/Kernel_density_estimation) [(kernel density estimation)](https://mglerner.github.io/posts/histograms-and-kernel-density-estimation-kde-2.html)\n",
    "\n",
    "- The diagonal elements can be shown in a pairplot are often shown as histograms.\n"
   ]
  },
  {
   "cell_type": "code",
   "execution_count": null,
   "metadata": {
    "colab": {
     "base_uri": "https://localhost:8080/",
     "height": 887
    },
    "colab_type": "code",
    "id": "8lQhmcWxD0As",
    "outputId": "0a2b039e-77b7-4adc-da9a-c2ad6b9e6a97"
   },
   "outputs": [],
   "source": [
    "sns.pairplot(iris.drop('Id', axis=1), hue='Species', size=3, diag_kind='kde')"
   ]
  },
  {
   "cell_type": "markdown",
   "metadata": {
    "colab_type": "text",
    "id": "3u3X44aERu65"
   },
   "source": [
    "### boxplot on each feature split out by species\n",
    "\n",
    "Make a boxplot with Pandas on each feature split out by species."
   ]
  },
  {
   "cell_type": "code",
   "execution_count": null,
   "metadata": {
    "colab": {
     "base_uri": "https://localhost:8080/",
     "height": 516
    },
    "colab_type": "code",
    "id": "Lvmk-XIFD0A1",
    "outputId": "118865d0-eef6-4120-cbe1-9aa0fcfd7b2c"
   },
   "outputs": [],
   "source": [
    "iris.drop('Id', axis=1).boxplot(by='Species', figsize=(12,6))"
   ]
  },
  {
   "cell_type": "markdown",
   "metadata": {
    "colab_type": "text",
    "id": "8b5j8VubTClO"
   },
   "source": [
    "### Pandas andrews_curves\n",
    "\n",
    "One cool more sophisticated technique pandas has available is called [Andrews Curves](https://pandas.pydata.org/pandas-docs/stable/reference/api/pandas.plotting.andrews_curves.html).\n",
    "\n",
    "- Andrews Curves involve using attributes of samples as coefficients for Fourier series and then plotting these.\n"
   ]
  },
  {
   "cell_type": "code",
   "execution_count": null,
   "metadata": {
    "colab": {
     "base_uri": "https://localhost:8080/",
     "height": 292
    },
    "colab_type": "code",
    "id": "uAty9_UPD0A8",
    "outputId": "8da34daa-1a7d-42ca-e9ba-6d0c72009520"
   },
   "outputs": [],
   "source": [
    "from pandas.plotting import andrews_curves\n",
    "andrews_curves(iris.drop(\"Id\", axis=1), \"Species\")"
   ]
  },
  {
   "cell_type": "markdown",
   "metadata": {
    "colab_type": "text",
    "id": "0TMzfYHISxyx"
   },
   "source": [
    "### Pandas parallel_coordinates\n",
    "\n",
    "Another multivariate visualization technique pandas has is [parallel_coordinates](https://pandas.pydata.org/pandas-docs/stable/reference/api/pandas.plotting.parallel_coordinates.html).\n",
    "\n",
    "- Parallel coordinates plots each feature on a separate column & then draws lines connecting the features for each data sample."
   ]
  },
  {
   "cell_type": "code",
   "execution_count": null,
   "metadata": {
    "colab": {
     "base_uri": "https://localhost:8080/",
     "height": 292
    },
    "colab_type": "code",
    "id": "Pwa7cVwVD0BF",
    "outputId": "1628de0f-0888-45b8-fd40-070dfb05cfd5"
   },
   "outputs": [],
   "source": [
    "from pandas.plotting import parallel_coordinates\n",
    "parallel_coordinates(iris.drop(\"Id\", axis=1), \"Species\")"
   ]
  },
  {
   "cell_type": "markdown",
   "metadata": {
    "colab_type": "text",
    "id": "zdNDUNQwUBDF"
   },
   "source": [
    "### Pandas radviz\n",
    "\n",
    "A final multivariate visualization technique pandas has is [radviz](https://pandas.pydata.org/pandas-docs/stable/reference/api/pandas.plotting.radviz.html).\n",
    "\n",
    "- Radviz puts each feature as a point on a 2D plane, and then simulates\n",
    "having each sample attached to those points through a spring weighted\n",
    "by the relative value for that feature"
   ]
  },
  {
   "cell_type": "code",
   "execution_count": null,
   "metadata": {
    "colab": {},
    "colab_type": "code",
    "id": "iEz6XQXED0BL"
   },
   "outputs": [],
   "source": [
    "from pandas.plotting import radviz\n",
    "radviz(iris.drop(\"Id\", axis=1), \"Species\")"
   ]
  },
  {
   "cell_type": "markdown",
   "metadata": {
    "colab_type": "text",
    "id": "Po0ntEB-W6MJ"
   },
   "source": [
    "### seaborn factorplot\n",
    "\n",
    "Draw a categorical plot onto a FacetGrid. [factorplot](https://kite.com/python/docs/seaborn.factorplot)."
   ]
  },
  {
   "cell_type": "code",
   "execution_count": null,
   "metadata": {
    "colab": {
     "base_uri": "https://localhost:8080/",
     "height": 383
    },
    "colab_type": "code",
    "id": "Yc_F8PfFD0BQ",
    "outputId": "cd46c35e-0572-4266-f9c4-4d76fc14ea2f"
   },
   "outputs": [],
   "source": [
    "sns.factorplot('SepalLengthCm', data=iris, hue='Species', kind='count', aspect=2.5 )"
   ]
  },
  {
   "cell_type": "markdown",
   "metadata": {
    "colab_type": "text",
    "id": "gGTjGC_CWySH"
   },
   "source": [
    "### End of notebook."
   ]
  }
 ],
 "metadata": {
  "celltoolbar": "Raw Cell Format",
  "colab": {
   "collapsed_sections": [],
   "include_colab_link": true,
   "name": "data-explore-iris-data.ipynb",
   "provenance": [],
   "toc_visible": true,
   "version": "0.3.2"
  },
  "kernelspec": {
   "display_name": "Python 3",
   "language": "python",
   "name": "python3"
  },
  "language_info": {
   "codemirror_mode": {
    "name": "ipython",
    "version": 3
   },
   "file_extension": ".py",
   "mimetype": "text/x-python",
   "name": "python",
   "nbconvert_exporter": "python",
   "pygments_lexer": "ipython3",
   "version": "3.6.8"
  }
 },
 "nbformat": 4,
 "nbformat_minor": 1
}
