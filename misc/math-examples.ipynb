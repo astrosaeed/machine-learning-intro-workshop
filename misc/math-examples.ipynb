{
  "nbformat": 4,
  "nbformat_minor": 0,
  "metadata": {
    "kernelspec": {
      "display_name": "Python [conda env:tf37]",
      "language": "python",
      "name": "conda-env-tf37-py"
    },
    "language_info": {
      "codemirror_mode": {
        "name": "ipython",
        "version": 3
      },
      "file_extension": ".py",
      "mimetype": "text/x-python",
      "name": "python",
      "nbconvert_exporter": "python",
      "pygments_lexer": "ipython3",
      "version": "3.7.3"
    },
    "colab": {
      "name": "Observation-on-Curl-Div-Grad-on-a-vector-field.ipynb",
      "version": "0.3.2",
      "provenance": [],
      "include_colab_link": true
    }
  },
  "cells": [
    {
      "cell_type": "markdown",
      "metadata": {
        "id": "view-in-github",
        "colab_type": "text"
      },
      "source": [
        "<a href=\"https://colab.research.google.com/github/jfogarty/machine-learning-intro-workshop/blob/master/misc/math-examples.ipynb\" target=\"_parent\"><img src=\"https://colab.research.google.com/assets/colab-badge.svg\" alt=\"Open In Colab\"/></a>"
      ]
    },
    {
      "cell_type": "markdown",
      "metadata": {
        "id": "uxKUzUpddjS5",
        "colab_type": "text"
      },
      "source": [
        "# Some Examples using LaTeX Math Notations in Jupyter Notebooks\n",
        "\n",
        "The markdown in Jupter Notebooks supports inline [mathematical notation LaTeX macros](http://docs.mathjax.org/en/latest/tex.html) via the [MathJax](https://www.mathjax.org/) html processor.  This is really useful in documenting more math heavy machine learning models.\n",
        "\n",
        "I've converted a few [Mathematice Stack Exchange](https://math.stackexchange.com/) posts into Colab compatible cells, as examples to get you started.\n",
        "\n",
        "### NOTE! This Notebook is Not yet github viewable\n",
        "\n",
        "Unfortunately the [Giithub Jupyter Notebook Viewer](https://help.github.com/en/articles/working-with-jupyter-notebook-files-on-github) is not happy with MathJax rendering so you'll need to open this notebook in [nbviewer](https://nbviewer.jupyter.org/github/jfogarty/machine-learning-intro-workshop/blob/master/misc/math-examples.ipynb), [Colab](https://colab.research.google.com/github/jfogarty/machine-learning-intro-workshop/blob/master/misc/math-examples.ipynb) or some other [Jupyter](https://jupyter.org/) notebook server.\n",
        "\n"
      ]
    },
    {
      "cell_type": "markdown",
      "metadata": {
        "id": "xcV0l5EPkrUt",
        "colab_type": "text"
      },
      "source": [
        "## Observation on rot (curl), div and grad on a vector field?\n",
        "\n",
        "- [From](https://math.stackexchange.com/questions/2515744/observation-on-rot-curl-div-and-grad-on-a-vector-field) : https://math.stackexchange.com/questions/2515744/observation-on-rot-curl-div-and-grad-on-a-vector-field\n"
      ]
    },
    {
      "cell_type": "markdown",
      "metadata": {
        "id": "rGl_Ds5PkrUw",
        "colab_type": "text"
      },
      "source": [
        "Let $\\vec{F}(x, y, z)$ a vector-valued function describing a vector field. Then the rotation and divergence of the field are:"
      ]
    },
    {
      "cell_type": "markdown",
      "metadata": {
        "id": "zL4nVpt8krUx",
        "colab_type": "text"
      },
      "source": [
        "$$\\nabla \\times \\vec{F} = curl\\vec{F} = \\color{red}{(\\frac{\\partial{F_3}}{\\partial{y}} - \\frac{\\partial{F_2}}{\\partial{z}}, \\frac{\\partial{F_3}}{\\partial{x}} - \\frac{\\partial{F_1}}{\\partial{z}}, \\frac{\\partial{F_2}}{\\partial{x}} - \\frac{\\partial{F_1}}{\\partial{u}})}$$"
      ]
    },
    {
      "cell_type": "markdown",
      "metadata": {
        "id": "RcNg3uV0krUy",
        "colab_type": "text"
      },
      "source": [
        "$$\\nabla . \\vec{F} = div\\vec{F} = \\color{blue}{\\frac{\\partial{F_1}}{\\partial{x}} + \\frac{\\partial{F_2}}{\\partial{y}} + \\frac{\\partial{F_3}}{\\partial{z}}}$$"
      ]
    },
    {
      "cell_type": "markdown",
      "metadata": {
        "id": "2At3SHnVkrU0",
        "colab_type": "text"
      },
      "source": [
        "if the elements involved in the above relations are placed in a matrix, one gets:"
      ]
    },
    {
      "cell_type": "markdown",
      "metadata": {
        "id": "seAfs0rCkrU1",
        "colab_type": "text"
      },
      "source": [
        "$$A= \\begin{bmatrix}\n",
        "  \\color{blue}{\\frac{\\partial{F_1}}{\\partial{x}}} & \\color{red}{\\frac{\\partial{F_1}}{\\partial{y}}} & \\color{red}{\\frac{\\partial{F_1}}{\\partial{z}}} \\\\\n",
        "  \\color{red}{\\frac{\\partial{F_2}}{\\partial{x}}} & \n",
        "  \\color{blue}{\\frac{\\partial{F_2}}{\\partial{y}}} &\n",
        "  \\color{red}{\\frac{\\partial{F_2}}{\\partial{z}}} \\\\\n",
        "   \\color{red}{\\frac{\\partial{F_3}}{\\partial{x}}} & \n",
        "  \\color{red}{\\frac{\\partial{F_3}}{\\partial{y}}} &\n",
        "  \\color{blue}{\\frac{\\partial{F_3}}{\\partial{z}}}  \n",
        "\\end{bmatrix}$$"
      ]
    },
    {
      "cell_type": "markdown",
      "metadata": {
        "id": "Lcld1jMzkrU3",
        "colab_type": "text"
      },
      "source": [
        "1. Isn't the above matrix the gradient, $grad$, of $\\vec{F}$ ?\n",
        "\n",
        "2. Isn't this how a [Jacobian](https://math.stackexchange.com/questions/1303362/remembering-the-definition-of-the-jacobian-any-tips) looks like?\n",
        "\n",
        "Additionally, this matrix could be represented as the sum of a diagonal and antisymmetric matrices, then, the elements of the $curl$ are elements of an antisymmetric matrix and those of $div$ are the $trace$ of a diagonal matrix.\n",
        "\n",
        "3. If valid, what are all these three matrices called?\n",
        "\n",
        "4. Could it be said that $curl\\vec{F}$ measures how \"unsymmetrical\" is the matrix $A$?"
      ]
    },
    {
      "cell_type": "markdown",
      "metadata": {
        "id": "S6_4onUOkrU5",
        "colab_type": "text"
      },
      "source": [
        "## Orthonormal basis matrix is the same as Jacobian matrix?\n",
        "\n",
        "- [From](https://math.stackexchange.com/questions/2988371/orthonormal-basis-matrix-is-the-same-as-jacobian-matrix) : https://math.stackexchange.com/questions/2988371/orthonormal-basis-matrix-is-the-same-as-jacobian-matrix\n"
      ]
    },
    {
      "cell_type": "markdown",
      "metadata": {
        "id": "qJDBcqpskrU6",
        "colab_type": "text"
      },
      "source": [
        "Given a transformation from $x$ to $y$ defined as $\\boldsymbol{y} = (y_{1}, ..., y_{D})$ where $y_{i}=\\boldsymbol{u}_{i}^T(\\boldsymbol{x} - \\boldsymbol{\\mu})$ and $\\{\\boldsymbol{u}_i\\}$ is an orthonormal basis, we have a Jacobian matrix $J$ with elements defined as:\n",
        "$$J_{ij} = \\frac{\\partial x_i}{\\partial y_j} = U_{ji} \\qquad (1)\n",
        "$$\n",
        "where $U_{ji}$ are the elements of the matrix $\\boldsymbol{U}^T$, which is a matrix of the orthonormal basis vectors $\\boldsymbol{u}_i$ as columns."
      ]
    },
    {
      "cell_type": "markdown",
      "metadata": {
        "id": "k7RF1eIDkrU7",
        "colab_type": "text"
      },
      "source": [
        "I don't understand why (1) is true. How come the elements of the Jacobian are equal to the elements of $\\boldsymbol{U}^T$?"
      ]
    },
    {
      "cell_type": "markdown",
      "metadata": {
        "id": "a5tyKUqvkrU8",
        "colab_type": "text"
      },
      "source": [
        "### Answer"
      ]
    },
    {
      "cell_type": "markdown",
      "metadata": {
        "id": "hwbqveRIkrU9",
        "colab_type": "text"
      },
      "source": [
        "Let's use the notation $\\mathbf{u}_i = (U_{i1}, \\dots, U_{iD})^T$. Then if $U$ has $u_i$ as columns, then $U^T$ has entries $U_{ij}$."
      ]
    },
    {
      "cell_type": "markdown",
      "metadata": {
        "id": "cIzCVO2LkrU-",
        "colab_type": "text"
      },
      "source": [
        "Writing the expressions for $y_i$ in coordinates, we get:\n",
        "$$y_i = \\mathbf{u}_i^T (\\mathbf{x} - \\boldsymbol{\\mu}) = \\sum_j U_{ij}(x_j-\\mu_j) = \\sum_j U_{ij} x_j - \\sum_j U_{ij} \\mu_j$$"
      ]
    },
    {
      "cell_type": "markdown",
      "metadata": {
        "id": "mx4lx_P9krU_",
        "colab_type": "text"
      },
      "source": [
        "I assume $μ$ is a vector of constants, so the second sum above doesn't contribute to any derivatives. The first sum is just a linear combination of $x_j$, so the coefficients in the Jacobian are:\n",
        "$$\\frac{\\partial y_i}{\\partial x_j} = U_{ij}$$"
      ]
    }
  ]
}