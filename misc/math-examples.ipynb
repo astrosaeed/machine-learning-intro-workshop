{
  "nbformat": 4,
  "nbformat_minor": 0,
  "metadata": {
    "colab": {
      "name": "Observation-on-Curl-Div-Grad-on-a-vector-field.ipynb",
      "version": "0.3.2",
      "provenance": [],
      "include_colab_link": true
    },
    "kernelspec": {
      "display_name": "Python [conda env:tf37]",
      "language": "python",
      "name": "conda-env-tf37-py"
    },
    "language_info": {
      "codemirror_mode": {
        "name": "ipython",
        "version": 3
      },
      "file_extension": ".py",
      "mimetype": "text/x-python",
      "name": "python",
      "nbconvert_exporter": "python",
      "pygments_lexer": "ipython3",
      "version": "3.7.3"
    }
  },
  "cells": [
    {
      "cell_type": "markdown",
      "metadata": {
        "id": "view-in-github",
        "colab_type": "text"
      },
      "source": [
        "<a href=\"https://colab.research.google.com/github/jfogarty/machine-learning-intro-workshop/blob/master/misc/math-examples.ipynb\" target=\"_parent\"><img src=\"https://colab.research.google.com/assets/colab-badge.svg\" alt=\"Open In Colab\"/></a>"
      ]
    },
    {
      "cell_type": "markdown",
      "metadata": {
        "colab_type": "text",
        "id": "uxKUzUpddjS5"
      },
      "source": [
        "# Some Examples using $\\LaTeX$ Math Notations in Jupyter Notebooks\n",
        "\n",
        "The markdown in Jupter Notebooks supports inline [mathematical notation $\\LaTeX$ macros](http://docs.mathjax.org/en/latest/tex.html) via the [MathJax](https://www.mathjax.org/) html processor.  This is really useful in documenting more math heavy machine learning models.\n",
        "\n",
        "\n",
        "You can to open this notebook in [nbviewer](https://nbviewer.jupyter.org/github/jfogarty/machine-learning-intro-workshop/blob/master/misc/math-examples.ipynb), [Colab](https://colab.research.google.com/github/jfogarty/machine-learning-intro-workshop/blob/master/misc/math-examples.ipynb) or some other [Jupyter](https://jupyter.org/) notebook server.\n",
        "\n",
        "In the examples below open the markdown cells to see the actual $\\LaTeX$ notation or right click and **select show math as $\\TeX$ commands**.\n",
        "\n",
        "####  <center>[A quick List of LaTeX mathemathical symbols](https://oeis.org/wiki/List_of_LaTeX_mathematical_symbols)</center>\n",
        "\n",
        "####  <center>[LateX Derivatives, Limits, Sums, Products and Integrals](https://math-linux.com/latex-26/faq/latex-faq/article/how-to-write-latex-derivatives-limits-sums-products-and-integrals)</center>"
      ]
    },
    {
      "cell_type": "markdown",
      "metadata": {
        "id": "ph0foz9_vTDn",
        "colab_type": "text"
      },
      "source": [
        "## The Basics\n"
      ]
    },
    {
      "cell_type": "markdown",
      "metadata": {
        "id": "ol3LSTaEvTDq",
        "colab_type": "text"
      },
      "source": [
        "Any inline expression such as the variable $x$ is bracketed with dollar signs.  Use two dollar signs to center the expression on a line by itself\n",
        "## <center>\\\\\\$x\\\\\\$</center>"
      ]
    },
    {
      "cell_type": "markdown",
      "metadata": {
        "id": "m-t8qjyXvTDs",
        "colab_type": "text"
      },
      "source": [
        "A function $f(x)$ is equally simple: just \n",
        "## <center>\\\\\\$f(x)\\\\\\$</center>"
      ]
    },
    {
      "cell_type": "markdown",
      "metadata": {
        "id": "nerqKN5evTDu",
        "colab_type": "text"
      },
      "source": [
        "Subscripts and superscripts use underscore and caret (you will bracket this with $\\\\\\$$) so $\\mathbf{A_i}$ and $\\mathbf{A^2}$ are\n",
        "## <center>A_i &nbsp;&nbsp; and &nbsp;&nbsp; A^2</center>\n",
        "\n",
        "And you can combine them: $\\mathbf{P_k^2}$ would be\n",
        "## <center>P_k^2</center>"
      ]
    },
    {
      "cell_type": "markdown",
      "metadata": {
        "id": "5f0YVhQyvTDv",
        "colab_type": "text"
      },
      "source": [
        "Put { and } around anything composite, so if you need two subscripts like $B_{ij}$, you need\n",
        "## <center>B_{ij}</center>\n"
      ]
    },
    {
      "cell_type": "markdown",
      "metadata": {
        "id": "hOhssgHYvTDw",
        "colab_type": "text"
      },
      "source": [
        "More complex things like summations, roots, fractions, and derivatives need to use **\\\\** [entities](https://oeis.org/wiki/List_of_LaTeX_mathematical_symbols).  For example:\n",
        "\n",
        "- Summation:\n",
        "$$\\sum_{k=0}^{\\infty}$$\n",
        "\n",
        "## <center>\\\\sum_{k=0}^{\\infty} <center>\n",
        "\n",
        "- Product:\n",
        "$$\\prod_{k=1}^n{k} = n!$$\n",
        "\n",
        "  ## <center>\\\\prod_{k=1}^n{k} = n! <center>\n",
        "\n",
        "- Roots:\n",
        "$$\\sqrt{A+B} \\quad and \\quad \\sqrt[12]{2}$$\n",
        "\n",
        "## <center>\\\\sqrt{A+B} and \\sqrt[12]{2}<center>\n",
        "\n",
        "- Fractions: $$\\frac{a^2}{b^2}$$\n",
        "\n",
        "## <center>\\\\frac{a^2}{b^2}</center>\n",
        "\n",
        "- Partial Derivatives (note use of extra space and bold): $$\\frac{\\partial\\,\\mathbf{f(x)}}{\\partial\\mathbf{y}}$$\n",
        "\n",
        "## <center>\\\\frac{\\\\partial\\\\,\\\\mathbf{f(x)}}{\\\\partial\\\\mathbf{y}}</center>"
      ]
    },
    {
      "cell_type": "markdown",
      "metadata": {
        "id": "W9F45cuuvTDx",
        "colab_type": "text"
      },
      "source": [
        "## Horizontal spacing\n",
        "\n",
        "In math expressions, LaTeX ignores the spaces you type and puts in the spacing that it thinks is best. LaTeX formats mathematics the way it's done in mathematics texts. If [you want different spacing](https://texblog.org/2014/04/09/whitespace-in-math-mode/), LaTeX provides the following four commands for use in math mode:\n",
        "\n",
        "- \\\\; &nbsp;&nbsp; **semicolon**, a thick space\n",
        "- \\\\: &nbsp;&nbsp; **colon**, a medium space\n",
        "- \\\\, &nbsp;&nbsp; **comma**, a thin space\n",
        "- \\\\! &nbsp;&nbsp; **bang**, a negative thin space\n",
        "- \\\\quad &nbsp;&nbsp; very wide (an 'em')\n",
        "- \\\\qquad &nbsp;&nbsp; super wide (two quads)"
      ]
    },
    {
      "cell_type": "markdown",
      "metadata": {
        "id": "7gi07YNNvTDy",
        "colab_type": "text"
      },
      "source": [
        "## Matrices and Brackets\n",
        "\n",
        "Open the markdown cells to see the actual LaTeX notation or right click and **select show math as $\\TeX$ commands**."
      ]
    },
    {
      "cell_type": "markdown",
      "metadata": {
        "id": "P9cq63qtvTDz",
        "colab_type": "text"
      },
      "source": [
        "#### Create a matrix without brackets:\n",
        "\n",
        "$$\\begin{matrix} a & b \\\\ c & d \\end{matrix}$$"
      ]
    },
    {
      "cell_type": "markdown",
      "metadata": {
        "id": "diE84jY7vTD1",
        "colab_type": "text"
      },
      "source": [
        "#### create a matrix with round brackets:\n",
        "\n",
        "$$\\begin{pmatrix} a & b \\\\ c & d \\end{pmatrix}$$"
      ]
    },
    {
      "cell_type": "markdown",
      "metadata": {
        "id": "STocoqnGvTD2",
        "colab_type": "text"
      },
      "source": [
        "#### create a matrix with square brackets:\n",
        "\n",
        "$$\\begin{bmatrix} 1 & 2 & -1 \\\\ 3 & 0 & 1 \\\\ 0 & 2 & 4 \\end{bmatrix}$$\n"
      ]
    },
    {
      "cell_type": "markdown",
      "metadata": {
        "id": "kcID13NsvTD3",
        "colab_type": "text"
      },
      "source": [
        "#### Use \\left and \\right to enclose an arbitrary expression in brackets:\n",
        "\n",
        "$$\\left( \\frac{p}{q} \\right)$$"
      ]
    },
    {
      "cell_type": "markdown",
      "metadata": {
        "colab_type": "text",
        "id": "M3HFs-7R2Sse"
      },
      "source": [
        "## Examples\n",
        "\n",
        "Here are some examples from [Mathematical Python](https://www.math.ubc.ca/~pwalls/math-python/jupyter/latex/).  Open the cell in Jupyter to get the underlying LaTeX expressions."
      ]
    },
    {
      "cell_type": "markdown",
      "metadata": {
        "id": "2637bxR6vTD6",
        "colab_type": "text"
      },
      "source": [
        "#### Derivative\n",
        "\n",
        "The derivative $f'(a)$ of the function $f(x)$ at the point $x=a$ is the limit:\n",
        "\n",
        "$$f'(a) = \\lim_{x \\to a} \\frac{f(x) - f(a)}{x - a}$$"
      ]
    },
    {
      "cell_type": "markdown",
      "metadata": {
        "id": "MHQifqyJvTD7",
        "colab_type": "text"
      },
      "source": [
        "#### Continuity\n",
        "\n",
        "A function $f(x)$ is continuous at the point $x=a$ if\n",
        "\n",
        "$$\\lim_{x \\to a^-} f(x) = f(a) = \\lim_{x \\to a^+} f(x)$$"
      ]
    },
    {
      "cell_type": "markdown",
      "metadata": {
        "id": "pxVt9ci1vTD9",
        "colab_type": "text"
      },
      "source": [
        "#### the MacLaurin Series\n",
        "\n",
        "The MacLaurin series for $e^x$ is\n",
        "\n",
        "$$e^x = \\sum_{k=0}^{\\infty} \\frac{x^k}{k!}$$"
      ]
    },
    {
      "cell_type": "markdown",
      "metadata": {
        "id": "ThRGyzYwvTD-",
        "colab_type": "text"
      },
      "source": [
        "#### the Jacobian Matrix of the function \n",
        "\n",
        "$$\n",
        "\\mathbf{J}\n",
        "=\n",
        "\\frac{d \\mathbf{f}}{d \\mathbf{x}}\n",
        "=\n",
        "\\left[ \\frac{\\partial \\mathbf{f}}{\\partial x_1}\n",
        "\\cdots \\frac{\\partial \\mathbf{f}}{\\partial x_n} \\right]\n",
        "=\n",
        "\\begin{bmatrix}\n",
        "\\frac{\\partial f_1}{\\partial x_1} & \\cdots &\n",
        "\\frac{\\partial f_1}{\\partial x_n} \\\\\n",
        "\\vdots & \\ddots & \\vdots \\\\\n",
        "\\frac{\\partial f_m}{\\partial x_1} & \\cdots &\n",
        "\\frac{\\partial f_m}{\\partial x_n}\n",
        "\\end{bmatrix}\n",
        "$$"
      ]
    },
    {
      "cell_type": "markdown",
      "metadata": {
        "id": "XJPTTIh2vTD_",
        "colab_type": "text"
      },
      "source": [
        "#### the angle sum identity\n",
        "\n",
        "$$\\cos(\\alpha \\pm \\beta) = \\cos \\alpha \\cos \\beta \\mp \\sin \\alpha \\sin \\beta$$"
      ]
    },
    {
      "cell_type": "markdown",
      "metadata": {
        "id": "gy44sAV0vTEB",
        "colab_type": "text"
      },
      "source": [
        "#### the indefinite integral\n",
        "\n",
        "$$\\int \\frac{1}{1 + x^2} \\, dx = \\arctan x + C$$"
      ]
    },
    {
      "cell_type": "markdown",
      "metadata": {
        "id": "nBNPwIhSvTED",
        "colab_type": "text"
      },
      "source": [
        "#### Navier-Stokes Equation for Incompressible Flow\n",
        "\n",
        "$$\\frac{\\partial \\mathbf{u}}{\\partial t} + (\\mathbf{u} \\cdot \\nabla) \\mathbf{u} - \\nu \\nabla^2 \\mathbf{u} = - \\nabla w + \\mathbf{g}$$"
      ]
    },
    {
      "cell_type": "markdown",
      "metadata": {
        "id": "7GNDS05EvTEF",
        "colab_type": "text"
      },
      "source": [
        "#### Green's Theorem\n",
        "\n",
        "$$\\oint_C (L dx + M dy) = \\iint_D \\left( \\frac{\\partial M}{\\partial x} - \\frac{\\partial L}{\\partial y} \\right) dx \\, dy$$"
      ]
    },
    {
      "cell_type": "markdown",
      "metadata": {
        "id": "ZeinavYqvTEH",
        "colab_type": "text"
      },
      "source": [
        "#### Prime Number Theorem\n",
        "\n",
        "$$\\lim_{x \\to \\infty} \\frac{\\pi(x)}{ \\frac{x}{\\log(x)}} = 1$$\n"
      ]
    },
    {
      "cell_type": "markdown",
      "metadata": {
        "id": "ZqWK8TPdvTEI",
        "colab_type": "text"
      },
      "source": [
        "#### general formula for Taylor series\n",
        "\n",
        "$$\\sum_{n=0}^{\\infty} \\frac{f^{(n)}(a)}{n!} (x-a)^n$$\n"
      ]
    },
    {
      "cell_type": "markdown",
      "metadata": {
        "id": "G2Ft0iTxvTEJ",
        "colab_type": "text"
      },
      "source": [
        "#### Stokes' Theorem\n",
        "\n",
        "$$\\int_{\\partial \\Omega} \\omega = \\int_{\\Omega} d \\omega$$"
      ]
    },
    {
      "cell_type": "markdown",
      "metadata": {
        "id": "YpMThwcTvTEL",
        "colab_type": "text"
      },
      "source": [
        "#### adjoint property of the tensor product\n",
        "\n",
        "$$\\mathrm{Hom}(U \\otimes V,W) \\cong \\mathrm{Hom}(U, \\mathrm{Hom}(V,W))$$\n"
      ]
    },
    {
      "cell_type": "markdown",
      "metadata": {
        "id": "tTIrTowNvTEL",
        "colab_type": "text"
      },
      "source": [
        "#### the definition of the Laplace transform\n",
        "\n",
        "$$\\mathscr{L}\\{ f(t) \\} = F(s) = \\int_0^{\\infty} f(t) e^{-st} dt$$\n"
      ]
    },
    {
      "cell_type": "markdown",
      "metadata": {
        "id": "6jtk1kUPvTEN",
        "colab_type": "text"
      },
      "source": [
        "####  the inverse matrix formula\n",
        "\n",
        "$$\\begin{bmatrix} a & b \\\\ c & d \\end{bmatrix}^{-1} = \\frac{1}{ad - bc} \\begin{bmatrix} d & -b \\\\ -c & a \\end{bmatrix}$$\n"
      ]
    },
    {
      "cell_type": "markdown",
      "metadata": {
        "id": "piS1IkBbvTEP",
        "colab_type": "text"
      },
      "source": [
        "#### the infinite product formula\n",
        "\n",
        "$$\\sin x = x \\prod_{n=1}^{\\infty} \\left( 1 - \\frac{x^2}{\\pi^2 n^2} \\right)$$\n"
      ]
    },
    {
      "cell_type": "markdown",
      "metadata": {
        "id": "U5sWivYsvTES",
        "colab_type": "text"
      },
      "source": [
        "## More Examples\n"
      ]
    },
    {
      "cell_type": "markdown",
      "metadata": {
        "colab_type": "text",
        "id": "finStV8k2GmU"
      },
      "source": [
        "$${\\begin{align}\n",
        "  (x+1)^2\n",
        "    &\\cssId{Step1}{= (x+1)(x+1)}\\\\\n",
        "    &\\cssId{Step2}{= x(x+1) + 1(x+1)}\\\\\n",
        "    &\\cssId{Step3}{= (x^2+x) + (x+1)}\\\\\n",
        "    &\\cssId{Step4}{= x^2 + (x + x) + 1}\\\\\n",
        "    &\\cssId{Step5}{= x^2+2x+1}\\\\\n",
        "\\end{align}} \n",
        "\\qquad{Example\\:A}\n",
        "$$ "
      ]
    },
    {
      "cell_type": "markdown",
      "metadata": {
        "colab_type": "text",
        "id": "N0asjzmS203u"
      },
      "source": [
        "$${ x+1\\over\\sqrt{1-x^2} }\\qquad (Example\\:B)$$\n"
      ]
    },
    {
      "cell_type": "markdown",
      "metadata": {
        "colab_type": "text",
        "id": "UjFbLyC24suH"
      },
      "source": [
        "$$\n",
        "x = {-b \\pm \\sqrt{b^2-4ac} \\over 2a}\n",
        "\\qquad Example\\,C\n",
        "$$"
      ]
    },
    {
      "cell_type": "markdown",
      "metadata": {
        "id": "PioYthqNvTEc",
        "colab_type": "text"
      },
      "source": [
        "## Examples from Math StackExchange\n",
        "\n",
        "I've converted a few [Mathematice Stack Exchange](https://math.stackexchange.com/) posts into Colab compatible cells, as examples to get you started.\n",
        "\n",
        "Note especially the use of inline **\\$** to properly show math variables and functions."
      ]
    },
    {
      "cell_type": "markdown",
      "metadata": {
        "colab_type": "text",
        "id": "xcV0l5EPkrUt"
      },
      "source": [
        "### Observation on rot (curl), div and grad on a vector field?\n",
        "\n",
        "- [From](https://math.stackexchange.com/questions/2515744/observation-on-rot-curl-div-and-grad-on-a-vector-field) : https://math.stackexchange.com/questions/2515744/observation-on-rot-curl-div-and-grad-on-a-vector-field\n"
      ]
    },
    {
      "cell_type": "markdown",
      "metadata": {
        "colab_type": "text",
        "id": "rGl_Ds5PkrUw"
      },
      "source": [
        "Let $\\vec{F}(x, y, z)$ a vector-valued function describing a vector field. Then the rotation and divergence of the field are:"
      ]
    },
    {
      "cell_type": "markdown",
      "metadata": {
        "colab_type": "text",
        "id": "zL4nVpt8krUx"
      },
      "source": [
        "$$\\nabla \\times \\vec{F} = curl\\vec{F} = \\color{red}{(\\frac{\\partial{F_3}}{\\partial{y}} - \\frac{\\partial{F_2}}{\\partial{z}}, \\frac{\\partial{F_3}}{\\partial{x}} - \\frac{\\partial{F_1}}{\\partial{z}}, \\frac{\\partial{F_2}}{\\partial{x}} - \\frac{\\partial{F_1}}{\\partial{u}})}$$"
      ]
    },
    {
      "cell_type": "markdown",
      "metadata": {
        "colab_type": "text",
        "id": "RcNg3uV0krUy"
      },
      "source": [
        "$$\\nabla . \\vec{F} = div\\vec{F} = \\color{blue}{\\frac{\\partial{F_1}}{\\partial{x}} + \\frac{\\partial{F_2}}{\\partial{y}} + \\frac{\\partial{F_3}}{\\partial{z}}}$$"
      ]
    },
    {
      "cell_type": "markdown",
      "metadata": {
        "colab_type": "text",
        "id": "2At3SHnVkrU0"
      },
      "source": [
        "if the elements involved in the above relations are placed in a matrix, one gets:"
      ]
    },
    {
      "cell_type": "markdown",
      "metadata": {
        "colab_type": "text",
        "id": "seAfs0rCkrU1"
      },
      "source": [
        "$$A= \\begin{bmatrix}\n",
        "  \\color{blue}{\\frac{\\partial{F_1}}{\\partial{x}}} & \\color{red}{\\frac{\\partial{F_1}}{\\partial{y}}} & \\color{red}{\\frac{\\partial{F_1}}{\\partial{z}}} \\\\\n",
        "  \\color{red}{\\frac{\\partial{F_2}}{\\partial{x}}} & \n",
        "  \\color{blue}{\\frac{\\partial{F_2}}{\\partial{y}}} &\n",
        "  \\color{red}{\\frac{\\partial{F_2}}{\\partial{z}}} \\\\\n",
        "   \\color{red}{\\frac{\\partial{F_3}}{\\partial{x}}} & \n",
        "  \\color{red}{\\frac{\\partial{F_3}}{\\partial{y}}} &\n",
        "  \\color{blue}{\\frac{\\partial{F_3}}{\\partial{z}}}  \n",
        "\\end{bmatrix}$$"
      ]
    },
    {
      "cell_type": "markdown",
      "metadata": {
        "colab_type": "text",
        "id": "Lcld1jMzkrU3"
      },
      "source": [
        "1. Isn't the above matrix the gradient, $grad$, of $\\vec{F}$ ?\n",
        "\n",
        "2. Isn't this how a [Jacobian](https://math.stackexchange.com/questions/1303362/remembering-the-definition-of-the-jacobian-any-tips) looks like?\n",
        "\n",
        "Additionally, this matrix could be represented as the sum of a diagonal and antisymmetric matrices, then, the elements of the $curl$ are elements of an antisymmetric matrix and those of $div$ are the $trace$ of a diagonal matrix.\n",
        "\n",
        "3. If valid, what are all these three matrices called?\n",
        "\n",
        "4. Could it be said that $curl\\vec{F}$ measures how \"unsymmetrical\" is the matrix $A$?"
      ]
    },
    {
      "cell_type": "markdown",
      "metadata": {
        "colab_type": "text",
        "id": "S6_4onUOkrU5"
      },
      "source": [
        "### Orthonormal basis matrix is the same as Jacobian matrix?\n",
        "\n",
        "- [From](https://math.stackexchange.com/questions/2988371/orthonormal-basis-matrix-is-the-same-as-jacobian-matrix) : https://math.stackexchange.com/questions/2988371/orthonormal-basis-matrix-is-the-same-as-jacobian-matrix\n"
      ]
    },
    {
      "cell_type": "markdown",
      "metadata": {
        "colab_type": "text",
        "id": "qJDBcqpskrU6"
      },
      "source": [
        "Given a transformation from $x$ to $y$ defined as $\\boldsymbol{y} = (y_{1}, ..., y_{D})$ where $y_{i}=\\boldsymbol{u}_{i}^T(\\boldsymbol{x} - \\boldsymbol{\\mu})$ and $\\{\\boldsymbol{u}_i\\}$ is an orthonormal basis, we have a Jacobian matrix $J$ with elements defined as:\n",
        "$$J_{ij} = \\frac{\\partial x_i}{\\partial y_j} = U_{ji} \\qquad (1)\n",
        "$$\n",
        "where $U_{ji}$ are the elements of the matrix $\\boldsymbol{U}^T$, which is a matrix of the orthonormal basis vectors $\\boldsymbol{u}_i$ as columns."
      ]
    },
    {
      "cell_type": "markdown",
      "metadata": {
        "colab_type": "text",
        "id": "k7RF1eIDkrU7"
      },
      "source": [
        "I don't understand why (1) is true. How come the elements of the Jacobian are equal to the elements of $\\boldsymbol{U}^T$?"
      ]
    },
    {
      "cell_type": "markdown",
      "metadata": {
        "colab_type": "text",
        "id": "a5tyKUqvkrU8"
      },
      "source": [
        "#### Answer"
      ]
    },
    {
      "cell_type": "markdown",
      "metadata": {
        "colab_type": "text",
        "id": "hwbqveRIkrU9"
      },
      "source": [
        "Let's use the notation $\\mathbf{u}_i = (U_{i1}, \\dots, U_{iD})^T$. Then if $U$ has $u_i$ as columns, then $U^T$ has entries $U_{ij}$."
      ]
    },
    {
      "cell_type": "markdown",
      "metadata": {
        "colab_type": "text",
        "id": "cIzCVO2LkrU-"
      },
      "source": [
        "Writing the expressions for $y_i$ in coordinates, we get:\n",
        "$$y_i = \\mathbf{u}_i^T (\\mathbf{x} - \\boldsymbol{\\mu}) = \\sum_j U_{ij}(x_j-\\mu_j) = \\sum_j U_{ij} x_j - \\sum_j U_{ij} \\mu_j$$"
      ]
    },
    {
      "cell_type": "markdown",
      "metadata": {
        "colab_type": "text",
        "id": "mx4lx_P9krU_"
      },
      "source": [
        "I assume $μ$ is a vector of constants, so the second sum above doesn't contribute to any derivatives. The first sum is just a linear combination of $x_j$, so the coefficients in the Jacobian are:\n",
        "$$\\frac{\\partial y_i}{\\partial x_j} = U_{ij}$$"
      ]
    },
    {
      "cell_type": "markdown",
      "metadata": {
        "id": "mXIPoxGSv55y",
        "colab_type": "text"
      },
      "source": [
        "# Pronunciation\n",
        "\n",
        "(From https://en.wikipedia.org/wiki/LaTeX#Pronouncing_and_writing_\"LaTeX\" )\n",
        "\n",
        "The final consonant of TeX (on which $\\LaTeX$ is based) is intended by its developer to be pronounced similar to 'loch' or 'Bach'. However, English speakers often pronounce it /ˈtɛk/, like the first syllable of technical.\n",
        "\n",
        "The characters T, E, X in the name come from the Greek capital letters tau, epsilon, and chi, as the name of TeX derives from the Greek: τέχνη (skill, art, technique); for this reason, TeX's creator Donald Knuth promotes a pronunciation of /tɛx/ (tekh) (that is, with a voiceless velar fricative as in Modern Greek, similar to the ch in loch). On the other hand, Lamport remarks that \"TeX is usually pronounced tech, making lah-teck, lah-teck, and lay-teck the logical choices; but language is not always logical, so lay-tecks is also possible.\"\n",
        "\n",
        "\n",
        "\n"
      ]
    },
    {
      "cell_type": "markdown",
      "metadata": {
        "colab_type": "text",
        "id": "sKSn43_C5SgV"
      },
      "source": [
        "### End of notebook."
      ]
    }
  ]
}