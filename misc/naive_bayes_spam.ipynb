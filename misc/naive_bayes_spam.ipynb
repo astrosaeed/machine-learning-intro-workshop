{
 "cells": [
  {
   "cell_type": "markdown",
   "metadata": {
    "colab_type": "text",
    "id": "Aj-Cu9EXI1Uz"
   },
   "source": [
    "# Spam filtering using Naive Bayes\n",
    "\n",
    "- From [this Spam-filtering example](https://github.com/hugorcf/data-science-nano-projects/tree/master/Spam-filtering)ter Notebooks.\n",
    "    - Author: [Hugo Ferreira - hugocf](https://github.com/hugorcf)\n",
    "    - GitHub Repository: https://github.com/hugorcf/data-science-nano-projects\n",
    "\n",
    "Updated by [John Fogarty](https://github.com/jfogarty) for Python 3.6 and [Base2 MLI](https://github.com/base2solutions/mli) and [colab](https://colab.research.google.com) standalone evaluation."
   ]
  },
  {
   "cell_type": "markdown",
   "metadata": {
    "colab_type": "text",
    "id": "pdToCPrmI1U3"
   },
   "source": [
    "This small notebook was made following the [Bootstrap-ML](http://sergioagostinho.com/bootstrap-ml) workshop which took place on the 22nd of March 2018 at the Mathematics Department of [Instituto Superior Técnico](https://tecnico.ulisboa.pt/en/).\n",
    "\n",
    "This workshop, given by [Sérgio Agostinho](https://www.linkedin.com/in/sergioagostinho), was a two-hour introductory session in Machine Learning (ML). At the end of the session, the participants were encouraged to implement one of the ML algorithms we explored, the Naive Bayes algorithm, for a simple application of spam filtering.\n",
    "\n",
    "The materials of the workshop, including the notebook from which this one was inspired, can be found at [Sérgio's GitHub repository](https://github.com/SergioRAgostinho/bootstrap-ml).\n",
    "\n",
    "For this notebook, the required packages are `numpy`, `matplotlib`, `seaborn` and `sklearn`."
   ]
  },
  {
   "cell_type": "markdown",
   "metadata": {
    "colab_type": "text",
    "id": "evHctQP1I1U5"
   },
   "source": [
    "## Read the data"
   ]
  },
  {
   "cell_type": "markdown",
   "metadata": {
    "colab_type": "text",
    "id": "AIt_A83uI1U6"
   },
   "source": [
    "The dataset we are going to use, which can be found in this [page](http://csmining.org/index.php/ling-spam-datasets.html), was used in the paper:\n",
    "\n",
    "> I. Androutsopoulos, J. Koutsias, K.V. Chandrinos, George Paliouras, and C.D. Spyropoulos, \"An Evaluation of Naive Bayesian Anti-Spam Filtering\". In Potamias, G., Moustakis, V. and van Someren, M. (Eds.), Proceedings of the Workshop on Machine Learning in the New Information Age, 11th European Conference on Machine Learning (ECML 2000), Barcelona, Spain, pp. 9-17, 2000.\n",
    "\n",
    "The arXiv version may be found [here](https://arxiv.org/abs/cs/0006013).\n",
    "\n",
    "The data we are going to use here was already preprocessed, so that the focus of this notebook is in the algorithm implementation. In particular, stop words such as 'and' and 'but' were removed and words like 'walk', 'walks' and 'walking' were merged into 'walk'.\n",
    "\n",
    "First, we read the data, which is in a single file in uncompressed .npz format."
   ]
  },
  {
   "cell_type": "code",
   "execution_count": 1,
   "metadata": {
    "colab": {},
    "colab_type": "code",
    "id": "y-62YueeojyP"
   },
   "outputs": [],
   "source": [
    "import numpy as np\n",
    "import requests\n",
    "import shutil\n",
    "import os\n",
    "\n",
    "ds = np.DataSource()\n",
    "def copyHere(URL, toPath):\n",
    "    toDir, toFile = os.path.split(toPath)\n",
    "    toPath = os.path.join(toDir, toFile)\n",
    "    if ds.exists(URL):\n",
    "        if not toFile:\n",
    "            urlPrefix, toFile = os.path.split(URL)\n",
    "        response = requests.get(URL, stream=True)\n",
    "        if toDir:\n",
    "            if not os.path.exists(toDir): \n",
    "              print(f\"- Creating directory '{toDir}'.\")\n",
    "              os.mkdir(toDir)\n",
    "        with open(toPath, 'wb') as fin: shutil.copyfileobj(response.raw, fin)\n",
    "        print(f\"- Copied {URL} to {toPath}.\")\n",
    "    else:\n",
    "        print(f\"** Sorry, can't copy '{URL}' to '{toPath}'.\")\n",
    "        exit()        "
   ]
  },
  {
   "cell_type": "code",
   "execution_count": 26,
   "metadata": {
    "colab": {
     "base_uri": "https://localhost:8080/",
     "height": 68
    },
    "colab_type": "code",
    "id": "R43g5RDEojyo",
    "outputId": "d52ec78e-f7b5-4ad8-e8cc-24f159a79422"
   },
   "outputs": [
    {
     "name": "stdout",
     "output_type": "stream",
     "text": [
      "- Copied https://raw.githubusercontent.com/hugorcf/data-science-nano-projects/master/Spam-filtering/data/lingspam/lingspam.npz to tmpDir\\lingspam.npz.\n"
     ]
    }
   ],
   "source": [
    "filename = 'lingspam.npz'\n",
    "REPO     = 'https://raw.githubusercontent.com/hugorcf/data-science-nano-projects/'\n",
    "BRANCH   = 'master/'\n",
    "DIR      = 'Spam-filtering/data/lingspam/'\n",
    "URL      = os.path.join(REPO, BRANCH, DIR, filename)\n",
    "TMPDIR   = 'tmpDir'\n",
    "toPath   = os.path.join(TMPDIR, filename)\n",
    "copyHere(URL, toPath)"
   ]
  },
  {
   "cell_type": "code",
   "execution_count": 3,
   "metadata": {
    "colab": {
     "base_uri": "https://localhost:8080/",
     "height": 34
    },
    "colab_type": "code",
    "id": "G9hnwYvLI1U7",
    "outputId": "791ca7da-1122-4dd2-fc40-e333bd8ab0f4"
   },
   "outputs": [
    {
     "data": {
      "text/plain": [
       "<numpy.lib.npyio.NpzFile at 0x1d138105080>"
      ]
     },
     "execution_count": 3,
     "metadata": {},
     "output_type": "execute_result"
    }
   ],
   "source": [
    "data = np.load(toPath, allow_pickle=True)\n",
    "data"
   ]
  },
  {
   "cell_type": "code",
   "execution_count": 4,
   "metadata": {
    "colab": {
     "base_uri": "https://localhost:8080/",
     "height": 34
    },
    "colab_type": "code",
    "id": "O3rYZYNkI1VC",
    "outputId": "a241fec3-b975-4c13-d02c-16c8f797f520"
   },
   "outputs": [
    {
     "data": {
      "text/plain": [
       "['words', 'file_names', 'targets', 'target_names']"
      ]
     },
     "execution_count": 4,
     "metadata": {},
     "output_type": "execute_result"
    }
   ],
   "source": [
    "data.files"
   ]
  },
  {
   "cell_type": "markdown",
   "metadata": {
    "colab_type": "text",
    "id": "rINDAIAII1VH"
   },
   "source": [
    "The 'words' file contains all the relevants words on each email, as a list of list of words. Note that all words with less than 3 letters were previously filtered out and all numbers were replaced by a '#' sign."
   ]
  },
  {
   "cell_type": "code",
   "execution_count": 5,
   "metadata": {
    "colab": {
     "base_uri": "https://localhost:8080/",
     "height": 272
    },
    "colab_type": "code",
    "id": "SkeJw_BpI1VI",
    "outputId": "7d54eda7-4354-49df-88fd-a8ef92c5af3f"
   },
   "outputs": [
    {
     "data": {
      "text/plain": [
       "['sposs',\n",
       " 'sound',\n",
       " 'pattern',\n",
       " 'spontaneous',\n",
       " 'speech',\n",
       " 'production',\n",
       " 'perception',\n",
       " 'aix',\n",
       " 'provence',\n",
       " 'france',\n",
       " 'september',\n",
       " '#',\n",
       " 'european',\n",
       " 'speech',\n",
       " 'communication']"
      ]
     },
     "execution_count": 5,
     "metadata": {},
     "output_type": "execute_result"
    }
   ],
   "source": [
    "data['words'][0][:15]"
   ]
  },
  {
   "cell_type": "markdown",
   "metadata": {
    "colab_type": "text",
    "id": "pm47vox3I1VM"
   },
   "source": [
    "The 'file_names' file contains a list of strings with the names of the files."
   ]
  },
  {
   "cell_type": "code",
   "execution_count": 6,
   "metadata": {
    "colab": {
     "base_uri": "https://localhost:8080/",
     "height": 34
    },
    "colab_type": "code",
    "id": "6JH-GQZPI1VN",
    "outputId": "f39d76e0-71b9-4fd9-c9f3-a2867d48cea7"
   },
   "outputs": [
    {
     "data": {
      "text/plain": [
       "'9-157msg1.txt'"
      ]
     },
     "execution_count": 6,
     "metadata": {},
     "output_type": "execute_result"
    }
   ],
   "source": [
    "data['file_names'][0]"
   ]
  },
  {
   "cell_type": "markdown",
   "metadata": {
    "colab_type": "text",
    "id": "IVG9wjc5I1VQ"
   },
   "source": [
    "The 'targets' file contains a list of Booleans which indicates if an email is spam or not."
   ]
  },
  {
   "cell_type": "code",
   "execution_count": 7,
   "metadata": {
    "colab": {
     "base_uri": "https://localhost:8080/",
     "height": 34
    },
    "colab_type": "code",
    "id": "GOACO64mI1VR",
    "outputId": "aca85fb6-8949-4bdc-c5c8-ec83cc9c4243"
   },
   "outputs": [
    {
     "data": {
      "text/plain": [
       "array([False, False, False, ...,  True,  True,  True])"
      ]
     },
     "execution_count": 7,
     "metadata": {},
     "output_type": "execute_result"
    }
   ],
   "source": [
    "data['targets']"
   ]
  },
  {
   "cell_type": "markdown",
   "metadata": {
    "colab_type": "text",
    "id": "TMEl8XlgI1VV"
   },
   "source": [
    "The 'target_names' contains the names of the two classes, 'spam' or 'ham' (not spam)."
   ]
  },
  {
   "cell_type": "code",
   "execution_count": 8,
   "metadata": {
    "colab": {
     "base_uri": "https://localhost:8080/",
     "height": 34
    },
    "colab_type": "code",
    "id": "4BxQWsrYI1VW",
    "outputId": "ecbc0329-8d81-4311-b9d0-d096c686975a"
   },
   "outputs": [
    {
     "data": {
      "text/plain": [
       "array(['ham', 'spam'], dtype='<U4')"
      ]
     },
     "execution_count": 8,
     "metadata": {},
     "output_type": "execute_result"
    }
   ],
   "source": [
    "data['target_names']"
   ]
  },
  {
   "cell_type": "markdown",
   "metadata": {
    "colab_type": "text",
    "id": "bCv6ibYwI1VZ"
   },
   "source": [
    "## Create the features"
   ]
  },
  {
   "cell_type": "markdown",
   "metadata": {
    "colab_type": "text",
    "id": "qycyFJz7I1Vb"
   },
   "source": [
    "Let's see how many emails we have in our dataset."
   ]
  },
  {
   "cell_type": "code",
   "execution_count": 9,
   "metadata": {
    "colab": {
     "base_uri": "https://localhost:8080/",
     "height": 34
    },
    "colab_type": "code",
    "id": "yieYiqZdI1Vc",
    "outputId": "4dea26e4-97ae-4d0a-a953-556491e19c79"
   },
   "outputs": [
    {
     "name": "stdout",
     "output_type": "stream",
     "text": [
      "2893\n"
     ]
    }
   ],
   "source": [
    "num_emails = len(data['words'])\n",
    "print(num_emails)"
   ]
  },
  {
   "cell_type": "markdown",
   "metadata": {
    "colab_type": "text",
    "id": "HDp5ECynI1Vh"
   },
   "source": [
    "Each of the emails has repeated words. Let's create a dictionary which stores the number of occurences of each word for all emails."
   ]
  },
  {
   "cell_type": "code",
   "execution_count": 10,
   "metadata": {
    "colab": {},
    "colab_type": "code",
    "id": "PYuYWEO_I1Vi"
   },
   "outputs": [],
   "source": [
    "from collections import Counter, OrderedDict\n",
    "\n",
    "# create a dictionary with each word as the key and the number of occurences as the value\n",
    "cnt = Counter()\n",
    "total_words = 0\n",
    "for entry in data['words']:\n",
    "    total_words += len(entry)    # total number of words in the dataset\n",
    "    for word in entry:\n",
    "        cnt[word] += 1\n",
    "\n",
    "# order the previous dictionary by most common words\n",
    "ordered_cnt = OrderedDict(cnt.most_common())"
   ]
  },
  {
   "cell_type": "markdown",
   "metadata": {
    "colab_type": "text",
    "id": "rUXxCzShI1Vk"
   },
   "source": [
    "The total number of unique words is:"
   ]
  },
  {
   "cell_type": "code",
   "execution_count": 11,
   "metadata": {
    "colab": {
     "base_uri": "https://localhost:8080/",
     "height": 34
    },
    "colab_type": "code",
    "id": "HizN2TO6I1Vl",
    "outputId": "507753dc-3d53-44e1-fdc3-0327e30dfe72"
   },
   "outputs": [
    {
     "data": {
      "text/plain": [
       "49932"
      ]
     },
     "execution_count": 11,
     "metadata": {},
     "output_type": "execute_result"
    }
   ],
   "source": [
    "len(cnt)"
   ]
  },
  {
   "cell_type": "markdown",
   "metadata": {
    "colab_type": "text",
    "id": "Py7ldq_3I1Vo"
   },
   "source": [
    "while the total number of words is:"
   ]
  },
  {
   "cell_type": "code",
   "execution_count": 12,
   "metadata": {
    "colab": {
     "base_uri": "https://localhost:8080/",
     "height": 34
    },
    "colab_type": "code",
    "id": "UDLB_bfuI1Vp",
    "outputId": "70af00e2-830a-4fb9-e6de-a7cd77be5efd"
   },
   "outputs": [
    {
     "data": {
      "text/plain": [
       "779547"
      ]
     },
     "execution_count": 12,
     "metadata": {},
     "output_type": "execute_result"
    }
   ],
   "source": [
    "total_words"
   ]
  },
  {
   "cell_type": "markdown",
   "metadata": {
    "colab_type": "text",
    "id": "JLBsuX-gI1Vs"
   },
   "source": [
    "That's quite a lot of unique words for 2893 emails! Let's check which words are the most common using a plot."
   ]
  },
  {
   "cell_type": "code",
   "execution_count": 27,
   "metadata": {
    "colab": {
     "base_uri": "https://localhost:8080/",
     "height": 350
    },
    "colab_type": "code",
    "id": "vJLi9fk9I1Vu",
    "outputId": "681ddc7a-edba-41d4-9913-34a237024808"
   },
   "outputs": [
    {
     "data": {
      "image/png": "[encoded data removed]",
      "text/plain": [
       "<Figure size 864x360 with 1 Axes>"
      ]
     },
     "metadata": {
      "needs_background": "light"
     },
     "output_type": "display_data"
    }
   ],
   "source": [
    "import matplotlib.pyplot as plt\n",
    "import seaborn as sns\n",
    "%matplotlib inline\n",
    "\n",
    "# create plot\n",
    "plt.figure(figsize=(12,5))\n",
    "sns.barplot(x=list(ordered_cnt.keys())[0:10], y=list(ordered_cnt.values())[0:10])\n",
    "_ = plt.xlabel(\"words\")\n",
    "_ = plt.ylabel(\"occurrence\")\n",
    "_ = plt.title(\"Number of occurrences of words in emails\")\n",
    "\n",
    "# save figure\n",
    "plt.savefig( os.path.join(TMPDIR, 'plot.png'), dpi=200)"
   ]
  },
  {
   "cell_type": "markdown",
   "metadata": {
    "colab_type": "text",
    "id": "J16cWQ4lI1Vx"
   },
   "source": [
    "We see that numbers of all kinds are by far the most common words, followed by 'language' and 'university'.\n",
    "\n",
    "One way to significantly reduce the number of unique words to consider is to pick those unique words which capture, say, 90% of the total words occurences."
   ]
  },
  {
   "cell_type": "code",
   "execution_count": 14,
   "metadata": {
    "colab": {},
    "colab_type": "code",
    "id": "MvjZPF9pI1Vy"
   },
   "outputs": [],
   "source": [
    "# number of unique words capturing 90% of the total words occurences\n",
    "threshold = 0.9 * total_words   # 90% of all words\n",
    "amount = 0\n",
    "num_words_threshold = 0\n",
    "for word, occurence in ordered_cnt.items():\n",
    "    if amount < threshold:\n",
    "        amount += occurence\n",
    "        num_words_threshold += 1\n",
    "    else:\n",
    "        break"
   ]
  },
  {
   "cell_type": "markdown",
   "metadata": {
    "colab_type": "text",
    "id": "mmR5P-xHI1V1"
   },
   "source": [
    "The number of unique words capturing 90% of the total words occurrences is then:"
   ]
  },
  {
   "cell_type": "code",
   "execution_count": 15,
   "metadata": {
    "colab": {
     "base_uri": "https://localhost:8080/",
     "height": 34
    },
    "colab_type": "code",
    "id": "AgOLqeAiI1V2",
    "outputId": "6f4af9cb-4f71-49ba-91bc-c97c0da61dde"
   },
   "outputs": [
    {
     "data": {
      "text/plain": [
       "9451"
      ]
     },
     "execution_count": 15,
     "metadata": {},
     "output_type": "execute_result"
    }
   ],
   "source": [
    "num_words_threshold"
   ]
  },
  {
   "cell_type": "markdown",
   "metadata": {
    "colab_type": "text",
    "id": "UCPpu-00I1V4"
   },
   "source": [
    "Let's save these 9451 words into a new list."
   ]
  },
  {
   "cell_type": "code",
   "execution_count": 16,
   "metadata": {
    "colab": {},
    "colab_type": "code",
    "id": "2i3llm_6I1V5"
   },
   "outputs": [],
   "source": [
    "unique_words_90 = list(OrderedDict(cnt.most_common(num_words_threshold)).keys())"
   ]
  },
  {
   "cell_type": "markdown",
   "metadata": {
    "colab_type": "text",
    "id": "czjEzN6_I1V9"
   },
   "source": [
    "Now we define a function which receives the list of words from the emails, gets the words which are in the `unique_words_90` list, with their number of occurences, and then creates a feature array with the number of occurences in the same order as they appear in the  `unique_words_90` list."
   ]
  },
  {
   "cell_type": "code",
   "execution_count": 17,
   "metadata": {
    "colab": {},
    "colab_type": "code",
    "id": "dUOi6sU9I1V_"
   },
   "outputs": [],
   "source": [
    "def create_feature(list):\n",
    "    \n",
    "    # list with words from list which are in the unique_words_90 list\n",
    "    words_in_unique_list = [word for word in list if word in unique_words_90]\n",
    "    \n",
    "    # dictionary created from previous list counting the number of occurences\n",
    "    words_in_unique_dict = Counter(words_in_unique_list)\n",
    "    \n",
    "    # array of zeros, with the same number of elements as the unique_words_90 list\n",
    "    features = np.zeros(len(unique_words_90), dtype=np.uint32)\n",
    "    \n",
    "    # for each word:occurence in dictionary, save occurence in the correct slot of features\n",
    "    for word, occurence in words_in_unique_dict.items():\n",
    "        features[unique_words_90.index(word)] = occurence\n",
    "    \n",
    "    return features"
   ]
  },
  {
   "cell_type": "markdown",
   "metadata": {
    "colab_type": "text",
    "id": "tktWn73_I1WH"
   },
   "source": [
    "To check what this function does with the first email, for example:"
   ]
  },
  {
   "cell_type": "code",
   "execution_count": 18,
   "metadata": {
    "colab": {
     "base_uri": "https://localhost:8080/",
     "height": 34
    },
    "colab_type": "code",
    "id": "IL8oHyNgI1WK",
    "outputId": "ed483dc1-c1e1-431d-801c-175112066c85"
   },
   "outputs": [
    {
     "name": "stdout",
     "output_type": "stream",
     "text": [
      "[12  5  0 ...  0  0  0]\n"
     ]
    }
   ],
   "source": [
    "print(create_feature(data['words'][0]))"
   ]
  },
  {
   "cell_type": "markdown",
   "metadata": {
    "colab_type": "text",
    "id": "mjRIA9CMI1WO"
   },
   "source": [
    "This means that the first e-mail has '#' 12 times, 'language' 5 times, etc. It seems that everything is working as expected.\n",
    "\n",
    "To finalize, we need to create the **features matrix** (to be used in the algorithm): each element of this list of lists corresponds to one email and it is obtained used the function `create_feature` above."
   ]
  },
  {
   "cell_type": "code",
   "execution_count": 19,
   "metadata": {
    "colab": {},
    "colab_type": "code",
    "id": "9l2ZSlCQI1WP"
   },
   "outputs": [],
   "source": [
    "# creates a matrix of zeros with dimensions of (number of targets)x(number of unique words)\n",
    "X = np.empty((len(data['targets']), len(unique_words_90)), dtype=np.uint32)\n",
    "\n",
    "# use function create_feature for each row\n",
    "for i, email in enumerate(data['words']):\n",
    "    X[i,:] = create_feature(email)"
   ]
  },
  {
   "cell_type": "markdown",
   "metadata": {
    "colab_type": "text",
    "id": "NoOZC3VGI1WS"
   },
   "source": [
    "The features matrix looks like this:"
   ]
  },
  {
   "cell_type": "code",
   "execution_count": 20,
   "metadata": {
    "colab": {
     "base_uri": "https://localhost:8080/",
     "height": 136
    },
    "colab_type": "code",
    "id": "bQmi_hGcI1WS",
    "outputId": "8d5aff4f-0306-446b-fc44-ac7844560411"
   },
   "outputs": [
    {
     "data": {
      "text/plain": [
       "array([[12,  5,  0, ...,  0,  0,  0],\n",
       "       [11,  0,  2, ...,  0,  0,  0],\n",
       "       [20,  1, 30, ...,  0,  0,  0],\n",
       "       ...,\n",
       "       [10,  0,  0, ...,  0,  0,  0],\n",
       "       [ 1,  0,  0, ...,  0,  0,  0],\n",
       "       [ 0,  0,  0, ...,  0,  0,  0]], dtype=uint32)"
      ]
     },
     "execution_count": 20,
     "metadata": {},
     "output_type": "execute_result"
    }
   ],
   "source": [
    "X"
   ]
  },
  {
   "cell_type": "markdown",
   "metadata": {
    "colab_type": "text",
    "id": "FUywk-rgI1WU"
   },
   "source": [
    "The target vector is just:"
   ]
  },
  {
   "cell_type": "code",
   "execution_count": 21,
   "metadata": {
    "colab": {},
    "colab_type": "code",
    "id": "IzTQwWX_I1WU"
   },
   "outputs": [],
   "source": [
    "y = data['targets']"
   ]
  },
  {
   "cell_type": "markdown",
   "metadata": {
    "colab_type": "text",
    "id": "ZV-cI4XOI1WX"
   },
   "source": [
    "## Split the dataset"
   ]
  },
  {
   "cell_type": "markdown",
   "metadata": {
    "colab_type": "text",
    "id": "6DPAMxxiI1WX"
   },
   "source": [
    "Before applying the algorithm, we split the dataset into a **training set** and a **test set**, in a 70:30 proportion. This can be done using the `train_test_split` function of `sklearn`."
   ]
  },
  {
   "cell_type": "code",
   "execution_count": 22,
   "metadata": {
    "colab": {
     "base_uri": "https://localhost:8080/",
     "height": 85
    },
    "colab_type": "code",
    "id": "UM8Iy2jOI1WY",
    "outputId": "7488b6f3-b42b-46a2-f4da-abe644521d41"
   },
   "outputs": [
    {
     "name": "stdout",
     "output_type": "stream",
     "text": [
      "X_train:  (2025, 9451)\n",
      "X_test:  (868, 9451)\n",
      "y_train:  (2025,)\n",
      "y_test:  (868,)\n"
     ]
    }
   ],
   "source": [
    "from sklearn.model_selection import train_test_split\n",
    "\n",
    "X_train, X_test, y_train, y_test = train_test_split(X, y, test_size=0.30, random_state=42)\n",
    "\n",
    "print(\"X_train: \", X_train.shape)\n",
    "print(\"X_test: \", X_test.shape)\n",
    "print(\"y_train: \", y_train.shape)\n",
    "print(\"y_test: \", y_test.shape)"
   ]
  },
  {
   "cell_type": "markdown",
   "metadata": {
    "colab_type": "text",
    "id": "ICd76NENI1WZ"
   },
   "source": [
    "## Implement Naive Bayes algorithm with scikit-learn"
   ]
  },
  {
   "cell_type": "markdown",
   "metadata": {
    "colab_type": "text",
    "id": "2HsPvNw-I1Wa"
   },
   "source": [
    "The machine learning algorithm we are going to use here is the **Naive Bayes Classifier**. For the mathematical details, check this [blog post](https://medium.com/hugo-ferreiras-blog/basics-of-machine-learning-and-a-simple-implementation-of-the-naive-bayes-algorithm-80c1e67a2e8a) I wrote for this implementation. For the implementation using `scikit-learn`, check the [documentation](http://scikit-learn.org/stable/modules/naive_bayes.html).\n",
    "\n",
    "Here, we are going to use `MultinomialNB`, which implements the Naive Bayes algorithm for multinomially distributed data. First, we use the training set to fit the model."
   ]
  },
  {
   "cell_type": "code",
   "execution_count": 23,
   "metadata": {
    "colab": {
     "base_uri": "https://localhost:8080/",
     "height": 34
    },
    "colab_type": "code",
    "id": "RcjSQdYtI1Wa",
    "outputId": "89a3abc0-d140-44a1-9c3a-3ed0ea2d7158"
   },
   "outputs": [
    {
     "data": {
      "text/plain": [
       "MultinomialNB(alpha=1.0, class_prior=None, fit_prior=True)"
      ]
     },
     "execution_count": 23,
     "metadata": {},
     "output_type": "execute_result"
    }
   ],
   "source": [
    "from sklearn.naive_bayes import MultinomialNB\n",
    "\n",
    "nb = MultinomialNB()\n",
    "nb.fit(X_train, y_train)"
   ]
  },
  {
   "cell_type": "markdown",
   "metadata": {
    "colab_type": "text",
    "id": "uCYxmlLaI1Wc"
   },
   "source": [
    "Then, we predict the output using the test set and compute the **confusion matrix** to evaluate the performance of the algorithm."
   ]
  },
  {
   "cell_type": "code",
   "execution_count": 24,
   "metadata": {
    "colab": {
     "base_uri": "https://localhost:8080/",
     "height": 51
    },
    "colab_type": "code",
    "id": "6H4ac-XpI1Wd",
    "outputId": "54e8ab49-a51d-49dc-d1a1-ecf07a9d9f86"
   },
   "outputs": [
    {
     "name": "stdout",
     "output_type": "stream",
     "text": [
      "[[724   7]\n",
      " [  1 136]]\n"
     ]
    }
   ],
   "source": [
    "from sklearn.metrics import confusion_matrix\n",
    "\n",
    "y_pred = nb.predict(X_test)\n",
    "\n",
    "print(confusion_matrix(y_test, y_pred))"
   ]
  },
  {
   "cell_type": "markdown",
   "metadata": {
    "colab_type": "text",
    "id": "DMG6zpiaI1Wf"
   },
   "source": [
    "From the confusion matrix, we see that the Naive Bayes classifier got the following results:\n",
    "* Out of the 731 actual instances of 'ham' (not spam), it predicted correctly 724 of them;\n",
    "* Out of the 137 actual instances of spam, it predicted correctly 136 of them."
   ]
  },
  {
   "cell_type": "markdown",
   "metadata": {
    "colab_type": "text",
    "id": "MKK4ZNlFpULG"
   },
   "source": [
    "### End of notebook."
   ]
  }
 ],
 "metadata": {
  "colab": {
   "name": "naive_bayes_spam.ipynb",
   "provenance": [],
   "toc_visible": true,
   "version": "0.3.2"
  },
  "gist": {
   "data": {
    "description": "Spam-filtering/naive_bayes_spam.ipynb",
    "public": true
   },
   "id": ""
  },
  "kernelspec": {
   "display_name": "Python (py36)",
   "language": "python",
   "name": "py36"
  },
  "language_info": {
   "codemirror_mode": {
    "name": "ipython",
    "version": 3
   },
   "file_extension": ".py",
   "mimetype": "text/x-python",
   "name": "python",
   "nbconvert_exporter": "python",
   "pygments_lexer": "ipython3",
   "version": "3.6.8"
  }
 },
 "nbformat": 4,
 "nbformat_minor": 1
}
