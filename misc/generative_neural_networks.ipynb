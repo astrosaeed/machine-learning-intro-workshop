{
  "nbformat": 4,
  "nbformat_minor": 0,
  "metadata": {
    "colab": {
      "name": "generative-neural-networks.ipynb",
      "version": "0.3.2",
      "provenance": [],
      "include_colab_link": true
    },
    "kernelspec": {
      "name": "python3",
      "display_name": "Python 3"
    }
  },
  "cells": [
    {
      "cell_type": "markdown",
      "metadata": {
        "id": "view-in-github",
        "colab_type": "text"
      },
      "source": [
        "<a href=\"https://colab.research.google.com/github/jfogarty/machine-learning-intro-workshop/blob/master/misc/generative_neural_networks.ipynb\" target=\"_parent\"><img src=\"https://colab.research.google.com/assets/colab-badge.svg\" alt=\"Open In Colab\"/></a>"
      ]
    },
    {
      "cell_type": "markdown",
      "metadata": {
        "id": "8YrmsJlFheFY",
        "colab_type": "text"
      },
      "source": [
        "# Generative Adversarial Networks\n",
        "\n",
        "These have to do with using neural networks to generate stuff, like images.  I don't know (yet), I just wanted to put in the following list of examples, some of which are interesting.\n",
        "\n",
        "## Some fun examples:\n",
        "Some of these are from [this site](https://github.com/Aggregate-Intellect/awesome-does-not-exist).\n",
        "\n",
        "- [People](https://thispersondoesnotexist.com/): People that don't exist\n",
        "- [Cats](https://thiscatdoesnotexist.com/): Cats that don't exist, some are scary\n",
        "- [Anime](https://www.thiswaifudoesnotexist.net/): Anime girls that don't exist\n",
        "- [Pottery](https://thisvesseldoesnotexist.com/#/fakes): Vessels that don't exist\n",
        "- [AirBnB listings](https://thisrentaldoesnotexist.com/): Quality of this one may be lacking\n",
        "- [Ramen](https://twitter.com/knjcode/status/1102771002222637056): Some people really like Ramen.  Supposedly this came from a GNN.\n",
        "- [Lots of cats at once](http://thesecatsdonotexist.com/): More cats\n",
        "- [Cars](https://thiscardoesnotexist.glitch.me/): Cars that don't exist\n",
        "- [Resumes](https://thisresumedoesnotexist.com/): Don't hire this person\n",
        "\n",
        "\n"
      ]
    }
  ]
}