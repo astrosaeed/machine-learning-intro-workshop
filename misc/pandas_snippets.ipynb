{
  "nbformat": 4,
  "nbformat_minor": 0,
  "metadata": {
    "colab": {
      "name": "pandas_snippets.ipynb",
      "version": "0.3.2",
      "provenance": []
    },
    "kernelspec": {
      "display_name": "Python 3",
      "language": "python",
      "name": "python3"
    },
    "language_info": {
      "codemirror_mode": {
        "name": "ipython",
        "version": 3
      },
      "file_extension": ".py",
      "mimetype": "text/x-python",
      "name": "python",
      "nbconvert_exporter": "python",
      "pygments_lexer": "ipython3",
      "version": "3.6.8"
    }
  },
  "cells": [
    {
      "cell_type": "markdown",
      "metadata": {
        "colab_type": "text",
        "id": "2nOG_nSOVKgi"
      },
      "source": [
        "# Useful Pandas Snippets"
      ]
    },
    {
      "cell_type": "markdown",
      "metadata": {
        "colab_type": "text",
        "id": "gj_JxsF7VKgk"
      },
      "source": [
        "- From [Pandas Snippets](https://github.com/siebenrock/pandas-snippets) by [Kai Siebenrock](https://github.com/siebenrock)\n",
        "\n",
        "Updated by [John Fogarty](https://github.com/jfogarty) for Python 3.6 and [Base2 MLI](https://github.com/base2solutions/mli) and [colab](https://colab.research.google.com) standalone evaluation."
      ]
    },
    {
      "cell_type": "code",
      "metadata": {
        "colab_type": "code",
        "id": "yxmdnQN-VKgm",
        "colab": {}
      },
      "source": [
        "import numpy as np\n",
        "import pandas as pd\n",
        "import matplotlib.pyplot as plt\n",
        "%matplotlib inline"
      ],
      "execution_count": 0,
      "outputs": []
    },
    {
      "cell_type": "markdown",
      "metadata": {
        "colab_type": "text",
        "id": "Y2q2uPGNVKgq"
      },
      "source": [
        "## Importing Data\n",
        "\n",
        "<figure>\n",
        "    <img src=\"https://github.com/jfogarty/machine-learning-intro-workshop/blob/master/images/titanic_ship.jpeg?raw=1\" />\n",
        "    <figcaption></figcaption>\n",
        "</figure>"
      ]
    },
    {
      "cell_type": "code",
      "metadata": {
        "colab_type": "code",
        "id": "7OaH_tzjVKgv",
        "colab": {}
      },
      "source": [
        "#@title Nasty File Transfer Utility Tools\n",
        "import numpy as np\n",
        "import requests\n",
        "import shutil\n",
        "import gzip\n",
        "import os\n",
        "from bs4 import BeautifulSoup\n",
        "\n",
        "ds = np.DataSource()\n",
        "def copyHere(URL, toPath, quiet=False):\n",
        "    toDir, toFile = os.path.split(toPath)\n",
        "    toPath = os.path.join(toDir, toFile)\n",
        "    if os.path.exists(toPath):\n",
        "        if not quiet:\n",
        "            print(f\"- Skipped copy of existing file {toPath}.\")\n",
        "    else:\n",
        "        if ds.exists(URL):\n",
        "            if not toFile:\n",
        "                urlPrefix, toFile = os.path.split(URL)\n",
        "            response = requests.get(URL, stream=True)\n",
        "            response.raw.decode_content=True  # reflate and ungzip automatically.\n",
        "            response.encoding = 'utf-8'\n",
        "            if toDir:\n",
        "                if not os.path.exists(toDir): \n",
        "                  print(f\"- Creating directory '{toDir}'.\")\n",
        "                  os.makedirs(toDir)\n",
        "            with open(toPath, 'wb') as f: shutil.copyfileobj(response.raw, f)\n",
        "            if not quiet: \n",
        "                print(f\"- Downloaded {URL}.\")\n",
        "            gzipped = False\n",
        "            # If the file sent is gzipped, unpack it anyway.\n",
        "            with open(toPath, 'rb') as fin:\n",
        "                prefix = fin.read(2) \n",
        "                gzipped = prefix == b'\\x1f\\x8b'\n",
        "            if gzipped:\n",
        "                gzPath = toPath + '.gz'               \n",
        "                if os.path.exists(gzPath):\n",
        "                    os.remove(gzPath)\n",
        "                os.rename(toPath, gzPath)\n",
        "                with gzip.open(gzPath) as gz:\n",
        "                    with open(toPath, 'wb') as fout:\n",
        "                         shutil.copyfileobj(gz, fout)\n",
        "                if not quiet: \n",
        "                    print(f\"- Unpacked gzipped file '{gzPath}' to '{toPath}'.\")\n",
        "            else:\n",
        "                print(f\"- Installed locally as '{toPath}'.\")\n",
        "        else:\n",
        "            print(f\"** Sorry, can't copy '{URL}' to '{toPath}'.\")"
      ],
      "execution_count": 0,
      "outputs": []
    },
    {
      "cell_type": "code",
      "metadata": {
        "colab_type": "code",
        "id": "hr0tmvCZVKgr",
        "colab": {}
      },
      "source": [
        "import os\n",
        "REPODATA='https://github.com/plotly/datasets/blob/master/titanic.csv'\n",
        "RAWDATA='https://raw.githubusercontent.com/plotly/datasets/master/titanic.csv'\n",
        "filename='titanic.csv'\n",
        "TMPDATA='./tmpData'\n",
        "if not os.path.exists(TMPDATA) : os.makedirs(TMPDATA)\n",
        "datafile=os.path.join(TMPDATA, filename)\n",
        "!curl $RAWDATA -o $datafile"
      ],
      "execution_count": 0,
      "outputs": []
    },
    {
      "cell_type": "code",
      "metadata": {
        "colab_type": "code",
        "id": "bpyMZOAsVKgx",
        "colab": {}
      },
      "source": [
        "copyHere(RAWDATA, datafile)"
      ],
      "execution_count": 0,
      "outputs": []
    },
    {
      "cell_type": "markdown",
      "metadata": {
        "colab_type": "text",
        "id": "U-ZkD6HCVKgz"
      },
      "source": [
        "Read from CSV file"
      ]
    },
    {
      "cell_type": "code",
      "metadata": {
        "colab_type": "code",
        "id": "4clGC8_yVKg1",
        "colab": {}
      },
      "source": [
        "df = pd.read_csv(datafile)\n",
        "\n",
        "df.describe()"
      ],
      "execution_count": 0,
      "outputs": []
    },
    {
      "cell_type": "code",
      "metadata": {
        "colab_type": "code",
        "id": "ybr9cbgZVKg7",
        "colab": {}
      },
      "source": [
        "df.head()"
      ],
      "execution_count": 0,
      "outputs": []
    },
    {
      "cell_type": "code",
      "metadata": {
        "colab_type": "code",
        "id": "PZHd_iu8VKhB",
        "colab": {}
      },
      "source": [
        "df"
      ],
      "execution_count": 0,
      "outputs": []
    },
    {
      "cell_type": "markdown",
      "metadata": {
        "colab_type": "text",
        "id": "IRTTtbg8VKhF"
      },
      "source": [
        "## Creating Data"
      ]
    },
    {
      "cell_type": "markdown",
      "metadata": {
        "colab_type": "text",
        "id": "zbUFpG6cVKhG"
      },
      "source": [
        "Using dataframe"
      ]
    },
    {
      "cell_type": "code",
      "metadata": {
        "colab_type": "code",
        "id": "ZyFp4URMVKhH",
        "colab": {}
      },
      "source": [
        "pd.DataFrame({'Name':['Marie', 'John', 'Max', 'Jane'],\n",
        "              'Age':[32, 28, 27, 33]}, \n",
        "             index=['rank1','rank2','rank3','rank4'])"
      ],
      "execution_count": 0,
      "outputs": []
    },
    {
      "cell_type": "code",
      "metadata": {
        "colab_type": "code",
        "id": "tsXgnHLXVKhN",
        "colab": {}
      },
      "source": [
        "pd.DataFrame(np.random.randint(low=0, high=100, size=(5, 5)), \n",
        "             columns=['A', 'B', 'C', 'D', 'E'])"
      ],
      "execution_count": 0,
      "outputs": []
    },
    {
      "cell_type": "markdown",
      "metadata": {
        "colab_type": "text",
        "id": "RGZt_FFUVKhh"
      },
      "source": [
        "Using list comprehension"
      ]
    },
    {
      "cell_type": "code",
      "metadata": {
        "colab_type": "code",
        "id": "CZKx9N1zVKhh",
        "colab": {}
      },
      "source": [
        "list = [x**2 for x in range(10)]"
      ],
      "execution_count": 0,
      "outputs": []
    },
    {
      "cell_type": "code",
      "metadata": {
        "colab_type": "code",
        "id": "D7i6H_QRVKhk",
        "colab": {}
      },
      "source": [
        "[x for x in list if x % 2 == 0]"
      ],
      "execution_count": 0,
      "outputs": []
    },
    {
      "cell_type": "markdown",
      "metadata": {
        "colab_type": "text",
        "id": "VhwLU3pnVKhm"
      },
      "source": [
        "## Cleaning"
      ]
    },
    {
      "cell_type": "markdown",
      "metadata": {
        "colab_type": "text",
        "id": "zXrI5iCQVKhm"
      },
      "source": [
        "Drop NaN in fare"
      ]
    },
    {
      "cell_type": "code",
      "metadata": {
        "colab_type": "code",
        "id": "SIknzOnoVKhn",
        "colab": {}
      },
      "source": [
        "df.dropna(subset=[\"Fare\"], inplace=True)"
      ],
      "execution_count": 0,
      "outputs": []
    },
    {
      "cell_type": "markdown",
      "metadata": {
        "colab_type": "text",
        "id": "0N2FvrxMVKhp"
      },
      "source": [
        "Return null values"
      ]
    },
    {
      "cell_type": "code",
      "metadata": {
        "colab_type": "code",
        "id": "X_ZR5MQkVKhq",
        "colab": {}
      },
      "source": [
        "df[df['Fare'].isnull()]"
      ],
      "execution_count": 0,
      "outputs": []
    },
    {
      "cell_type": "markdown",
      "metadata": {
        "colab_type": "text",
        "id": "qWBzkeofVKht"
      },
      "source": [
        "Upper case all column names"
      ]
    },
    {
      "cell_type": "code",
      "metadata": {
        "colab_type": "code",
        "id": "Sbp1NaKIVKhu",
        "colab": {}
      },
      "source": [
        "df.columns = map(str.upper, df.columns)\n",
        "df.head()"
      ],
      "execution_count": 0,
      "outputs": []
    },
    {
      "cell_type": "markdown",
      "metadata": {
        "colab_type": "text",
        "id": "pwJeTU1GVKhy"
      },
      "source": [
        "Rename columns"
      ]
    },
    {
      "cell_type": "code",
      "metadata": {
        "colab_type": "code",
        "id": "lQjVT00_VKhz",
        "colab": {}
      },
      "source": [
        "df = df.rename(columns = {\n",
        "    'Pclass':'Class',\n",
        "    'Name':'Full Name',\n",
        "})"
      ],
      "execution_count": 0,
      "outputs": []
    },
    {
      "cell_type": "markdown",
      "metadata": {
        "colab_type": "text",
        "id": "zp6TkuxdVKh1"
      },
      "source": [
        "Alternatively"
      ]
    },
    {
      "cell_type": "code",
      "metadata": {
        "colab_type": "code",
        "id": "IvEckHY8VKh2",
        "colab": {}
      },
      "source": [
        "df.columns = ['A', 'B', 'C', 'D', 'E', 'F', 'G', 'H', 'I', 'J', 'K', 'L']\n",
        "df.columns = ['Id', 'Survived', 'Pclass', 'Name', 'Sex', 'Age', 'Siblings/Spouses Aboard', \n",
        "              'Parents/Children Aboard', 'Ticket', 'Fare', 'Cabin', 'Embarked']"
      ],
      "execution_count": 0,
      "outputs": []
    },
    {
      "cell_type": "markdown",
      "metadata": {
        "colab_type": "text",
        "id": "jH7qA2SGVKh5"
      },
      "source": [
        "Filter columns containing \"Aboard\""
      ]
    },
    {
      "cell_type": "code",
      "metadata": {
        "colab_type": "code",
        "id": "ygA8qZlBVKh5",
        "colab": {}
      },
      "source": [
        "df_aboard = df.loc[:, df.columns[df.columns.str.contains('Aboard')].tolist()]"
      ],
      "execution_count": 0,
      "outputs": []
    },
    {
      "cell_type": "code",
      "metadata": {
        "colab_type": "code",
        "id": "5Juv49-AVKh_",
        "colab": {}
      },
      "source": [
        "df_aboard.head()"
      ],
      "execution_count": 0,
      "outputs": []
    },
    {
      "cell_type": "markdown",
      "metadata": {
        "colab_type": "text",
        "id": "dzQy39dvVKiD"
      },
      "source": [
        "Replace strings in column"
      ]
    },
    {
      "cell_type": "code",
      "metadata": {
        "colab_type": "code",
        "id": "T8xjJ2DFVKiJ",
        "colab": {}
      },
      "source": [
        "df['Sex'] = df['Sex'].str.replace('Mr.', 'Mister')"
      ],
      "execution_count": 0,
      "outputs": []
    },
    {
      "cell_type": "markdown",
      "metadata": {
        "colab_type": "text",
        "id": "WEgKvxWKVKiR"
      },
      "source": [
        "Remove if contains character"
      ]
    },
    {
      "cell_type": "code",
      "metadata": {
        "colab_type": "code",
        "id": "_2vxeU8wVKiS",
        "colab": {}
      },
      "source": [
        "files = ['afile', 'bfile', 'not~mefile', 'cfile']\n",
        "notfiles = [file for file in files if \"~\" not in file]\n",
        "notfiles"
      ],
      "execution_count": 0,
      "outputs": []
    },
    {
      "cell_type": "markdown",
      "metadata": {
        "colab_type": "text",
        "id": "ogJsLg0kVKiX"
      },
      "source": [
        "Remove based on multiple values"
      ]
    },
    {
      "cell_type": "code",
      "metadata": {
        "colab_type": "code",
        "id": "mbJAG5nCVKiY",
        "colab": {}
      },
      "source": [
        "df = df[~df['Name'].isin(['Invalid', 'Unknown'])]\n",
        "df"
      ],
      "execution_count": 0,
      "outputs": []
    },
    {
      "cell_type": "markdown",
      "metadata": {
        "colab_type": "text",
        "id": "UgYeiwv9VKib"
      },
      "source": [
        "Change type"
      ]
    },
    {
      "cell_type": "code",
      "metadata": {
        "colab_type": "code",
        "id": "EXx98GLeVKic",
        "colab": {}
      },
      "source": [
        "df['Fare'] = df['Fare'].astype(float)"
      ],
      "execution_count": 0,
      "outputs": []
    },
    {
      "cell_type": "markdown",
      "metadata": {
        "colab_type": "text",
        "id": "oB6XthiJVKie"
      },
      "source": [
        "Reset index"
      ]
    },
    {
      "cell_type": "code",
      "metadata": {
        "colab_type": "code",
        "id": "df-GjPGGVKif",
        "colab": {}
      },
      "source": [
        "df.reset_index(drop=True, inplace=True)"
      ],
      "execution_count": 0,
      "outputs": []
    },
    {
      "cell_type": "markdown",
      "metadata": {
        "colab_type": "text",
        "id": "04QITR0-VKih"
      },
      "source": [
        "Convert to lower case"
      ]
    },
    {
      "cell_type": "code",
      "metadata": {
        "colab_type": "code",
        "id": "Th304VrkVKih",
        "colab": {}
      },
      "source": [
        "df['Sex'] = df['Sex'].str.lower()"
      ],
      "execution_count": 0,
      "outputs": []
    },
    {
      "cell_type": "code",
      "metadata": {
        "colab_type": "code",
        "id": "3UcSXQpDVKij",
        "colab": {}
      },
      "source": [
        "df[\"Pclass\"] * 1000"
      ],
      "execution_count": 0,
      "outputs": []
    },
    {
      "cell_type": "code",
      "metadata": {
        "colab_type": "code",
        "id": "R2lKnKV2VKim",
        "colab": {}
      },
      "source": [
        "df.head()"
      ],
      "execution_count": 0,
      "outputs": []
    },
    {
      "cell_type": "markdown",
      "metadata": {
        "colab_type": "text",
        "id": "_uMzDCgfVKip"
      },
      "source": [
        "Deleting columns"
      ]
    },
    {
      "cell_type": "code",
      "metadata": {
        "colab_type": "code",
        "id": "3JTfllzLVKiq",
        "colab": {}
      },
      "source": [
        "del df['Siblings/Spouses Aboard']\n",
        "del df['Parents/Children Aboard']\n",
        "df.head()"
      ],
      "execution_count": 0,
      "outputs": []
    },
    {
      "cell_type": "markdown",
      "metadata": {
        "colab_type": "text",
        "id": "Caj2BN47VKis"
      },
      "source": [
        "## Exploring"
      ]
    },
    {
      "cell_type": "markdown",
      "metadata": {
        "colab_type": "text",
        "id": "fBYriPK7VKit"
      },
      "source": [
        "Number of rows"
      ]
    },
    {
      "cell_type": "code",
      "metadata": {
        "colab_type": "code",
        "id": "2YcP6mruVKiu",
        "colab": {}
      },
      "source": [
        "len(df.index)"
      ],
      "execution_count": 0,
      "outputs": []
    },
    {
      "cell_type": "markdown",
      "metadata": {
        "colab_type": "text",
        "id": "6Op9w4c0VKix"
      },
      "source": [
        "Get info"
      ]
    },
    {
      "cell_type": "code",
      "metadata": {
        "colab_type": "code",
        "id": "rf89jSzPVKiy",
        "colab": {}
      },
      "source": [
        "df.info()"
      ],
      "execution_count": 0,
      "outputs": []
    },
    {
      "cell_type": "markdown",
      "metadata": {
        "colab_type": "text",
        "id": "jZS9vFolVKi2"
      },
      "source": [
        "Describe data"
      ]
    },
    {
      "cell_type": "code",
      "metadata": {
        "colab_type": "code",
        "id": "t_3QzkyyVKi3",
        "colab": {}
      },
      "source": [
        "df.describe()"
      ],
      "execution_count": 0,
      "outputs": []
    },
    {
      "cell_type": "markdown",
      "metadata": {
        "colab_type": "text",
        "id": "5Ex0mqq3VKi9"
      },
      "source": [
        "Select two columns"
      ]
    },
    {
      "cell_type": "code",
      "metadata": {
        "colab_type": "code",
        "id": "GnQ8l_8_VKi-",
        "colab": {}
      },
      "source": [
        "df[['Name', 'Fare']].head()"
      ],
      "execution_count": 0,
      "outputs": []
    },
    {
      "cell_type": "markdown",
      "metadata": {
        "colab_type": "text",
        "id": "cMEdLD9dVKjB"
      },
      "source": [
        "Get titles"
      ]
    },
    {
      "cell_type": "code",
      "metadata": {
        "colab_type": "code",
        "id": "tcjMUV30VKjC",
        "colab": {}
      },
      "source": [
        "df[\"Title\"] = df[\"Name\"].str.split(\" \").str[0]"
      ],
      "execution_count": 0,
      "outputs": []
    },
    {
      "cell_type": "markdown",
      "metadata": {
        "colab_type": "text",
        "id": "V4txHDPRWjpS"
      },
      "source": [
        "Find records with no specified Age"
      ]
    },
    {
      "cell_type": "code",
      "metadata": {
        "colab_type": "code",
        "id": "h_ygjkQ8WkMX",
        "colab": {}
      },
      "source": [
        "df[df['Age'].isna()]"
      ],
      "execution_count": 0,
      "outputs": []
    },
    {
      "cell_type": "markdown",
      "metadata": {
        "colab_type": "text",
        "id": "uEnO0K3bVKjF"
      },
      "source": [
        "Looking only at males"
      ]
    },
    {
      "cell_type": "code",
      "metadata": {
        "colab_type": "code",
        "id": "szLc_fzbVKjG",
        "colab": {}
      },
      "source": [
        "df[df['Sex'] == 'male'].head()"
      ],
      "execution_count": 0,
      "outputs": []
    },
    {
      "cell_type": "markdown",
      "metadata": {
        "colab_type": "text",
        "id": "2XYrrmVMVKjI"
      },
      "source": [
        "Looking only at males who survived"
      ]
    },
    {
      "cell_type": "code",
      "metadata": {
        "colab_type": "code",
        "id": "tkM8MYmKVKjJ",
        "colab": {}
      },
      "source": [
        "df[(df['Sex'] == 'male') & (df['Survived'] == 1)].head()"
      ],
      "execution_count": 0,
      "outputs": []
    },
    {
      "cell_type": "markdown",
      "metadata": {
        "colab_type": "text",
        "id": "5Qv0FVQnVKjM"
      },
      "source": [
        "Looking only at males who survived above the age of 50"
      ]
    },
    {
      "cell_type": "code",
      "metadata": {
        "colab_type": "code",
        "id": "pPl52O6qVKjN",
        "colab": {}
      },
      "source": [
        "df[(df['Sex'] == 'male') & (df['Survived'] == 1) & (df['Age'] > 50)].head()"
      ],
      "execution_count": 0,
      "outputs": []
    },
    {
      "cell_type": "markdown",
      "metadata": {
        "colab_type": "text",
        "id": "8ig_vtG4VKjU"
      },
      "source": [
        "Set column value based on other columns"
      ]
    },
    {
      "cell_type": "code",
      "metadata": {
        "colab_type": "code",
        "id": "xG2FkdUGVKjV",
        "colab": {}
      },
      "source": [
        "df['Note'] = np.nan"
      ],
      "execution_count": 0,
      "outputs": []
    },
    {
      "cell_type": "code",
      "metadata": {
        "colab_type": "code",
        "id": "fG2L9dXvVKjY",
        "colab": {}
      },
      "source": [
        "df.loc[(df['Sex'] == 'male') & (df['Survived'] == 1) & (df['Age'] > 50), \n",
        "       ['Note']] = 'Male Above 50 Survived'"
      ],
      "execution_count": 0,
      "outputs": []
    },
    {
      "cell_type": "code",
      "metadata": {
        "colab_type": "code",
        "id": "ql-I_syNVKja",
        "colab": {}
      },
      "source": [
        "df['Note'].sort_values()[:3]"
      ],
      "execution_count": 0,
      "outputs": []
    },
    {
      "cell_type": "markdown",
      "metadata": {
        "colab_type": "text",
        "id": "RxX0UbdjVKjc"
      },
      "source": [
        "Number of men who survived"
      ]
    },
    {
      "cell_type": "code",
      "metadata": {
        "colab_type": "code",
        "id": "olJfHceKVKjd",
        "colab": {}
      },
      "source": [
        "len(df[(df['Sex'] == 'male') & (df['Survived'] == 1)])"
      ],
      "execution_count": 0,
      "outputs": []
    },
    {
      "cell_type": "markdown",
      "metadata": {
        "colab_type": "text",
        "id": "nDUqxcgxVKjn"
      },
      "source": [
        "Average age of men who survived"
      ]
    },
    {
      "cell_type": "code",
      "metadata": {
        "colab_type": "code",
        "id": "h0HQRItuVKjo",
        "colab": {}
      },
      "source": [
        "df[(df['Sex'] == 'male') & (df['Survived'] == 1)]['Age'].mean()"
      ],
      "execution_count": 0,
      "outputs": []
    },
    {
      "cell_type": "markdown",
      "metadata": {
        "colab_type": "text",
        "id": "dgZMDbXVVKjr"
      },
      "source": [
        "Filter by multiple values"
      ]
    },
    {
      "cell_type": "code",
      "metadata": {
        "colab_type": "code",
        "id": "RyHvaAd1VKjr",
        "colab": {}
      },
      "source": [
        "df[df[\"Name\"].isin([\"Mr. Charles Eugene Williams\", \"Mr. Lawrence Beesley\"])]"
      ],
      "execution_count": 0,
      "outputs": []
    },
    {
      "cell_type": "markdown",
      "metadata": {
        "colab_type": "text",
        "id": "eWGcpm4JVKjt"
      },
      "source": [
        "Highest fare paid"
      ]
    },
    {
      "cell_type": "code",
      "metadata": {
        "colab_type": "code",
        "id": "7NsEE-ugVKju",
        "colab": {}
      },
      "source": [
        "df.loc[df['Fare'].idxmax()]"
      ],
      "execution_count": 0,
      "outputs": []
    },
    {
      "cell_type": "markdown",
      "metadata": {
        "colab_type": "text",
        "id": "E7kbKc1KVKjw"
      },
      "source": [
        "Sorting"
      ]
    },
    {
      "cell_type": "code",
      "metadata": {
        "colab_type": "code",
        "id": "hjq6Msi6VKjx",
        "colab": {}
      },
      "source": [
        "df.sort_values(['Fare', 'Age'], ascending=[0,1]).head()"
      ],
      "execution_count": 0,
      "outputs": []
    },
    {
      "cell_type": "markdown",
      "metadata": {
        "colab_type": "text",
        "id": "LrtpcoTZVKj2"
      },
      "source": [
        "Sort by multiple columns"
      ]
    },
    {
      "cell_type": "code",
      "metadata": {
        "colab_type": "code",
        "id": "LGrhiLUCVKj2",
        "colab": {}
      },
      "source": [
        "df.sort_values(['Fare', 'Age'], ascending=[0,1]).head()"
      ],
      "execution_count": 0,
      "outputs": []
    },
    {
      "cell_type": "markdown",
      "metadata": {
        "colab_type": "text",
        "id": "Kh-JxkT5VKj5"
      },
      "source": [
        "Number of classes"
      ]
    },
    {
      "cell_type": "code",
      "metadata": {
        "colab_type": "code",
        "id": "6vOS-KWIVKj6",
        "colab": {}
      },
      "source": [
        "df['Pclass'].unique()"
      ],
      "execution_count": 0,
      "outputs": []
    },
    {
      "cell_type": "markdown",
      "metadata": {
        "colab_type": "text",
        "id": "Kl67t0wDVKj8"
      },
      "source": [
        "Count of each class"
      ]
    },
    {
      "cell_type": "code",
      "metadata": {
        "colab_type": "code",
        "id": "0zN-TatbVKj8",
        "colab": {}
      },
      "source": [
        "df['Pclass'].value_counts()"
      ],
      "execution_count": 0,
      "outputs": []
    },
    {
      "cell_type": "markdown",
      "metadata": {
        "colab_type": "text",
        "id": "d5jGhOIBVKj-"
      },
      "source": [
        "Find duplicates : [pandas.DataFrame.duplicated](https://pandas.pydata.org/pandas-docs/stable/reference/api/pandas.DataFrame.duplicated.html)"
      ]
    },
    {
      "cell_type": "code",
      "metadata": {
        "colab_type": "code",
        "id": "vVppsLMFVKj_",
        "colab": {}
      },
      "source": [
        "df[df.duplicated(['Name'], keep=False)]"
      ],
      "execution_count": 0,
      "outputs": []
    },
    {
      "cell_type": "markdown",
      "metadata": {
        "colab_type": "text",
        "id": "LpdhOMv6VKkA"
      },
      "source": [
        "## Looping"
      ]
    },
    {
      "cell_type": "code",
      "metadata": {
        "colab_type": "code",
        "id": "0WPme5AoVKkD",
        "colab": {}
      },
      "source": [
        "for index, row in df.iterrows():\n",
        "    print(index)\n",
        "    print(row)"
      ],
      "execution_count": 0,
      "outputs": []
    },
    {
      "cell_type": "markdown",
      "metadata": {
        "colab_type": "text",
        "id": "-rGHR-zOVKkH"
      },
      "source": [
        "Returning tuples"
      ]
    },
    {
      "cell_type": "code",
      "metadata": {
        "colab_type": "code",
        "id": "hLxmrKvYVKkI",
        "colab": {}
      },
      "source": [
        "for row in df.itertuples():\n",
        "    print(row)"
      ],
      "execution_count": 0,
      "outputs": []
    },
    {
      "cell_type": "markdown",
      "metadata": {
        "colab_type": "text",
        "id": "LywyxVVAVKkK"
      },
      "source": [
        "## Grouping"
      ]
    },
    {
      "cell_type": "markdown",
      "metadata": {
        "colab_type": "text",
        "id": "8hcXmE77VKkK"
      },
      "source": [
        "Group by class and aggregate fare by mean"
      ]
    },
    {
      "cell_type": "code",
      "metadata": {
        "colab_type": "code",
        "id": "PS_LHxKXVKkK",
        "colab": {}
      },
      "source": [
        "df.groupby(['Pclass'])['Fare'].mean()"
      ],
      "execution_count": 0,
      "outputs": []
    },
    {
      "cell_type": "markdown",
      "metadata": {
        "colab_type": "text",
        "id": "Mekv-a_GVKkM"
      },
      "source": [
        "Pivot table"
      ]
    },
    {
      "cell_type": "code",
      "metadata": {
        "colab_type": "code",
        "id": "tIrmGaoDVKkN",
        "colab": {}
      },
      "source": [
        "pd.pivot_table(df, values='Fare', index='Pclass', columns='Sex', \n",
        "               aggfunc=np.mean)"
      ],
      "execution_count": 0,
      "outputs": []
    },
    {
      "cell_type": "markdown",
      "metadata": {
        "colab_type": "text",
        "id": "j98bC1nuVKkO"
      },
      "source": [
        "Sample weighted average aggregation function"
      ]
    },
    {
      "cell_type": "code",
      "metadata": {
        "colab_type": "code",
        "id": "_8zSjKIfVKkP",
        "colab": {}
      },
      "source": [
        "agg_func = {'colA': ['sum'], \n",
        "            'colB': lambda x: np.average(x, weights=d.loc[x.index, 'colC'])}"
      ],
      "execution_count": 0,
      "outputs": []
    },
    {
      "cell_type": "markdown",
      "metadata": {
        "colab_type": "text",
        "id": "HA7gGTO5VKkQ"
      },
      "source": [
        "## Miscellaneous"
      ]
    },
    {
      "cell_type": "markdown",
      "metadata": {
        "colab_type": "text",
        "id": "BLY5mheqVKkQ"
      },
      "source": [
        "Functions in dictionary"
      ]
    },
    {
      "cell_type": "code",
      "metadata": {
        "colab_type": "code",
        "id": "q6egDR7tVKkR",
        "colab": {}
      },
      "source": [
        "func = {\n",
        "    'times2': lambda x: print(\"The solution is: {}\".format(x**2)),\n",
        "    'times3': lambda x: print(\"The solution is: {}\".format(x**3)),\n",
        "    'times4': lambda x: print(\"The solution is: {}\".format(x**4))\n",
        "}"
      ],
      "execution_count": 0,
      "outputs": []
    },
    {
      "cell_type": "code",
      "metadata": {
        "colab_type": "code",
        "id": "bJ8fRMJZVKkW",
        "colab": {}
      },
      "source": [
        "func['times2'](3)"
      ],
      "execution_count": 0,
      "outputs": []
    },
    {
      "cell_type": "markdown",
      "metadata": {
        "colab_type": "text",
        "id": "1p45a9PWVKkX"
      },
      "source": [
        "## Recommended Cheat Sheets"
      ]
    },
    {
      "cell_type": "markdown",
      "metadata": {
        "colab_type": "text",
        "id": "Esjvbj-fVKkY"
      },
      "source": [
        "* [Pandas DataFrame Object](http://www.webpages.uidaho.edu/~stevel/504/Pandas%20DataFrame%20Notes.pdf) from University of Idaho\n",
        "* [Data Wrangling with Pandas](http://cs.umw.edu/~stephen/cpsc219/Pandas_Cheat_Sheet.pdf) from University of Mary Washington"
      ]
    },
    {
      "cell_type": "markdown",
      "metadata": {
        "colab_type": "text",
        "id": "ADy4sGZPVKkY"
      },
      "source": [
        "### End of notebook."
      ]
    }
  ]
}