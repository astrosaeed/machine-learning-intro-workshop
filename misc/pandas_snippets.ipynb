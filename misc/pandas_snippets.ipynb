{
  "nbformat": 4,
  "nbformat_minor": 0,
  "metadata": {
    "kernelspec": {
      "display_name": "Python 3",
      "language": "python",
      "name": "python3"
    },
    "language_info": {
      "codemirror_mode": {
        "name": "ipython",
        "version": 3
      },
      "file_extension": ".py",
      "mimetype": "text/x-python",
      "name": "python",
      "nbconvert_exporter": "python",
      "pygments_lexer": "ipython3",
      "version": "3.6.8"
    },
    "colab": {
      "name": "pandas_snippets.ipynb",
      "version": "0.3.2",
      "provenance": []
    }
  },
  "cells": [
    {
      "cell_type": "markdown",
      "metadata": {
        "id": "2nOG_nSOVKgi",
        "colab_type": "text"
      },
      "source": [
        "# Useful Pandas Snippets"
      ]
    },
    {
      "cell_type": "markdown",
      "metadata": {
        "id": "gj_JxsF7VKgk",
        "colab_type": "text"
      },
      "source": [
        "- From [Pandas Snippets](https://github.com/siebenrock/pandas-snippets) by [Kai Siebenrock](https://github.com/siebenrock)\n",
        "\n",
        "Updated by [John Fogarty](https://github.com/jfogarty) for Python 3.6 and [Base2 MLI](https://github.com/base2solutions/mli) and [colab](https://colab.research.google.com) standalone evaluation."
      ]
    },
    {
      "cell_type": "code",
      "metadata": {
        "id": "yxmdnQN-VKgm",
        "colab_type": "code",
        "colab": {}
      },
      "source": [
        "import numpy as np\n",
        "import pandas as pd\n",
        "import matplotlib.pyplot as plt\n",
        "%matplotlib inline"
      ],
      "execution_count": 0,
      "outputs": []
    },
    {
      "cell_type": "markdown",
      "metadata": {
        "id": "Y2q2uPGNVKgq",
        "colab_type": "text"
      },
      "source": [
        "## Importing Data"
      ]
    },
    {
      "cell_type": "code",
      "metadata": {
        "id": "hr0tmvCZVKgr",
        "colab_type": "code",
        "colab": {}
      },
      "source": [
        "import os\n",
        "REPODATA='https://github.com/plotly/datasets/blob/master/titanic.csv'\n",
        "RAWDATA='https://raw.githubusercontent.com/plotly/datasets/master/titanic.csv'\n",
        "filename='titanic.csv'\n",
        "TMPDATA='./tmpData'\n",
        "if not os.path.exists(TMPDATA) : os.makedirs(TMPDATA)\n",
        "datafile=os.path.join(TMPDATA, filename)\n",
        "!curl $RAWDATA -o $datafile"
      ],
      "execution_count": 0,
      "outputs": []
    },
    {
      "cell_type": "code",
      "metadata": {
        "id": "7OaH_tzjVKgv",
        "colab_type": "code",
        "colab": {}
      },
      "source": [
        "#@title Nasty File Transfer Utility Tools\n",
        "import numpy as np\n",
        "import requests\n",
        "import shutil\n",
        "import gzip\n",
        "import os\n",
        "from bs4 import BeautifulSoup\n",
        "\n",
        "ds = np.DataSource()\n",
        "def copyHere(URL, toPath, quiet=False):\n",
        "    toDir, toFile = os.path.split(toPath)\n",
        "    toPath = os.path.join(toDir, toFile)\n",
        "    if os.path.exists(toPath + 'x'):\n",
        "        if not quiet:\n",
        "            print(f\"- Skipped copy of existing file {toPath}.\")\n",
        "    else:\n",
        "        if ds.exists(URL):\n",
        "            if not toFile:\n",
        "                urlPrefix, toFile = os.path.split(URL)\n",
        "            response = requests.get(URL, stream=True)\n",
        "            response.raw.decode_content=True  # reflate and ungzip automatically.\n",
        "            response.encoding = 'utf-8'\n",
        "            if toDir:\n",
        "                if not os.path.exists(toDir): \n",
        "                  print(f\"- Creating directory '{toDir}'.\")\n",
        "                  os.makedirs(toDir)\n",
        "            with open(toPath, 'wb') as f: shutil.copyfileobj(response.raw, f)\n",
        "            if not quiet: \n",
        "                print(f\"- Downloaded {URL}.\")\n",
        "            gzipped = False\n",
        "            # If the file sent is gzipped, unpack it anyway.\n",
        "            with open(toPath, 'rb') as fin:\n",
        "                prefix = fin.read(2) \n",
        "                gzipped = prefix == b'\\x1f\\x8b'\n",
        "            if gzipped:\n",
        "                gzPath = toPath + '.gz'               \n",
        "                if os.path.exists(gzPath):\n",
        "                    os.remove(gzPath)\n",
        "                os.rename(toPath, gzPath)\n",
        "                with gzip.open(gzPath) as gz:\n",
        "                    with open(toPath, 'wb') as fout:\n",
        "                         shutil.copyfileobj(gz, fout)\n",
        "                if not quiet: \n",
        "                    print(f\"- Unpacked gzipped file '{gzPath}' to '{toPath}'.\")\n",
        "            else:\n",
        "                print(f\"- Installed locally as '{toPath}'.\")\n",
        "        else:\n",
        "            print(f\"** Sorry, can't copy '{URL}' to '{toPath}'.\")"
      ],
      "execution_count": 0,
      "outputs": []
    },
    {
      "cell_type": "code",
      "metadata": {
        "id": "bpyMZOAsVKgx",
        "colab_type": "code",
        "colab": {}
      },
      "source": [
        "copyHere(RAWDATA, datafile)"
      ],
      "execution_count": 0,
      "outputs": []
    },
    {
      "cell_type": "markdown",
      "metadata": {
        "id": "U-ZkD6HCVKgz",
        "colab_type": "text"
      },
      "source": [
        "Read from CSV file"
      ]
    },
    {
      "cell_type": "code",
      "metadata": {
        "id": "4clGC8_yVKg1",
        "colab_type": "code",
        "colab": {}
      },
      "source": [
        "df = pd.read_csv(datafile)\n",
        "\n",
        "df.describe()"
      ],
      "execution_count": 0,
      "outputs": []
    },
    {
      "cell_type": "code",
      "metadata": {
        "id": "ybr9cbgZVKg7",
        "colab_type": "code",
        "colab": {}
      },
      "source": [
        "df.head()"
      ],
      "execution_count": 0,
      "outputs": []
    },
    {
      "cell_type": "code",
      "metadata": {
        "id": "PZHd_iu8VKhB",
        "colab_type": "code",
        "colab": {}
      },
      "source": [
        "df"
      ],
      "execution_count": 0,
      "outputs": []
    },
    {
      "cell_type": "markdown",
      "metadata": {
        "id": "IRTTtbg8VKhF",
        "colab_type": "text"
      },
      "source": [
        "## Creating Data"
      ]
    },
    {
      "cell_type": "markdown",
      "metadata": {
        "id": "zbUFpG6cVKhG",
        "colab_type": "text"
      },
      "source": [
        "Using dataframe"
      ]
    },
    {
      "cell_type": "code",
      "metadata": {
        "id": "ZyFp4URMVKhH",
        "colab_type": "code",
        "colab": {}
      },
      "source": [
        "pd.DataFrame({'Name':['Marie', 'John', 'Max', 'Jane'],\n",
        "              'Age':[32, 28, 27, 33]}, \n",
        "             index=['rank1','rank2','rank3','rank4'])"
      ],
      "execution_count": 0,
      "outputs": []
    },
    {
      "cell_type": "code",
      "metadata": {
        "id": "tsXgnHLXVKhN",
        "colab_type": "code",
        "colab": {}
      },
      "source": [
        "pd.DataFrame(np.random.randint(low=0, high=100, size=(5, 5)), \n",
        "             columns=['A', 'B', 'C', 'D', 'E'])"
      ],
      "execution_count": 0,
      "outputs": []
    },
    {
      "cell_type": "markdown",
      "metadata": {
        "id": "RGZt_FFUVKhh",
        "colab_type": "text"
      },
      "source": [
        "Using list comprehension"
      ]
    },
    {
      "cell_type": "code",
      "metadata": {
        "id": "CZKx9N1zVKhh",
        "colab_type": "code",
        "colab": {}
      },
      "source": [
        "list = [x**2 for x in range(10)]"
      ],
      "execution_count": 0,
      "outputs": []
    },
    {
      "cell_type": "code",
      "metadata": {
        "id": "D7i6H_QRVKhk",
        "colab_type": "code",
        "colab": {}
      },
      "source": [
        "[x for x in list if x % 2 == 0]"
      ],
      "execution_count": 0,
      "outputs": []
    },
    {
      "cell_type": "markdown",
      "metadata": {
        "id": "VhwLU3pnVKhm",
        "colab_type": "text"
      },
      "source": [
        "## Cleaning"
      ]
    },
    {
      "cell_type": "markdown",
      "metadata": {
        "id": "zXrI5iCQVKhm",
        "colab_type": "text"
      },
      "source": [
        "Drop NaN in fare"
      ]
    },
    {
      "cell_type": "code",
      "metadata": {
        "id": "SIknzOnoVKhn",
        "colab_type": "code",
        "colab": {}
      },
      "source": [
        "df.dropna(subset=[\"Fare\"], inplace=True)"
      ],
      "execution_count": 0,
      "outputs": []
    },
    {
      "cell_type": "markdown",
      "metadata": {
        "id": "0N2FvrxMVKhp",
        "colab_type": "text"
      },
      "source": [
        "Return null values"
      ]
    },
    {
      "cell_type": "code",
      "metadata": {
        "id": "X_ZR5MQkVKhq",
        "colab_type": "code",
        "colab": {}
      },
      "source": [
        "df[df['Fare'].isnull()]"
      ],
      "execution_count": 0,
      "outputs": []
    },
    {
      "cell_type": "markdown",
      "metadata": {
        "id": "qWBzkeofVKht",
        "colab_type": "text"
      },
      "source": [
        "Upper case all column names"
      ]
    },
    {
      "cell_type": "code",
      "metadata": {
        "id": "Sbp1NaKIVKhu",
        "colab_type": "code",
        "colab": {}
      },
      "source": [
        "df.columns = map(str.upper, df.columns)\n",
        "df.head()"
      ],
      "execution_count": 0,
      "outputs": []
    },
    {
      "cell_type": "markdown",
      "metadata": {
        "id": "pwJeTU1GVKhy",
        "colab_type": "text"
      },
      "source": [
        "Rename columns"
      ]
    },
    {
      "cell_type": "code",
      "metadata": {
        "id": "lQjVT00_VKhz",
        "colab_type": "code",
        "colab": {}
      },
      "source": [
        "df = df.rename(columns = {\n",
        "    'Pclass':'Class',\n",
        "    'Name':'Full Name',\n",
        "})"
      ],
      "execution_count": 0,
      "outputs": []
    },
    {
      "cell_type": "markdown",
      "metadata": {
        "id": "zp6TkuxdVKh1",
        "colab_type": "text"
      },
      "source": [
        "Alternatively"
      ]
    },
    {
      "cell_type": "code",
      "metadata": {
        "id": "IvEckHY8VKh2",
        "colab_type": "code",
        "colab": {}
      },
      "source": [
        "df.columns = ['A', 'B', 'C', 'D', 'E', 'F', 'G', 'H', 'I', 'J', 'K', 'L']\n",
        "df.columns = ['Id', 'Survived', 'Pclass', 'Name', 'Sex', 'Age', 'Siblings/Spouses Aboard', \n",
        "              'Parents/Children Aboard', 'Ticket', 'Fare', 'Cabin', 'Embarked']"
      ],
      "execution_count": 0,
      "outputs": []
    },
    {
      "cell_type": "markdown",
      "metadata": {
        "id": "jH7qA2SGVKh5",
        "colab_type": "text"
      },
      "source": [
        "Filter columns containing \"Aboard\""
      ]
    },
    {
      "cell_type": "code",
      "metadata": {
        "id": "ygA8qZlBVKh5",
        "colab_type": "code",
        "colab": {}
      },
      "source": [
        "df_aboard = df.loc[:, df.columns[df.columns.str.contains('Aboard')].tolist()]"
      ],
      "execution_count": 0,
      "outputs": []
    },
    {
      "cell_type": "code",
      "metadata": {
        "id": "5Juv49-AVKh_",
        "colab_type": "code",
        "colab": {}
      },
      "source": [
        "df_aboard.head()"
      ],
      "execution_count": 0,
      "outputs": []
    },
    {
      "cell_type": "markdown",
      "metadata": {
        "id": "dzQy39dvVKiD",
        "colab_type": "text"
      },
      "source": [
        "Replace strings in column"
      ]
    },
    {
      "cell_type": "code",
      "metadata": {
        "id": "T8xjJ2DFVKiJ",
        "colab_type": "code",
        "colab": {}
      },
      "source": [
        "df['Sex'] = df['Sex'].str.replace('Mr.', 'Mister')"
      ],
      "execution_count": 0,
      "outputs": []
    },
    {
      "cell_type": "markdown",
      "metadata": {
        "id": "WEgKvxWKVKiR",
        "colab_type": "text"
      },
      "source": [
        "Remove if contains character"
      ]
    },
    {
      "cell_type": "code",
      "metadata": {
        "id": "_2vxeU8wVKiS",
        "colab_type": "code",
        "colab": {}
      },
      "source": [
        "files = ['afile', 'bfile', 'not~mefile', 'cfile']\n",
        "notfiles = [file for file in files if \"~\" not in file]\n",
        "notfiles"
      ],
      "execution_count": 0,
      "outputs": []
    },
    {
      "cell_type": "markdown",
      "metadata": {
        "id": "ogJsLg0kVKiX",
        "colab_type": "text"
      },
      "source": [
        "Remove based on multiple values"
      ]
    },
    {
      "cell_type": "code",
      "metadata": {
        "id": "mbJAG5nCVKiY",
        "colab_type": "code",
        "colab": {}
      },
      "source": [
        "df = df[~df['Name'].isin(['Invalid', 'Unknown'])]\n",
        "df"
      ],
      "execution_count": 0,
      "outputs": []
    },
    {
      "cell_type": "markdown",
      "metadata": {
        "id": "UgYeiwv9VKib",
        "colab_type": "text"
      },
      "source": [
        "Change type"
      ]
    },
    {
      "cell_type": "code",
      "metadata": {
        "id": "EXx98GLeVKic",
        "colab_type": "code",
        "colab": {}
      },
      "source": [
        "df['Fare'] = df['Fare'].astype(float)"
      ],
      "execution_count": 0,
      "outputs": []
    },
    {
      "cell_type": "markdown",
      "metadata": {
        "id": "oB6XthiJVKie",
        "colab_type": "text"
      },
      "source": [
        "Reset index"
      ]
    },
    {
      "cell_type": "code",
      "metadata": {
        "id": "df-GjPGGVKif",
        "colab_type": "code",
        "colab": {}
      },
      "source": [
        "df.reset_index(drop=True, inplace=True)"
      ],
      "execution_count": 0,
      "outputs": []
    },
    {
      "cell_type": "markdown",
      "metadata": {
        "id": "04QITR0-VKih",
        "colab_type": "text"
      },
      "source": [
        "Convert to lower case"
      ]
    },
    {
      "cell_type": "code",
      "metadata": {
        "id": "Th304VrkVKih",
        "colab_type": "code",
        "colab": {}
      },
      "source": [
        "df['Sex'] = df['Sex'].str.lower()"
      ],
      "execution_count": 0,
      "outputs": []
    },
    {
      "cell_type": "code",
      "metadata": {
        "id": "3UcSXQpDVKij",
        "colab_type": "code",
        "colab": {}
      },
      "source": [
        "df[\"Pclass\"] * 1000"
      ],
      "execution_count": 0,
      "outputs": []
    },
    {
      "cell_type": "code",
      "metadata": {
        "id": "R2lKnKV2VKim",
        "colab_type": "code",
        "colab": {}
      },
      "source": [
        "df.head()"
      ],
      "execution_count": 0,
      "outputs": []
    },
    {
      "cell_type": "markdown",
      "metadata": {
        "id": "_uMzDCgfVKip",
        "colab_type": "text"
      },
      "source": [
        "Deleting columns"
      ]
    },
    {
      "cell_type": "code",
      "metadata": {
        "id": "3JTfllzLVKiq",
        "colab_type": "code",
        "colab": {}
      },
      "source": [
        "del df['Siblings/Spouses Aboard']\n",
        "del df['Parents/Children Aboard']\n",
        "df.head()"
      ],
      "execution_count": 0,
      "outputs": []
    },
    {
      "cell_type": "markdown",
      "metadata": {
        "id": "Caj2BN47VKis",
        "colab_type": "text"
      },
      "source": [
        "## Exploring"
      ]
    },
    {
      "cell_type": "markdown",
      "metadata": {
        "id": "fBYriPK7VKit",
        "colab_type": "text"
      },
      "source": [
        "Number of rows"
      ]
    },
    {
      "cell_type": "code",
      "metadata": {
        "id": "2YcP6mruVKiu",
        "colab_type": "code",
        "colab": {}
      },
      "source": [
        "len(df.index)"
      ],
      "execution_count": 0,
      "outputs": []
    },
    {
      "cell_type": "markdown",
      "metadata": {
        "id": "6Op9w4c0VKix",
        "colab_type": "text"
      },
      "source": [
        "Get info"
      ]
    },
    {
      "cell_type": "code",
      "metadata": {
        "id": "rf89jSzPVKiy",
        "colab_type": "code",
        "colab": {}
      },
      "source": [
        "df.info()"
      ],
      "execution_count": 0,
      "outputs": []
    },
    {
      "cell_type": "markdown",
      "metadata": {
        "id": "jZS9vFolVKi2",
        "colab_type": "text"
      },
      "source": [
        "Describe data"
      ]
    },
    {
      "cell_type": "code",
      "metadata": {
        "id": "t_3QzkyyVKi3",
        "colab_type": "code",
        "colab": {}
      },
      "source": [
        "df.describe()"
      ],
      "execution_count": 0,
      "outputs": []
    },
    {
      "cell_type": "markdown",
      "metadata": {
        "id": "5Ex0mqq3VKi9",
        "colab_type": "text"
      },
      "source": [
        "Select two columns"
      ]
    },
    {
      "cell_type": "code",
      "metadata": {
        "id": "GnQ8l_8_VKi-",
        "colab_type": "code",
        "colab": {}
      },
      "source": [
        "df[['Name', 'Fare']].head()"
      ],
      "execution_count": 0,
      "outputs": []
    },
    {
      "cell_type": "markdown",
      "metadata": {
        "id": "cMEdLD9dVKjB",
        "colab_type": "text"
      },
      "source": [
        "Get titles"
      ]
    },
    {
      "cell_type": "code",
      "metadata": {
        "id": "tcjMUV30VKjC",
        "colab_type": "code",
        "colab": {}
      },
      "source": [
        "df[\"Title\"] = df[\"Name\"].str.split(\" \").str[0]"
      ],
      "execution_count": 0,
      "outputs": []
    },
    {
      "cell_type": "markdown",
      "metadata": {
        "id": "V4txHDPRWjpS",
        "colab_type": "text"
      },
      "source": [
        "Find records with no specified Age"
      ]
    },
    {
      "cell_type": "code",
      "metadata": {
        "id": "h_ygjkQ8WkMX",
        "colab_type": "code",
        "colab": {}
      },
      "source": [
        "df[df['Age'].isna()]"
      ],
      "execution_count": 0,
      "outputs": []
    },
    {
      "cell_type": "markdown",
      "metadata": {
        "id": "uEnO0K3bVKjF",
        "colab_type": "text"
      },
      "source": [
        "Looking only at males"
      ]
    },
    {
      "cell_type": "code",
      "metadata": {
        "id": "szLc_fzbVKjG",
        "colab_type": "code",
        "colab": {}
      },
      "source": [
        "df[df['Sex'] == 'male'].head()"
      ],
      "execution_count": 0,
      "outputs": []
    },
    {
      "cell_type": "markdown",
      "metadata": {
        "id": "2XYrrmVMVKjI",
        "colab_type": "text"
      },
      "source": [
        "Looking only at males who survived"
      ]
    },
    {
      "cell_type": "code",
      "metadata": {
        "id": "tkM8MYmKVKjJ",
        "colab_type": "code",
        "colab": {}
      },
      "source": [
        "df[(df['Sex'] == 'male') & (df['Survived'] == 1)].head()"
      ],
      "execution_count": 0,
      "outputs": []
    },
    {
      "cell_type": "markdown",
      "metadata": {
        "id": "5Qv0FVQnVKjM",
        "colab_type": "text"
      },
      "source": [
        "Looking only at males who survived above the age of 50"
      ]
    },
    {
      "cell_type": "code",
      "metadata": {
        "id": "pPl52O6qVKjN",
        "colab_type": "code",
        "colab": {}
      },
      "source": [
        "df[(df['Sex'] == 'male') & (df['Survived'] == 1) & (df['Age'] > 50)].head()"
      ],
      "execution_count": 0,
      "outputs": []
    },
    {
      "cell_type": "markdown",
      "metadata": {
        "id": "8ig_vtG4VKjU",
        "colab_type": "text"
      },
      "source": [
        "Set column value based on other columns"
      ]
    },
    {
      "cell_type": "code",
      "metadata": {
        "id": "xG2FkdUGVKjV",
        "colab_type": "code",
        "colab": {}
      },
      "source": [
        "df['Note'] = np.nan"
      ],
      "execution_count": 0,
      "outputs": []
    },
    {
      "cell_type": "code",
      "metadata": {
        "id": "fG2L9dXvVKjY",
        "colab_type": "code",
        "colab": {}
      },
      "source": [
        "df.loc[(df['Sex'] == 'male') & (df['Survived'] == 1) & (df['Age'] > 50), \n",
        "       ['Note']] = 'Male Above 50 Survived'"
      ],
      "execution_count": 0,
      "outputs": []
    },
    {
      "cell_type": "code",
      "metadata": {
        "id": "ql-I_syNVKja",
        "colab_type": "code",
        "colab": {}
      },
      "source": [
        "df['Note'].sort_values()[:3]"
      ],
      "execution_count": 0,
      "outputs": []
    },
    {
      "cell_type": "markdown",
      "metadata": {
        "id": "RxX0UbdjVKjc",
        "colab_type": "text"
      },
      "source": [
        "Number of men who survived"
      ]
    },
    {
      "cell_type": "code",
      "metadata": {
        "id": "olJfHceKVKjd",
        "colab_type": "code",
        "colab": {}
      },
      "source": [
        "len(df[(df['Sex'] == 'male') & (df['Survived'] == 1)])"
      ],
      "execution_count": 0,
      "outputs": []
    },
    {
      "cell_type": "markdown",
      "metadata": {
        "id": "nDUqxcgxVKjn",
        "colab_type": "text"
      },
      "source": [
        "Average age of men who survived"
      ]
    },
    {
      "cell_type": "code",
      "metadata": {
        "id": "h0HQRItuVKjo",
        "colab_type": "code",
        "colab": {}
      },
      "source": [
        "df[(df['Sex'] == 'male') & (df['Survived'] == 1)]['Age'].mean()"
      ],
      "execution_count": 0,
      "outputs": []
    },
    {
      "cell_type": "markdown",
      "metadata": {
        "id": "dgZMDbXVVKjr",
        "colab_type": "text"
      },
      "source": [
        "Filter by multiple values"
      ]
    },
    {
      "cell_type": "code",
      "metadata": {
        "id": "RyHvaAd1VKjr",
        "colab_type": "code",
        "colab": {}
      },
      "source": [
        "df[df[\"Name\"].isin([\"Mr. Charles Eugene Williams\", \"Mr. Lawrence Beesley\"])]"
      ],
      "execution_count": 0,
      "outputs": []
    },
    {
      "cell_type": "markdown",
      "metadata": {
        "id": "eWGcpm4JVKjt",
        "colab_type": "text"
      },
      "source": [
        "Highest fare paid"
      ]
    },
    {
      "cell_type": "code",
      "metadata": {
        "id": "7NsEE-ugVKju",
        "colab_type": "code",
        "colab": {}
      },
      "source": [
        "df.loc[df['Fare'].idxmax()]"
      ],
      "execution_count": 0,
      "outputs": []
    },
    {
      "cell_type": "markdown",
      "metadata": {
        "id": "E7kbKc1KVKjw",
        "colab_type": "text"
      },
      "source": [
        "Sorting"
      ]
    },
    {
      "cell_type": "code",
      "metadata": {
        "id": "hjq6Msi6VKjx",
        "colab_type": "code",
        "colab": {}
      },
      "source": [
        "df.sort_values(['Fare', 'Age'], ascending=[0,1]).head()"
      ],
      "execution_count": 0,
      "outputs": []
    },
    {
      "cell_type": "markdown",
      "metadata": {
        "id": "LrtpcoTZVKj2",
        "colab_type": "text"
      },
      "source": [
        "Sort by multiple columns"
      ]
    },
    {
      "cell_type": "code",
      "metadata": {
        "id": "LGrhiLUCVKj2",
        "colab_type": "code",
        "colab": {}
      },
      "source": [
        "df.sort_values(['Fare', 'Age'], ascending=[0,1]).head()"
      ],
      "execution_count": 0,
      "outputs": []
    },
    {
      "cell_type": "markdown",
      "metadata": {
        "id": "Kh-JxkT5VKj5",
        "colab_type": "text"
      },
      "source": [
        "Number of classes"
      ]
    },
    {
      "cell_type": "code",
      "metadata": {
        "id": "6vOS-KWIVKj6",
        "colab_type": "code",
        "colab": {}
      },
      "source": [
        "df['Pclass'].unique()"
      ],
      "execution_count": 0,
      "outputs": []
    },
    {
      "cell_type": "markdown",
      "metadata": {
        "id": "Kl67t0wDVKj8",
        "colab_type": "text"
      },
      "source": [
        "Count of each class"
      ]
    },
    {
      "cell_type": "code",
      "metadata": {
        "id": "0zN-TatbVKj8",
        "colab_type": "code",
        "colab": {}
      },
      "source": [
        "df['Pclass'].value_counts()"
      ],
      "execution_count": 0,
      "outputs": []
    },
    {
      "cell_type": "markdown",
      "metadata": {
        "id": "d5jGhOIBVKj-",
        "colab_type": "text"
      },
      "source": [
        "Find duplicates : [pandas.DataFrame.duplicated](https://pandas.pydata.org/pandas-docs/stable/reference/api/pandas.DataFrame.duplicated.html)"
      ]
    },
    {
      "cell_type": "code",
      "metadata": {
        "id": "vVppsLMFVKj_",
        "colab_type": "code",
        "colab": {}
      },
      "source": [
        "df[df.duplicated(['Name'], keep=False)]"
      ],
      "execution_count": 0,
      "outputs": []
    },
    {
      "cell_type": "markdown",
      "metadata": {
        "id": "LpdhOMv6VKkA",
        "colab_type": "text"
      },
      "source": [
        "## Looping"
      ]
    },
    {
      "cell_type": "code",
      "metadata": {
        "id": "0WPme5AoVKkD",
        "colab_type": "code",
        "colab": {}
      },
      "source": [
        "for index, row in df.iterrows():\n",
        "    print(index)\n",
        "    print(row)"
      ],
      "execution_count": 0,
      "outputs": []
    },
    {
      "cell_type": "markdown",
      "metadata": {
        "id": "-rGHR-zOVKkH",
        "colab_type": "text"
      },
      "source": [
        "Returning tuples"
      ]
    },
    {
      "cell_type": "code",
      "metadata": {
        "id": "hLxmrKvYVKkI",
        "colab_type": "code",
        "colab": {}
      },
      "source": [
        "for row in df.itertuples():\n",
        "    print(row)"
      ],
      "execution_count": 0,
      "outputs": []
    },
    {
      "cell_type": "markdown",
      "metadata": {
        "id": "LywyxVVAVKkK",
        "colab_type": "text"
      },
      "source": [
        "## Grouping"
      ]
    },
    {
      "cell_type": "markdown",
      "metadata": {
        "id": "8hcXmE77VKkK",
        "colab_type": "text"
      },
      "source": [
        "Group by class and aggregate fare by mean"
      ]
    },
    {
      "cell_type": "code",
      "metadata": {
        "id": "PS_LHxKXVKkK",
        "colab_type": "code",
        "colab": {}
      },
      "source": [
        "df.groupby(['Pclass'])['Fare'].mean()"
      ],
      "execution_count": 0,
      "outputs": []
    },
    {
      "cell_type": "markdown",
      "metadata": {
        "id": "Mekv-a_GVKkM",
        "colab_type": "text"
      },
      "source": [
        "Pivot table"
      ]
    },
    {
      "cell_type": "code",
      "metadata": {
        "id": "tIrmGaoDVKkN",
        "colab_type": "code",
        "colab": {}
      },
      "source": [
        "pd.pivot_table(df, values='Fare', index='Pclass', columns='Sex', \n",
        "               aggfunc=np.mean)"
      ],
      "execution_count": 0,
      "outputs": []
    },
    {
      "cell_type": "markdown",
      "metadata": {
        "id": "j98bC1nuVKkO",
        "colab_type": "text"
      },
      "source": [
        "Sample weighted average aggregation function"
      ]
    },
    {
      "cell_type": "code",
      "metadata": {
        "id": "_8zSjKIfVKkP",
        "colab_type": "code",
        "colab": {}
      },
      "source": [
        "agg_func = {'colA': ['sum'], \n",
        "            'colB': lambda x: np.average(x, weights=d.loc[x.index, 'colC'])}"
      ],
      "execution_count": 0,
      "outputs": []
    },
    {
      "cell_type": "markdown",
      "metadata": {
        "id": "HA7gGTO5VKkQ",
        "colab_type": "text"
      },
      "source": [
        "## Miscellaneous"
      ]
    },
    {
      "cell_type": "markdown",
      "metadata": {
        "id": "BLY5mheqVKkQ",
        "colab_type": "text"
      },
      "source": [
        "Functions in dictionary"
      ]
    },
    {
      "cell_type": "code",
      "metadata": {
        "id": "q6egDR7tVKkR",
        "colab_type": "code",
        "colab": {}
      },
      "source": [
        "func = {\n",
        "    'times2': lambda x: print(\"The solution is: {}\".format(x**2)),\n",
        "    'times3': lambda x: print(\"The solution is: {}\".format(x**3)),\n",
        "    'times4': lambda x: print(\"The solution is: {}\".format(x**4))\n",
        "}"
      ],
      "execution_count": 0,
      "outputs": []
    },
    {
      "cell_type": "code",
      "metadata": {
        "id": "bJ8fRMJZVKkW",
        "colab_type": "code",
        "colab": {}
      },
      "source": [
        "func['times2'](3)"
      ],
      "execution_count": 0,
      "outputs": []
    },
    {
      "cell_type": "markdown",
      "metadata": {
        "id": "1p45a9PWVKkX",
        "colab_type": "text"
      },
      "source": [
        "## Recommended Cheat Sheets"
      ]
    },
    {
      "cell_type": "markdown",
      "metadata": {
        "id": "Esjvbj-fVKkY",
        "colab_type": "text"
      },
      "source": [
        "* [Pandas DataFrame Object](http://www.webpages.uidaho.edu/~stevel/504/Pandas%20DataFrame%20Notes.pdf) from University of Idaho\n",
        "* [Data Wrangling with Pandas](http://cs.umw.edu/~stephen/cpsc219/Pandas_Cheat_Sheet.pdf) from University of Mary Washington\n",
        "* [Python for Data Science Pandas Basics](http://datacamp-community.s3.amazonaws.com/3857975e-e12f-406a-b3e8-7d627217e952) from DataCamp\n",
        "* [Data Science Python Intermediate](https://www.dataquest.io/blog/large_files/python-cheat-sheet-intermediate.pdf) from Dataquest\n",
        "* [Data Science Numpy](https://www.dataquest.io/blog/large_files/numpy-cheat-sheet.pdf) from Dataquest\n",
        "* [Data Science Pandas](https://www.dataquest.io/blog/large_files/pandas-cheat-sheet.pdf) from Dataquest"
      ]
    },
    {
      "cell_type": "markdown",
      "metadata": {
        "id": "ADy4sGZPVKkY",
        "colab_type": "text"
      },
      "source": [
        "### End of notebook."
      ]
    }
  ]
}