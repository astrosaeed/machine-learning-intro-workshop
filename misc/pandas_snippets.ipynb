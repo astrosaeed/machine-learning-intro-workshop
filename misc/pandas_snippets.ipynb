{
 "cells": [
  {
   "cell_type": "markdown",
   "metadata": {
    "colab_type": "text",
    "id": "2nOG_nSOVKgi"
   },
   "source": [
    "# Useful Pandas Snippets"
   ]
  },
  {
   "cell_type": "markdown",
   "metadata": {
    "colab_type": "text",
    "id": "gj_JxsF7VKgk"
   },
   "source": [
    "- From [Pandas Snippets](https://github.com/siebenrock/pandas-snippets) by [Kai Siebenrock](https://github.com/siebenrock)\n",
    "\n",
    "Updated by [John Fogarty](https://github.com/jfogarty) for Python 3.6 and [Base2 MLI](https://github.com/base2solutions/mli) and [colab](https://colab.research.google.com) standalone evaluation."
   ]
  },
  {
   "cell_type": "code",
   "execution_count": 0,
   "metadata": {
    "colab": {},
    "colab_type": "code",
    "id": "yxmdnQN-VKgm"
   },
   "outputs": [],
   "source": [
    "import numpy as np\n",
    "import pandas as pd\n",
    "import matplotlib.pyplot as plt\n",
    "%matplotlib inline"
   ]
  },
  {
   "cell_type": "markdown",
   "metadata": {
    "colab_type": "text",
    "id": "Y2q2uPGNVKgq"
   },
   "source": [
    "## Importing Data\n",
    "\n",
    "<figure>\n",
    "    <img src=\"../images/titanic_ship.jpeg\" />\n",
    "    <figcaption></figcaption>\n",
    "</figure>"
   ]
  },
  {
   "cell_type": "code",
   "execution_count": 76,
   "metadata": {
    "colab": {},
    "colab_type": "code",
    "id": "7OaH_tzjVKgv"
   },
   "outputs": [],
   "source": [
    "#@title Nasty File Transfer Utility Tools\n",
    "import numpy as np\n",
    "import requests\n",
    "import shutil\n",
    "import gzip\n",
    "import os\n",
    "from bs4 import BeautifulSoup\n",
    "\n",
    "ds = np.DataSource()\n",
    "def copyHere(URL, toPath, quiet=False):\n",
    "    toDir, toFile = os.path.split(toPath)\n",
    "    toPath = os.path.join(toDir, toFile)\n",
    "    if os.path.exists(toPath):\n",
    "        if not quiet:\n",
    "            print(f\"- Skipped copy of existing file {toPath}.\")\n",
    "    else:\n",
    "        if ds.exists(URL):\n",
    "            if not toFile:\n",
    "                urlPrefix, toFile = os.path.split(URL)\n",
    "            response = requests.get(URL, stream=True)\n",
    "            response.raw.decode_content=True  # reflate and ungzip automatically.\n",
    "            response.encoding = 'utf-8'\n",
    "            if toDir:\n",
    "                if not os.path.exists(toDir): \n",
    "                  print(f\"- Creating directory '{toDir}'.\")\n",
    "                  os.makedirs(toDir)\n",
    "            with open(toPath, 'wb') as f: shutil.copyfileobj(response.raw, f)\n",
    "            if not quiet: \n",
    "                print(f\"- Downloaded {URL}.\")\n",
    "            gzipped = False\n",
    "            # If the file sent is gzipped, unpack it anyway.\n",
    "            with open(toPath, 'rb') as fin:\n",
    "                prefix = fin.read(2) \n",
    "                gzipped = prefix == b'\\x1f\\x8b'\n",
    "            if gzipped:\n",
    "                gzPath = toPath + '.gz'               \n",
    "                if os.path.exists(gzPath):\n",
    "                    os.remove(gzPath)\n",
    "                os.rename(toPath, gzPath)\n",
    "                with gzip.open(gzPath) as gz:\n",
    "                    with open(toPath, 'wb') as fout:\n",
    "                         shutil.copyfileobj(gz, fout)\n",
    "                if not quiet: \n",
    "                    print(f\"- Unpacked gzipped file '{gzPath}' to '{toPath}'.\")\n",
    "            else:\n",
    "                print(f\"- Installed locally as '{toPath}'.\")\n",
    "        else:\n",
    "            print(f\"** Sorry, can't copy '{URL}' to '{toPath}'.\")"
   ]
  },
  {
   "cell_type": "code",
   "execution_count": 0,
   "metadata": {
    "colab": {},
    "colab_type": "code",
    "id": "hr0tmvCZVKgr"
   },
   "outputs": [],
   "source": [
    "import os\n",
    "REPODATA='https://github.com/plotly/datasets/blob/master/titanic.csv'\n",
    "RAWDATA='https://raw.githubusercontent.com/plotly/datasets/master/titanic.csv'\n",
    "filename='titanic.csv'\n",
    "TMPDATA='./tmpData'\n",
    "if not os.path.exists(TMPDATA) : os.makedirs(TMPDATA)\n",
    "datafile=os.path.join(TMPDATA, filename)\n",
    "!curl $RAWDATA -o $datafile"
   ]
  },
  {
   "cell_type": "code",
   "execution_count": 0,
   "metadata": {
    "colab": {},
    "colab_type": "code",
    "id": "bpyMZOAsVKgx"
   },
   "outputs": [],
   "source": [
    "copyHere(RAWDATA, datafile)"
   ]
  },
  {
   "cell_type": "markdown",
   "metadata": {
    "colab_type": "text",
    "id": "U-ZkD6HCVKgz"
   },
   "source": [
    "Read from CSV file"
   ]
  },
  {
   "cell_type": "code",
   "execution_count": 0,
   "metadata": {
    "colab": {},
    "colab_type": "code",
    "id": "4clGC8_yVKg1"
   },
   "outputs": [],
   "source": [
    "df = pd.read_csv(datafile)\n",
    "\n",
    "df.describe()"
   ]
  },
  {
   "cell_type": "code",
   "execution_count": 0,
   "metadata": {
    "colab": {},
    "colab_type": "code",
    "id": "ybr9cbgZVKg7"
   },
   "outputs": [],
   "source": [
    "df.head()"
   ]
  },
  {
   "cell_type": "code",
   "execution_count": 0,
   "metadata": {
    "colab": {},
    "colab_type": "code",
    "id": "PZHd_iu8VKhB"
   },
   "outputs": [],
   "source": [
    "df"
   ]
  },
  {
   "cell_type": "markdown",
   "metadata": {
    "colab_type": "text",
    "id": "IRTTtbg8VKhF"
   },
   "source": [
    "## Creating Data"
   ]
  },
  {
   "cell_type": "markdown",
   "metadata": {
    "colab_type": "text",
    "id": "zbUFpG6cVKhG"
   },
   "source": [
    "Using dataframe"
   ]
  },
  {
   "cell_type": "code",
   "execution_count": 0,
   "metadata": {
    "colab": {},
    "colab_type": "code",
    "id": "ZyFp4URMVKhH"
   },
   "outputs": [],
   "source": [
    "pd.DataFrame({'Name':['Marie', 'John', 'Max', 'Jane'],\n",
    "              'Age':[32, 28, 27, 33]}, \n",
    "             index=['rank1','rank2','rank3','rank4'])"
   ]
  },
  {
   "cell_type": "code",
   "execution_count": 0,
   "metadata": {
    "colab": {},
    "colab_type": "code",
    "id": "tsXgnHLXVKhN"
   },
   "outputs": [],
   "source": [
    "pd.DataFrame(np.random.randint(low=0, high=100, size=(5, 5)), \n",
    "             columns=['A', 'B', 'C', 'D', 'E'])"
   ]
  },
  {
   "cell_type": "markdown",
   "metadata": {
    "colab_type": "text",
    "id": "RGZt_FFUVKhh"
   },
   "source": [
    "Using list comprehension"
   ]
  },
  {
   "cell_type": "code",
   "execution_count": 0,
   "metadata": {
    "colab": {},
    "colab_type": "code",
    "id": "CZKx9N1zVKhh"
   },
   "outputs": [],
   "source": [
    "list = [x**2 for x in range(10)]"
   ]
  },
  {
   "cell_type": "code",
   "execution_count": 0,
   "metadata": {
    "colab": {},
    "colab_type": "code",
    "id": "D7i6H_QRVKhk"
   },
   "outputs": [],
   "source": [
    "[x for x in list if x % 2 == 0]"
   ]
  },
  {
   "cell_type": "markdown",
   "metadata": {
    "colab_type": "text",
    "id": "VhwLU3pnVKhm"
   },
   "source": [
    "## Cleaning"
   ]
  },
  {
   "cell_type": "markdown",
   "metadata": {
    "colab_type": "text",
    "id": "zXrI5iCQVKhm"
   },
   "source": [
    "Drop NaN in fare"
   ]
  },
  {
   "cell_type": "code",
   "execution_count": 0,
   "metadata": {
    "colab": {},
    "colab_type": "code",
    "id": "SIknzOnoVKhn"
   },
   "outputs": [],
   "source": [
    "df.dropna(subset=[\"Fare\"], inplace=True)"
   ]
  },
  {
   "cell_type": "markdown",
   "metadata": {
    "colab_type": "text",
    "id": "0N2FvrxMVKhp"
   },
   "source": [
    "Return null values"
   ]
  },
  {
   "cell_type": "code",
   "execution_count": 0,
   "metadata": {
    "colab": {},
    "colab_type": "code",
    "id": "X_ZR5MQkVKhq"
   },
   "outputs": [],
   "source": [
    "df[df['Fare'].isnull()]"
   ]
  },
  {
   "cell_type": "markdown",
   "metadata": {
    "colab_type": "text",
    "id": "qWBzkeofVKht"
   },
   "source": [
    "Upper case all column names"
   ]
  },
  {
   "cell_type": "code",
   "execution_count": 0,
   "metadata": {
    "colab": {},
    "colab_type": "code",
    "id": "Sbp1NaKIVKhu"
   },
   "outputs": [],
   "source": [
    "df.columns = map(str.upper, df.columns)\n",
    "df.head()"
   ]
  },
  {
   "cell_type": "markdown",
   "metadata": {
    "colab_type": "text",
    "id": "pwJeTU1GVKhy"
   },
   "source": [
    "Rename columns"
   ]
  },
  {
   "cell_type": "code",
   "execution_count": 0,
   "metadata": {
    "colab": {},
    "colab_type": "code",
    "id": "lQjVT00_VKhz"
   },
   "outputs": [],
   "source": [
    "df = df.rename(columns = {\n",
    "    'Pclass':'Class',\n",
    "    'Name':'Full Name',\n",
    "})"
   ]
  },
  {
   "cell_type": "markdown",
   "metadata": {
    "colab_type": "text",
    "id": "zp6TkuxdVKh1"
   },
   "source": [
    "Alternatively"
   ]
  },
  {
   "cell_type": "code",
   "execution_count": 0,
   "metadata": {
    "colab": {},
    "colab_type": "code",
    "id": "IvEckHY8VKh2"
   },
   "outputs": [],
   "source": [
    "df.columns = ['A', 'B', 'C', 'D', 'E', 'F', 'G', 'H', 'I', 'J', 'K', 'L']\n",
    "df.columns = ['Id', 'Survived', 'Pclass', 'Name', 'Sex', 'Age', 'Siblings/Spouses Aboard', \n",
    "              'Parents/Children Aboard', 'Ticket', 'Fare', 'Cabin', 'Embarked']"
   ]
  },
  {
   "cell_type": "markdown",
   "metadata": {
    "colab_type": "text",
    "id": "jH7qA2SGVKh5"
   },
   "source": [
    "Filter columns containing \"Aboard\""
   ]
  },
  {
   "cell_type": "code",
   "execution_count": 0,
   "metadata": {
    "colab": {},
    "colab_type": "code",
    "id": "ygA8qZlBVKh5"
   },
   "outputs": [],
   "source": [
    "df_aboard = df.loc[:, df.columns[df.columns.str.contains('Aboard')].tolist()]"
   ]
  },
  {
   "cell_type": "code",
   "execution_count": 0,
   "metadata": {
    "colab": {},
    "colab_type": "code",
    "id": "5Juv49-AVKh_"
   },
   "outputs": [],
   "source": [
    "df_aboard.head()"
   ]
  },
  {
   "cell_type": "markdown",
   "metadata": {
    "colab_type": "text",
    "id": "dzQy39dvVKiD"
   },
   "source": [
    "Replace strings in column"
   ]
  },
  {
   "cell_type": "code",
   "execution_count": 0,
   "metadata": {
    "colab": {},
    "colab_type": "code",
    "id": "T8xjJ2DFVKiJ"
   },
   "outputs": [],
   "source": [
    "df['Sex'] = df['Sex'].str.replace('Mr.', 'Mister')"
   ]
  },
  {
   "cell_type": "markdown",
   "metadata": {
    "colab_type": "text",
    "id": "WEgKvxWKVKiR"
   },
   "source": [
    "Remove if contains character"
   ]
  },
  {
   "cell_type": "code",
   "execution_count": 0,
   "metadata": {
    "colab": {},
    "colab_type": "code",
    "id": "_2vxeU8wVKiS"
   },
   "outputs": [],
   "source": [
    "files = ['afile', 'bfile', 'not~mefile', 'cfile']\n",
    "notfiles = [file for file in files if \"~\" not in file]\n",
    "notfiles"
   ]
  },
  {
   "cell_type": "markdown",
   "metadata": {
    "colab_type": "text",
    "id": "ogJsLg0kVKiX"
   },
   "source": [
    "Remove based on multiple values"
   ]
  },
  {
   "cell_type": "code",
   "execution_count": 0,
   "metadata": {
    "colab": {},
    "colab_type": "code",
    "id": "mbJAG5nCVKiY"
   },
   "outputs": [],
   "source": [
    "df = df[~df['Name'].isin(['Invalid', 'Unknown'])]\n",
    "df"
   ]
  },
  {
   "cell_type": "markdown",
   "metadata": {
    "colab_type": "text",
    "id": "UgYeiwv9VKib"
   },
   "source": [
    "Change type"
   ]
  },
  {
   "cell_type": "code",
   "execution_count": 0,
   "metadata": {
    "colab": {},
    "colab_type": "code",
    "id": "EXx98GLeVKic"
   },
   "outputs": [],
   "source": [
    "df['Fare'] = df['Fare'].astype(float)"
   ]
  },
  {
   "cell_type": "markdown",
   "metadata": {
    "colab_type": "text",
    "id": "oB6XthiJVKie"
   },
   "source": [
    "Reset index"
   ]
  },
  {
   "cell_type": "code",
   "execution_count": 0,
   "metadata": {
    "colab": {},
    "colab_type": "code",
    "id": "df-GjPGGVKif"
   },
   "outputs": [],
   "source": [
    "df.reset_index(drop=True, inplace=True)"
   ]
  },
  {
   "cell_type": "markdown",
   "metadata": {
    "colab_type": "text",
    "id": "04QITR0-VKih"
   },
   "source": [
    "Convert to lower case"
   ]
  },
  {
   "cell_type": "code",
   "execution_count": 0,
   "metadata": {
    "colab": {},
    "colab_type": "code",
    "id": "Th304VrkVKih"
   },
   "outputs": [],
   "source": [
    "df['Sex'] = df['Sex'].str.lower()"
   ]
  },
  {
   "cell_type": "code",
   "execution_count": 0,
   "metadata": {
    "colab": {},
    "colab_type": "code",
    "id": "3UcSXQpDVKij"
   },
   "outputs": [],
   "source": [
    "df[\"Pclass\"] * 1000"
   ]
  },
  {
   "cell_type": "code",
   "execution_count": 0,
   "metadata": {
    "colab": {},
    "colab_type": "code",
    "id": "R2lKnKV2VKim"
   },
   "outputs": [],
   "source": [
    "df.head()"
   ]
  },
  {
   "cell_type": "markdown",
   "metadata": {
    "colab_type": "text",
    "id": "_uMzDCgfVKip"
   },
   "source": [
    "Deleting columns"
   ]
  },
  {
   "cell_type": "code",
   "execution_count": 0,
   "metadata": {
    "colab": {},
    "colab_type": "code",
    "id": "3JTfllzLVKiq"
   },
   "outputs": [],
   "source": [
    "del df['Siblings/Spouses Aboard']\n",
    "del df['Parents/Children Aboard']\n",
    "df.head()"
   ]
  },
  {
   "cell_type": "markdown",
   "metadata": {
    "colab_type": "text",
    "id": "Caj2BN47VKis"
   },
   "source": [
    "## Exploring"
   ]
  },
  {
   "cell_type": "markdown",
   "metadata": {
    "colab_type": "text",
    "id": "fBYriPK7VKit"
   },
   "source": [
    "Number of rows"
   ]
  },
  {
   "cell_type": "code",
   "execution_count": 0,
   "metadata": {
    "colab": {},
    "colab_type": "code",
    "id": "2YcP6mruVKiu"
   },
   "outputs": [],
   "source": [
    "len(df.index)"
   ]
  },
  {
   "cell_type": "markdown",
   "metadata": {
    "colab_type": "text",
    "id": "6Op9w4c0VKix"
   },
   "source": [
    "Get info"
   ]
  },
  {
   "cell_type": "code",
   "execution_count": 0,
   "metadata": {
    "colab": {},
    "colab_type": "code",
    "id": "rf89jSzPVKiy"
   },
   "outputs": [],
   "source": [
    "df.info()"
   ]
  },
  {
   "cell_type": "markdown",
   "metadata": {
    "colab_type": "text",
    "id": "jZS9vFolVKi2"
   },
   "source": [
    "Describe data"
   ]
  },
  {
   "cell_type": "code",
   "execution_count": 0,
   "metadata": {
    "colab": {},
    "colab_type": "code",
    "id": "t_3QzkyyVKi3"
   },
   "outputs": [],
   "source": [
    "df.describe()"
   ]
  },
  {
   "cell_type": "markdown",
   "metadata": {
    "colab_type": "text",
    "id": "5Ex0mqq3VKi9"
   },
   "source": [
    "Select two columns"
   ]
  },
  {
   "cell_type": "code",
   "execution_count": 0,
   "metadata": {
    "colab": {},
    "colab_type": "code",
    "id": "GnQ8l_8_VKi-"
   },
   "outputs": [],
   "source": [
    "df[['Name', 'Fare']].head()"
   ]
  },
  {
   "cell_type": "markdown",
   "metadata": {
    "colab_type": "text",
    "id": "cMEdLD9dVKjB"
   },
   "source": [
    "Get titles"
   ]
  },
  {
   "cell_type": "code",
   "execution_count": 0,
   "metadata": {
    "colab": {},
    "colab_type": "code",
    "id": "tcjMUV30VKjC"
   },
   "outputs": [],
   "source": [
    "df[\"Title\"] = df[\"Name\"].str.split(\" \").str[0]"
   ]
  },
  {
   "cell_type": "markdown",
   "metadata": {
    "colab_type": "text",
    "id": "V4txHDPRWjpS"
   },
   "source": [
    "Find records with no specified Age"
   ]
  },
  {
   "cell_type": "code",
   "execution_count": 0,
   "metadata": {
    "colab": {},
    "colab_type": "code",
    "id": "h_ygjkQ8WkMX"
   },
   "outputs": [],
   "source": [
    "df[df['Age'].isna()]"
   ]
  },
  {
   "cell_type": "markdown",
   "metadata": {
    "colab_type": "text",
    "id": "uEnO0K3bVKjF"
   },
   "source": [
    "Looking only at males"
   ]
  },
  {
   "cell_type": "code",
   "execution_count": 0,
   "metadata": {
    "colab": {},
    "colab_type": "code",
    "id": "szLc_fzbVKjG"
   },
   "outputs": [],
   "source": [
    "df[df['Sex'] == 'male'].head()"
   ]
  },
  {
   "cell_type": "markdown",
   "metadata": {
    "colab_type": "text",
    "id": "2XYrrmVMVKjI"
   },
   "source": [
    "Looking only at males who survived"
   ]
  },
  {
   "cell_type": "code",
   "execution_count": 0,
   "metadata": {
    "colab": {},
    "colab_type": "code",
    "id": "tkM8MYmKVKjJ"
   },
   "outputs": [],
   "source": [
    "df[(df['Sex'] == 'male') & (df['Survived'] == 1)].head()"
   ]
  },
  {
   "cell_type": "markdown",
   "metadata": {
    "colab_type": "text",
    "id": "5Qv0FVQnVKjM"
   },
   "source": [
    "Looking only at males who survived above the age of 50"
   ]
  },
  {
   "cell_type": "code",
   "execution_count": 0,
   "metadata": {
    "colab": {},
    "colab_type": "code",
    "id": "pPl52O6qVKjN"
   },
   "outputs": [],
   "source": [
    "df[(df['Sex'] == 'male') & (df['Survived'] == 1) & (df['Age'] > 50)].head()"
   ]
  },
  {
   "cell_type": "markdown",
   "metadata": {
    "colab_type": "text",
    "id": "8ig_vtG4VKjU"
   },
   "source": [
    "Set column value based on other columns"
   ]
  },
  {
   "cell_type": "code",
   "execution_count": 0,
   "metadata": {
    "colab": {},
    "colab_type": "code",
    "id": "xG2FkdUGVKjV"
   },
   "outputs": [],
   "source": [
    "df['Note'] = np.nan"
   ]
  },
  {
   "cell_type": "code",
   "execution_count": 0,
   "metadata": {
    "colab": {},
    "colab_type": "code",
    "id": "fG2L9dXvVKjY"
   },
   "outputs": [],
   "source": [
    "df.loc[(df['Sex'] == 'male') & (df['Survived'] == 1) & (df['Age'] > 50), \n",
    "       ['Note']] = 'Male Above 50 Survived'"
   ]
  },
  {
   "cell_type": "code",
   "execution_count": 0,
   "metadata": {
    "colab": {},
    "colab_type": "code",
    "id": "ql-I_syNVKja"
   },
   "outputs": [],
   "source": [
    "df['Note'].sort_values()[:3]"
   ]
  },
  {
   "cell_type": "markdown",
   "metadata": {
    "colab_type": "text",
    "id": "RxX0UbdjVKjc"
   },
   "source": [
    "Number of men who survived"
   ]
  },
  {
   "cell_type": "code",
   "execution_count": 0,
   "metadata": {
    "colab": {},
    "colab_type": "code",
    "id": "olJfHceKVKjd"
   },
   "outputs": [],
   "source": [
    "len(df[(df['Sex'] == 'male') & (df['Survived'] == 1)])"
   ]
  },
  {
   "cell_type": "markdown",
   "metadata": {
    "colab_type": "text",
    "id": "nDUqxcgxVKjn"
   },
   "source": [
    "Average age of men who survived"
   ]
  },
  {
   "cell_type": "code",
   "execution_count": 0,
   "metadata": {
    "colab": {},
    "colab_type": "code",
    "id": "h0HQRItuVKjo"
   },
   "outputs": [],
   "source": [
    "df[(df['Sex'] == 'male') & (df['Survived'] == 1)]['Age'].mean()"
   ]
  },
  {
   "cell_type": "markdown",
   "metadata": {
    "colab_type": "text",
    "id": "dgZMDbXVVKjr"
   },
   "source": [
    "Filter by multiple values"
   ]
  },
  {
   "cell_type": "code",
   "execution_count": 0,
   "metadata": {
    "colab": {},
    "colab_type": "code",
    "id": "RyHvaAd1VKjr"
   },
   "outputs": [],
   "source": [
    "df[df[\"Name\"].isin([\"Mr. Charles Eugene Williams\", \"Mr. Lawrence Beesley\"])]"
   ]
  },
  {
   "cell_type": "markdown",
   "metadata": {
    "colab_type": "text",
    "id": "eWGcpm4JVKjt"
   },
   "source": [
    "Highest fare paid"
   ]
  },
  {
   "cell_type": "code",
   "execution_count": 0,
   "metadata": {
    "colab": {},
    "colab_type": "code",
    "id": "7NsEE-ugVKju"
   },
   "outputs": [],
   "source": [
    "df.loc[df['Fare'].idxmax()]"
   ]
  },
  {
   "cell_type": "markdown",
   "metadata": {
    "colab_type": "text",
    "id": "E7kbKc1KVKjw"
   },
   "source": [
    "Sorting"
   ]
  },
  {
   "cell_type": "code",
   "execution_count": 0,
   "metadata": {
    "colab": {},
    "colab_type": "code",
    "id": "hjq6Msi6VKjx"
   },
   "outputs": [],
   "source": [
    "df.sort_values(['Fare', 'Age'], ascending=[0,1]).head()"
   ]
  },
  {
   "cell_type": "markdown",
   "metadata": {
    "colab_type": "text",
    "id": "LrtpcoTZVKj2"
   },
   "source": [
    "Sort by multiple columns"
   ]
  },
  {
   "cell_type": "code",
   "execution_count": 0,
   "metadata": {
    "colab": {},
    "colab_type": "code",
    "id": "LGrhiLUCVKj2"
   },
   "outputs": [],
   "source": [
    "df.sort_values(['Fare', 'Age'], ascending=[0,1]).head()"
   ]
  },
  {
   "cell_type": "markdown",
   "metadata": {
    "colab_type": "text",
    "id": "Kh-JxkT5VKj5"
   },
   "source": [
    "Number of classes"
   ]
  },
  {
   "cell_type": "code",
   "execution_count": 0,
   "metadata": {
    "colab": {},
    "colab_type": "code",
    "id": "6vOS-KWIVKj6"
   },
   "outputs": [],
   "source": [
    "df['Pclass'].unique()"
   ]
  },
  {
   "cell_type": "markdown",
   "metadata": {
    "colab_type": "text",
    "id": "Kl67t0wDVKj8"
   },
   "source": [
    "Count of each class"
   ]
  },
  {
   "cell_type": "code",
   "execution_count": 0,
   "metadata": {
    "colab": {},
    "colab_type": "code",
    "id": "0zN-TatbVKj8"
   },
   "outputs": [],
   "source": [
    "df['Pclass'].value_counts()"
   ]
  },
  {
   "cell_type": "markdown",
   "metadata": {
    "colab_type": "text",
    "id": "d5jGhOIBVKj-"
   },
   "source": [
    "Find duplicates : [pandas.DataFrame.duplicated](https://pandas.pydata.org/pandas-docs/stable/reference/api/pandas.DataFrame.duplicated.html)"
   ]
  },
  {
   "cell_type": "code",
   "execution_count": 0,
   "metadata": {
    "colab": {},
    "colab_type": "code",
    "id": "vVppsLMFVKj_"
   },
   "outputs": [],
   "source": [
    "df[df.duplicated(['Name'], keep=False)]"
   ]
  },
  {
   "cell_type": "markdown",
   "metadata": {
    "colab_type": "text",
    "id": "LpdhOMv6VKkA"
   },
   "source": [
    "## Looping"
   ]
  },
  {
   "cell_type": "code",
   "execution_count": 0,
   "metadata": {
    "colab": {},
    "colab_type": "code",
    "id": "0WPme5AoVKkD"
   },
   "outputs": [],
   "source": [
    "for index, row in df.iterrows():\n",
    "    print(index)\n",
    "    print(row)"
   ]
  },
  {
   "cell_type": "markdown",
   "metadata": {
    "colab_type": "text",
    "id": "-rGHR-zOVKkH"
   },
   "source": [
    "Returning tuples"
   ]
  },
  {
   "cell_type": "code",
   "execution_count": 0,
   "metadata": {
    "colab": {},
    "colab_type": "code",
    "id": "hLxmrKvYVKkI"
   },
   "outputs": [],
   "source": [
    "for row in df.itertuples():\n",
    "    print(row)"
   ]
  },
  {
   "cell_type": "markdown",
   "metadata": {
    "colab_type": "text",
    "id": "LywyxVVAVKkK"
   },
   "source": [
    "## Grouping"
   ]
  },
  {
   "cell_type": "markdown",
   "metadata": {
    "colab_type": "text",
    "id": "8hcXmE77VKkK"
   },
   "source": [
    "Group by class and aggregate fare by mean"
   ]
  },
  {
   "cell_type": "code",
   "execution_count": 0,
   "metadata": {
    "colab": {},
    "colab_type": "code",
    "id": "PS_LHxKXVKkK"
   },
   "outputs": [],
   "source": [
    "df.groupby(['Pclass'])['Fare'].mean()"
   ]
  },
  {
   "cell_type": "markdown",
   "metadata": {
    "colab_type": "text",
    "id": "Mekv-a_GVKkM"
   },
   "source": [
    "Pivot table"
   ]
  },
  {
   "cell_type": "code",
   "execution_count": 0,
   "metadata": {
    "colab": {},
    "colab_type": "code",
    "id": "tIrmGaoDVKkN"
   },
   "outputs": [],
   "source": [
    "pd.pivot_table(df, values='Fare', index='Pclass', columns='Sex', \n",
    "               aggfunc=np.mean)"
   ]
  },
  {
   "cell_type": "markdown",
   "metadata": {
    "colab_type": "text",
    "id": "j98bC1nuVKkO"
   },
   "source": [
    "Sample weighted average aggregation function"
   ]
  },
  {
   "cell_type": "code",
   "execution_count": 0,
   "metadata": {
    "colab": {},
    "colab_type": "code",
    "id": "_8zSjKIfVKkP"
   },
   "outputs": [],
   "source": [
    "agg_func = {'colA': ['sum'], \n",
    "            'colB': lambda x: np.average(x, weights=d.loc[x.index, 'colC'])}"
   ]
  },
  {
   "cell_type": "markdown",
   "metadata": {
    "colab_type": "text",
    "id": "HA7gGTO5VKkQ"
   },
   "source": [
    "## Miscellaneous"
   ]
  },
  {
   "cell_type": "markdown",
   "metadata": {
    "colab_type": "text",
    "id": "BLY5mheqVKkQ"
   },
   "source": [
    "Functions in dictionary"
   ]
  },
  {
   "cell_type": "code",
   "execution_count": 0,
   "metadata": {
    "colab": {},
    "colab_type": "code",
    "id": "q6egDR7tVKkR"
   },
   "outputs": [],
   "source": [
    "func = {\n",
    "    'times2': lambda x: print(\"The solution is: {}\".format(x**2)),\n",
    "    'times3': lambda x: print(\"The solution is: {}\".format(x**3)),\n",
    "    'times4': lambda x: print(\"The solution is: {}\".format(x**4))\n",
    "}"
   ]
  },
  {
   "cell_type": "code",
   "execution_count": 0,
   "metadata": {
    "colab": {},
    "colab_type": "code",
    "id": "bJ8fRMJZVKkW"
   },
   "outputs": [],
   "source": [
    "func['times2'](3)"
   ]
  },
  {
   "cell_type": "markdown",
   "metadata": {
    "colab_type": "text",
    "id": "1p45a9PWVKkX"
   },
   "source": [
    "## Recommended Cheat Sheets"
   ]
  },
  {
   "cell_type": "markdown",
   "metadata": {
    "colab_type": "text",
    "id": "Esjvbj-fVKkY"
   },
   "source": [
    "* [Pandas DataFrame Object](http://www.webpages.uidaho.edu/~stevel/504/Pandas%20DataFrame%20Notes.pdf) from University of Idaho\n",
    "* [Data Wrangling with Pandas](http://cs.umw.edu/~stephen/cpsc219/Pandas_Cheat_Sheet.pdf) from University of Mary Washington\n",
    "* [Python for Data Science Pandas Basics](http://datacamp-community.s3.amazonaws.com/3857975e-e12f-406a-b3e8-7d627217e952) from DataCamp\n",
    "* [Data Science Python Intermediate](https://www.dataquest.io/blog/large_files/python-cheat-sheet-intermediate.pdf) from Dataquest\n",
    "* [Data Science Numpy](https://www.dataquest.io/blog/large_files/numpy-cheat-sheet.pdf) from Dataquest\n",
    "* [Data Science Pandas](https://www.dataquest.io/blog/large_files/pandas-cheat-sheet.pdf) from Dataquest"
   ]
  },
  {
   "cell_type": "markdown",
   "metadata": {
    "colab_type": "text",
    "id": "ADy4sGZPVKkY"
   },
   "source": [
    "### End of notebook."
   ]
  }
 ],
 "metadata": {
  "colab": {
   "name": "pandas_snippets.ipynb",
   "provenance": [],
   "version": "0.3.2"
  },
  "kernelspec": {
   "display_name": "Python 3",
   "language": "python",
   "name": "python3"
  },
  "language_info": {
   "codemirror_mode": {
    "name": "ipython",
    "version": 3
   },
   "file_extension": ".py",
   "mimetype": "text/x-python",
   "name": "python",
   "nbconvert_exporter": "python",
   "pygments_lexer": "ipython3",
   "version": "3.6.8"
  }
 },
 "nbformat": 4,
 "nbformat_minor": 1
}
