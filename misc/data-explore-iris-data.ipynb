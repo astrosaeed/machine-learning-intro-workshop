{
 "cells": [
  {
   "cell_type": "markdown",
   "metadata": {
    "colab_type": "text",
    "id": "view-in-github"
   },
   "source": [
    "<a href=\"https://colab.research.google.com/github/jfogarty/machine-learning-intro-workshop/blob/master/misc/data-explore-iris-data.ipynb\" target=\"_parent\"><img src=\"https://colab.research.google.com/assets/colab-badge.svg\" alt=\"Open In Colab\"/></a>"
   ]
  },
  {
   "cell_type": "markdown",
   "metadata": {
    "colab_type": "text",
    "id": "DnUCpC5PBGtJ"
   },
   "source": [
    "# Data exploration - Iris Data Set\n",
    "\n",
    "This example explores the [Iris Data Set](https://archive.ics.uci.edu/ml/datasets/iris) [[csv](https://github.com/venky14/Machine-Learning-with-Iris-Dataset/blob/master/Iris.csv)] from the [UC Irvine Machine Learning Repository](https://archive.ics.uci.edu/ml/index.php) usings [Pandas Dataframes](https://pandas.pydata.org/pandas-docs/stable/reference/api/pandas.DataFrame.html).  This kind of [EDA]() (Exploratory Data Analysis) is one of the key data science components of machine learning applications.\n",
    "\n",
    "<figure><br>\n",
    "  <center><img src=\"../images/iris.jpg\" /></center>\n",
    "</figure>\n",
    "\n",
    "Some of the example code here is pulled from the book [Neural Network Projects with Python](https://www.oreilly.com/library/view/neural-network-projects/9781789138900/) by James Loy. The majority is from the Github project [Machine Learning with Iris Dataset](https://github.com/venky14/Machine-Learning-with-Iris-Dataset) by [Veky Rathod](https://github.com/venky14)"
   ]
  },
  {
   "cell_type": "markdown",
   "metadata": {},
   "source": [
    "## Data Set Information:\n",
    "\n",
    "This is perhaps the best known dataset to be found in the pattern recognition literature. Fisher's paper is a classic in the field and is referenced frequently to this day. (See [Duda & Hart](https://drive.google.com/open?id=1fq7usrZu7nmi0co5urq60h9P6w0WkDbY), for example.) \n",
    "\n",
    "- The data set contains 3 classes of 50 instances each, where each class refers to a type of iris plant. \n",
    "- One class is linearly separable from the other 2; the latter are NOT linearly separable from each other. \n",
    "\n",
    "- Predicted attribute: class of iris plant. \n",
    "\n",
    "- This is an exceedingly simple domain. \n",
    "\n",
    "## Attribute Information:\n",
    "\n",
    "1. [sepal](https://en.wikipedia.org/wiki/Sepal) length in cm \n",
    "2. [sepal](https://en.wikipedia.org/wiki/Sepal) width in cm \n",
    "3. [petal](https://en.wikipedia.org/wiki/Petal) length in cm \n",
    "4. [petal](https://en.wikipedia.org/wiki/Petal) width in cm \n",
    "5. class: \n",
    "  - Iris Setosa \n",
    "  - Iris Versicolour \n",
    "  - Iris Virginica\n",
    "  \n",
    " <figure>\n",
    "  <img src=\"../images/iris-petal-sepal.jpg\" align=”right”/>\n",
    "</figure>"
   ]
  },
  {
   "cell_type": "markdown",
   "metadata": {
    "colab_type": "text",
    "id": "oey6L9e0IShg"
   },
   "source": [
    "\n",
    "# And finally some Python code\n",
    "\n",
    "**Usage NOTE!** Use `Shift+Enter` to step through this notebook, executing the code as you go."
   ]
  },
  {
   "cell_type": "code",
   "execution_count": 1,
   "metadata": {
    "cellView": "form",
    "colab": {
     "base_uri": "https://localhost:8080/",
     "height": 34
    },
    "colab_type": "code",
    "id": "NDzdSWEGIShh",
    "outputId": "956d302c-05a1-46bb-ca40-a4e6943be3f4"
   },
   "outputs": [
    {
     "name": "stdout",
     "output_type": "stream",
     "text": [
      "Welcome to exploring this notebook at 2019-08-09 08:54:59.557713! \n"
     ]
    }
   ],
   "source": [
    "#@title Welcome\n",
    "import datetime\n",
    "print(f\"Welcome to exploring this notebook at {datetime.datetime.now()}! \")"
   ]
  },
  {
   "cell_type": "markdown",
   "metadata": {
    "colab_type": "text",
    "id": "YI5tmkdPfFnP"
   },
   "source": [
    "## Abstract Base Class : Layer\n",
    "\n",
    "The abstract class Layer, which all other layers will inherit from, handles simple properties which are an input, an output, and both a forward and backward methods."
   ]
  },
  {
   "cell_type": "code",
   "execution_count": 0,
   "metadata": {
    "colab": {},
    "colab_type": "code",
    "id": "3MwSocVz4o1y"
   },
   "outputs": [],
   "source": [
    "# Base class\n",
    "class Layer:\n",
    "    def __init__(self):\n",
    "        self.input = None\n",
    "        self.output = None\n",
    "\n",
    "    # computes the output Y of a layer for a given input X\n",
    "    def forward_propagation(self, input):\n",
    "        raise NotImplementedError\n",
    "\n",
    "    # computes dE/dX for a given dE/dY (and update parameters if any)\n",
    "    def backward_propagation(self, output_error, learning_rate):\n",
    "        raise NotImplementedError"
   ]
  },
  {
   "cell_type": "code",
   "execution_count": 0,
   "metadata": {
    "colab": {},
    "colab_type": "code",
    "id": "TbgfBVx4w99Z"
   },
   "outputs": [],
   "source": [
    "import pandas as pd\n",
    "URL= 'https://archive.ics.uci.edu/ml/machine-learning-databases/iris/iris.data'"
   ]
  },
  {
   "cell_type": "code",
   "execution_count": 0,
   "metadata": {
    "colab": {},
    "colab_type": "code",
    "id": "X0bMC7texpD1"
   },
   "outputs": [],
   "source": [
    "colnames = ['sepal_length', 'sepal_width', 'petal_length', 'petal_width', 'class']\n",
    "df = pd.read_csv(URL, names=colnames)"
   ]
  },
  {
   "cell_type": "code",
   "execution_count": 24,
   "metadata": {
    "colab": {
     "base_uri": "https://localhost:8080/",
     "height": 187
    },
    "colab_type": "code",
    "id": "MJ-PPhuKxx5s",
    "outputId": "79de248a-29d4-4980-ded1-4f7484370b29"
   },
   "outputs": [
    {
     "name": "stdout",
     "output_type": "stream",
     "text": [
      "<class 'pandas.core.frame.DataFrame'>\n",
      "RangeIndex: 150 entries, 0 to 149\n",
      "Data columns (total 5 columns):\n",
      "sepal_length    150 non-null float64\n",
      "sepal_width     150 non-null float64\n",
      "petal_length    150 non-null float64\n",
      "petal_width     150 non-null float64\n",
      "class           150 non-null object\n",
      "dtypes: float64(4), object(1)\n",
      "memory usage: 5.9+ KB\n"
     ]
    }
   ],
   "source": [
    "df.info()"
   ]
  },
  {
   "cell_type": "code",
   "execution_count": 0,
   "metadata": {
    "colab": {},
    "colab_type": "code",
    "id": "MrnWknZ5x6eV"
   },
   "outputs": [],
   "source": []
  }
 ],
 "metadata": {
  "celltoolbar": "Raw Cell Format",
  "colab": {
   "collapsed_sections": [],
   "include_colab_link": true,
   "name": "math-of-neural-networks.ipynb",
   "provenance": [],
   "version": "0.3.2"
  },
  "kernelspec": {
   "display_name": "Python 3",
   "language": "python",
   "name": "python3"
  },
  "language_info": {
   "codemirror_mode": {
    "name": "ipython",
    "version": 3
   },
   "file_extension": ".py",
   "mimetype": "text/x-python",
   "name": "python",
   "nbconvert_exporter": "python",
   "pygments_lexer": "ipython3",
   "version": "3.6.8"
  }
 },
 "nbformat": 4,
 "nbformat_minor": 1
}
