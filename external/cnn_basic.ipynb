{
 "cells": [
  {
   "cell_type": "markdown",
   "metadata": {
    "colab_type": "text",
    "id": "view-in-github"
   },
   "source": [
    "<a href=\"https://colab.research.google.com/github/jfogarty/machine-learning-intro-workshop/blob/master/external/cnn_basic.ipynb\" target=\"_parent\"><img src=\"https://colab.research.google.com/assets/colab-badge.svg\" alt=\"Open In Colab\"/></a>"
   ]
  },
  {
   "cell_type": "markdown",
   "metadata": {
    "colab_type": "text",
    "id": "YeS60V2eznD1"
   },
   "source": [
    "# Tensorflow only CNN on MNIST with MiniBatch evaluation\n",
    "\n",
    "- From Deep Learning Models -- A collection of various deep learning architectures, models, and tips for TensorFlow and PyTorch in Jupyter Notebooks.\n",
    "    - Author: Sebastian Raschka\n",
    "    - GitHub Repository: https://github.com/rasbt/deeplearning-models\n",
    "\n",
    "Updated by [John Fogarty](https://github.com/jfogarty) for Python 3.6 and [Base2 MLI](https://github.com/base2solutions/mli) and [colab](https://colab.research.google.com) standalone evaluation."
   ]
  },
  {
   "cell_type": "markdown",
   "metadata": {
    "colab_type": "text",
    "id": "T6iNHcvjznEO"
   },
   "source": [
    "# Model Zoo -- Convolutional Neural Network\n",
    "\n",
    "**Usage NOTE!** Use `Shift+Enter` to step through this notebook, executing the code as you go."
   ]
  },
  {
   "cell_type": "code",
   "execution_count": 1,
   "metadata": {},
   "outputs": [],
   "source": [
    "class Context:\n",
    "    VERBOSE=False    # True for extensive logging during execution.\n",
    "    QUIET=False      # True for minimal logging during execution.\n",
    "    WARNINGS=False   # True to enable display of annoying but rarely useful messages."
   ]
  },
  {
   "cell_type": "code",
   "execution_count": 18,
   "metadata": {},
   "outputs": [
    {
     "name": "stdout",
     "output_type": "stream",
     "text": [
      "Running on normal CPU without GPU acceleration.\n"
     ]
    }
   ],
   "source": [
    "#@title Import Directives\n",
    "import os\n",
    "import timeit\n",
    "import time\n",
    "import numpy as np\n",
    "import tensorflow as tf\n",
    "from datetime import timedelta\n",
    "\n",
    "# Suppress Tensorflow log spew.\n",
    "if not Context.WARNINGS:\n",
    "    tf.logging.set_verbosity(tf.logging.ERROR)\n",
    "    os.environ['TF_CPP_MIN_LOG_LEVEL'] = '2'\n",
    "\n",
    "try:\n",
    "   device_name = os.environ['COLAB_TPU_ADDR']\n",
    "   TPU_ADDRESS = 'grpc://' + device_name\n",
    "   print(f'Running with TPU acceleration at {TPU_ADDRESS}')\n",
    "except KeyError:\n",
    "  GPU_NAME = tf.test.gpu_device_name()\n",
    "  if GPU_NAME.startswith('/device:GPU'): \n",
    "      print(f\"Running with GPU acceleration at {GPU_NAME}\")\n",
    "  else:\n",
    "      print(\"Running on normal CPU without GPU acceleration.\")\n",
    "        \n",
    "def elapsed_time(func, *args, msg=''):\n",
    "    ''' Display the elapsed time of the function.\n",
    "        Return the function value.\n",
    "    '''\n",
    "    stime = time.time()\n",
    "    result = func(*args)\n",
    "    etime = time.time() - stime\n",
    "    log(msg + \"Elapsed test time: {0}\", timedelta(seconds=etime))\n",
    "    return result        "
   ]
  },
  {
   "cell_type": "markdown",
   "metadata": {
    "colab_type": "text",
    "id": "IQOcX0YkznEQ"
   },
   "source": [
    "### Low-level Implementation"
   ]
  },
  {
   "cell_type": "code",
   "execution_count": 3,
   "metadata": {},
   "outputs": [
    {
     "name": "stdout",
     "output_type": "stream",
     "text": [
      "Extracting ./train-images-idx3-ubyte.gz\n",
      "Extracting ./train-labels-idx1-ubyte.gz\n",
      "Extracting ./t10k-images-idx3-ubyte.gz\n",
      "Extracting ./t10k-labels-idx1-ubyte.gz\n"
     ]
    }
   ],
   "source": [
    "from functools import reduce\n",
    "from tensorflow.examples.tutorials.mnist import input_data\n",
    "\n",
    "##########################\n",
    "### DATASET\n",
    "##########################\n",
    "\n",
    "mnist = input_data.read_data_sets(\"./\", one_hot=True)"
   ]
  },
  {
   "cell_type": "code",
   "execution_count": 4,
   "metadata": {},
   "outputs": [],
   "source": [
    "##########################\n",
    "### SETTINGS\n",
    "##########################\n",
    "\n",
    "# Hyperparameters\n",
    "learning_rate = 0.1\n",
    "dropout_keep_proba = 0.5\n",
    "epochs = 3\n",
    "batch_size = 32\n",
    "\n",
    "# Architecture\n",
    "input_size = 784\n",
    "image_width, image_height = 28, 28\n",
    "n_classes = 10\n",
    "\n",
    "# Other\n",
    "print_interval = 500\n",
    "random_seed = 123"
   ]
  },
  {
   "cell_type": "code",
   "execution_count": 5,
   "metadata": {},
   "outputs": [],
   "source": [
    "##########################\n",
    "### WRAPPER FUNCTIONS\n",
    "##########################\n",
    "\n",
    "def conv2d(input_tensor, output_channels,\n",
    "           kernel_size=(5, 5), strides=(1, 1, 1, 1),\n",
    "           padding='SAME', activation=None, seed=None,\n",
    "           name='conv2d'):\n",
    "\n",
    "    with tf.name_scope(name):\n",
    "        input_channels = input_tensor.get_shape().as_list()[-1]\n",
    "        weights_shape = (kernel_size[0], kernel_size[1],\n",
    "                         input_channels, output_channels)\n",
    "\n",
    "        weights = tf.Variable(tf.truncated_normal(shape=weights_shape,\n",
    "                                                  mean=0.0,\n",
    "                                                  stddev=0.01,\n",
    "                                                  dtype=tf.float32,\n",
    "                                                  seed=seed),\n",
    "                              name='weights')\n",
    "        biases = tf.Variable(tf.zeros(shape=(output_channels,)), name='biases')\n",
    "        conv = tf.nn.conv2d(input=input_tensor,\n",
    "                            filter=weights,\n",
    "                            strides=strides,\n",
    "                            padding=padding)\n",
    "\n",
    "        act = conv + biases\n",
    "        if activation is not None:\n",
    "            act = activation(conv + biases)\n",
    "        return act\n",
    "\n",
    "\n",
    "def fully_connected(input_tensor, output_nodes,\n",
    "                    activation=None, seed=None,\n",
    "                    name='fully_connected'):\n",
    "\n",
    "    with tf.name_scope(name):\n",
    "        input_nodes = input_tensor.get_shape().as_list()[1]\n",
    "        weights = tf.Variable(tf.truncated_normal(shape=(input_nodes,\n",
    "                                                         output_nodes),\n",
    "                                                  mean=0.0,\n",
    "                                                  stddev=0.01,\n",
    "                                                  dtype=tf.float32,\n",
    "                                                  seed=seed),\n",
    "                              name='weights')\n",
    "        biases = tf.Variable(tf.zeros(shape=[output_nodes]), name='biases')\n",
    "\n",
    "        act = tf.matmul(input_tensor, weights) + biases\n",
    "        if activation is not None:\n",
    "            act = activation(act)\n",
    "        return act"
   ]
  },
  {
   "cell_type": "code",
   "execution_count": 6,
   "metadata": {
    "colab": {
     "base_uri": "https://localhost:8080/",
     "height": 577
    },
    "colab_type": "code",
    "id": "Kk75n3ulznEV",
    "outputId": "92b72361-cadb-41c3-94f1-96fe91e07402"
   },
   "outputs": [],
   "source": [
    "##########################\n",
    "### GRAPH DEFINITION\n",
    "##########################\n",
    "\n",
    "g = tf.Graph()\n",
    "with g.as_default():\n",
    "    \n",
    "    tf.set_random_seed(random_seed)\n",
    "\n",
    "    # Input data\n",
    "    tf_x = tf.placeholder(tf.float32, [None, input_size, 1], name='inputs')\n",
    "    tf_y = tf.placeholder(tf.float32, [None, n_classes], name='targets')\n",
    "    \n",
    "    keep_proba = tf.placeholder(tf.float32, shape=None, name='keep_proba')\n",
    "\n",
    "    # Convolutional Neural Network:\n",
    "    # 2 convolutional layers with maxpool and ReLU activation\n",
    "    input_layer = tf.reshape(tf_x, shape=[-1, image_width, image_height, 1])\n",
    "    \n",
    "    conv1 = conv2d(input_tensor=input_layer,\n",
    "                   output_channels=8,\n",
    "                   kernel_size=(3, 3),\n",
    "                   strides=(1, 1, 1, 1),\n",
    "                   activation=tf.nn.relu,\n",
    "                   name='conv1')\n",
    "                              \n",
    "    pool1 = tf.nn.max_pool(conv1,\n",
    "                           ksize=(1, 2, 2, 1), \n",
    "                           strides=(1, 2, 2, 1),\n",
    "                           padding='SAME',\n",
    "                           name='maxpool1')\n",
    "    \n",
    "    conv2 = conv2d(input_tensor=pool1,\n",
    "                   output_channels=16,\n",
    "                   kernel_size=(3, 3),\n",
    "                   strides=(1, 1, 1, 1),\n",
    "                   activation=tf.nn.relu,\n",
    "                   name='conv2')\n",
    "    \n",
    "    pool2 = tf.nn.max_pool(conv2,\n",
    "                           ksize=(1, 2, 2, 1), \n",
    "                           strides=(1, 2, 2, 1),\n",
    "                           padding='SAME',\n",
    "                           name='maxpool2')\n",
    "    \n",
    "    dims = pool2.get_shape().as_list()[1:]\n",
    "    dims = reduce(lambda x, y: x * y, dims, 1)\n",
    "    flat = tf.reshape(pool2, shape=(-1, dims))\n",
    "    \n",
    "    out_layer = fully_connected(flat, n_classes, activation=None, \n",
    "                                name='logits')\n",
    "\n",
    "    # Loss and optimizer\n",
    "    loss = tf.nn.softmax_cross_entropy_with_logits_v2(logits=out_layer, labels=tf_y)\n",
    "    cost = tf.reduce_mean(loss, name='cost')\n",
    "    optimizer = tf.train.GradientDescentOptimizer(learning_rate=learning_rate)\n",
    "    train = optimizer.minimize(cost, name='train')\n",
    "\n",
    "    # Prediction\n",
    "    correct_prediction = tf.equal(tf.argmax(tf_y, 1), \n",
    "                                  tf.argmax(out_layer, 1), \n",
    "                         name='correct_prediction')\n",
    "    accuracy = tf.reduce_mean(tf.cast(correct_prediction, \n",
    "                                      tf.float32), \n",
    "                              name='accuracy')"
   ]
  },
  {
   "cell_type": "code",
   "execution_count": 25,
   "metadata": {
    "colab": {
     "base_uri": "https://localhost:8080/",
     "height": 305
    },
    "colab_type": "code",
    "id": "oEoOHb0tznEi",
    "outputId": "43cb5cf7-4a9b-4554-a27c-00c833c8a434"
   },
   "outputs": [],
   "source": [
    "##########################\n",
    "### TRAINING & EVALUATION\n",
    "##########################\n",
    "\n",
    "def train(g, mnist):\n",
    "    with tf.Session(graph=g) as sess:\n",
    "        sess.run(tf.global_variables_initializer())\n",
    "\n",
    "        np.random.seed(random_seed) # random seed for mnist iterator\n",
    "        for epoch in range(1, epochs + 1):\n",
    "            avg_cost = 0.\n",
    "            total_batch = mnist.train.num_examples // batch_size\n",
    "           \n",
    "            stime = time.time()\n",
    "            for i in range(total_batch):\n",
    "                batch_x, batch_y = mnist.train.next_batch(batch_size)\n",
    "                batch_x = batch_x[:, :, None] # add \"missing\" color channel\n",
    "\n",
    "                _, c = sess.run(['train', 'cost:0'], \n",
    "                                feed_dict={'inputs:0': batch_x,\n",
    "                                           'targets:0': batch_y,\n",
    "                                           'keep_proba:0': dropout_keep_proba})\n",
    "                avg_cost += c\n",
    "                if not i % print_interval:\n",
    "                    print(\"--- Minibatch: %5d | Cost: %.3f\" % (i + 1, c))\n",
    "                    \n",
    "            etime = time.time() - stime\n",
    "            print(f\"- Batch elapsed test time: {timedelta(seconds=etime)}\")\n",
    "            \n",
    "            train_acc = sess.run('accuracy:0', \n",
    "                                 feed_dict={'inputs:0': mnist.train.images[:, :, None],\n",
    "                                            'targets:0': mnist.train.labels,\n",
    "                                            'keep_proba:0': 1.0})\n",
    "            valid_acc = sess.run('accuracy:0', \n",
    "                                 feed_dict={'inputs:0': mnist.validation.images[:, :, None],\n",
    "                                            'targets:0': mnist.validation.labels,\n",
    "                                            'keep_proba:0': 1.0})\n",
    "\n",
    "            print(\"- Epoch: %03d | AvgCost: %.3f\" % (epoch, avg_cost / (i + 1)), end=\"\")\n",
    "            print(\" | Train/Valid ACC: %.3f/%.3f\" % (train_acc, valid_acc))\n",
    "\n",
    "        test_acc = sess.run('accuracy:0', \n",
    "                            feed_dict={'inputs:0': mnist.test.images[:, :, None],\n",
    "                                       'targets:0': mnist.test.labels,\n",
    "                                       'keep_proba:0': 1.0})\n",
    "    return test_acc"
   ]
  },
  {
   "cell_type": "code",
   "execution_count": 26,
   "metadata": {},
   "outputs": [
    {
     "name": "stdout",
     "output_type": "stream",
     "text": [
      "--- Minibatch:     1 | Cost: 2.303\n",
      "--- Minibatch:   501 | Cost: 0.203\n",
      "--- Minibatch:  1001 | Cost: 0.212\n",
      "--- Minibatch:  1501 | Cost: 0.036\n",
      "- Batch elapsed test time: 0:00:18.667635\n",
      "- Epoch: 001 | AvgCost: 0.588 | Train/Valid ACC: 0.970/0.969\n",
      "--- Minibatch:     1 | Cost: 0.030\n",
      "--- Minibatch:   501 | Cost: 0.025\n",
      "--- Minibatch:  1001 | Cost: 0.032\n",
      "--- Minibatch:  1501 | Cost: 0.080\n",
      "- Batch elapsed test time: 0:00:19.126648\n",
      "- Epoch: 002 | AvgCost: 0.098 | Train/Valid ACC: 0.977/0.975\n",
      "--- Minibatch:     1 | Cost: 0.089\n",
      "--- Minibatch:   501 | Cost: 0.057\n",
      "--- Minibatch:  1001 | Cost: 0.038\n",
      "--- Minibatch:  1501 | Cost: 0.121\n",
      "- Batch elapsed test time: 0:00:19.213511\n",
      "- Epoch: 003 | AvgCost: 0.078 | Train/Valid ACC: 0.981/0.980\n",
      "- Total training time: 0:01:22.681443\n",
      "- Test Accuracy: 0.982\n"
     ]
    }
   ],
   "source": [
    "stime = time.time()\n",
    "\n",
    "test_acc = train(g, mnist)        \n",
    "\n",
    "etime = time.time() - stime\n",
    "print(f\"- Total training time: {timedelta(seconds=etime)}\")\n",
    "print(f'- Test Accuracy: {test_acc:.3f}')"
   ]
  },
  {
   "cell_type": "markdown",
   "metadata": {},
   "source": [
    "### Results\n",
    "\n",
    "With 3 epochs (using 4 minibatches per epoch), this model achieves about **97%+ test accuracy** on MNNIST.  This **very** respectable by any standard.\n",
    "\n",
    "- The [best performance so far](https://benchmarks.ai/mnist) is well beyond human with an error rate of 0.21%, substantially better than our 2.2% rate here. Such rates are well into overtraining."
   ]
  },
  {
   "cell_type": "markdown",
   "metadata": {
    "colab": {},
    "colab_type": "code",
    "id": "yHmKwSm4z8O3"
   },
   "source": [
    "### End of notebook"
   ]
  }
 ],
 "metadata": {
  "accelerator": "TPU",
  "colab": {
   "include_colab_link": true,
   "name": "cnn_basic.ipynb",
   "provenance": [],
   "version": "0.3.2"
  },
  "kernelspec": {
   "display_name": "Python 3",
   "language": "python",
   "name": "python3"
  },
  "language_info": {
   "codemirror_mode": {
    "name": "ipython",
    "version": 3
   },
   "file_extension": ".py",
   "mimetype": "text/x-python",
   "name": "python",
   "nbconvert_exporter": "python",
   "pygments_lexer": "ipython3",
   "version": "3.6.5"
  }
 },
 "nbformat": 4,
 "nbformat_minor": 1
}
