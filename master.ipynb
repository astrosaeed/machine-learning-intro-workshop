{
  "nbformat": 4,
  "nbformat_minor": 0,
  "metadata": {
    "colab": {
      "name": "master.ipynb",
      "version": "0.3.2",
      "provenance": [],
      "toc_visible": true,
      "include_colab_link": true
    },
    "kernelspec": {
      "display_name": "Python 3",
      "language": "python",
      "name": "python3"
    },
    "language_info": {
      "codemirror_mode": {
        "name": "ipython",
        "version": 3
      },
      "file_extension": ".py",
      "mimetype": "text/x-python",
      "name": "python",
      "nbconvert_exporter": "python",
      "pygments_lexer": "ipython3",
      "version": "3.6.8"
    }
  },
  "cells": [
    {
      "cell_type": "markdown",
      "metadata": {
        "id": "view-in-github",
        "colab_type": "text"
      },
      "source": [
        "<a href=\"https://colab.research.google.com/github/jfogarty/machine-learning-intro-workshop/blob/master/master.ipynb\" target=\"_parent\"><img src=\"https://colab.research.google.com/assets/colab-badge.svg\" alt=\"Open In Colab\"/></a>"
      ]
    },
    {
      "cell_type": "markdown",
      "metadata": {
        "colab_type": "text",
        "id": "AaIRWSzHYlOK"
      },
      "source": [
        "# Welcome to the Base2 Solutions Machine Learning Workshop\n",
        "\n",
        "This is your starting place for the Machine Learning Workshop, consider bookmarking this page for easier navigation throughout the course. The course is made up of multiple Jupyter Notebooks like this one, and will be comprised of both text and code snippets. Use the Table of Contents below to get started!\n",
        "\n",
        "> Programming exercises run directly in your browser (no setup required!) using the [Colaboratory](https://colab.research.google.com/) platform. Colaboratory is supported on most major browsers, and is most thoroughly tested on desktop versions of Chrome and Firefox.\n",
        "\n",
        " \n",
        "\n"
      ]
    },
    {
      "cell_type": "markdown",
      "metadata": {
        "colab_type": "text",
        "id": "MQuYZTAjlqjR"
      },
      "source": [
        "\n",
        "## Table of Contents\n",
        "\n",
        "## **[Syllabus - Sep2019](./syllabus-sep-2019.ipynb) - Two Sessions - Fridays, [September 6th](./flow.ipynb) and [13th](flow2.ipynb)** :"
      ]
    },
    {
      "cell_type": "markdown",
      "metadata": {
        "colab_type": "text",
        "id": "6m_vtPMZAfA6"
      },
      "source": [
        "# Notebooks for Session 1\n",
        "\n",
        "<figure>\n",
        "  <br><center>\n",
        "    <img src=\"https://github.com/jfogarty/machine-learning-intro-workshop/blob/master/images/mlp.jpg?raw=1\" width=\"25%\" />\n",
        "    <figcaption></figcaption>     \n",
        "  </center>\n",
        "</figure>"
      ]
    },
    {
      "cell_type": "markdown",
      "metadata": {
        "colab_type": "text",
        "id": "kBJZtWfxlYSa"
      },
      "source": [
        "## Getting Comfortable\n",
        "[1.1 Python Numpy Tutorial](./notebooks/python_numpy_tutorial.ipynb): this is the bare minimum to get you started with Python and the **[Numpy](https://docs.scipy.org/doc/numpy/user/quickstart.html)** arrays used in essentially all ML applications.\n",
        "\n",
        "[1.2 Numpy Vectors, Arrays, and Matrices](./notebooks/numpy_data_structures.ipynb): More specific information on the data structures used in all ML **[Numpy](https://docs.scipy.org/doc/numpy/user/quickstart.html)**\n",
        "\n",
        "[1.3 Intro to Pandas](./notebooks/intro_to_pandas.ipynb): the required library for data analysis and modeling : **[Pandas](https://pandas.pydata.org/)**\n",
        "\n",
        "[1.4 More Pandas](./misc/pandas_snippets.ipynb): more useful pandas snippets applied to the **[Titanic dataset](https://www.kaggle.com/c/titanic/data)**\n",
        "\n",
        "[1.5 Tensorflow Tutorial](https://www.datacamp.com/community/tutorials/tensorflow-tutorial) : [DataCamp](https://www.datacamp.com)'s interactive IPython based tutorial : **[TensorFlow](https://www.tensorflow.org/)**"
      ]
    },
    {
      "cell_type": "markdown",
      "metadata": {
        "colab_type": "text",
        "id": "a6OXUAn5lYcJ"
      },
      "source": [
        "## Exploring and Visualizing Data\n",
        "[2.1 Exploring/visualizing Data - 1](./notebooks/data-explore-iris-data.ipynb): The classic [**Iris dataset**](https://en.wikipedia.org/wiki/Iris_flower_data_set) visualized with **[seaborn](https://seaborn.pydata.org/)** and **[pandas](https://stackabuse.com/pandas-library-for-data-visualization-in-python/)**\n",
        "\n",
        "[2.2 Exploring/visualizing Data - 2](./notebooks/data-explore-on-your-own.ipynb): Pick your own data set and explore it: **[GDS](https://toolbox.google.com/datasetsearch)**, **[UCI](https://archive.ics.uci.edu/ml/datasets.php)**, **[CMU](https://guides.library.cmu.edu/machine-learning/datasets)**, **[Visual](https://www.visualdata.io/)**, **[KDnuggets](https://www.kdnuggets.com/datasets/index.html)** **[OpenML](https://www.openml.org/search?type=data)**\n",
        "\n",
        "[2.3 Exploring/visualizing Data - 3](./notebooks/data-explore-darwin-finches.ipynb): The [**Darwin's Finches dataset**](https://www.kaggle.com/stenivan/darwin-scandens-finches-beaks) with some nice [**EDA - Exploratory Data Analysis**](https://en.wikipedia.org/wiki/Exploratory_data_analysis)\n",
        "\n",
        "[2.4 Visualization of MLP weights on MNIST](./notebooks/plot_mnist_filters.ipynb) : Looking at the weight matrices; reading the tea leaves \n",
        "\n",
        "[2.5 Visualizing MNIST: An Exploration of Dimensionality Reduction](https://colah.github.io/posts/2014-10-Visualizing-MNIST/) : Another classic [Colah](https://colah.github.io/)'s ([Chris Olah](https://colah.github.io/about.html)) more analysis with **[t-SNE visualization](https://lvdmaaten.github.io/tsne/)**"
      ]
    },
    {
      "cell_type": "markdown",
      "metadata": {
        "colab_type": "text",
        "id": "WO1Igjorq792"
      },
      "source": [
        "## Traditional Machine Learning Models\n",
        "\n",
        "[3.1 Gradient Descent](./notebooks/gradient_descent.ipynb): The basics of **[gradient descent](https://en.wikipedia.org/wiki/Gradient_descent)**\n",
        "\n",
        "[3.2 Least squares](./notebooks/least_squares.ipynb) : The simplest fitting method : **[Linear regression](https://en.wikipedia.org/wiki/Linear_regression)**\n",
        "\n",
        "[3.3 Beyond Gradient Descent](./misc/beyond_gradient_descent.ipynb): Adaptive techniques that improve on ordinary gradient descent\n",
        "\n",
        "[3.4 ML Workflow](./notebooks/ml_workflow_with_diabetes_dataset.ipynb) : A full end to end project on the diabetes dataset; [workflows](https://www.google.com/search?q=general+machine+learning+workflow&newwindow=1&source=lnms&tbm=isch&sa=X&ved=0ahUKEwiiopbr-IfkAhXLGDQIHQOrAnUQ_AUIESgB&biw=1916&bih=1219): **[Google](https://cloud.google.com/ml-engine/docs/ml-solutions-overview)** **[Amazon](https://aws.amazon.com/blogs/machine-learning/build-end-to-end-machine-learning-workflows-with-amazon-sagemaker-and-apache-airflow/)** **[Azure](https://docs.microsoft.com/en-us/azure/machine-learning/service/concept-ml-pipelines)** **[Watson](https://www.esg-global.com/validation/esg-technical-validation-hybrid-multi-cloud-artificial-intelligence-ibm-watson-studio-and-watson-machine-learning)**\n",
        "    \n",
        "[3.5 Decision Trees](./notebooks/decision_trees_intro.ipynb) : An introduction to decision trees : **[Decision Tree Learning](https://en.wikipedia.org/wiki/Decision_tree_learning)**\n"
      ]
    },
    {
      "cell_type": "markdown",
      "metadata": {
        "colab_type": "text",
        "id": "1Lfl9OgalU1S"
      },
      "source": [
        "## Training Simple Neural Networks\n",
        "\n",
        "[4.1 Training a Model 1](./notebooks/exploring_MNIST.ipynb): Exploring **[MNIST](https://en.wikipedia.org/wiki/MNIST_database)**\n",
        "\n",
        "[4.2 Training a Model 2](./notebooks/ExploringFashionMNIST.ipynb): Exploring **[FashionMNIST](https://github.com/zalandoresearch/fashion-mnist)**\n",
        "\n",
        "[4.3 Binary functions](./notebooks/binary_functions.ipynb): computing the simplest binary functions (not, xor, or, and) with neural networks.\n"
      ]
    },
    {
      "cell_type": "markdown",
      "metadata": {
        "id": "zqtyWHPkdUqW",
        "colab_type": "text"
      },
      "source": [
        "## Concepts in Neural Networking\n",
        "\n",
        "[5.1 Bias and Weights](./notebooks/nn_bias_and_weights.ipynb): Fundamental concepts: **[bias](https://github.com/cazala/synaptic/wiki/Neural-Networks-101)**, and **[weights](https://github.com/cazala/synaptic/wiki/Neural-Networks-101)**\n",
        "\n",
        "[5.2 Activation Functions](./notebooks/nn_activation_functions.ipynb):  Fundamental concepts: **[activation functions](https://github.com/cazala/synaptic/wiki/Neural-Networks-101)**\n",
        "\n",
        "[5.3 Exploding and Vanishing Gradients](./notebooks/rnn_gradients.ipynb): Gradient problems; Fundamental concepts: **[gradients](https://hackernoon.com/exploding-and-vanishing-gradient-problem-math-behind-the-truth-6bd008df6e25)**\n",
        "\n",
        "[5.4 Math of Neural Networks](./notebooks/math-of-neural-networks.ipynb): general NN designed using just Python and Numpy.\n",
        "\n",
        "[5.5 Training an AutoEncoder](./notebooks/cc_autoencoder.ipynb) : Using a NN for Credit Fraud detection based on an **[AutoEncoder](https://en.wikipedia.org/wiki/Autoencoder)**"
      ]
    },
    {
      "cell_type": "markdown",
      "metadata": {
        "colab_type": "text",
        "id": "O2lGFE1VHX1S"
      },
      "source": [
        "## Metrics for Machine Learning\n",
        "\n",
        "[6.1 Confusion Matrix](./notebooks/plot_confusion_matrix.ipynb) : Using confusion matrices to evaluate classifiers : **[Confusion_Matrix](https://en.wikipedia.org/wiki/Precision_and_recall)**\n",
        "\n",
        "[6.2 Precision Recall Curves](./notebooks/plot_precision_recall.ipynb) : Precision-Recall to evaluate classifiers : **[Precision-Recall](https://en.wikipedia.org/wiki/Confusion_matrix)**\n",
        "\n",
        "[6.3 Receiver Operating Characteristics](./notebooks/plot_roc.ipynb) : ROC and AUC (Area Under the Curve) to evaluate classifiers : **[AUC](https://en.wikipedia.org/wiki/Receiver_operating_characteristic)**_**[ROC](https://developers.google.com/machine-learning/crash-course/classification/roc-and-auc)**\n",
        "\n",
        "[6.4 Minimizing Loss and Validating Models](./notebooks/hyperparameter_tuning.ipynb): Making better models through **[hyperparameter tuning](https://en.wikipedia.org/wiki/Hyperparameter_(machine_learning))**\n",
        "\n",
        "[6.5 mAP and IoU Object Recognition Metrics](./notebooks/mAP_IoU_metrics.ipynb): Metrics for evaluating object recognition models **[mAP](https://mc.ai/the-confusing-metrics-of-ap-and-map-for-object-detection/)** and **[IoU](https://www.pyimagesearch.com/2016/11/07/intersection-over-union-iou-for-object-detection/)**"
      ]
    },
    {
      "cell_type": "markdown",
      "metadata": {
        "colab_type": "text",
        "id": "Q0nl1FaUAfA_"
      },
      "source": [
        "# Notebooks for Session 2\n",
        "\n",
        "<figure>\n",
        "  <br><center>\n",
        "    <img src=\"https://github.com/jfogarty/machine-learning-intro-workshop/blob/master/images/vgg16-1.png?raw=1\" width=\"35%\" />\n",
        "    <figcaption></figcaption>     \n",
        "  </center>\n",
        "</figure>"
      ]
    },
    {
      "cell_type": "markdown",
      "metadata": {
        "colab_type": "text",
        "id": "6Ec2byudq795"
      },
      "source": [
        "## Convolutional Neural Networks\n",
        "\n",
        "[8.1 Understanding convolutions](./notebooks/understanding_convolutions.ipynb) : what makes CNNs work.\n",
        "\n",
        "[8.2 Basic TensorFlow CNNs](./external/cnn_basic.ipynb) : basic tensorFlow networks.\n",
        "\n",
        "[8.3 Advanced VGG16 on Cifar10](./external/cnn_vgg16.ipynb): one of the more powerful imageNet capable networks.\n",
        "\n",
        "[8.4 Understanding Object Detection](./notebooks/understanding_object_detection.ipynb)\n",
        "\n",
        "[8.5 TF2 Convolutional Neural Networks](./notebooks/cnn_intro.ipynb): an introduction to TensorFlow 2 with CNNs : **[TF2](https://www.tensorflow.org/beta/guide/effective_tf2)**\n",
        "\n",
        "[8.6 Transfer Learning with Keras MobileNet](./notebooks/transfer_learning_keras_MobileNet.ipynb): a simple transfer learning example : **[Transfer Learning](http://ruder.io/transfer-learning/)**"
      ]
    },
    {
      "cell_type": "markdown",
      "metadata": {
        "colab_type": "text",
        "id": "Flb3n8Y9SVB_"
      },
      "source": [
        "## Recurrent Neural Networks and More\n",
        "\n",
        "9.1 TODO - A nice RNN example\n",
        "\n",
        "9.2 TODO - A nice GAN example\n",
        "\n",
        "9.3 TODO - A nice Attention/Transformer example\n",
        "\n",
        "[9.4 Introduction to Attention Networks](notebooks/intro_to_attention.ipynb) \n",
        "\n",
        "[9.5 Attention Architectures in Neural Networks](notebooks/attention_architectures.ipynb)"
      ]
    },
    {
      "cell_type": "markdown",
      "metadata": {
        "colab_type": "text",
        "id": "Yfbip1R6mG3Q"
      },
      "source": [
        "## Advanced Techniques and Miscellaneous\n",
        "\n",
        "[10.1 LaTeX Math in Notebooks](./misc/math-examples.ipynb): writing mathematical expressions in notebook markdown.\n",
        "\n",
        "[10.2 Bayes Rule](./misc/bayes-rule.ipynb): some notes on probability and Bayes rule.\n",
        "\n",
        "[10.3 Example using Naive Bayes](./misc/naive_bayes_spam.ipynb): an example creating a Bayesian spam filter.\n",
        "\n",
        "[10.4 Analytics - Imbalanced Data](./notebooks/imbalanced-data-prec-recall-vs-roc-curve.ipynb): Why precision-recall is preferred over ROC curve in imbalanced data.\n",
        "\n",
        "[10.5 Genetic Algorithms](https://colab.research.google.com/github/jfogarty/machine-learning-intro-workshop/blob/master/notebooks/genetic-algorithms-with-deap.ipynb): Doing GAs with the DEAP Python Module.\n",
        "\n",
        "[10.6 Generative Adversarial Network Examples](./misc/generative_neural_networks.ipynb): GAN output examples.  More for fun than actual learning, so far.\n",
        "\n",
        "[10.7 Particle Filters for Mobile Robot Localization](./notebooks/particle-filters.ipynb): Still under significant construction"
      ]
    },
    {
      "cell_type": "markdown",
      "metadata": {
        "colab_type": "text",
        "id": "54FHXKfEmOJy"
      },
      "source": [
        "## Using Frameworks other than Keras/TensorFlow\n",
        "\n",
        "[11.1 PyTorch in Colab](./misc/pytorch_example.ipynb): Using colab (and GPUs) with the **[PyTorch](https://pytorch.org/) framework**\n",
        "\n",
        "[11.2 PySpark in Colab](./misc/pyspark_example.ipynb): Using colab with the **[PySpark](https://spark.apache.org/docs/0.9.0/python-programming-guide.html) tool stack**\n",
        "\n",
        "[11.3 MxNet/GluonCV in Colab](./misc/gluoncv_example.ipynb): Using colab with the **[MxNet](https://mxnet.apache.org/)**/**[Gluon](https://mxnet.apache.org/versions/master/gluon/index.html)**/**[GluonCV](https://gluon-cv.mxnet.io/) tool stack**\n",
        "\n",
        "[11.4 Caffe in Colab](./misc/caffe_example.ipynb): Using colab with the **[BVSC](https://github.com/BVLC)** **[Caffe](https://caffe.berkeleyvision.org/) tool stack**"
      ]
    },
    {
      "cell_type": "markdown",
      "metadata": {
        "colab_type": "text",
        "id": "hwibT8XMq797"
      },
      "source": [
        "# Other Jupyter Notebook Resources\n",
        "\n",
        "[Scikit-learn](https://scikit-learn.org/stable/index.html) : Excellent documentation and notebooks\n",
        "\n",
        "[TensorFlow Tutorial for Beginners](https://www.datacamp.com/community/tutorials/tensorflow-tutorial) : [DataCamp](https://www.datacamp.com)'s interactive IPython based tutorial.\n",
        "\n",
        "[Chris Albon's Notes](https://chrisalbon.com/) : The unreasonably useful notes of Chris Albon (host of the [Partially Derivative](http://partiallyderivative.com/) podcast)\n",
        "\n",
        "[Python Machine Learning - 2nd Edition](https://github.com/rasbt/python-machine-learning-book-2nd-edition) : Another good ML book created with Github notebooks\n",
        "\n",
        "[A personal ML github repo](http://ethen8181.github.io/machine-learning/) : Ethen (MingYu) Liu's personal ML repo and IO blog notes.\n",
        "\n",
        "[Intel's AI Courses](https://software.intel.com/en-us/ai/courses) : Approachable and notebook based, although sometimes a bit too Intel specific."
      ]
    },
    {
      "cell_type": "markdown",
      "metadata": {
        "colab_type": "text",
        "id": "Gcg2bb8jAfBC"
      },
      "source": [
        "## More Google Colab Resources\n",
        "\n",
        "[Python Data Science Handbook](http://shop.oreilly.com/product/0636920034919.do) by Jake VanderPlas [on GitHub](https://github.com/jakevdp/PythonDataScienceHandbook) : great examples, many of which run directly in Colab.\n",
        "\n",
        "[Importing libraries from outside the Colaboratory](https://colab.research.google.com/notebooks/snippets/importing_libraries.ipynb) : using [pip](https://pypi.org/project/pip/) and [apt-get](https://www.computerhope.com/unix/apt-get.htm) in colab notebooks"
      ]
    },
    {
      "cell_type": "markdown",
      "metadata": {
        "colab_type": "text",
        "id": "7sxpZszRdGiH"
      },
      "source": [
        "### End of page."
      ]
    }
  ]
}