{
 "cells": [
  {
   "cell_type": "markdown",
   "metadata": {
    "colab_type": "text",
    "id": "view-in-github"
   },
   "source": [
    "<a href=\"https://colab.research.google.com/github/jfogarty/machine-learning-intro-workshop/blob/master/master.ipynb\" target=\"_parent\"><img src=\"https://colab.research.google.com/assets/colab-badge.svg\" alt=\"Open In Colab\"/></a>"
   ]
  },
  {
   "cell_type": "markdown",
   "metadata": {
    "colab_type": "text",
    "id": "AaIRWSzHYlOK"
   },
   "source": [
    "# Welcome to the Base2 Solutions Machine Learning Workshop\n",
    "\n",
    "This is your starting place for the Machine Learning Workshop, consider bookmarking this page for easier navigation throughout the course. The course is made up of multiple Jupyter Notebooks like this one, and will be comprised of both text and code snippets. Use the Table of Contents below to get started!\n",
    "\n",
    "> Programming exercises run directly in your browser (no setup required!) using the [Colaboratory](https://colab.research.google.com/) platform. Colaboratory is supported on most major browsers, and is most thoroughly tested on desktop versions of Chrome and Firefox.\n",
    "\n",
    " \n",
    "\n"
   ]
  },
  {
   "cell_type": "markdown",
   "metadata": {
    "colab_type": "text",
    "id": "MQuYZTAjlqjR"
   },
   "source": [
    "\n",
    "## Table of Contents\n",
    "\n",
    "## **[Syllabus - Sep2019](./syllabus-sep-2019.ipynb) - Two Sessions - Fridays, September 6th and 13th** :"
   ]
  },
  {
   "cell_type": "markdown",
   "metadata": {
    "colab_type": "text",
    "id": "kBJZtWfxlYSa"
   },
   "source": [
    "### Getting Comfortable\n",
    "[1.1 Python Numpy Tutorial](./notebooks/python_numpy_tutorial.ipynb): this is the bare minimum to get you started with Python and the **[Numpy](https://docs.scipy.org/doc/numpy/user/quickstart.html)** arrays used in essentially all ML applications.\n",
    "\n",
    "[1.2 Intro to Pandas](./notebooks/intro_to_pandas.ipynb): the required library for data analysis and modeling : **[Pandas](https://pandas.pydata.org/)**\n",
    "\n",
    "[1.3 Tensorflow Tutorial](https://www.datacamp.com/community/tutorials/tensorflow-tutorial) : [DataCamp](https://www.datacamp.com)'s interactive IPython based tutorial : **[TensorFlow](https://www.tensorflow.org/)**"
   ]
  },
  {
   "cell_type": "markdown",
   "metadata": {
    "colab_type": "text",
    "id": "a6OXUAn5lYcJ"
   },
   "source": [
    "### Handling Data\n",
    "[2.1 Visualizing Data - 1](./notebooks/data-explore-iris-data.ipynb): The classic [**Iris dataset**](https://en.wikipedia.org/wiki/Iris_flower_data_set) visualized with seaborn and pandas\n",
    "\n",
    "[2.2 Visualizing Data - 2](./notebooks/data-explore-on-your-own.ipynb): Pick your own dsata set and explore it: **[GDS](https://toolbox.google.com/datasetsearch)**, **[UCI](https://archive.ics.uci.edu/ml/datasets.php)**, **[CMU](https://guides.library.cmu.edu/machine-learning/datasets)**, **[Visual](https://www.visualdata.io/)**, **[KDnuggets](https://www.kdnuggets.com/datasets/index.html)**\n"
   ]
  },
  {
   "cell_type": "markdown",
   "metadata": {
    "colab_type": "text",
    "id": "WO1Igjorq792"
   },
   "source": [
    "### Traditional Machine Learning Models\n",
    "\n",
    "[3.1 Gradient Descent](./notebooks/gradient_descent.ipynb): The basics of **[gradient descent](https://en.wikipedia.org/wiki/Gradient_descent)**\n",
    "\n",
    "[3.2 Least squares](./notebooks/least_squares.ipynb) : The simplest fitting method : **[Linear regression](https://en.wikipedia.org/wiki/Linear_regression)**\n",
    "\n",
    "[3.3 ML Workflow](./notebooks/ml_workflow_with_diabetes_dataset.ipynb) : A full end to end project on the diabetes dataset; [workflows](https://www.google.com/search?q=general+machine+learning+workflow&newwindow=1&source=lnms&tbm=isch&sa=X&ved=0ahUKEwiiopbr-IfkAhXLGDQIHQOrAnUQ_AUIESgB&biw=1916&bih=1219): **[Google](https://cloud.google.com/ml-engine/docs/ml-solutions-overview)** **[Amazon](https://aws.amazon.com/blogs/machine-learning/build-end-to-end-machine-learning-workflows-with-amazon-sagemaker-and-apache-airflow/)** **[Azure](https://docs.microsoft.com/en-us/azure/machine-learning/service/concept-ml-pipelines)** **[Watson](https://www.esg-global.com/validation/esg-technical-validation-hybrid-multi-cloud-artificial-intelligence-ibm-watson-studio-and-watson-machine-learning)**\n",
    "    \n",
    "[3.4 Decision Trees](./notebooks/decision_trees_intro.ipynb) : An introduction to decision trees : **[Decision Tree Learning](https://en.wikipedia.org/wiki/Decision_tree_learning)**"
   ]
  },
  {
   "cell_type": "markdown",
   "metadata": {
    "colab_type": "text",
    "id": "1Lfl9OgalU1S"
   },
   "source": [
    "## Training Simple Neural Networks\n",
    "\n",
    "[4.1 Training a Model](<exploring_mnist>): Exploring MNIST\n",
    "\n",
    "[4.2 Minimizing Loss and Validating Models](<tuning_hyperparameters_and_more>): Making better models through model configuration"
   ]
  },
  {
   "cell_type": "markdown",
   "metadata": {
    "colab_type": "text",
    "id": "O2lGFE1VHX1S"
   },
   "source": [
    "\n",
    "[5.1 Binary functions](./notebooks/binary_functions.ipynb): computing the simplest binary functions (not, xor, or, and) with neural networks.\n",
    "\n",
    "[5.2 Math of Neural Networks](./notebooks/math-of-neural-networks.ipynb): general NN designed using just Python and Numpy.\n"
   ]
  },
  {
   "cell_type": "markdown",
   "metadata": {
    "colab_type": "text",
    "id": "6Ec2byudq795"
   },
   "source": [
    "## Convolutional Neural Networks\n",
    "\n",
    "[8.1 Basic TensorFlow CNNs](./external/cnn_basic.ipynb) : basic tensorFlow networks.\n",
    "\n",
    "[8.2 Advanced VGG16 on Cifar10](./external/cnn_vgg16.ipynb): one of the more powerful imageNet capable networks.\n",
    "\n",
    "[8.3 TF2 Convolutional Neural Networks](./notebooks/cnn_intro.ipynb): an introduction to TensorFlow 2 with CNNs.\n",
    "\n",
    "[8.4 Transfer Learning with Keras MobileNet](./notebooks/transfer_learning_keras_MobileNet.ipynb): a simple transfer learning example."
   ]
  },
  {
   "cell_type": "markdown",
   "metadata": {
    "colab_type": "text",
    "id": "Yfbip1R6mG3Q"
   },
   "source": [
    "## Advanced Techniques and Miscellaneous"
   ]
  },
  {
   "cell_type": "markdown",
   "metadata": {
    "colab_type": "text",
    "id": "54FHXKfEmOJy"
   },
   "source": [
    "[12.1 LaTeX Math in Notebooks](./misc/math-examples.ipynb): writing mathematical expressions in notebook markdown.\n",
    "\n",
    "[12.2 Bayes Rule](./misc/bayes-rule.ipynb): some notes on probability and Bayes rule.\n",
    "\n",
    "[12.3 Example using Naive Bayes](./misc/naive_bayes_spam.ipynb): an example creating a Bayesian spam filter.\n",
    "\n",
    "[12.4 Analytics - Imbalanced Data](./notebooks/imbalanced-data-prec-recall-vs-roc-curve.ipynb): Why precision-recall is preferred over ROC curve in imbalanced data."
   ]
  },
  {
   "cell_type": "markdown",
   "metadata": {
    "colab_type": "text",
    "id": "hwibT8XMq797"
   },
   "source": [
    "# Other Jupyter Notebook Resources\n",
    "\n",
    "- [TensorFlow Tutorial for Beginners](https://www.datacamp.com/community/tutorials/tensorflow-tutorial) : [DataCamp](https://www.datacamp.com)'s interactive IPython based tutorial.\n",
    "\n",
    "\n",
    "- [Python Machine Learning - 2nd Edition](https://github.com/rasbt/python-machine-learning-book-2nd-edition)"
   ]
  },
  {
   "cell_type": "markdown",
   "metadata": {
    "colab": {},
    "colab_type": "code",
    "id": "eKaGupz8q798"
   },
   "source": [
    "### End of page."
   ]
  }
 ],
 "metadata": {
  "colab": {
   "include_colab_link": true,
   "name": "master.ipynb",
   "provenance": [],
   "toc_visible": true,
   "version": "0.3.2"
  },
  "kernelspec": {
   "display_name": "Python 3",
   "language": "python",
   "name": "python3"
  },
  "language_info": {
   "codemirror_mode": {
    "name": "ipython",
    "version": 3
   },
   "file_extension": ".py",
   "mimetype": "text/x-python",
   "name": "python",
   "nbconvert_exporter": "python",
   "pygments_lexer": "ipython3",
   "version": "3.6.8"
  }
 },
 "nbformat": 4,
 "nbformat_minor": 1
}
