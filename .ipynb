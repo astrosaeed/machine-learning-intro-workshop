{
 "cells": [
  {
   "cell_type": "markdown",
   "metadata": {
    "colab_type": "text",
    "id": "view-in-github"
   },
   "source": [
    "<a href=\"https://colab.research.google.com/github/jfogarty/machine-learning-intro-workshop/blob/master/notebooks/master.ipynb\" target=\"_parent\"><img src=\"https://colab.research.google.com/assets/colab-badge.svg\" alt=\"Open In Colab\"/></a>"
   ]
  },
  {
   "cell_type": "markdown",
   "metadata": {
    "colab_type": "text",
    "id": "AaIRWSzHYlOK"
   },
   "source": [
    "# Welcome to the Base2 Solutions Machine Learning Workshop\n",
    "\n",
    "This is your starting place for the Machine Learning Workshop, consider bookmarking this page for easier navigation throughout the course. The course is made up of multiple Jupyter Notebooks like this one, and will be comprised of both text and code snippets. Use the Table of Contents below to get started!\n",
    "\n",
    "> Programming exercises run directly in your browser (no setup required!) using the [Colaboratory](https://colab.research.google.com/) platform. Colaboratory is supported on most major browsers, and is most thoroughly tested on desktop versions of Chrome and Firefox.\n",
    "\n",
    " \n",
    "\n"
   ]
  },
  {
   "cell_type": "markdown",
   "metadata": {
    "colab_type": "text",
    "id": "MQuYZTAjlqjR"
   },
   "source": [
    "\n",
    "## Table of Contents\n"
   ]
  },
  {
   "cell_type": "markdown",
   "metadata": {
    "colab_type": "text",
    "id": "kBJZtWfxlYSa"
   },
   "source": [
    "### Getting Comforatable\n",
    "[1.1 Intro to Pandas](https://colab.research.google.com/github/jfogarty/machine-learning-intro-workshop/blob/master/notebooks/intro_to_pandas.ipynb): pandas is an important library for data analysis and modeling, and is widely used in TensorFlow coding. This tutorial provides all the pandas information you need for this course. If you already know pandas, you can skip this exercise.\n",
    "\n",
    "[1.2 Running a Machine Learning Model](<simple_linear_regression_example>): Simple Linear Regression Machine Learning Model"
   ]
  },
  {
   "cell_type": "markdown",
   "metadata": {
    "colab_type": "text",
    "id": "a6OXUAn5lYcJ"
   },
   "source": [
    "### Handling Data\n",
    "[2.2 Working with Data](<prepare_and_manipulate_data>): Preparing and manipulating data for use with Machine Learning Models"
   ]
  },
  {
   "cell_type": "markdown",
   "metadata": {
    "colab_type": "text",
    "id": "1Lfl9OgalU1S"
   },
   "source": [
    "### Training Machine Learning Models\n",
    "[3.1 Training a Model](<exploring_mnist>): Exploring MNIST\n",
    "\n",
    "[3.2 Minimizing Loss and Validating Models](<tuning_hyperparameters_and_more>): Making better models through model configuration\n"
   ]
  },
  {
   "cell_type": "markdown",
   "metadata": {
    "colab_type": "text",
    "id": "O2lGFE1VHX1S"
   },
   "source": [
    "## Training Simple Neural Networks\n",
    "\n",
    "[4.1 Binary functions](./binary_functions.ipynb): computing the simplest binary functions (not, xor, or, and) with neural networks. [*](./binary_functions.ipynb)"
   ]
  },
  {
   "cell_type": "markdown",
   "metadata": {
    "colab_type": "text",
    "id": "Yfbip1R6mG3Q"
   },
   "source": [
    "## Advanced Techniques and Miscellaneous"
   ]
  },
  {
   "cell_type": "markdown",
   "metadata": {
    "colab_type": "text",
    "id": "54FHXKfEmOJy"
   },
   "source": [
    "[LaTeX Math in Notebooks](../misc/math-examples.ipynb): writing mathematical expressions in notebook markdown."
   ]
  }
 ],
 "metadata": {
  "colab": {
   "include_colab_link": true,
   "name": "master.ipynb",
   "provenance": [],
   "toc_visible": true,
   "version": "0.3.2"
  },
  "kernelspec": {
   "display_name": "Python 3",
   "language": "python",
   "name": "python3"
  },
  "language_info": {
   "codemirror_mode": {
    "name": "ipython",
    "version": 3
   },
   "file_extension": ".py",
   "mimetype": "text/x-python",
   "name": "python",
   "nbconvert_exporter": "python",
   "pygments_lexer": "ipython3",
   "version": "3.6.8"
  }
 },
 "nbformat": 4,
 "nbformat_minor": 1
}
