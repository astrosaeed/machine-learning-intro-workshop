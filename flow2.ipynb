{
 "cells": [
  {
   "cell_type": "markdown",
   "metadata": {
    "colab_type": "text",
    "id": "view-in-github"
   },
   "source": [
    "<a href=\"https://colab.research.google.com/github/jfogarty/machine-learning-intro-workshop/blob/master/flow2.ipynb\" target=\"_parent\"><img src=\"https://colab.research.google.com/assets/colab-badge.svg\" alt=\"Open In Colab\"/></a>"
   ]
  },
  {
   "cell_type": "markdown",
   "metadata": {
    "colab_type": "text",
    "id": "thNxQlyhZtVK"
   },
   "source": [
    "# Intro to ML General Flow - Session 2\n",
    "\n",
    "# ML Data\n",
    "\n",
    "- How do you get the [Data?](./notebooks/data-explore-on-your-own.ipynb) :  **[GDS](https://toolbox.google.com/datasetsearch)**, **[UCI](https://archive.ics.uci.edu/ml/datasets.php)**, **[CMU](https://guides.library.cmu.edu/machine-learning/datasets)**, **[Visual](https://www.visualdata.io/)**, **[KDnuggets](https://www.kdnuggets.com/datasets/index.html)** **[OpenML](https://www.openml.org/search?type=data)**\n",
    "- What should it look like?\n",
    "- How do you clean up the data?\n",
    "- How do you normalize the data?\n",
    "- Are the solutions knowable?\n",
    "- How much bias is there in your data?\n",
    "- How do you partition the data for training?\n",
    "\n",
    "# Models\n",
    "\n",
    "- Model Types\n",
    "\t- [supervised](https://en.wikipedia.org/wiki/Supervised_learning)\n",
    "\t- [unsupervised](https://en.wikipedia.org/wiki/Unsupervised_learning)\n",
    "\t- [semi-supervised](https://en.wikipedia.org/wiki/Semi-supervised_learning)\n",
    "\t- [reinforcement learning](https://en.wikipedia.org/wiki/Reinforcement_learning).\n",
    "\n",
    "- Model Implementations\n",
    "  - Traditional Forms\n",
    "    - Decision Trees\n",
    "    - SVMs\n",
    "    - Ensemble methods\n",
    "  - Neural Network Forms\n",
    "    - MLPs\n",
    "    - CNNs\n",
    "    - RNNs/Transformer/Attention\n",
    "\n",
    "- [Model Zoo - Framworks](https://modelzoo.co/frameworks)\n",
    "- [Model Zoo - Categories](https://modelzoo.co/categories)\n"
   ]
  },
  {
   "cell_type": "markdown",
   "metadata": {
    "colab_type": "text",
    "id": "SWwm8nlIZx3N"
   },
   "source": [
    "# Python Frameworks\n",
    "\n",
    "- [Numpy](https://numpy.org/) : the fundamental package for scientific computing with Python [Github](https://github.com/numpy/numpy)\n",
    "- [Pandas](https://pandas.pydata.org/) : data structures and data analysis tools [Intro](https://pythonprogramming.net/introduction-python3-pandas-data-analysis/) [Github](https://github.com/pandas-dev/pandas)\n",
    "- [Scikit-Learn](https://scikit-learn.org/stable/) machine learning built on top of [SciPy](https://www.scipy.org/) [Examples](https://scikit-learn.org/stable/auto_examples/index.html#clustering) [Github](https://github.com/scikit-learn/scikit-learn)\n",
    "- [OpenCV](https://opencv.org/) [OpenCV-Python](https://opencv-python-tutroals.readthedocs.io/en/latest/) [Intro](https://pythonprogramming.net/loading-images-python-opencv-tutorial/) [Github](https://github.com/opencv/opencv)\n",
    "\n",
    "# Deep Learning Frameworks\n",
    "\n",
    "- [Keras](https://keras.io/) [Zoo](https://modelzoo.co/framework/keras) [github](https://github.com/keras-team/keras)\n",
    "- [TensorFlow](https://www.tensorflow.org/) [Zoo](https://modelzoo.co/framework/tensorflow) [github](https://github.com/tensorflow)\n",
    "- [Caffe](http://caffe.berkeleyvision.org/) [Zoo](https://modelzoo.co/framework/caffe) [github](https://github.com/BVLC/caffe/)\n",
    "- [Chainer](https://chainer.org) : [Zoo](https://modelzoo.co/framework/chainer) [github](https://github.com/chainer/chainer)\n",
    "- [MXNet](https://mxnet.incubator.apache.org/)/[Gluon](https://mxnet.incubator.apache.org/versions/master/gluon/index.html) [Zoo](https://modelzoo.co/framework/mxnet) [github](https://github.com/apache/)\n",
    "- [PyTorch](https://pytorch.org/) [Zoo](https://modelzoo.co/framework/pytorch) [github](https://github.com/pytorch/pytorch)\n",
    "- [Caffe2 - NOW PyTorch](http://caffe2.ai/) [Zoo](https://modelzoo.co/framework/caffe2) [github](https://github.com/caffe2)\n"
   ]
  },
  {
   "cell_type": "markdown",
   "metadata": {
    "colab_type": "text",
    "id": "4iBys9sVg5Jk"
   },
   "source": [
    "# More on NN models\n",
    "\n",
    "[5.4 Math of Neural Networks](./notebooks/math-of-neural-networks.ipynb): general NN designed using just Python and Numpy.\n",
    "\n",
    "\n",
    "## Convolutional Neural Networks\n",
    "\n",
    "- [8.1 Understanding convolutions](./notebooks/understanding_convolutions.ipynb) : what makes CNNs work.\n",
    "\n",
    "- [8.2 Basic TensorFlow CNNs](./external/cnn_basic.ipynb) : basic tensorFlow networks.\n",
    "\n",
    "- [8.3 Advanced VGG16 on Cifar10](./external/cnn_vgg16.ipynb): one of the more powerful imageNet capable networks.\n",
    "\n",
    "- [8.4 Understanding Object Detection](./notebooks/understanding_object_detection.ipynb)\n",
    "\n",
    "- [8.5 TF2 Convolutional Neural Networks](./notebooks/cnn_intro.ipynb): an introduction to TensorFlow 2 with CNNs : **[TF2](https://www.tensorflow.org/beta/guide/effective_tf2)**\n",
    "\n",
    "- [8.6 Transfer Learning with Keras MobileNet](./notebooks/transfer_learning_keras_MobileNet.ipynb): a simple transfer learning example : **[Transfer Learning](http://ruder.io/transfer-learning/)**\n"
   ]
  },
  {
   "cell_type": "markdown",
   "metadata": {},
   "source": [
    "## Advanced Techniques and Miscellaneous\n",
    "\n",
    "- [10.1 LaTeX Math in Notebooks](./misc/math-examples.ipynb): writing mathematical expressions in notebook markdown.\n",
    "\n",
    "- [10.2 Bayes Rule](./misc/bayes-rule.ipynb): some notes on probability and Bayes rule.\n",
    "\n",
    "- [10.3 Example using Naive Bayes](./misc/naive_bayes_spam.ipynb): an example creating a Bayesian spam filter.\n",
    "\n",
    "- [10.4 Analytics - Imbalanced Data](./notebooks/imbalanced-data-prec-recall-vs-roc-curve.ipynb): Why precision-recall is preferred over ROC curve in imbalanced data.\n",
    "\n",
    "- [10.5 Genetic Algorithms](https://colab.research.google.com/github/jfogarty/machine-learning-intro-workshop/blob/master/notebooks/genetic-algorithms-with-deap.ipynb): Doing GAs with the DEAP Python Module.\n",
    "\n",
    "- [10.6 Generative Adversarial Network Examples](./misc/generative_neural_networks.ipynb): GAN output examples.  More for fun than actual learning, so far."
   ]
  },
  {
   "cell_type": "markdown",
   "metadata": {},
   "source": [
    "## Using Frameworks other than Keras/TensorFlow\n",
    "\n",
    "- [11.1 PyTorch in Colab](./misc/pytorch_example.ipynb): Using colab (and GPUs) with the **[PyTorch](https://pytorch.org/) framework**\n",
    "\n",
    "- [11.2 PySpark in Colab](./misc/pyspark_example.ipynb): Using colab with the **[PySpark](https://spark.apache.org/docs/0.9.0/python-programming-guide.html) tool stack**\n",
    "\n",
    "- [11.3 MxNet/GluonCV in Colab](./misc/gluoncv_example.ipynb): Using colab with the **[MxNet](https://mxnet.apache.org/)**/**[Gluon](https://mxnet.apache.org/versions/master/gluon/index.html)**/**[GluonCV](https://gluon-cv.mxnet.io/) tool stack**\n",
    "\n",
    "- [11.4 Caffe in Colab](./misc/caffe_example.ipynb): Using colab with the **[BVSC](https://github.com/BVLC)** **[Caffe](https://caffe.berkeleyvision.org/) tool stack**"
   ]
  },
  {
   "cell_type": "markdown",
   "metadata": {
    "colab_type": "text",
    "id": "4AY74thog5Jk"
   },
   "source": [
    "# Back to NN models\n",
    "\n",
    "- [5.2 Activation Functions](./notebooks/nn_activation_functions.ipynb):  Fundamental concepts: **[activation functions](https://github.com/cazala/synaptic/wiki/Neural-Networks-101)**\n",
    "\n",
    "- [4.3 Binary functions](./notebooks/binary_functions.ipynb): computing the simplest binary functions (not, xor, or, and) with neural networks.\n",
    "\n",
    "- [5.4 Math of Neural Networks](./notebooks/math-of-neural-networks.ipynb): general NN designed using just Python and Numpy.\n",
    "\n",
    "- [4.2 Training a Model 2](./notebooks/ExploringFashionMNIST.ipynb): Exploring **[FashionMNIST](https://github.com/zalandoresearch/fashion-mnist)**\n",
    "\n",
    "# More Metrics\n",
    "\n",
    "- [6.2 Precision Recall Curves](./notebooks/plot_precision_recall.ipynb) : Precision-Recall to evaluate classifiers : **[Precision-Recall](https://en.wikipedia.org/wiki/Confusion_matrix)**\n",
    "\n",
    "- [6.3 Receiver Operating Characteristics](./notebooks/plot_roc.ipynb) : ROC and AUC (Area Under the Curve) to evaluate classifiers : **[AUC](https://en.wikipedia.org/wiki/Receiver_operating_characteristic)**_**[ROC](https://developers.google.com/machine-learning/crash-course/classification/roc-and-auc)**\n",
    "\n",
    "- [6.4 Minimizing Loss and Validating Models](./notebooks/hyperparameter_tuning.ipynb): Making better models through **[hyperparameter tuning](https://en.wikipedia.org/wiki/Hyperparameter_(machine_learning))**\n",
    "\n",
    "- [3.3 Beyond Gradient Descent](./misc/beyond_gradient_descent.ipynb): Adaptive techniques that improve on ordinary gradient descent\n"
   ]
  },
  {
   "cell_type": "markdown",
   "metadata": {
    "colab_type": "text",
    "id": "vL-NYxzmZQ-U"
   },
   "source": [
    "# More Advanced Visualization\n",
    "\n",
    "[6.5 mAP and IoU Object Recognition Metrics](./notebooks/mAP_IoU_metrics.ipynb): Metrics for evaluating object recognition models **[mAP](https://mc.ai/the-confusing-metrics-of-ap-and-map-for-object-detection/)** and **[IoU](https://www.pyimagesearch.com/2016/11/07/intersection-over-union-iou-for-object-detection/)**\n",
    "\n",
    "# A bit of Advanced Unsupervised Learning\n",
    "\n",
    "- [5.5 Training an AutoEncoder](./notebooks/cc_autoencoder.ipynb) : Using a NN for Credit Fraud detection based on an **[AutoEncoder](https://en.wikipedia.org/wiki/Autoencoder)**\n",
    "\n",
    "# End."
   ]
  },
  {
   "cell_type": "code",
   "execution_count": null,
   "metadata": {},
   "outputs": [],
   "source": []
  }
 ],
 "metadata": {
  "colab": {
   "include_colab_link": true,
   "name": "flow.ipynb",
   "provenance": [],
   "version": "0.3.2"
  },
  "kernelspec": {
   "display_name": "Python 3",
   "language": "python",
   "name": "python3"
  },
  "language_info": {
   "codemirror_mode": {
    "name": "ipython",
    "version": 3
   },
   "file_extension": ".py",
   "mimetype": "text/x-python",
   "name": "python",
   "nbconvert_exporter": "python",
   "pygments_lexer": "ipython3",
   "version": "3.6.8"
  }
 },
 "nbformat": 4,
 "nbformat_minor": 1
}
