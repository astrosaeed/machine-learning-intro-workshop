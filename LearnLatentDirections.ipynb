{
  "nbformat": 4,
  "nbformat_minor": 0,
  "metadata": {
    "colab": {
      "name": "LearnLatentDirections.ipynb",
      "provenance": [],
      "toc_visible": true,
      "include_colab_link": true
    },
    "kernelspec": {
      "name": "python3",
      "display_name": "Python 3"
    },
    "accelerator": "GPU"
  },
  "cells": [
    {
      "cell_type": "markdown",
      "metadata": {
        "id": "view-in-github",
        "colab_type": "text"
      },
      "source": [
        "<a href=\"https://colab.research.google.com/github/jfogarty/machine-learning-intro-workshop/blob/master/LearnLatentDirections.ipynb\" target=\"_parent\"><img src=\"https://colab.research.google.com/assets/colab-badge.svg\" alt=\"Open In Colab\"/></a>"
      ]
    },
    {
      "cell_type": "markdown",
      "metadata": {
        "id": "5_AEyg2hQ0yx",
        "colab_type": "text"
      },
      "source": [
        "Originally from https://github.com/Puzer/stylegan-encoder/blob/master/Learn_direction_in_latent_space.ipynb\n",
        "Modifications and additions by Kevin Sikorski\n",
        "\n",
        "# Learn Latent Space Directions"
      ]
    },
    {
      "cell_type": "markdown",
      "metadata": {
        "id": "z9gv6lY-Q_Dj",
        "colab_type": "text"
      },
      "source": [
        "### Imports"
      ]
    },
    {
      "cell_type": "code",
      "metadata": {
        "id": "Lx3c15CYbuXX",
        "colab_type": "code",
        "colab": {}
      },
      "source": [
        "%cd /content\n",
        "%rm -rf stylegan"
      ],
      "execution_count": 0,
      "outputs": []
    },
    {
      "cell_type": "code",
      "metadata": {
        "id": "S7FeGHjwQ8ow",
        "colab_type": "code",
        "colab": {}
      },
      "source": [
        "#!git clone https://github.com/NVlabs/stylegan  # doesn't have encoder or the prepackaged latent directions.\n",
        "!git clone https://github.com/Puzer/stylegan\n",
        "%cd stylegan\n",
        "\n",
        "import os\n",
        "import pickle\n",
        "import config\n",
        "import dnnlib\n",
        "import gzip\n",
        "import json\n",
        "import numpy as np\n",
        "from tqdm import tqdm_notebook\n",
        "import warnings\n",
        "import matplotlib.pylab as plt\n",
        "%matplotlib inline\n",
        "warnings.filterwarnings(\"ignore\")"
      ],
      "execution_count": 0,
      "outputs": []
    },
    {
      "cell_type": "markdown",
      "metadata": {
        "id": "QbTptTD4RAhh",
        "colab_type": "text"
      },
      "source": [
        "### Load the data"
      ]
    },
    {
      "cell_type": "code",
      "metadata": {
        "id": "x3EzlTdwRErA",
        "colab_type": "code",
        "colab": {}
      },
      "source": [
        "LATENT_TRAINING_DATA = 'https://drive.google.com/uc?id=1xMM3AFq0r014IIhBLiMCjKJJvbhLUQ9t'\n",
        "    \n",
        "with dnnlib.util.open_url(LATENT_TRAINING_DATA, cache_dir=config.cache_dir) as f:\n",
        "    qlatent_data, dlatent_data, labels_data = pickle.load(gzip.GzipFile(fileobj=f))\n",
        "\n",
        "    \n",
        "labels_data[0] "
      ],
      "execution_count": 0,
      "outputs": []
    },
    {
      "cell_type": "markdown",
      "metadata": {
        "id": "dVa7uaTVRTG5",
        "colab_type": "text"
      },
      "source": [
        "### "
      ]
    },
    {
      "cell_type": "code",
      "metadata": {
        "id": "bi2TEUjCRRio",
        "colab_type": "code",
        "colab": {}
      },
      "source": [
        "X_data = dlatent_data.reshape((-1, 18*512))\n",
        "y_age_data = np.array([x['faceAttributes']['age'] for x in labels_data])\n",
        "y_gender_data = np.array([x['faceAttributes']['gender'] == 'male' for x in labels_data]) # sry girls :(\n",
        "\n",
        "assert(len(X_data) == len(y_age_data) == len(y_gender_data))\n",
        "len(X_data)"
      ],
      "execution_count": 0,
      "outputs": []
    },
    {
      "cell_type": "code",
      "metadata": {
        "id": "XlQJIbQxRX3G",
        "colab_type": "code",
        "colab": {}
      },
      "source": [
        "plt.hist(y_age_data[y_gender_data], bins=30, color='blue', alpha=0.5, label='male')\n",
        "plt.hist(y_age_data[~y_gender_data], bins=30, color='red', alpha=0.5, label='female')\n",
        "plt.legend()\n",
        "plt.title('Distribution of age within gender')\n",
        "plt.xlabel('Age')\n",
        "plt.ylabel('Population')\n",
        "plt.show()\n"
      ],
      "execution_count": 0,
      "outputs": []
    },
    {
      "cell_type": "markdown",
      "metadata": {
        "id": "7AVwIOWYRaHa",
        "colab_type": "text"
      },
      "source": [
        "### Training a linear model for obtaining gender direction in latent space"
      ]
    },
    {
      "cell_type": "code",
      "metadata": {
        "id": "FAGRarRZRaP4",
        "colab_type": "code",
        "colab": {}
      },
      "source": [
        "from sklearn.linear_model import LogisticRegression, SGDClassifier\n",
        "from sklearn.model_selection import StratifiedKFold, cross_val_score, train_test_split\n",
        "from sklearn.metrics import accuracy_score"
      ],
      "execution_count": 0,
      "outputs": []
    },
    {
      "cell_type": "code",
      "metadata": {
        "id": "MWOVn0JGRcjx",
        "colab_type": "code",
        "colab": {}
      },
      "source": [
        "%%time\n",
        "\n",
        "clf = LogisticRegression(class_weight='balanced').fit(X_data, y_gender_data)\n",
        "gender_direction = clf.coef_.reshape((18, 512))"
      ],
      "execution_count": 0,
      "outputs": []
    },
    {
      "cell_type": "code",
      "metadata": {
        "id": "BaGdOolGRgdR",
        "colab_type": "code",
        "colab": {}
      },
      "source": [
        "%%time\n",
        "clf = SGDClassifier('log', class_weight='balanced') # SGB model for performance sake\n",
        "scores = cross_val_score(clf, X_data, y_gender_data, scoring='accuracy', cv=5)\n",
        "clf.fit(X_data, y_gender_data)\n",
        "\n",
        "print(scores)\n",
        "print('Mean: ', np.mean(scores))"
      ],
      "execution_count": 0,
      "outputs": []
    },
    {
      "cell_type": "markdown",
      "metadata": {
        "id": "r5Tww4x5SeZS",
        "colab_type": "text"
      },
      "source": [
        "### Effect of age on gender detection errors"
      ]
    },
    {
      "cell_type": "code",
      "metadata": {
        "id": "3_znO1nXSOiK",
        "colab_type": "code",
        "colab": {}
      },
      "source": [
        "\n",
        "bins, bin_edges = np.histogram(y_age_data, bins=30)\n",
        "errors,_ = np.histogram(y_age_data[clf.predict(X_data) != y_gender_data], bin_edges)\n",
        "\n",
        "plt.plot(errors / bins)\n",
        "plt.title('Dependency of gender detection errors on age')\n",
        "plt.ylabel('Gender detection error rate')\n",
        "plt.xlabel('Age')\n",
        "plt.show()"
      ],
      "execution_count": 0,
      "outputs": []
    },
    {
      "cell_type": "markdown",
      "metadata": {
        "id": "5DtweTInSYtZ",
        "colab_type": "text"
      },
      "source": [
        "### Effect of training data size on accuracy"
      ]
    },
    {
      "cell_type": "code",
      "metadata": {
        "id": "KZppio0PSOl-",
        "colab_type": "code",
        "colab": {}
      },
      "source": [
        "%%time\n",
        "\n",
        "nb_folds = 5\n",
        "splits = 20\n",
        "scores = np.zeros((splits, nb_folds))\n",
        "dataset_size = list()\n",
        "\n",
        "for fold_id, (train_idx, test_idx) in enumerate(StratifiedKFold(nb_folds, True, 42).split(X_data, y_gender_data)):\n",
        "    X_train, X_test = X_data[train_idx][:1000], X_data[test_idx]\n",
        "    y_train, y_test = y_gender_data[train_idx][:1000], y_gender_data[test_idx]\n",
        "    \n",
        "    for split_id in range(splits):\n",
        "        nb_samples = int((len(X_train)/splits) * (split_id+1))\n",
        "        dataset_size.append(nb_samples)\n",
        "        clf = SGDClassifier('log', class_weight='balanced').fit(X_train[:nb_samples], y_train[:nb_samples])\n",
        "        scores[split_id][fold_id] = accuracy_score(y_test, clf.predict(X_test))\n",
        "        \n",
        "\n",
        "plt.plot(dataset_size[:splits], scores.mean(axis=1))\n",
        "plt.title('Dependency of accuracy on training data size')\n",
        "plt.xlabel('Dataset size')\n",
        "plt.ylabel('Accuracy')\n",
        "plt.show()"
      ],
      "execution_count": 0,
      "outputs": []
    },
    {
      "cell_type": "markdown",
      "metadata": {
        "id": "CkIi6wiRSVca",
        "colab_type": "text"
      },
      "source": [
        "### Find importants of feature in layers"
      ]
    },
    {
      "cell_type": "code",
      "metadata": {
        "id": "a51rmdGcSUrK",
        "colab_type": "code",
        "colab": {}
      },
      "source": [
        "scores = list()\n",
        "for layer in tqdm_notebook(range(18)):\n",
        "    clf = SGDClassifier('log', class_weight='balanced')\n",
        "    scores.append(cross_val_score(clf, X_data.reshape((-1, 18, 512))[:,layer], y_gender_data, scoring='accuracy', cv=5).mean())\n",
        "    \n",
        "plt.plot(np.arange(0,18), scores)\n",
        "plt.xlabel('Layer')\n",
        "plt.ylabel('Accuracy')\n",
        "plt.show()"
      ],
      "execution_count": 0,
      "outputs": []
    },
    {
      "cell_type": "markdown",
      "metadata": {
        "id": "2JbYeyeiWLkl",
        "colab_type": "text"
      },
      "source": [
        "### Visualization of gender transformation"
      ]
    },
    {
      "cell_type": "code",
      "metadata": {
        "id": "y_dhskRrWKqt",
        "colab_type": "code",
        "colab": {}
      },
      "source": [
        "%%time\n",
        "# Do you remember gender_direction ? \n",
        "# Anyway let's train it one more time\n",
        "\n",
        "clf = LogisticRegression(class_weight='balanced')\n",
        "clf.fit(X_data.reshape((-1, 18*512)), y_gender_data)\n",
        "gender_direction = clf.coef_.reshape((18, 512))"
      ],
      "execution_count": 0,
      "outputs": []
    },
    {
      "cell_type": "markdown",
      "metadata": {
        "id": "qOmJ24A7WQo8",
        "colab_type": "text"
      },
      "source": [
        ""
      ]
    },
    {
      "cell_type": "code",
      "metadata": {
        "id": "4EY5ldlFat64",
        "colab_type": "code",
        "colab": {}
      },
      "source": [
        "import PIL.Image\n",
        "import dnnlib.tflib as tflib\n",
        "import encoder\n",
        "from encoder.generator_model import Generator\n",
        "\n",
        "URL_FFHQ = 'https://drive.google.com/uc?id=1MEGjdvVpUsu1jB4zrXZN7Y4kBBOzizDQ'\n",
        "\n",
        "tflib.init_tf()\n",
        "with dnnlib.util.open_url(URL_FFHQ, cache_dir=config.cache_dir) as f:\n",
        "    generator_network, discriminator_network, Gs_network = pickle.load(f)"
      ],
      "execution_count": 0,
      "outputs": []
    },
    {
      "cell_type": "code",
      "metadata": {
        "id": "Gv68AUdHav9N",
        "colab_type": "code",
        "colab": {}
      },
      "source": [
        "print(Gs_network)\n",
        "print(generator_network)\n",
        "print(discriminator_network)\n",
        "\n",
        "generator = Generator(Gs_network, batch_size=1, randomize_noise=False)"
      ],
      "execution_count": 0,
      "outputs": []
    },
    {
      "cell_type": "code",
      "metadata": {
        "id": "SXmgjid-WQ1e",
        "colab_type": "code",
        "colab": {}
      },
      "source": [
        "def generate_image(latent_vector):\n",
        "    latent_vector = latent_vector.reshape((1, 18, 512))\n",
        "    generator.set_dlatents(latent_vector)\n",
        "    img_array = generator.generate_images()[0]\n",
        "    img = PIL.Image.fromarray(img_array, 'RGB')\n",
        "    return img.resize((256, 256))\n",
        "\n",
        "def move_and_show(latent_vector, direction, coeffs):\n",
        "    fig,ax = plt.subplots(1, len(coeffs), figsize=(15, 10), dpi=80)\n",
        "    for i, coeff in enumerate(coeffs):\n",
        "        new_latent_vector = latent_vector.copy()\n",
        "        new_latent_vector[:8] = (latent_vector + coeff*direction)[:8]\n",
        "        ax[i].imshow(generate_image(new_latent_vector))\n",
        "        ax[i].set_title('Coeff: %0.1f' % coeff)\n",
        "    [x.axis('off') for x in ax]\n",
        "    plt.show()"
      ],
      "execution_count": 0,
      "outputs": []
    },
    {
      "cell_type": "code",
      "metadata": {
        "id": "FgOccHxdWTFL",
        "colab_type": "code",
        "colab": {}
      },
      "source": [
        "# For generating these face untruncated sampling was used\n",
        "\n",
        "for i in range(10):\n",
        "    move_and_show(X_data.reshape((-1, 18, 512))[i], gender_direction, [-5, -1.5, 0, 1.5, 5])"
      ],
      "execution_count": 0,
      "outputs": []
    },
    {
      "cell_type": "markdown",
      "metadata": {
        "id": "sUsHvfuBiAGi",
        "colab_type": "text"
      },
      "source": [
        "## Glasses?"
      ]
    },
    {
      "cell_type": "code",
      "metadata": {
        "id": "eZuNR0-ViBW3",
        "colab_type": "code",
        "colab": {}
      },
      "source": [
        "X_data = dlatent_data.reshape((-1, 18*512))\n",
        "y_age_data = np.array([x['faceAttributes']['age'] for x in labels_data])\n",
        "y_glasses_data = np.array([x['faceAttributes']['glasses'] == 'NoGlasses' for x in labels_data])\n",
        "\n",
        "assert(len(X_data) == len(y_age_data) == len(y_glasses_data))\n",
        "len(X_data)"
      ],
      "execution_count": 0,
      "outputs": []
    },
    {
      "cell_type": "code",
      "metadata": {
        "id": "BLpJ84I4iBd4",
        "colab_type": "code",
        "colab": {}
      },
      "source": [
        "plt.hist(y_age_data[y_glasses_data], bins=30, color='blue', alpha=0.5, label='male')\n",
        "plt.hist(y_age_data[~y_glasses_data], bins=30, color='red', alpha=0.5, label='female')\n",
        "plt.legend()\n",
        "plt.title('Distribution of age within glasses')\n",
        "plt.xlabel('Age')\n",
        "plt.ylabel('Population')\n",
        "plt.show()"
      ],
      "execution_count": 0,
      "outputs": []
    },
    {
      "cell_type": "code",
      "metadata": {
        "id": "Fg71k1YViBo2",
        "colab_type": "code",
        "colab": {}
      },
      "source": [
        "%%time\n",
        "\n",
        "clf = LogisticRegression(class_weight='balanced').fit(X_data, y_glasses_data)\n",
        "glasses_direction = clf.coef_.reshape((18, 512))\n",
        "np.save(\"/content/glasses.npy\", glasses_direction)"
      ],
      "execution_count": 0,
      "outputs": []
    },
    {
      "cell_type": "code",
      "metadata": {
        "id": "v-IzMVJ1ioVU",
        "colab_type": "code",
        "colab": {}
      },
      "source": [
        "for i in range(10):\n",
        "    move_and_show(X_data.reshape((-1, 18, 512))[i], glasses_direction, [-4, -1, -0.5, 0, 0.5, 1, 4])"
      ],
      "execution_count": 0,
      "outputs": []
    },
    {
      "cell_type": "markdown",
      "metadata": {
        "id": "btZ0NRkFmv-Z",
        "colab_type": "text"
      },
      "source": [
        "## 'Stache?"
      ]
    },
    {
      "cell_type": "code",
      "metadata": {
        "id": "nCm8RuFUmwbp",
        "colab_type": "code",
        "colab": {}
      },
      "source": [
        "X_data = dlatent_data.reshape((-1, 18*512))\n",
        "y_age_data = np.array([x['faceAttributes']['age'] for x in labels_data])\n",
        "y_stache_data = np.array([x['faceAttributes']['facialHair']['moustache'] < 0.5  for x in labels_data])\n",
        "\n",
        "assert(len(X_data) == len(y_age_data) == len(y_stache_data))\n",
        "len(X_data)"
      ],
      "execution_count": 0,
      "outputs": []
    },
    {
      "cell_type": "code",
      "metadata": {
        "id": "4xG5E1M1mweS",
        "colab_type": "code",
        "colab": {}
      },
      "source": [
        "plt.hist(y_age_data[y_stache_data], bins=30, color='blue', alpha=0.5, label='male')\n",
        "plt.hist(y_age_data[~y_stache_data], bins=30, color='red', alpha=0.5, label='female')\n",
        "plt.legend()\n",
        "plt.title('Distribution of age within stache')\n",
        "plt.xlabel('Age')\n",
        "plt.ylabel('Population')\n",
        "plt.show()"
      ],
      "execution_count": 0,
      "outputs": []
    },
    {
      "cell_type": "markdown",
      "metadata": {
        "id": "p9cjIAJQpI2C",
        "colab_type": "text"
      },
      "source": [
        "It is interesting to see how moustaches evolve over time.  It seems only male children have them, and at an impressive frequency, too.  They seem to peak in popularity among men from 20-33 years.  They remain at a rather constant low frequency in women from age 30 and on."
      ]
    },
    {
      "cell_type": "code",
      "metadata": {
        "id": "QbXH2knOo7ht",
        "colab_type": "code",
        "colab": {}
      },
      "source": [
        "%%time\n",
        "\n",
        "clf = LogisticRegression(class_weight='balanced').fit(X_data, y_stache_data)\n",
        "stache_direction = clf.coef_.reshape((18, 512))\n",
        "np.save(\"/content/moustache.npy\", stache_direction)"
      ],
      "execution_count": 0,
      "outputs": []
    },
    {
      "cell_type": "code",
      "metadata": {
        "id": "XwOBAhZtphai",
        "colab_type": "code",
        "colab": {}
      },
      "source": [
        "for i in range(10):\n",
        "    move_and_show(X_data.reshape((-1, 18, 512))[i], stache_direction, [-2, -1.3, -1, -0.5, 0, 1])"
      ],
      "execution_count": 0,
      "outputs": []
    },
    {
      "cell_type": "markdown",
      "metadata": {
        "id": "C16SRyKwqXq_",
        "colab_type": "text"
      },
      "source": [
        "As one might expect, the presence of a moustache beard is highly corrolated with beardliness, gender and age. More moustache implies a beard, male, and older.  Less Moustache implies no beard, female, and young."
      ]
    },
    {
      "cell_type": "markdown",
      "metadata": {
        "id": "0FWn2AnIrLZl",
        "colab_type": "text"
      },
      "source": [
        "## Hair Color"
      ]
    },
    {
      "cell_type": "code",
      "metadata": {
        "id": "pVyl-SSCtAXt",
        "colab_type": "code",
        "colab": {}
      },
      "source": [
        "def fancy_hair_scan(data, wanted_color):\n",
        "  dict = data['faceAttributes']['hair']['hairColor']\n",
        "  for element in dict:\n",
        "    if (element['color'] == wanted_color):\n",
        "      return element['confidence']\n",
        "  return 0.0\n",
        "\n",
        "#fancy_hair_scan(labels_data[0], 'brown')"
      ],
      "execution_count": 0,
      "outputs": []
    },
    {
      "cell_type": "code",
      "metadata": {
        "id": "HGG-PIxMrN3w",
        "colab_type": "code",
        "colab": {}
      },
      "source": [
        "X_data = dlatent_data.reshape((-1, 18*512))\n",
        "y_age_data = np.array([x['faceAttributes']['age'] for x in labels_data])\n",
        "y_brownhair_data = np.array([fancy_hair_scan(x, 'brown') > 0.8  for x in labels_data])\n",
        "y_grayhair_data = np.array([fancy_hair_scan(x,  'gray') > 0.8  for x in labels_data])\n",
        "y_blondhair_data = np.array([fancy_hair_scan(x, 'blond') > 0.8  for x in labels_data])\n",
        "y_blackhair_data = np.array([fancy_hair_scan(x, 'black') > 0.8  for x in labels_data])\n",
        "y_redhair_data = np.array([fancy_hair_scan(x,   'red') > 0.8  for x in labels_data])\n",
        "y_otherhair_data = np.array([fancy_hair_scan(x, 'other') > 0.8  for x in labels_data])\n",
        "\n",
        "assert(len(X_data) == len(y_age_data) == len(y_stache_data))\n",
        "len(X_data)"
      ],
      "execution_count": 0,
      "outputs": []
    },
    {
      "cell_type": "code",
      "metadata": {
        "id": "OPvx4FmhrN6c",
        "colab_type": "code",
        "colab": {}
      },
      "source": [
        "plt.hist(y_age_data[y_brownhair_data], bins=30, color='blue', alpha=0.5, label='male')\n",
        "plt.hist(y_age_data[~y_brownhair_data], bins=30, color='red', alpha=0.5, label='female')\n",
        "plt.legend()\n",
        "plt.title('Distribution of age within brown hair')\n",
        "plt.xlabel('Age')\n",
        "plt.ylabel('Population')\n",
        "plt.show()"
      ],
      "execution_count": 0,
      "outputs": []
    },
    {
      "cell_type": "code",
      "metadata": {
        "id": "1DCIYHNxrOCT",
        "colab_type": "code",
        "colab": {}
      },
      "source": [
        "%%time\n",
        "\n",
        "clf = LogisticRegression(class_weight='balanced').fit(X_data, y_brownhair_data)\n",
        "hair_brown_direction = clf.coef_.reshape((18, 512))\n",
        "np.save(\"/content/brownhair.npy\", hair_brown_direction)\n",
        "clf = LogisticRegression(class_weight='balanced').fit(X_data, y_grayhair_data)\n",
        "hair_gray_direction = clf.coef_.reshape((18, 512))\n",
        "np.save(\"/content/grayhair.npy\", hair_gray_direction)\n",
        "clf = LogisticRegression(class_weight='balanced').fit(X_data, y_blondhair_data)\n",
        "hair_blond_direction = clf.coef_.reshape((18, 512))\n",
        "np.save(\"/content/blondhair.npy\", hair_blond_direction)\n",
        "clf = LogisticRegression(class_weight='balanced').fit(X_data, y_blackhair_data)\n",
        "hair_black_direction = clf.coef_.reshape((18, 512))\n",
        "np.save(\"/content/blackhair.npy\", hair_black_direction)\n",
        "clf = LogisticRegression(class_weight='balanced').fit(X_data, y_redhair_data)\n",
        "hair_red_direction = clf.coef_.reshape((18, 512))\n",
        "np.save(\"/content/redhair.npy\", hair_red_direction)\n",
        "clf = LogisticRegression(class_weight='balanced').fit(X_data, y_otherhair_data)\n",
        "hair_other_direction = clf.coef_.reshape((18, 512))\n",
        "np.save(\"/content/otherhair.npy\", hair_other_direction)"
      ],
      "execution_count": 0,
      "outputs": []
    },
    {
      "cell_type": "markdown",
      "metadata": {
        "id": "cpmsgcd71uNu",
        "colab_type": "text"
      },
      "source": [
        "### Brown Hair People"
      ]
    },
    {
      "cell_type": "code",
      "metadata": {
        "id": "wwxil9UgrX3L",
        "colab_type": "code",
        "colab": {}
      },
      "source": [
        "for i in range(10):\n",
        "    move_and_show(X_data.reshape((-1, 18, 512))[i], hair_brown_direction, [-6, -4, -2, 0, 2, 4, 6])"
      ],
      "execution_count": 0,
      "outputs": []
    },
    {
      "cell_type": "markdown",
      "metadata": {
        "id": "FjbdtLYL1w-M",
        "colab_type": "text"
      },
      "source": [
        "### Gray Hair People"
      ]
    },
    {
      "cell_type": "code",
      "metadata": {
        "id": "h38HdJt21yO8",
        "colab_type": "code",
        "colab": {}
      },
      "source": [
        "for i in range(10):\n",
        "    move_and_show(X_data.reshape((-1, 18, 512))[i], hair_gray_direction, [-6, -4, -2, 0, 2, 4, 6])"
      ],
      "execution_count": 0,
      "outputs": []
    },
    {
      "cell_type": "markdown",
      "metadata": {
        "id": "9C5iEGl21z8y",
        "colab_type": "text"
      },
      "source": [
        "### Blond Hair People"
      ]
    },
    {
      "cell_type": "code",
      "metadata": {
        "id": "KcnYtYze10pl",
        "colab_type": "code",
        "colab": {}
      },
      "source": [
        "for i in range(10):\n",
        "    move_and_show(X_data.reshape((-1, 18, 512))[i], hair_blond_direction, [-6, -4, -2, 0, 2, 4, 6])"
      ],
      "execution_count": 0,
      "outputs": []
    },
    {
      "cell_type": "markdown",
      "metadata": {
        "id": "Is0qnzvb10xr",
        "colab_type": "text"
      },
      "source": [
        "### Black Hair People"
      ]
    },
    {
      "cell_type": "code",
      "metadata": {
        "id": "wHpn9BK111Vn",
        "colab_type": "code",
        "colab": {}
      },
      "source": [
        "for i in range(10):\n",
        "    move_and_show(X_data.reshape((-1, 18, 512))[i], hair_black_direction, [-4, -2, -1, 0, 1, 2, 4])"
      ],
      "execution_count": 0,
      "outputs": []
    },
    {
      "cell_type": "markdown",
      "metadata": {
        "id": "vGMpwg5b11eZ",
        "colab_type": "text"
      },
      "source": [
        "### Red Hair People"
      ]
    },
    {
      "cell_type": "code",
      "metadata": {
        "id": "f0SUCeSr11-3",
        "colab_type": "code",
        "colab": {}
      },
      "source": [
        "for i in range(10):\n",
        "    move_and_show(X_data.reshape((-1, 18, 512))[i], hair_red_direction, [-4, -2, -1, 0, 1, 2, 4])"
      ],
      "execution_count": 0,
      "outputs": []
    },
    {
      "cell_type": "markdown",
      "metadata": {
        "id": "He8Cy5p36NQ2",
        "colab_type": "text"
      },
      "source": [
        "### Other Hair People"
      ]
    },
    {
      "cell_type": "code",
      "metadata": {
        "id": "GXiVn1V06NV_",
        "colab_type": "code",
        "colab": {}
      },
      "source": [
        "for i in range(10):\n",
        "    move_and_show(X_data.reshape((-1, 18, 512))[i], hair_other_direction, [-3, -2, -1, 0, 1, 2, 3])"
      ],
      "execution_count": 0,
      "outputs": []
    }
  ]
}