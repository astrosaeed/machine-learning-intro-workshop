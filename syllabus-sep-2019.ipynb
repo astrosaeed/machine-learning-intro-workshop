{
  "nbformat": 4,
  "nbformat_minor": 0,
  "metadata": {
    "colab": {
      "name": "master.ipynb",
      "version": "0.3.2",
      "provenance": [],
      "toc_visible": true,
      "include_colab_link": true
    },
    "kernelspec": {
      "display_name": "Python 3",
      "language": "python",
      "name": "python3"
    },
    "language_info": {
      "codemirror_mode": {
        "name": "ipython",
        "version": 3
      },
      "file_extension": ".py",
      "mimetype": "text/x-python",
      "name": "python",
      "nbconvert_exporter": "python",
      "pygments_lexer": "ipython3",
      "version": "3.6.8"
    }
  },
  "cells": [
    {
      "cell_type": "markdown",
      "metadata": {
        "id": "view-in-github",
        "colab_type": "text"
      },
      "source": [
        "<a href=\"https://colab.research.google.com/github/jfogarty/machine-learning-intro-workshop/blob/master/syllabus-sep-2019.ipynb\" target=\"_parent\"><img src=\"https://colab.research.google.com/assets/colab-badge.svg\" alt=\"Open In Colab\"/></a>"
      ]
    },
    {
      "cell_type": "markdown",
      "metadata": {
        "colab_type": "text",
        "id": "AaIRWSzHYlOK"
      },
      "source": [
        "# Welcome to the Base2 Solutions Machine Learning Workshop\n",
        "\n",
        "This is your starting place for the Machine Learning Workshop, consider bookmarking this page for easier navigation throughout the course. The course is made up of multiple Jupyter Notebooks like this one, and will be comprised of both text and code snippets. Use the Table of Contents below to get started!\n",
        "\n",
        "> Programming exercises run directly in your browser (no setup required!) using the [Colaboratory](https://colab.research.google.com/) platform. Colaboratory is supported on most major browsers, and is most thoroughly tested on desktop versions of Chrome and Firefox.\n",
        "\n",
        " \n",
        "\n"
      ]
    },
    {
      "cell_type": "markdown",
      "metadata": {
        "colab_type": "text",
        "id": "MQuYZTAjlqjR"
      },
      "source": [
        "\n",
        "## Table of Contents\n",
        "\n",
        "**[Syllabus](./syllabus-sep-2019.ipynb)**"
      ]
    },
    {
      "cell_type": "markdown",
      "metadata": {
        "colab_type": "text",
        "id": "kBJZtWfxlYSa"
      },
      "source": [
        "### Getting Comforatable\n",
        "[1.1 Python Numpy Tutorial](./notebooks/python_numpy_tutorial.ipynb): this is the bare minimum to get you started with Python and the Numpy arrays used in essentially all ML applications.\n",
        "\n",
        "[1.2 Intro to Pandas](./notebooks/intro_to_pandas.ipynb): pandas is an important library for data analysis and modeling, and is widely used in TensorFlow coding. This tutorial provides all the pandas information you need for this course. If you already know pandas, you can skip this exercise.\n",
        "\n",
        "[1.3 Tensorflow Tutorial](./notebooks/tensorFlow_tutorial.ipynb): a basic Intro to TensorFlow from cs231n.\n",
        "\n",
        "[1.4 Running a Machine Learning Model](<simple_linear_regression_example>): Simple Linear Regression Machine Learning Model"
      ]
    },
    {
      "cell_type": "code",
      "metadata": {
        "id": "RJ2HLkQ8r4tB",
        "colab_type": "code",
        "colab": {}
      },
      "source": [
        ""
      ],
      "execution_count": 0,
      "outputs": []
    },
    {
      "cell_type": "code",
      "metadata": {
        "id": "LppYZ_oSrXf-",
        "colab_type": "code",
        "colab": {}
      },
      "source": [
        ""
      ],
      "execution_count": 0,
      "outputs": []
    },
    {
      "cell_type": "markdown",
      "metadata": {
        "colab_type": "text",
        "id": "a6OXUAn5lYcJ"
      },
      "source": [
        "### Handling Data\n",
        "[2.1 Visualizing Data - 1](./notebooks/data-explore-iris-data.ipynb): The classic [**Iris dataset**](https://en.wikipedia.org/wiki/Iris_flower_data_set) visualized with seaborn and pandas\n",
        "\n",
        "[2.2 Visualizing Data - 2](./notebooks/data-explore-on-your-own.ipynb): Pick your own dsata set and explore it\n",
        "\n",
        "[2.2 Working with Data](<prepare_and_manipulate_data>): Preparing and manipulating data for use with Machine Learning Models"
      ]
    },
    {
      "cell_type": "markdown",
      "metadata": {
        "id": "WO1Igjorq792",
        "colab_type": "text"
      },
      "source": [
        "### Traditional Machine Learning Models\n",
        "\n",
        "[3.1 Gradient Descent](./notebooks/gradient_descent.ipynb): The basics of gradient descent\n",
        "    \n",
        "[3.2 Decision Trees](./notebooks/decision_trees_intro.ipynb) : An introduction to decision trees."
      ]
    },
    {
      "cell_type": "markdown",
      "metadata": {
        "colab_type": "text",
        "id": "1Lfl9OgalU1S"
      },
      "source": [
        "### Training Machine Learning Models\n",
        "\n",
        "[4.1 Training a Model](<exploring_mnist>): Exploring MNIST\n",
        "\n",
        "[4.2 Minimizing Loss and Validating Models](<tuning_hyperparameters_and_more>): Making better models through model configuration"
      ]
    },
    {
      "cell_type": "markdown",
      "metadata": {
        "colab_type": "text",
        "id": "O2lGFE1VHX1S"
      },
      "source": [
        "## Training Simple Neural Networks\n",
        "\n",
        "[5.1 Binary functions](./notebooks/binary_functions.ipynb): computing the simplest binary functions (not, xor, or, and) with neural networks.\n",
        "\n",
        "[5.2 Math of Neural Networks](./notebooks/math-of-neural-networks.ipynb): general NN designed using just Python and Numpy.\n"
      ]
    },
    {
      "cell_type": "markdown",
      "metadata": {
        "id": "6Ec2byudq795",
        "colab_type": "text"
      },
      "source": [
        "## Convolutional Neural Networks\n",
        "\n",
        "[8.1 Convolutional Neural Networks](./notebooks/cnn_intro.ipynb): an introduction to the architecture of convolutional neural networks.\n",
        "\n",
        "[8.2 Basic TensorFlow CNNs](./external/cnn_basic.ipynb) : basic tensorFlow networks.\n",
        "\n",
        "[8.3 Advanced VGG16 on Cifar10](./external/cnn_vgg16.ipynb): one of the more powerful imageNet capable networks.\n"
      ]
    },
    {
      "cell_type": "markdown",
      "metadata": {
        "colab_type": "text",
        "id": "Yfbip1R6mG3Q"
      },
      "source": [
        "## Advanced Techniques and Miscellaneous"
      ]
    },
    {
      "cell_type": "markdown",
      "metadata": {
        "colab_type": "text",
        "id": "54FHXKfEmOJy"
      },
      "source": [
        "[12.1 LaTeX Math in Notebooks](./misc/math-examples.ipynb): writing mathematical expressions in notebook markdown.\n",
        "\n",
        "[12.2 Bayes Rule](./misc/bayes-rule.ipynb): some notes on probability and Bayes rule.\n"
      ]
    },
    {
      "cell_type": "markdown",
      "metadata": {
        "id": "hwibT8XMq797",
        "colab_type": "text"
      },
      "source": [
        "# Other Jupyter Notebook Resources\n",
        "\n",
        "- [Python Machine Learning - 2nd Edition](https://github.com/rasbt/python-machine-learning-book-2nd-edition)"
      ]
    },
    {
      "cell_type": "code",
      "metadata": {
        "id": "eKaGupz8q798",
        "colab_type": "code",
        "colab": {}
      },
      "source": [
        ""
      ],
      "execution_count": 0,
      "outputs": []
    }
  ]
}